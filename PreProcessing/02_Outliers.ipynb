{
 "cells": [
  {
   "cell_type": "markdown",
   "id": "70cfe317",
   "metadata": {},
   "source": [
    "<a id=\"table-of-contents\"></a>\n",
    "# 📖 Outlier Detection & Treatment\n",
    "\n",
    "- [🔍 Statistical Detection Methods](#statistical-methods)\n",
    "  - [📈 Z-Score](#z-score)\n",
    "  - [🧮 Modified Z-Score (MAD)](#modified-z-score)\n",
    "  - [📊 Interquartile Range (IQR)](#iqr)\n",
    "  - [🔍 Grubbs' Test](#grubbs-test)\n",
    "  - [📏 Chi-Square & Mahalanobis Distance](#chi-square-mahalanobis)\n",
    "- [🤖 ML-Based Detection Methods](#ml-methods)\n",
    "  - [🌲 Isolation Forest](#isolation-forest)\n",
    "  - [🔎 Local Outlier Factor (LOF)](#lof)\n",
    "- [📍 Proximity & Clustering-Based Detection](#proximity-methods)\n",
    "  - [🌀 DBSCAN](#dbscan)\n",
    "  - [📍 K-Means Distance](#kmeans-distance)\n",
    "- [📐 Probabilistic Detection Methods](#probabilistic-methods)\n",
    "  - [📊 Gaussian Mixture Models (GMM)](#gmm)\n",
    "  - [📉 Extreme Value Theory (EVT)](#evt)\n",
    "  - [🧠 Bayesian Methods](#bayesian)\n",
    "- [🛠️ Outlier Treatment Strategies](#treatment-strategies)\n",
    "  - [❌ Deletion](#deletion)\n",
    "  - [🔁 Capping / Winsorizing](#capping)\n",
    "  - [🧮 Imputation](#imputation)\n",
    "  - [📊 Binning](#binning)\n",
    "___"
   ]
  },
  {
   "cell_type": "markdown",
   "id": "250e198c",
   "metadata": {},
   "source": [
    "<a id=\"statistical-methods\"></a>\n",
    "# 🔍 Statistical Detection Methods\n"
   ]
  },
  {
   "cell_type": "markdown",
   "id": "1e47fdc6",
   "metadata": {},
   "source": [
    "<a id=\"z-score\"></a>\n",
    "#### 📈 Z-Score\n"
   ]
  },
  {
   "cell_type": "markdown",
   "id": "00dad288",
   "metadata": {},
   "source": [
    "<a id=\"modified-z-score\"></a>\n",
    "#### 🧮 Modified Z-Score (MAD)\n"
   ]
  },
  {
   "cell_type": "markdown",
   "id": "68febdc1",
   "metadata": {},
   "source": [
    "<a id=\"iqr\"></a>\n",
    "#### 📊 Interquartile Range (IQR)\n"
   ]
  },
  {
   "cell_type": "markdown",
   "id": "c1b84ed2",
   "metadata": {},
   "source": [
    "<a id=\"grubbs-test\"></a>\n",
    "#### 🔍 Grubbs' Test\n"
   ]
  },
  {
   "cell_type": "markdown",
   "id": "a2a7683d",
   "metadata": {},
   "source": [
    "<a id=\"chi-square-mahalanobis\"></a>\n",
    "#### 📏 Chi-Square & Mahalanobis Distance\n"
   ]
  },
  {
   "cell_type": "markdown",
   "id": "bbbdb0f5",
   "metadata": {},
   "source": [
    "[Back to the top](#table-of-contents)\n",
    "___\n"
   ]
  },
  {
   "cell_type": "markdown",
   "id": "8db21a42",
   "metadata": {},
   "source": [
    "<a id=\"ml-methods\"></a>\n",
    "# 🤖 ML-Based Detection Methods\n"
   ]
  },
  {
   "cell_type": "markdown",
   "id": "c581f296",
   "metadata": {},
   "source": [
    "<a id=\"isolation-forest\"></a>\n",
    "#### 🌲 Isolation Forest\n"
   ]
  },
  {
   "cell_type": "markdown",
   "id": "28600b4c",
   "metadata": {},
   "source": [
    "<a id=\"lof\"></a>\n",
    "#### 🔎 Local Outlier Factor (LOF)\n"
   ]
  },
  {
   "cell_type": "markdown",
   "id": "439e4a68",
   "metadata": {},
   "source": [
    "[Back to the top](#table-of-contents)\n",
    "___\n"
   ]
  },
  {
   "cell_type": "markdown",
   "id": "8c5d37a5",
   "metadata": {},
   "source": [
    "<a id=\"proximity-methods\"></a>\n",
    "# 📍 Proximity & Clustering-Based Detection\n"
   ]
  },
  {
   "cell_type": "markdown",
   "id": "5b2eb090",
   "metadata": {},
   "source": [
    "<a id=\"dbscan\"></a>\n",
    "#### 🌀 DBSCAN\n"
   ]
  },
  {
   "cell_type": "markdown",
   "id": "d7c5d9f9",
   "metadata": {},
   "source": [
    "<a id=\"kmeans-distance\"></a>\n",
    "#### 📍 K-Means Distance\n"
   ]
  },
  {
   "cell_type": "markdown",
   "id": "c855e6ee",
   "metadata": {},
   "source": [
    "[Back to the top](#table-of-contents)\n",
    "___\n"
   ]
  },
  {
   "cell_type": "markdown",
   "id": "d31f4a3a",
   "metadata": {},
   "source": [
    "<a id=\"probabilistic-methods\"></a>\n",
    "# 📐 Probabilistic Detection Methods\n"
   ]
  },
  {
   "cell_type": "markdown",
   "id": "a8631da5",
   "metadata": {},
   "source": [
    "<a id=\"gmm\"></a>\n",
    "#### 📊 Gaussian Mixture Models (GMM)\n"
   ]
  },
  {
   "cell_type": "markdown",
   "id": "f13df6da",
   "metadata": {},
   "source": [
    "<a id=\"evt\"></a>\n",
    "#### 📉 Extreme Value Theory (EVT)\n"
   ]
  },
  {
   "cell_type": "markdown",
   "id": "91f8a205",
   "metadata": {},
   "source": [
    "<a id=\"bayesian\"></a>\n",
    "#### 🧠 Bayesian Methods\n"
   ]
  },
  {
   "cell_type": "markdown",
   "id": "4175ba10",
   "metadata": {},
   "source": [
    "[Back to the top](#table-of-contents)\n",
    "___\n"
   ]
  },
  {
   "cell_type": "markdown",
   "id": "b7d164bd",
   "metadata": {},
   "source": [
    "<a id=\"treatment-strategies\"></a>\n",
    "# 🛠️ Outlier Treatment Strategies\n"
   ]
  },
  {
   "cell_type": "markdown",
   "id": "aca704e2",
   "metadata": {},
   "source": [
    "<a id=\"deletion\"></a>\n",
    "#### ❌ Deletion\n"
   ]
  },
  {
   "cell_type": "markdown",
   "id": "53601287",
   "metadata": {},
   "source": [
    "<a id=\"capping\"></a>\n",
    "#### 🔁 Capping / Winsorizing\n"
   ]
  },
  {
   "cell_type": "markdown",
   "id": "3bfb03ee",
   "metadata": {},
   "source": [
    "<a id=\"imputation\"></a>\n",
    "#### 🧮 Imputation\n"
   ]
  },
  {
   "cell_type": "markdown",
   "id": "697044b4",
   "metadata": {},
   "source": [
    "<a id=\"binning\"></a>\n",
    "#### 📊 Binning\n"
   ]
  },
  {
   "cell_type": "markdown",
   "id": "7bfc7e09",
   "metadata": {},
   "source": [
    "[Back to the top](#table-of-contents)\n",
    "___\n"
   ]
  }
 ],
 "metadata": {
  "language_info": {
   "name": "python"
  }
 },
 "nbformat": 4,
 "nbformat_minor": 5
}
