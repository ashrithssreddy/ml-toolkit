{
 "cells": [
  {
   "cell_type": "code",
   "execution_count": null,
   "id": "0a4451c0",
   "metadata": {},
   "outputs": [],
   "source": [
    "import pandas as pd\n",
    "import numpy as np\n",
    "import math\n",
    "import datetime\n",
    "from sklearn.preprocessing import StandardScaler\n",
    "from sklearn.datasets import make_classification, make_regression, make_blobs, make_moons, make_circles, make_swiss_roll, make_hastie_10_2, make_friedman1, make_friedman2, make_friedman3"
   ]
  },
  {
   "cell_type": "markdown",
   "id": "e3962cb1",
   "metadata": {},
   "source": [
    "Make synthetic dataset"
   ]
  },
  {
   "cell_type": "code",
   "execution_count": null,
   "id": "4c22736a",
   "metadata": {},
   "outputs": [],
   "source": [
    "X, y = make_classification(n_samples=100, n_features=7, n_informative=4, n_redundant = 2, n_classes=2, weights = [0.7,0.3], flip_y = 0.03, random_state = 2024)\n",
    "# X, y = make_regression(n_samples=100, n_features=1, noise=0.1)\n",
    "# X, y = make_blobs(n_samples=100, centers=3, n_features=2, random_state=0)\n",
    "# X, y = make_moons(n_samples=100, noise=0.1, random_state=0)\n",
    "# X, y = make_circles(n_samples=100, noise=0.05, random_state=0)\n",
    "# X, y = make_swiss_roll(n_samples=100, noise=0.2, random_state=0)\n",
    "# X, y = make_hastie_10_2(n_samples=100, random_state=0)\n",
    "# X1, y1 = make_friedman1(n_samples=100, n_features=10, noise=0.1, random_state=0)\n",
    "# X2, y2 = make_friedman2(n_samples=100, noise=0.1, random_state=0)\n",
    "# X3, y3 = make_friedman3(n_samples=100, noise=0.1, random_state=0)\n",
    "\n",
    "df = pd.DataFrame(X)\n",
    "df.columns = [f\"col_{x}\" for x in df.columns]\n",
    "df['col_7'] = np.random.choice(['category_1', 'category_2', 'category_3'], size=df.shape[0])\n",
    "df['target'] = y\n",
    "\n",
    "print(df.head(10).round(2))"
   ]
  },
  {
   "cell_type": "markdown",
   "id": "fda0098d",
   "metadata": {},
   "source": [
    "## Test Train Split"
   ]
  },
  {
   "cell_type": "code",
   "execution_count": null,
   "id": "f6fff9e7",
   "metadata": {},
   "outputs": [],
   "source": [
    "from sklearn.model_selection import train_test_split\n",
    "X = ads[['Feature1', 'Feature2']]\n",
    "y = ads['Label']\n",
    "X_train, X_test, y_train, y_test = train_test_split(X, y, test_size=0.2, random_state=2024)\n",
    "# noisy, model choice (s.a. NN)\n",
    "\n",
    "# imbalance\n",
    "# stratified sampling\n",
    "from sklearn.model_selection import StratifiedShuffleSplit\n",
    "sss = StratifiedShuffleSplit(n_splits=1, test_size=0.2, random_state=2024)\n",
    "for train_index, test_index in sss.split(X, y):\n",
    "    X_train, X_test = X[train_index], X[test_index]\n",
    "    y_train, y_test = y[train_index], y[test_index]\n",
    "\n",
    "# k-fold CV\n",
    "kfold = KFold(n_splits=5, shuffle=True, random_state=42)\n",
    "for train_index, test_index in kfold.split(X, y):\n",
    "    X_train, X_test = X[train_index], X[test_index]\n",
    "    y_train, y_test = y[train_index], y[test_index]\n",
    "    # model build here"
   ]
  },
  {
   "cell_type": "code",
   "execution_count": null,
   "id": "dc341ffc",
   "metadata": {},
   "outputs": [
    {
     "ename": "NameError",
     "evalue": "name 'MultiColinearity' is not defined",
     "output_type": "error",
     "traceback": [
      "\u001b[0;31m---------------------------------------------------------------------------\u001b[0m",
      "\u001b[0;31mNameError\u001b[0m                                 Traceback (most recent call last)",
      "Cell \u001b[0;32mIn[1], line 1\u001b[0m\n\u001b[0;32m----> 1\u001b[0m MultiColinearity\n",
      "\u001b[0;31mNameError\u001b[0m: name 'MultiColinearity' is not defined"
     ]
    }
   ],
   "source": []
  },
  {
   "cell_type": "markdown",
   "id": "9c860a38",
   "metadata": {},
   "source": [
    "MultiColinearity\n"
   ]
  },
  {
   "cell_type": "code",
   "execution_count": null,
   "id": "2e995fb2",
   "metadata": {},
   "outputs": [],
   "source": []
  }
 ],
 "metadata": {
  "kernelspec": {
   "display_name": "base",
   "language": "python",
   "name": "python3"
  },
  "language_info": {
   "codemirror_mode": {
    "name": "ipython",
    "version": 3
   },
   "file_extension": ".py",
   "mimetype": "text/x-python",
   "name": "python",
   "nbconvert_exporter": "python",
   "pygments_lexer": "ipython3",
   "version": "3.11.3"
  }
 },
 "nbformat": 4,
 "nbformat_minor": 5
}
