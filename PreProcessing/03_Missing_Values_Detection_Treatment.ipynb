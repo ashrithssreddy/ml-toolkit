{
 "cells": [
  {
   "cell_type": "markdown",
   "metadata": {},
   "source": [
    "<a id=\"table-of-contents\"></a>\n",
    "\n",
    "![Status: Complete](https://img.shields.io/badge/status-complete-brightgreen)\n",
    "![Python](https://img.shields.io/badge/python-3.10-blue)\n",
    "![Coverage](https://img.shields.io/badge/coverage-95%25-yellowgreen)\n",
    "![License](https://img.shields.io/badge/license-MIT-green)\n",
    "\n",
    "# 📖 Table of Contents\n",
    "\n",
    "___\n",
    "\n"
   ]
  },
  {
   "cell_type": "markdown",
   "metadata": {},
   "source": [
    "`Imputation`\n",
    "- mean or median or mode\n",
    "- timeseries: smoothing or carry-forward/backward\n",
    "- linear regression imputation: based on other fields\n",
    "\n",
    "- drop them\n",
    "- use methods immune to missing values"
   ]
  },
  {
   "cell_type": "markdown",
   "metadata": {},
   "source": []
  },
  {
   "cell_type": "markdown",
   "metadata": {},
   "source": [
    "<a id=\"data-setup\"></a>\n",
    "# 🗂️ Data Setup"
   ]
  },
  {
   "cell_type": "markdown",
   "metadata": {},
   "source": [
    "#### 📚 Import Libraries"
   ]
  },
  {
   "cell_type": "code",
   "execution_count": 1,
   "metadata": {},
   "outputs": [],
   "source": [
    "import pandas as pd\n",
    "import numpy as np\n",
    "import matplotlib.pyplot as plt\n",
    "import seaborn as sns"
   ]
  },
  {
   "cell_type": "markdown",
   "metadata": {},
   "source": [
    "#### 📄 Generate Dataset"
   ]
  },
  {
   "cell_type": "code",
   "execution_count": 2,
   "metadata": {},
   "outputs": [
    {
     "name": "stdout",
     "output_type": "stream",
     "text": [
      "Dummy Retail Dataset Preview:\n"
     ]
    },
    {
     "data": {
      "text/html": [
       "<div>\n",
       "<style scoped>\n",
       "    .dataframe tbody tr th:only-of-type {\n",
       "        vertical-align: middle;\n",
       "    }\n",
       "\n",
       "    .dataframe tbody tr th {\n",
       "        vertical-align: top;\n",
       "    }\n",
       "\n",
       "    .dataframe thead th {\n",
       "        text-align: right;\n",
       "    }\n",
       "</style>\n",
       "<table border=\"1\" class=\"dataframe\">\n",
       "  <thead>\n",
       "    <tr style=\"text-align: right;\">\n",
       "      <th></th>\n",
       "      <th>InvoiceNo</th>\n",
       "      <th>StockCode</th>\n",
       "      <th>Description</th>\n",
       "      <th>Quantity</th>\n",
       "      <th>InvoiceDate</th>\n",
       "      <th>UnitPrice</th>\n",
       "      <th>CustomerID</th>\n",
       "      <th>Country</th>\n",
       "    </tr>\n",
       "  </thead>\n",
       "  <tbody>\n",
       "    <tr>\n",
       "      <th>0</th>\n",
       "      <td>17270</td>\n",
       "      <td>84406G</td>\n",
       "      <td>WHITE METAL LANTERN</td>\n",
       "      <td>5.0</td>\n",
       "      <td>2020-01-01</td>\n",
       "      <td>NaN</td>\n",
       "      <td>12349.0</td>\n",
       "      <td>France</td>\n",
       "    </tr>\n",
       "    <tr>\n",
       "      <th>1</th>\n",
       "      <td>10860</td>\n",
       "      <td>85123A</td>\n",
       "      <td>CREAM CUPID HEARTS COAT HANGER</td>\n",
       "      <td>8.0</td>\n",
       "      <td>2020-01-02</td>\n",
       "      <td>9.56</td>\n",
       "      <td>NaN</td>\n",
       "      <td>United Kingdom</td>\n",
       "    </tr>\n",
       "    <tr>\n",
       "      <th>2</th>\n",
       "      <td>15390</td>\n",
       "      <td>84406G</td>\n",
       "      <td>WHITE HANGING HEART T-LIGHT HOLDER</td>\n",
       "      <td>1.0</td>\n",
       "      <td>2020-01-03</td>\n",
       "      <td>13.17</td>\n",
       "      <td>12348.0</td>\n",
       "      <td>Germany</td>\n",
       "    </tr>\n",
       "    <tr>\n",
       "      <th>3</th>\n",
       "      <td>15191</td>\n",
       "      <td>71053</td>\n",
       "      <td>WHITE HANGING HEART T-LIGHT HOLDER</td>\n",
       "      <td>5.0</td>\n",
       "      <td>2020-01-04</td>\n",
       "      <td>1.44</td>\n",
       "      <td>NaN</td>\n",
       "      <td>Netherlands</td>\n",
       "    </tr>\n",
       "    <tr>\n",
       "      <th>4</th>\n",
       "      <td>15734</td>\n",
       "      <td>85123A</td>\n",
       "      <td>PARTY BUNTING</td>\n",
       "      <td>3.0</td>\n",
       "      <td>2020-01-05</td>\n",
       "      <td>19.01</td>\n",
       "      <td>NaN</td>\n",
       "      <td>France</td>\n",
       "    </tr>\n",
       "  </tbody>\n",
       "</table>\n",
       "</div>"
      ],
      "text/plain": [
       "   InvoiceNo StockCode                         Description  Quantity  \\\n",
       "0      17270    84406G                 WHITE METAL LANTERN       5.0   \n",
       "1      10860    85123A      CREAM CUPID HEARTS COAT HANGER       8.0   \n",
       "2      15390    84406G  WHITE HANGING HEART T-LIGHT HOLDER       1.0   \n",
       "3      15191     71053  WHITE HANGING HEART T-LIGHT HOLDER       5.0   \n",
       "4      15734    85123A                       PARTY BUNTING       3.0   \n",
       "\n",
       "  InvoiceDate  UnitPrice  CustomerID         Country  \n",
       "0  2020-01-01        NaN     12349.0          France  \n",
       "1  2020-01-02       9.56         NaN  United Kingdom  \n",
       "2  2020-01-03      13.17     12348.0         Germany  \n",
       "3  2020-01-04       1.44         NaN     Netherlands  \n",
       "4  2020-01-05      19.01         NaN          France  "
      ]
     },
     "metadata": {},
     "output_type": "display_data"
    },
    {
     "name": "stdout",
     "output_type": "stream",
     "text": [
      "\n",
      "Dataset Info:\n",
      "<class 'pandas.core.frame.DataFrame'>\n",
      "RangeIndex: 100 entries, 0 to 99\n",
      "Data columns (total 8 columns):\n",
      " #   Column       Non-Null Count  Dtype         \n",
      "---  ------       --------------  -----         \n",
      " 0   InvoiceNo    100 non-null    int64         \n",
      " 1   StockCode    100 non-null    object        \n",
      " 2   Description  100 non-null    object        \n",
      " 3   Quantity     87 non-null     float64       \n",
      " 4   InvoiceDate  100 non-null    datetime64[ns]\n",
      " 5   UnitPrice    94 non-null     float64       \n",
      " 6   CustomerID   79 non-null     float64       \n",
      " 7   Country      100 non-null    object        \n",
      "dtypes: datetime64[ns](1), float64(3), int64(1), object(3)\n",
      "memory usage: 6.4+ KB\n"
     ]
    }
   ],
   "source": [
    "import pandas as pd\n",
    "import numpy as np\n",
    "\n",
    "# Set a seed for reproducibility\n",
    "np.random.seed(42)\n",
    "\n",
    "# Number of rows in the dummy dataset\n",
    "n_rows = 100\n",
    "\n",
    "# Define possible values for categorical columns\n",
    "stock_codes = ['85123A', '71053', '84406B', '84406G', '84406E']\n",
    "descriptions = [\n",
    "    'WHITE HANGING HEART T-LIGHT HOLDER',\n",
    "    'WHITE METAL LANTERN',\n",
    "    'CREAM CUPID HEARTS COAT HANGER',\n",
    "    'PARTY BUNTING',\n",
    "    'RED WOOLLY HOTTIE'\n",
    "]\n",
    "countries = ['United Kingdom', 'France', 'Germany', 'Spain', 'Netherlands']\n",
    "customer_ids = [np.nan, 12346, 12347, 12348, 12349]\n",
    "\n",
    "# Create dummy retail dataset and assign it to df\n",
    "df = pd.DataFrame({\n",
    "    'InvoiceNo': np.random.randint(10000, 20000, n_rows),\n",
    "    'StockCode': np.random.choice(stock_codes, n_rows),\n",
    "    'Description': np.random.choice(descriptions, n_rows),\n",
    "    'Quantity': np.random.randint(1, 10, n_rows),\n",
    "    'InvoiceDate': pd.date_range('2020-01-01', periods=n_rows, freq='D'),\n",
    "    'UnitPrice': np.round(np.random.uniform(0.5, 20.0, n_rows), 2),\n",
    "    'CustomerID': np.random.choice(customer_ids, n_rows),\n",
    "    'Country': np.random.choice(countries, n_rows)\n",
    "})\n",
    "\n",
    "# Introduce additional random missingness into numeric columns (around 10% missing)\n",
    "missing_mask = np.random.rand(n_rows) < 0.1  # roughly 10% missing\n",
    "df.loc[missing_mask, 'Quantity'] = np.nan\n",
    "missing_mask = np.random.rand(n_rows) < 0.1\n",
    "df.loc[missing_mask, 'UnitPrice'] = np.nan\n",
    "\n",
    "# Display a preview of the dummy dataset\n",
    "print(\"Dummy Retail Dataset Preview:\")\n",
    "display(df.head())\n",
    "\n",
    "# Optionally, show dataset info for a quick summary\n",
    "print(\"\\nDataset Info:\")\n",
    "df.info()\n"
   ]
  },
  {
   "cell_type": "markdown",
   "metadata": {},
   "source": [
    "# Missing Value Detection"
   ]
  },
  {
   "cell_type": "markdown",
   "metadata": {},
   "source": [
    "#### Column-wise\n"
   ]
  },
  {
   "cell_type": "code",
   "execution_count": null,
   "metadata": {},
   "outputs": [],
   "source": [
    "def detect_missing_by_column(df, visualize=False, plot_type='heatmap'):\n",
    "    \"\"\"\n",
    "    Generate a table of missing values by column.\n",
    "    \n",
    "    Parameters:\n",
    "        df (pd.DataFrame): Input data.\n",
    "        visualize (bool): If True, displays a plot; otherwise, just returns the table.\n",
    "        plot_type (str): Type of visualization ('heatmap' or 'bar').\n",
    "    \n",
    "    Returns:\n",
    "        pd.DataFrame: A DataFrame with missing counts and percentages.\n",
    "    \"\"\"\n",
    "    missing_counts = df.isnull().sum()\n",
    "    missing_percent = 100 * missing_counts / len(df)\n",
    "    summary = pd.DataFrame({\n",
    "        'Missing Count': missing_counts,\n",
    "        'Missing Percentage': missing_percent\n",
    "    })\n",
    "    \n",
    "    if visualize:\n",
    "        plt.figure(figsize=(10, 4))\n",
    "        if plot_type == 'heatmap':\n",
    "            sns.heatmap(df.isnull(), cbar=False, yticklabels=False)\n",
    "            plt.title(\"Missing Values Heatmap\")\n",
    "        elif plot_type == 'bar':\n",
    "            summary['Missing Count'].plot(kind='bar', color='skyblue')\n",
    "            plt.title(\"Missing Values by Column\")\n",
    "            plt.ylabel(\"Count\")\n",
    "        plt.show()\n",
    "        \n",
    "    return summary\n",
    "\n",
    "# Example usage:\n",
    "col_summary = detect_missing_by_column(data, visualize=True, plot_type='heatmap')\n",
    "print(col_summary)\n"
   ]
  },
  {
   "cell_type": "markdown",
   "metadata": {},
   "source": [
    "#### Row-wise"
   ]
  },
  {
   "cell_type": "code",
   "execution_count": 3,
   "metadata": {},
   "outputs": [
    {
     "ename": "NameError",
     "evalue": "name 'data' is not defined",
     "output_type": "error",
     "traceback": [
      "\u001b[0;31m---------------------------------------------------------------------------\u001b[0m",
      "\u001b[0;31mNameError\u001b[0m                                 Traceback (most recent call last)",
      "Cell \u001b[0;32mIn[3], line 27\u001b[0m\n\u001b[1;32m     24\u001b[0m     \u001b[38;5;28;01mreturn\u001b[39;00m df_copy[[\u001b[38;5;124m'\u001b[39m\u001b[38;5;124mMissing Count\u001b[39m\u001b[38;5;124m'\u001b[39m]]\n\u001b[1;32m     26\u001b[0m \u001b[38;5;66;03m# Example usage:\u001b[39;00m\n\u001b[0;32m---> 27\u001b[0m row_missing \u001b[38;5;241m=\u001b[39m visualize_missing_by_row(\u001b[43mdata\u001b[49m, visualize\u001b[38;5;241m=\u001b[39m\u001b[38;5;28;01mTrue\u001b[39;00m, plot\u001b[38;5;241m=\u001b[39m\u001b[38;5;124m'\u001b[39m\u001b[38;5;124mbar\u001b[39m\u001b[38;5;124m'\u001b[39m)\n\u001b[1;32m     28\u001b[0m \u001b[38;5;28mprint\u001b[39m(row_missing\u001b[38;5;241m.\u001b[39mhead())\n",
      "\u001b[0;31mNameError\u001b[0m: name 'data' is not defined"
     ]
    }
   ],
   "source": [
    "def visualize_missing_by_row(df, visualize=True, plot='bar'):\n",
    "    \"\"\"\n",
    "    Visualize missing values on a per-row basis.\n",
    "    \n",
    "    Parameters:\n",
    "        df (pd.DataFrame): Input data.\n",
    "        visualize (bool): If True, displays a bar chart of missing values per row.\n",
    "        plot (str): Currently supports 'bar' for visualization.\n",
    "    \n",
    "    Returns:\n",
    "        pd.DataFrame: DataFrame with an added 'Missing Count' column.\n",
    "    \"\"\"\n",
    "    df_copy = df.copy()\n",
    "    df_copy['Missing Count'] = df_copy.isnull().sum(axis=1)\n",
    "    \n",
    "    if visualize and plot == 'bar':\n",
    "        plt.figure(figsize=(10, 4))\n",
    "        df_copy['Missing Count'].plot(kind='bar', color='salmon')\n",
    "        plt.title(\"Missing Values per Row\")\n",
    "        plt.xlabel(\"Row Index\")\n",
    "        plt.ylabel(\"Missing Count\")\n",
    "        plt.show()\n",
    "        \n",
    "    return df_copy[['Missing Count']]\n",
    "\n",
    "# Example usage:\n",
    "row_missing = visualize_missing_by_row(data, visualize=True, plot='bar')\n",
    "print(row_missing.head())\n"
   ]
  },
  {
   "cell_type": "code",
   "execution_count": null,
   "metadata": {},
   "outputs": [],
   "source": []
  },
  {
   "cell_type": "markdown",
   "metadata": {},
   "source": [
    "#### drop missing rows or columns"
   ]
  },
  {
   "cell_type": "code",
   "execution_count": null,
   "metadata": {},
   "outputs": [],
   "source": [
    "# drop rows with missing values\n",
    "df = df.dropna() \n",
    "\n",
    "# drop columns with missing values\n",
    "df = df.dropna(axis = 1, thresh = 1)"
   ]
  },
  {
   "cell_type": "markdown",
   "metadata": {},
   "source": [
    "#### knn imputer"
   ]
  },
  {
   "cell_type": "code",
   "execution_count": 1,
   "metadata": {},
   "outputs": [
    {
     "ename": "ModuleNotFoundError",
     "evalue": "No module named 'sklearn'",
     "output_type": "error",
     "traceback": [
      "\u001b[0;31m---------------------------------------------------------------------------\u001b[0m",
      "\u001b[0;31mModuleNotFoundError\u001b[0m                       Traceback (most recent call last)",
      "Cell \u001b[0;32mIn[1], line 1\u001b[0m\n\u001b[0;32m----> 1\u001b[0m \u001b[38;5;28;01mfrom\u001b[39;00m \u001b[38;5;21;01msklearn\u001b[39;00m\u001b[38;5;21;01m.\u001b[39;00m\u001b[38;5;21;01mimpute\u001b[39;00m \u001b[38;5;28;01mimport\u001b[39;00m KNNImputer\n\u001b[1;32m      2\u001b[0m knn_imputer \u001b[38;5;241m=\u001b[39m KNNImputer(n_neighbors\u001b[38;5;241m=\u001b[39m\u001b[38;5;241m3\u001b[39m)\n\u001b[1;32m      3\u001b[0m X_imputed \u001b[38;5;241m=\u001b[39m knn_imputer\u001b[38;5;241m.\u001b[39mfit_transform(X)\n",
      "\u001b[0;31mModuleNotFoundError\u001b[0m: No module named 'sklearn'"
     ]
    }
   ],
   "source": [
    "from sklearn.impute import KNNImputer\n",
    "knn_imputer = KNNImputer(n_neighbors=3)\n",
    "X_imputed = knn_imputer.fit_transform(X)"
   ]
  },
  {
   "cell_type": "markdown",
   "metadata": {},
   "source": [
    "#### iterative imputer"
   ]
  },
  {
   "cell_type": "code",
   "execution_count": 2,
   "metadata": {},
   "outputs": [
    {
     "ename": "ModuleNotFoundError",
     "evalue": "No module named 'sklearn'",
     "output_type": "error",
     "traceback": [
      "\u001b[0;31m---------------------------------------------------------------------------\u001b[0m",
      "\u001b[0;31mModuleNotFoundError\u001b[0m                       Traceback (most recent call last)",
      "Cell \u001b[0;32mIn[2], line 1\u001b[0m\n\u001b[0;32m----> 1\u001b[0m \u001b[38;5;28;01mfrom\u001b[39;00m \u001b[38;5;21;01msklearn\u001b[39;00m\u001b[38;5;21;01m.\u001b[39;00m\u001b[38;5;21;01mexperimental\u001b[39;00m \u001b[38;5;28;01mimport\u001b[39;00m enable_iterative_imputer\n\u001b[1;32m      2\u001b[0m \u001b[38;5;28;01mfrom\u001b[39;00m \u001b[38;5;21;01msklearn\u001b[39;00m\u001b[38;5;21;01m.\u001b[39;00m\u001b[38;5;21;01mimpute\u001b[39;00m \u001b[38;5;28;01mimport\u001b[39;00m IterativeImputer\n\u001b[1;32m      3\u001b[0m imputer \u001b[38;5;241m=\u001b[39m IterativeImputer(max_iter\u001b[38;5;241m=\u001b[39m\u001b[38;5;241m10\u001b[39m, random_state\u001b[38;5;241m=\u001b[39m\u001b[38;5;241m0\u001b[39m)\n",
      "\u001b[0;31mModuleNotFoundError\u001b[0m: No module named 'sklearn'"
     ]
    }
   ],
   "source": [
    "from sklearn.experimental import enable_iterative_imputer\n",
    "from sklearn.impute import IterativeImputer\n",
    "imputer = IterativeImputer(max_iter=10, random_state=0)\n",
    "X_imputed = imputer.fit_transform(X)"
   ]
  },
  {
   "cell_type": "markdown",
   "metadata": {},
   "source": []
  }
 ],
 "metadata": {
  "kernelspec": {
   "display_name": "Python 3",
   "language": "python",
   "name": "python3"
  },
  "language_info": {
   "codemirror_mode": {
    "name": "ipython",
    "version": 3
   },
   "file_extension": ".py",
   "mimetype": "text/x-python",
   "name": "python",
   "nbconvert_exporter": "python",
   "pygments_lexer": "ipython3",
   "version": "3.9.6"
  }
 },
 "nbformat": 4,
 "nbformat_minor": 2
}
