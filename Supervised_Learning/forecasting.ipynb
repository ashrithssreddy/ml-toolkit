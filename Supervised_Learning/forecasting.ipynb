{
 "cells": [
  {
   "cell_type": "markdown",
   "id": "33fa6fef",
   "metadata": {},
   "source": [
    "<a id=\"table-of-contents\"></a>\n",
    "# 📖 Time Series\n",
    "\n",
    "- [🧱 Data Setup](#data-setup)\n",
    "  - [📌 Simulate a univariate time series](#simulate-a-univariate-time-series)\n",
    "  - [📈 Visualize the time series](#visualize-the-time-series)\n",
    "  - [🧮 Create train/test split](#create-train-test-split)\n",
    "  - [🌊 Optional: Add second seasonality/trend](#optional-add-second-seasonalitytrend)\n",
    "- [📊 Exploratory Analysis](#exploratory-analysis)\n",
    "  - [📉 Stationarity checks](#stationarity-checks)\n",
    "  - [📐 Seasonality & trend decomposition](#seasonality--trend-decomposition)\n",
    "  - [📏 Autocorrelation & partial autocorrelation](#autocorrelation--partial-autocorrelation)\n",
    "- [🧪 Forecasting Baselines](#forecasting-baselines)\n",
    "  - [📉 Naive Forecast](#naive-forecast)\n",
    "  - [📊 Moving Average](#moving-average)\n",
    "  - [📈 Simple Exponential Smoothing](#simple-exponential-smoothing)\n",
    "  - [📋 Baseline Evaluation](#baseline-evaluation)\n",
    "- [⚙️ ARIMA Family](#arima-family)\n",
    "  - [🧩 AR, MA, ARMA](#ar-ma-arma)\n",
    "  - [🛠️ ARIMA](#arima)\n",
    "  - [🔁 SARIMA](#sarima)\n",
    "  - [🔍 Residual diagnostics](#residual-diagnostics)\n",
    "  - [📋 ARIMA Evaluation](#arima-evaluation)\n",
    "- [🌊 State Space Models](#state-space-models)\n",
    "  - [🧠 Intro to Kalman Filters](#intro-to-kalman-filters)\n",
    "  - [📦 Statsmodels or Prophet](#statsmodels-or-prophet)\n",
    "  - [📋 State Space Forecast Evaluation](#state-space-forecast-evaluation)\n",
    "- [🧠 ML/Hybrid Approaches (Optional)](#mlhybrid-approaches-optional)\n",
    "  - [🧮 Feature engineering](#feature-engineering)\n",
    "  - [⚡ XGBoost or LightGBM](#xgboost-or-lightgbm)\n",
    "  - [📋 ML Model Evaluation](#ml-model-evaluation)\n",
    "- [🧮 Evaluation Summary](#evaluation-summary)\n",
    "  - [📊 Metric comparison table](#metric-comparison-table)\n",
    "  - [📈 Actual vs predicted plots](#actual-vs-predicted-plots)\n",
    "- [📦 Deployment Considerations](#deployment-considerations)\n",
    "  - [🧾 What to save](#what-to-save)\n",
    "  - [🔄 Re-forecasting workflows](#re-forecasting-workflows)\n",
    "- [🔚 Closing Notes](#closing-notes)\n",
    "  - [🧠 Strengths/limits recap](#strengthslimits-recap)\n",
    "  - [🚀 Next steps](#next-steps)\n",
    "\n",
    "___\n"
   ]
  },
  {
   "cell_type": "markdown",
   "id": "a39faf2a",
   "metadata": {},
   "source": [
    "<a id=\"data-setup\"></a>\n",
    "# 🧱 Data Setup\n"
   ]
  },
  {
   "cell_type": "markdown",
   "id": "86d055dd",
   "metadata": {},
   "source": [
    "<a id=\"simulate-a-univariate-time-series\"></a>\n",
    "#### 📌 Simulate a univariate time series\n"
   ]
  },
  {
   "cell_type": "code",
   "execution_count": 4,
   "id": "cef3dde7",
   "metadata": {},
   "outputs": [
    {
     "data": {
      "text/html": [
       "<div>\n",
       "<style scoped>\n",
       "    .dataframe tbody tr th:only-of-type {\n",
       "        vertical-align: middle;\n",
       "    }\n",
       "\n",
       "    .dataframe tbody tr th {\n",
       "        vertical-align: top;\n",
       "    }\n",
       "\n",
       "    .dataframe thead th {\n",
       "        text-align: right;\n",
       "    }\n",
       "</style>\n",
       "<table border=\"1\" class=\"dataframe\">\n",
       "  <thead>\n",
       "    <tr style=\"text-align: right;\">\n",
       "      <th></th>\n",
       "      <th>date</th>\n",
       "      <th>value</th>\n",
       "    </tr>\n",
       "  </thead>\n",
       "  <tbody>\n",
       "    <tr>\n",
       "      <th>0</th>\n",
       "      <td>2020-01-31</td>\n",
       "      <td>0.496714</td>\n",
       "    </tr>\n",
       "    <tr>\n",
       "      <th>1</th>\n",
       "      <td>2020-02-29</td>\n",
       "      <td>2.411987</td>\n",
       "    </tr>\n",
       "    <tr>\n",
       "      <th>2</th>\n",
       "      <td>2020-03-31</td>\n",
       "      <td>5.078318</td>\n",
       "    </tr>\n",
       "    <tr>\n",
       "      <th>3</th>\n",
       "      <td>2020-04-30</td>\n",
       "      <td>6.673784</td>\n",
       "    </tr>\n",
       "    <tr>\n",
       "      <th>4</th>\n",
       "      <td>2020-05-31</td>\n",
       "      <td>4.296979</td>\n",
       "    </tr>\n",
       "  </tbody>\n",
       "</table>\n",
       "</div>"
      ],
      "text/plain": [
       "        date     value\n",
       "0 2020-01-31  0.496714\n",
       "1 2020-02-29  2.411987\n",
       "2 2020-03-31  5.078318\n",
       "3 2020-04-30  6.673784\n",
       "4 2020-05-31  4.296979"
      ]
     },
     "execution_count": 4,
     "metadata": {},
     "output_type": "execute_result"
    }
   ],
   "source": [
    "import numpy as np\n",
    "import pandas as pd\n",
    "\n",
    "# Set random seed for reproducibility\n",
    "np.random.seed(42)\n",
    "\n",
    "# Simulate time series components\n",
    "n_periods = 200\n",
    "trend = np.linspace(0, 10, n_periods)\n",
    "seasonality = 5 * np.sin(2 * np.pi * np.arange(n_periods) / 12)\n",
    "noise = np.random.normal(0, 1, n_periods)\n",
    "\n",
    "# Final series\n",
    "y = trend + seasonality + noise\n",
    "dates = pd.date_range(start=\"2020-01-01\", periods=n_periods, freq=\"M\")\n",
    "ts = pd.DataFrame({\"date\": dates, \"value\": y})\n",
    "\n",
    "ts.head()\n"
   ]
  },
  {
   "cell_type": "markdown",
   "id": "52e7a5f6",
   "metadata": {},
   "source": [
    "<a id=\"visualize-the-time-series\"></a>\n",
    "#### 📈 Visualize the time series\n"
   ]
  },
  {
   "cell_type": "code",
   "execution_count": 5,
   "id": "62751fdb",
   "metadata": {},
   "outputs": [
    {
     "data": {
      "image/png": "[encoded data removed]",
      "text/plain": [
       "<Figure size 1200x400 with 1 Axes>"
      ]
     },
     "metadata": {},
     "output_type": "display_data"
    }
   ],
   "source": [
    "# 📈 Visualize the time series\n",
    "\n",
    "import matplotlib.pyplot as plt\n",
    "\n",
    "plt.figure(figsize=(12, 4))\n",
    "plt.plot(ts[\"date\"], ts[\"value\"], label=\"Simulated Time Series\")\n",
    "plt.title(\"Simulated Time Series\")\n",
    "plt.xlabel(\"Date\")\n",
    "plt.ylabel(\"Value\")\n",
    "plt.grid(True)\n",
    "plt.tight_layout()\n",
    "plt.legend()\n",
    "plt.show()\n"
   ]
  },
  {
   "cell_type": "markdown",
   "id": "df2998a8",
   "metadata": {},
   "source": [
    "<a id=\"create-train-test-split\"></a>\n",
    "#### 🧮 Create train/test split\n"
   ]
  },
  {
   "cell_type": "markdown",
   "id": "7f41fb91",
   "metadata": {},
   "source": [
    "<details>\n",
    "<summary><strong>📖 Click to Expand</strong></summary>\n",
    "\n",
    "##### 🧮 Why It's Different\n",
    "In time series, you can’t randomly split rows into train/test like traditional ML. Why?\n",
    "\n",
    "- Time flows **sequentially**, so past should predict future.\n",
    "- Shuffling would **leak future info into past** — a cardinal sin in forecasting.\n",
    "\n",
    "##### ⚠️ Common Time Series Splits\n",
    "- Use **chronological cutoff**, e.g., first 80% as train, last 20% as test.\n",
    "- Use a **rolling forecast origin** if you want multiple test windows.\n",
    "- For production-style setups, use a **fixed origin test set** and predict forward.\n",
    "\n",
    "</details>\n"
   ]
  },
  {
   "cell_type": "code",
   "execution_count": 7,
   "id": "15b12940",
   "metadata": {},
   "outputs": [
    {
     "name": "stdout",
     "output_type": "stream",
     "text": [
      "Train range: 2020-01-31 to 2033-04-30\n",
      "Test range:  2033-05-31 to 2036-08-31\n",
      "Train shape: (160, 2)\n",
      "Test shape: (40, 2)\n"
     ]
    }
   ],
   "source": [
    "train_ratio = 0.8\n",
    "cutoff = int(len(ts) * train_ratio)\n",
    "\n",
    "train = ts.iloc[:cutoff].copy()\n",
    "test = ts.iloc[cutoff:].copy()\n",
    "\n",
    "print(f\"Train range: {train['date'].min().date()} to {train['date'].max().date()}\")\n",
    "print(f\"Test range:  {test['date'].min().date()} to {test['date'].max().date()}\")\n",
    "\n",
    "print(f\"Train shape: {train.shape}\")\n",
    "print(f\"Test shape: {test.shape}\")\n"
   ]
  },
  {
   "cell_type": "markdown",
   "id": "d96d8319",
   "metadata": {},
   "source": [
    "<a id=\"optional-add-second-seasonalitytrend\"></a>\n",
    "#### 🌊 Optional: Add second seasonality/trend\n"
   ]
  },
  {
   "cell_type": "markdown",
   "id": "fb6035fe",
   "metadata": {},
   "source": [
    "[Back to the top](#table-of-contents)\n",
    "___\n"
   ]
  },
  {
   "cell_type": "markdown",
   "id": "a5d8a7c0",
   "metadata": {},
   "source": [
    "<a id=\"exploratory-analysis\"></a>\n",
    "# 📊 Exploratory Analysis\n"
   ]
  },
  {
   "cell_type": "markdown",
   "id": "6e4c94c3",
   "metadata": {},
   "source": [
    "<a id=\"stationarity-checks\"></a>\n",
    "#### 📉 Stationarity checks\n"
   ]
  },
  {
   "cell_type": "markdown",
   "id": "9030ef37",
   "metadata": {},
   "source": [
    "<a id=\"seasonality--trend-decomposition\"></a>\n",
    "#### 📐 Seasonality & trend decomposition\n"
   ]
  },
  {
   "cell_type": "markdown",
   "id": "2ccc0e1a",
   "metadata": {},
   "source": [
    "<a id=\"autocorrelation--partial-autocorrelation\"></a>\n",
    "#### 📏 Autocorrelation & partial autocorrelation\n"
   ]
  },
  {
   "cell_type": "markdown",
   "id": "8dd02365",
   "metadata": {},
   "source": [
    "[Back to the top](#table-of-contents)\n",
    "___\n"
   ]
  },
  {
   "cell_type": "markdown",
   "id": "45a7fd7f",
   "metadata": {},
   "source": [
    "<a id=\"forecasting-baselines\"></a>\n",
    "# 🧪 Forecasting Baselines\n"
   ]
  },
  {
   "cell_type": "markdown",
   "id": "721714f1",
   "metadata": {},
   "source": [
    "<a id=\"naive-forecast\"></a>\n",
    "#### 📉 Naive Forecast\n"
   ]
  },
  {
   "cell_type": "markdown",
   "metadata": {},
   "source": [
    "<a id=\"moving-average\"></a>\n",
    "#### 📊 Moving Average\n"
   ]
  },
  {
   "cell_type": "markdown",
   "id": "bb027b6a",
   "metadata": {},
   "source": [
    "<a id=\"simple-exponential-smoothing\"></a>\n",
    "#### 📈 Simple Exponential Smoothing\n"
   ]
  },
  {
   "cell_type": "markdown",
   "id": "4736642d",
   "metadata": {},
   "source": [
    "<a id=\"baseline-evaluation\"></a>\n",
    "#### 📋 Baseline Evaluation\n"
   ]
  },
  {
   "cell_type": "markdown",
   "id": "90684020",
   "metadata": {},
   "source": [
    "[Back to the top](#table-of-contents)\n",
    "___\n"
   ]
  },
  {
   "cell_type": "markdown",
   "id": "3c5144bf",
   "metadata": {},
   "source": [
    "<a id=\"arima-family\"></a>\n",
    "# ⚙️ ARIMA Family\n"
   ]
  },
  {
   "cell_type": "markdown",
   "id": "a90060cb",
   "metadata": {},
   "source": [
    "<a id=\"ar-ma-arma\"></a>\n",
    "#### 🧩 AR, MA, ARMA\n"
   ]
  },
  {
   "cell_type": "markdown",
   "id": "cec8c2db",
   "metadata": {},
   "source": [
    "<a id=\"arima\"></a>\n",
    "#### 🛠️ ARIMA\n"
   ]
  },
  {
   "cell_type": "markdown",
   "id": "0b8e3f8e",
   "metadata": {},
   "source": [
    "<a id=\"sarima\"></a>\n",
    "#### 🔁 SARIMA\n"
   ]
  },
  {
   "cell_type": "markdown",
   "id": "0b858387",
   "metadata": {},
   "source": [
    "<a id=\"residual-diagnostics\"></a>\n",
    "#### 🔍 Residual diagnostics\n"
   ]
  },
  {
   "cell_type": "markdown",
   "id": "164fbed4",
   "metadata": {},
   "source": [
    "<a id=\"arima-evaluation\"></a>\n",
    "#### 📋 ARIMA Evaluation\n"
   ]
  },
  {
   "cell_type": "markdown",
   "id": "4dc95445",
   "metadata": {},
   "source": [
    "[Back to the top](#table-of-contents)\n",
    "___\n"
   ]
  },
  {
   "cell_type": "markdown",
   "id": "0c296a89",
   "metadata": {},
   "source": [
    "<a id=\"state-space-models\"></a>\n",
    "# 🌊 State Space Models\n"
   ]
  },
  {
   "cell_type": "markdown",
   "id": "e551ad2c",
   "metadata": {},
   "source": [
    "<a id=\"intro-to-kalman-filters\"></a>\n",
    "#### 🧠 Intro to Kalman Filters\n"
   ]
  },
  {
   "cell_type": "markdown",
   "id": "e6dd387b",
   "metadata": {},
   "source": [
    "<a id=\"statsmodels-or-prophet\"></a>\n",
    "#### 📦 Statsmodels or Prophet\n"
   ]
  },
  {
   "cell_type": "markdown",
   "id": "2733de8d",
   "metadata": {},
   "source": [
    "<a id=\"state-space-forecast-evaluation\"></a>\n",
    "#### 📋 State Space Forecast Evaluation\n"
   ]
  },
  {
   "cell_type": "markdown",
   "id": "010c7fff",
   "metadata": {},
   "source": [
    "[Back to the top](#table-of-contents)\n",
    "___\n"
   ]
  },
  {
   "cell_type": "markdown",
   "id": "c803af8d",
   "metadata": {},
   "source": [
    "<a id=\"mlhybrid-approaches-optional\"></a>\n",
    "# 🧠 ML/Hybrid Approaches (Optional)\n"
   ]
  },
  {
   "cell_type": "markdown",
   "id": "7d914304",
   "metadata": {},
   "source": [
    "<a id=\"feature-engineering\"></a>\n",
    "#### 🧮 Feature engineering\n"
   ]
  },
  {
   "cell_type": "markdown",
   "id": "98b39b67",
   "metadata": {},
   "source": [
    "<a id=\"xgboost-or-lightgbm\"></a>\n",
    "#### ⚡ XGBoost or LightGBM\n"
   ]
  },
  {
   "cell_type": "markdown",
   "id": "84097054",
   "metadata": {},
   "source": [
    "<a id=\"ml-model-evaluation\"></a>\n",
    "#### 📋 ML Model Evaluation\n"
   ]
  },
  {
   "cell_type": "markdown",
   "id": "0161bed9",
   "metadata": {},
   "source": [
    "[Back to the top](#table-of-contents)\n",
    "___\n"
   ]
  },
  {
   "cell_type": "markdown",
   "id": "547ba360",
   "metadata": {},
   "source": [
    "<a id=\"evaluation-summary\"></a>\n",
    "# 🧮 Evaluation Summary\n"
   ]
  },
  {
   "cell_type": "markdown",
   "id": "c43aaa3f",
   "metadata": {},
   "source": [
    "<a id=\"metric-comparison-table\"></a>\n",
    "#### 📊 Metric comparison table\n"
   ]
  },
  {
   "cell_type": "markdown",
   "id": "c17fb68a",
   "metadata": {},
   "source": [
    "<a id=\"actual-vs-predicted-plots\"></a>\n",
    "#### 📈 Actual vs predicted plots\n"
   ]
  },
  {
   "cell_type": "markdown",
   "id": "f83af0c5",
   "metadata": {},
   "source": [
    "[Back to the top](#table-of-contents)\n",
    "___\n"
   ]
  },
  {
   "cell_type": "markdown",
   "id": "cafc74c7",
   "metadata": {},
   "source": [
    "<a id=\"deployment-considerations\"></a>\n",
    "# 📦 Deployment Considerations\n"
   ]
  },
  {
   "cell_type": "markdown",
   "id": "1e5ab08a",
   "metadata": {},
   "source": [
    "<a id=\"what-to-save\"></a>\n",
    "#### 🧾 What to save\n"
   ]
  },
  {
   "cell_type": "markdown",
   "id": "9c52dfd7",
   "metadata": {
    "vscode": {
     "languageId": "plaintext"
    }
   },
   "source": [
    "<a id=\"re-forecasting-workflows\"></a>\n",
    "#### 🔄 Re-forecasting workflows\n"
   ]
  },
  {
   "cell_type": "markdown",
   "id": "cb025f18",
   "metadata": {},
   "source": [
    "[Back to the top](#table-of-contents)\n",
    "___\n"
   ]
  },
  {
   "cell_type": "markdown",
   "id": "c0c20cd2",
   "metadata": {},
   "source": [
    "<a id=\"closing-notes\"></a>\n",
    "# 🔚 Closing Notes\n"
   ]
  },
  {
   "cell_type": "markdown",
   "id": "bf977015",
   "metadata": {},
   "source": [
    "<a id=\"strengthslimits-recap\"></a>\n",
    "#### 🧠 Strengths/limits recap\n"
   ]
  },
  {
   "cell_type": "markdown",
   "id": "dff27536",
   "metadata": {},
   "source": [
    "<a id=\"next-steps\"></a>\n",
    "#### 🚀 Next steps\n"
   ]
  },
  {
   "cell_type": "markdown",
   "id": "858b3f9b",
   "metadata": {},
   "source": [
    "[Back to the top](#table-of-contents)\n",
    "___\n"
   ]
  }
 ],
 "metadata": {
  "kernelspec": {
   "display_name": "Python 3",
   "language": "python",
   "name": "python3"
  },
  "language_info": {
   "codemirror_mode": {
    "name": "ipython",
    "version": 3
   },
   "file_extension": ".py",
   "mimetype": "text/x-python",
   "name": "python",
   "nbconvert_exporter": "python",
   "pygments_lexer": "ipython3",
   "version": "3.9.6"
  }
 },
 "nbformat": 4,
 "nbformat_minor": 5
}
