{
 "cells": [
  {
   "cell_type": "markdown",
   "id": "33fa6fef",
   "metadata": {},
   "source": [
    "<a id=\"table-of-contents\"></a>\n",
    "# 📖 Time Series\n",
    "\n",
    "- [🧱 Data Setup](#data-setup)\n",
    "  - [📌 Simulate a univariate time series](#simulate-a-univariate-time-series)\n",
    "  - [📈 Visualize the time series](#visualize-the-time-series)\n",
    "  - [🧮 Create train/test split](#create-train-test-split)\n",
    "  - [🌊 Optional: Add second seasonality/trend](#optional-add-second-seasonalitytrend)\n",
    "- [📊 Exploratory Analysis](#exploratory-analysis)\n",
    "  - [📉 Stationarity checks](#stationarity-checks)\n",
    "  - [📐 Seasonality & trend decomposition](#seasonality--trend-decomposition)\n",
    "  - [📏 Autocorrelation & partial autocorrelation](#autocorrelation--partial-autocorrelation)\n",
    "- [🧪 Forecasting Baselines](#forecasting-baselines)\n",
    "  - [📉 Naive Forecast](#naive-forecast)\n",
    "  - [📊 Moving Average](#moving-average)\n",
    "  - [📈 Simple Exponential Smoothing](#simple-exponential-smoothing)\n",
    "  - [📋 Baseline Evaluation](#baseline-evaluation)\n",
    "- [⚙️ ARIMA Family](#arima-family)\n",
    "  - [🧩 AR, MA, ARMA](#ar-ma-arma)\n",
    "  - [🛠️ ARIMA](#arima)\n",
    "  - [🔁 SARIMA](#sarima)\n",
    "  - [🔍 Residual diagnostics](#residual-diagnostics)\n",
    "  - [📋 ARIMA Evaluation](#arima-evaluation)\n",
    "- [🌊 State Space Models](#state-space-models)\n",
    "  - [🧠 Intro to Kalman Filters](#intro-to-kalman-filters)\n",
    "  - [📦 Statsmodels or Prophet](#statsmodels-or-prophet)\n",
    "  - [📋 State Space Forecast Evaluation](#state-space-forecast-evaluation)\n",
    "- [🧠 ML/Hybrid Approaches (Optional)](#mlhybrid-approaches-optional)\n",
    "  - [🧮 Feature engineering](#feature-engineering)\n",
    "  - [⚡ XGBoost or LightGBM](#xgboost-or-lightgbm)\n",
    "  - [📋 ML Model Evaluation](#ml-model-evaluation)\n",
    "- [🧮 Evaluation Summary](#evaluation-summary)\n",
    "  - [📊 Metric comparison table](#metric-comparison-table)\n",
    "  - [📈 Actual vs predicted plots](#actual-vs-predicted-plots)\n",
    "- [📦 Deployment Considerations](#deployment-considerations)\n",
    "  - [🧾 What to save](#what-to-save)\n",
    "  - [🔄 Re-forecasting workflows](#re-forecasting-workflows)\n",
    "- [🔚 Closing Notes](#closing-notes)\n",
    "  - [🧠 Strengths/limits recap](#strengthslimits-recap)\n",
    "  - [🚀 Next steps](#next-steps)\n",
    "\n",
    "___\n"
   ]
  },
  {
   "cell_type": "markdown",
   "id": "a39faf2a",
   "metadata": {},
   "source": [
    "<a id=\"data-setup\"></a>\n",
    "# 🧱 Data Setup\n"
   ]
  },
  {
   "cell_type": "markdown",
   "id": "86d055dd",
   "metadata": {},
   "source": [
    "<a id=\"simulate-a-univariate-time-series\"></a>\n",
    "#### 📌 Simulate a univariate time series\n"
   ]
  },
  {
   "cell_type": "code",
   "execution_count": 4,
   "id": "cef3dde7",
   "metadata": {},
   "outputs": [
    {
     "data": {
      "text/html": [
       "<div>\n",
       "<style scoped>\n",
       "    .dataframe tbody tr th:only-of-type {\n",
       "        vertical-align: middle;\n",
       "    }\n",
       "\n",
       "    .dataframe tbody tr th {\n",
       "        vertical-align: top;\n",
       "    }\n",
       "\n",
       "    .dataframe thead th {\n",
       "        text-align: right;\n",
       "    }\n",
       "</style>\n",
       "<table border=\"1\" class=\"dataframe\">\n",
       "  <thead>\n",
       "    <tr style=\"text-align: right;\">\n",
       "      <th></th>\n",
       "      <th>date</th>\n",
       "      <th>value</th>\n",
       "    </tr>\n",
       "  </thead>\n",
       "  <tbody>\n",
       "    <tr>\n",
       "      <th>0</th>\n",
       "      <td>2020-01-31</td>\n",
       "      <td>0.496714</td>\n",
       "    </tr>\n",
       "    <tr>\n",
       "      <th>1</th>\n",
       "      <td>2020-02-29</td>\n",
       "      <td>2.411987</td>\n",
       "    </tr>\n",
       "    <tr>\n",
       "      <th>2</th>\n",
       "      <td>2020-03-31</td>\n",
       "      <td>5.078318</td>\n",
       "    </tr>\n",
       "    <tr>\n",
       "      <th>3</th>\n",
       "      <td>2020-04-30</td>\n",
       "      <td>6.673784</td>\n",
       "    </tr>\n",
       "    <tr>\n",
       "      <th>4</th>\n",
       "      <td>2020-05-31</td>\n",
       "      <td>4.296979</td>\n",
       "    </tr>\n",
       "  </tbody>\n",
       "</table>\n",
       "</div>"
      ],
      "text/plain": [
       "        date     value\n",
       "0 2020-01-31  0.496714\n",
       "1 2020-02-29  2.411987\n",
       "2 2020-03-31  5.078318\n",
       "3 2020-04-30  6.673784\n",
       "4 2020-05-31  4.296979"
      ]
     },
     "execution_count": 4,
     "metadata": {},
     "output_type": "execute_result"
    }
   ],
   "source": [
    "import numpy as np\n",
    "import pandas as pd\n",
    "\n",
    "# Set random seed for reproducibility\n",
    "np.random.seed(42)\n",
    "\n",
    "# Simulate time series components\n",
    "n_periods = 200\n",
    "trend = np.linspace(0, 10, n_periods)\n",
    "seasonality = 5 * np.sin(2 * np.pi * np.arange(n_periods) / 12)\n",
    "noise = np.random.normal(0, 1, n_periods)\n",
    "\n",
    "# Final series\n",
    "y = trend + seasonality + noise\n",
    "dates = pd.date_range(start=\"2020-01-01\", periods=n_periods, freq=\"M\")\n",
    "ts = pd.DataFrame({\"date\": dates, \"value\": y})\n",
    "\n",
    "ts.head()\n"
   ]
  },
  {
   "cell_type": "markdown",
   "id": "52e7a5f6",
   "metadata": {},
   "source": [
    "<a id=\"visualize-the-time-series\"></a>\n",
    "#### 📈 Visualize the time series\n"
   ]
  },
  {
   "cell_type": "code",
   "execution_count": 5,
   "id": "62751fdb",
   "metadata": {},
   "outputs": [
    {
     "data": {
      "image/png": "[encoded data removed]",
      "text/plain": [
       "<Figure size 1200x400 with 1 Axes>"
      ]
     },
     "metadata": {},
     "output_type": "display_data"
    }
   ],
   "source": [
    "# 📈 Visualize the time series\n",
    "\n",
    "import matplotlib.pyplot as plt\n",
    "\n",
    "plt.figure(figsize=(12, 4))\n",
    "plt.plot(ts[\"date\"], ts[\"value\"], label=\"Simulated Time Series\")\n",
    "plt.title(\"Simulated Time Series\")\n",
    "plt.xlabel(\"Date\")\n",
    "plt.ylabel(\"Value\")\n",
    "plt.grid(True)\n",
    "plt.tight_layout()\n",
    "plt.legend()\n",
    "plt.show()\n"
   ]
  },
  {
   "cell_type": "markdown",
   "id": "df2998a8",
   "metadata": {},
   "source": [
    "<a id=\"create-train-test-split\"></a>\n",
    "#### 🧮 Create train/test split\n"
   ]
  },
  {
   "cell_type": "markdown",
   "id": "7f41fb91",
   "metadata": {},
   "source": [
    "<details>\n",
    "<summary><strong>📖 Click to Expand</strong></summary>\n",
    "\n",
    "##### 🧮 Why It's Different\n",
    "In time series, you can’t randomly split rows into train/test like traditional ML. Why?\n",
    "\n",
    "- Time flows **sequentially**, so past should predict future.\n",
    "- Shuffling would **leak future info into past** — a cardinal sin in forecasting.\n",
    "\n",
    "##### ⚠️ Common Time Series Splits\n",
    "- Use **chronological cutoff**, e.g., first 80% as train, last 20% as test.\n",
    "- Use a **rolling forecast origin** if you want multiple test windows.\n",
    "- For production-style setups, use a **fixed origin test set** and predict forward.\n",
    "\n",
    "</details>\n"
   ]
  },
  {
   "cell_type": "code",
   "execution_count": 7,
   "id": "15b12940",
   "metadata": {},
   "outputs": [
    {
     "name": "stdout",
     "output_type": "stream",
     "text": [
      "Train range: 2020-01-31 to 2033-04-30\n",
      "Test range:  2033-05-31 to 2036-08-31\n",
      "Train shape: (160, 2)\n",
      "Test shape: (40, 2)\n"
     ]
    }
   ],
   "source": [
    "train_ratio = 0.8\n",
    "cutoff = int(len(ts) * train_ratio)\n",
    "\n",
    "train = ts.iloc[:cutoff].copy()\n",
    "test = ts.iloc[cutoff:].copy()\n",
    "\n",
    "print(f\"Train range: {train['date'].min().date()} to {train['date'].max().date()}\")\n",
    "print(f\"Test range:  {test['date'].min().date()} to {test['date'].max().date()}\")\n",
    "\n",
    "print(f\"Train shape: {train.shape}\")\n",
    "print(f\"Test shape: {test.shape}\")\n"
   ]
  },
  {
   "cell_type": "markdown",
   "id": "d96d8319",
   "metadata": {},
   "source": [
    "<a id=\"optional-add-second-seasonalitytrend\"></a>\n",
    "#### 🌊 Optional: Add second seasonality/trend\n"
   ]
  },
  {
   "cell_type": "markdown",
   "id": "fb6035fe",
   "metadata": {},
   "source": [
    "[Back to the top](#table-of-contents)\n",
    "___\n"
   ]
  },
  {
   "cell_type": "markdown",
   "id": "a5d8a7c0",
   "metadata": {},
   "source": [
    "<a id=\"exploratory-analysis\"></a>\n",
    "# 📊 Exploratory Analysis\n"
   ]
  },
  {
   "cell_type": "markdown",
   "id": "c8823474",
   "metadata": {},
   "source": [
    "<a id=\"stationarity-checks\"></a>\n",
    "#### 📉 Stationarity checks\n"
   ]
  },
  {
   "cell_type": "markdown",
   "id": "6e4c94c3",
   "metadata": {},
   "source": [
    "<details>\n",
    "<summary><strong>📖 Click to Expand</strong></summary>\n",
    "\n",
    "##### 🧪 What Does \"Stationary\" Mean?\n",
    "\n",
    "Most forecasting models assume that the **statistical properties of a time series stay the same over time** — specifically:\n",
    "- The **mean** doesn't change (no trend),\n",
    "- The **variance** stays constant (no wild swings), and\n",
    "- The relationships with its **own past values** remain stable.\n",
    "\n",
    "This is called **stationarity**.\n",
    "\n",
    "Why does it matter?\n",
    "- Stationary series are **predictable**.\n",
    "- Non-stationary data needs to be **transformed** (differenced, detrended, etc.) before modeling.\n",
    "\n",
    "We’ll use:\n",
    "- **Rolling mean / std** to visually check for stability\n",
    "- **ADF test** (Augmented Dickey-Fuller) to statistically test for stationarity\n",
    "\n",
    "</details>\n"
   ]
  },
  {
   "cell_type": "code",
   "execution_count": 11,
   "id": "5b5b575a",
   "metadata": {},
   "outputs": [
    {
     "data": {
      "application/vnd.plotly.v1+json": {
       "config": {
        "plotlyServerURL": "https://plot.ly"
       },
       "data": [
        {
         "mode": "lines",
         "name": "Original",
         "type": "scatter",
         "x": [
          "2020-01-31T00:00:00.000000000",
          "2020-02-29T00:00:00.000000000",
          "2020-03-31T00:00:00.000000000",
          "2020-04-30T00:00:00.000000000",
          "2020-05-31T00:00:00.000000000",
          "2020-06-30T00:00:00.000000000",
          "2020-07-31T00:00:00.000000000",
          "2020-08-31T00:00:00.000000000",
          "2020-09-30T00:00:00.000000000",
          "2020-10-31T00:00:00.000000000",
          "2020-11-30T00:00:00.000000000",
          "2020-12-31T00:00:00.000000000",
          "2021-01-31T00:00:00.000000000",
          "2021-02-28T00:00:00.000000000",
          "2021-03-31T00:00:00.000000000",
          "2021-04-30T00:00:00.000000000",
          "2021-05-31T00:00:00.000000000",
          "2021-06-30T00:00:00.000000000",
          "2021-07-31T00:00:00.000000000",
          "2021-08-31T00:00:00.000000000",
          "2021-09-30T00:00:00.000000000",
          "2021-10-31T00:00:00.000000000",
          "2021-11-30T00:00:00.000000000",
          "2021-12-31T00:00:00.000000000",
          "2022-01-31T00:00:00.000000000",
          "2022-02-28T00:00:00.000000000",
          "2022-03-31T00:00:00.000000000",
          "2022-04-30T00:00:00.000000000",
          "2022-05-31T00:00:00.000000000",
          "2022-06-30T00:00:00.000000000",
          "2022-07-31T00:00:00.000000000",
          "2022-08-31T00:00:00.000000000",
          "2022-09-30T00:00:00.000000000",
          "2022-10-31T00:00:00.000000000",
          "2022-11-30T00:00:00.000000000",
          "2022-12-31T00:00:00.000000000",
          "2023-01-31T00:00:00.000000000",
          "2023-02-28T00:00:00.000000000",
          "2023-03-31T00:00:00.000000000",
          "2023-04-30T00:00:00.000000000",
          "2023-05-31T00:00:00.000000000",
          "2023-06-30T00:00:00.000000000",
          "2023-07-31T00:00:00.000000000",
          "2023-08-31T00:00:00.000000000",
          "2023-09-30T00:00:00.000000000",
          "2023-10-31T00:00:00.000000000",
          "2023-11-30T00:00:00.000000000",
          "2023-12-31T00:00:00.000000000",
          "2024-01-31T00:00:00.000000000",
          "2024-02-29T00:00:00.000000000",
          "2024-03-31T00:00:00.000000000",
          "2024-04-30T00:00:00.000000000",
          "2024-05-31T00:00:00.000000000",
          "2024-06-30T00:00:00.000000000",
          "2024-07-31T00:00:00.000000000",
          "2024-08-31T00:00:00.000000000",
          "2024-09-30T00:00:00.000000000",
          "2024-10-31T00:00:00.000000000",
          "2024-11-30T00:00:00.000000000",
          "2024-12-31T00:00:00.000000000",
          "2025-01-31T00:00:00.000000000",
          "2025-02-28T00:00:00.000000000",
          "2025-03-31T00:00:00.000000000",
          "2025-04-30T00:00:00.000000000",
          "2025-05-31T00:00:00.000000000",
          "2025-06-30T00:00:00.000000000",
          "2025-07-31T00:00:00.000000000",
          "2025-08-31T00:00:00.000000000",
          "2025-09-30T00:00:00.000000000",
          "2025-10-31T00:00:00.000000000",
          "2025-11-30T00:00:00.000000000",
          "2025-12-31T00:00:00.000000000",
          "2026-01-31T00:00:00.000000000",
          "2026-02-28T00:00:00.000000000",
          "2026-03-31T00:00:00.000000000",
          "2026-04-30T00:00:00.000000000",
          "2026-05-31T00:00:00.000000000",
          "2026-06-30T00:00:00.000000000",
          "2026-07-31T00:00:00.000000000",
          "2026-08-31T00:00:00.000000000",
          "2026-09-30T00:00:00.000000000",
          "2026-10-31T00:00:00.000000000",
          "2026-11-30T00:00:00.000000000",
          "2026-12-31T00:00:00.000000000",
          "2027-01-31T00:00:00.000000000",
          "2027-02-28T00:00:00.000000000",
          "2027-03-31T00:00:00.000000000",
          "2027-04-30T00:00:00.000000000",
          "2027-05-31T00:00:00.000000000",
          "2027-06-30T00:00:00.000000000",
          "2027-07-31T00:00:00.000000000",
          "2027-08-31T00:00:00.000000000",
          "2027-09-30T00:00:00.000000000",
          "2027-10-31T00:00:00.000000000",
          "2027-11-30T00:00:00.000000000",
          "2027-12-31T00:00:00.000000000",
          "2028-01-31T00:00:00.000000000",
          "2028-02-29T00:00:00.000000000",
          "2028-03-31T00:00:00.000000000",
          "2028-04-30T00:00:00.000000000",
          "2028-05-31T00:00:00.000000000",
          "2028-06-30T00:00:00.000000000",
          "2028-07-31T00:00:00.000000000",
          "2028-08-31T00:00:00.000000000",
          "2028-09-30T00:00:00.000000000",
          "2028-10-31T00:00:00.000000000",
          "2028-11-30T00:00:00.000000000",
          "2028-12-31T00:00:00.000000000",
          "2029-01-31T00:00:00.000000000",
          "2029-02-28T00:00:00.000000000",
          "2029-03-31T00:00:00.000000000",
          "2029-04-30T00:00:00.000000000",
          "2029-05-31T00:00:00.000000000",
          "2029-06-30T00:00:00.000000000",
          "2029-07-31T00:00:00.000000000",
          "2029-08-31T00:00:00.000000000",
          "2029-09-30T00:00:00.000000000",
          "2029-10-31T00:00:00.000000000",
          "2029-11-30T00:00:00.000000000",
          "2029-12-31T00:00:00.000000000",
          "2030-01-31T00:00:00.000000000",
          "2030-02-28T00:00:00.000000000",
          "2030-03-31T00:00:00.000000000",
          "2030-04-30T00:00:00.000000000",
          "2030-05-31T00:00:00.000000000",
          "2030-06-30T00:00:00.000000000",
          "2030-07-31T00:00:00.000000000",
          "2030-08-31T00:00:00.000000000",
          "2030-09-30T00:00:00.000000000",
          "2030-10-31T00:00:00.000000000",
          "2030-11-30T00:00:00.000000000",
          "2030-12-31T00:00:00.000000000",
          "2031-01-31T00:00:00.000000000",
          "2031-02-28T00:00:00.000000000",
          "2031-03-31T00:00:00.000000000",
          "2031-04-30T00:00:00.000000000",
          "2031-05-31T00:00:00.000000000",
          "2031-06-30T00:00:00.000000000",
          "2031-07-31T00:00:00.000000000",
          "2031-08-31T00:00:00.000000000",
          "2031-09-30T00:00:00.000000000",
          "2031-10-31T00:00:00.000000000",
          "2031-11-30T00:00:00.000000000",
          "2031-12-31T00:00:00.000000000",
          "2032-01-31T00:00:00.000000000",
          "2032-02-29T00:00:00.000000000",
          "2032-03-31T00:00:00.000000000",
          "2032-04-30T00:00:00.000000000",
          "2032-05-31T00:00:00.000000000",
          "2032-06-30T00:00:00.000000000",
          "2032-07-31T00:00:00.000000000",
          "2032-08-31T00:00:00.000000000",
          "2032-09-30T00:00:00.000000000",
          "2032-10-31T00:00:00.000000000",
          "2032-11-30T00:00:00.000000000",
          "2032-12-31T00:00:00.000000000",
          "2033-01-31T00:00:00.000000000",
          "2033-02-28T00:00:00.000000000",
          "2033-03-31T00:00:00.000000000",
          "2033-04-30T00:00:00.000000000",
          "2033-05-31T00:00:00.000000000",
          "2033-06-30T00:00:00.000000000",
          "2033-07-31T00:00:00.000000000",
          "2033-08-31T00:00:00.000000000",
          "2033-09-30T00:00:00.000000000",
          "2033-10-31T00:00:00.000000000",
          "2033-11-30T00:00:00.000000000",
          "2033-12-31T00:00:00.000000000",
          "2034-01-31T00:00:00.000000000",
          "2034-02-28T00:00:00.000000000",
          "2034-03-31T00:00:00.000000000",
          "2034-04-30T00:00:00.000000000",
          "2034-05-31T00:00:00.000000000",
          "2034-06-30T00:00:00.000000000",
          "2034-07-31T00:00:00.000000000",
          "2034-08-31T00:00:00.000000000",
          "2034-09-30T00:00:00.000000000",
          "2034-10-31T00:00:00.000000000",
          "2034-11-30T00:00:00.000000000",
          "2034-12-31T00:00:00.000000000",
          "2035-01-31T00:00:00.000000000",
          "2035-02-28T00:00:00.000000000",
          "2035-03-31T00:00:00.000000000",
          "2035-04-30T00:00:00.000000000",
          "2035-05-31T00:00:00.000000000",
          "2035-06-30T00:00:00.000000000",
          "2035-07-31T00:00:00.000000000",
          "2035-08-31T00:00:00.000000000",
          "2035-09-30T00:00:00.000000000",
          "2035-10-31T00:00:00.000000000",
          "2035-11-30T00:00:00.000000000",
          "2035-12-31T00:00:00.000000000",
          "2036-01-31T00:00:00.000000000",
          "2036-02-29T00:00:00.000000000",
          "2036-03-31T00:00:00.000000000",
          "2036-04-30T00:00:00.000000000",
          "2036-05-31T00:00:00.000000000",
          "2036-06-30T00:00:00.000000000",
          "2036-07-31T00:00:00.000000000",
          "2036-08-31T00:00:00.000000000"
         ],
         "y": {
          "bdata": "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",
          "dtype": "f8"
         }
        },
        {
         "mode": "lines",
         "name": "Rolling Mean (12)",
         "type": "scatter",
         "x": [
          "2020-01-31T00:00:00.000000000",
          "2020-02-29T00:00:00.000000000",
          "2020-03-31T00:00:00.000000000",
          "2020-04-30T00:00:00.000000000",
          "2020-05-31T00:00:00.000000000",
          "2020-06-30T00:00:00.000000000",
          "2020-07-31T00:00:00.000000000",
          "2020-08-31T00:00:00.000000000",
          "2020-09-30T00:00:00.000000000",
          "2020-10-31T00:00:00.000000000",
          "2020-11-30T00:00:00.000000000",
          "2020-12-31T00:00:00.000000000",
          "2021-01-31T00:00:00.000000000",
          "2021-02-28T00:00:00.000000000",
          "2021-03-31T00:00:00.000000000",
          "2021-04-30T00:00:00.000000000",
          "2021-05-31T00:00:00.000000000",
          "2021-06-30T00:00:00.000000000",
          "2021-07-31T00:00:00.000000000",
          "2021-08-31T00:00:00.000000000",
          "2021-09-30T00:00:00.000000000",
          "2021-10-31T00:00:00.000000000",
          "2021-11-30T00:00:00.000000000",
          "2021-12-31T00:00:00.000000000",
          "2022-01-31T00:00:00.000000000",
          "2022-02-28T00:00:00.000000000",
          "2022-03-31T00:00:00.000000000",
          "2022-04-30T00:00:00.000000000",
          "2022-05-31T00:00:00.000000000",
          "2022-06-30T00:00:00.000000000",
          "2022-07-31T00:00:00.000000000",
          "2022-08-31T00:00:00.000000000",
          "2022-09-30T00:00:00.000000000",
          "2022-10-31T00:00:00.000000000",
          "2022-11-30T00:00:00.000000000",
          "2022-12-31T00:00:00.000000000",
          "2023-01-31T00:00:00.000000000",
          "2023-02-28T00:00:00.000000000",
          "2023-03-31T00:00:00.000000000",
          "2023-04-30T00:00:00.000000000",
          "2023-05-31T00:00:00.000000000",
          "2023-06-30T00:00:00.000000000",
          "2023-07-31T00:00:00.000000000",
          "2023-08-31T00:00:00.000000000",
          "2023-09-30T00:00:00.000000000",
          "2023-10-31T00:00:00.000000000",
          "2023-11-30T00:00:00.000000000",
          "2023-12-31T00:00:00.000000000",
          "2024-01-31T00:00:00.000000000",
          "2024-02-29T00:00:00.000000000",
          "2024-03-31T00:00:00.000000000",
          "2024-04-30T00:00:00.000000000",
          "2024-05-31T00:00:00.000000000",
          "2024-06-30T00:00:00.000000000",
          "2024-07-31T00:00:00.000000000",
          "2024-08-31T00:00:00.000000000",
          "2024-09-30T00:00:00.000000000",
          "2024-10-31T00:00:00.000000000",
          "2024-11-30T00:00:00.000000000",
          "2024-12-31T00:00:00.000000000",
          "2025-01-31T00:00:00.000000000",
          "2025-02-28T00:00:00.000000000",
          "2025-03-31T00:00:00.000000000",
          "2025-04-30T00:00:00.000000000",
          "2025-05-31T00:00:00.000000000",
          "2025-06-30T00:00:00.000000000",
          "2025-07-31T00:00:00.000000000",
          "2025-08-31T00:00:00.000000000",
          "2025-09-30T00:00:00.000000000",
          "2025-10-31T00:00:00.000000000",
          "2025-11-30T00:00:00.000000000",
          "2025-12-31T00:00:00.000000000",
          "2026-01-31T00:00:00.000000000",
          "2026-02-28T00:00:00.000000000",
          "2026-03-31T00:00:00.000000000",
          "2026-04-30T00:00:00.000000000",
          "2026-05-31T00:00:00.000000000",
          "2026-06-30T00:00:00.000000000",
          "2026-07-31T00:00:00.000000000",
          "2026-08-31T00:00:00.000000000",
          "2026-09-30T00:00:00.000000000",
          "2026-10-31T00:00:00.000000000",
          "2026-11-30T00:00:00.000000000",
          "2026-12-31T00:00:00.000000000",
          "2027-01-31T00:00:00.000000000",
          "2027-02-28T00:00:00.000000000",
          "2027-03-31T00:00:00.000000000",
          "2027-04-30T00:00:00.000000000",
          "2027-05-31T00:00:00.000000000",
          "2027-06-30T00:00:00.000000000",
          "2027-07-31T00:00:00.000000000",
          "2027-08-31T00:00:00.000000000",
          "2027-09-30T00:00:00.000000000",
          "2027-10-31T00:00:00.000000000",
          "2027-11-30T00:00:00.000000000",
          "2027-12-31T00:00:00.000000000",
          "2028-01-31T00:00:00.000000000",
          "2028-02-29T00:00:00.000000000",
          "2028-03-31T00:00:00.000000000",
          "2028-04-30T00:00:00.000000000",
          "2028-05-31T00:00:00.000000000",
          "2028-06-30T00:00:00.000000000",
          "2028-07-31T00:00:00.000000000",
          "2028-08-31T00:00:00.000000000",
          "2028-09-30T00:00:00.000000000",
          "2028-10-31T00:00:00.000000000",
          "2028-11-30T00:00:00.000000000",
          "2028-12-31T00:00:00.000000000",
          "2029-01-31T00:00:00.000000000",
          "2029-02-28T00:00:00.000000000",
          "2029-03-31T00:00:00.000000000",
          "2029-04-30T00:00:00.000000000",
          "2029-05-31T00:00:00.000000000",
          "2029-06-30T00:00:00.000000000",
          "2029-07-31T00:00:00.000000000",
          "2029-08-31T00:00:00.000000000",
          "2029-09-30T00:00:00.000000000",
          "2029-10-31T00:00:00.000000000",
          "2029-11-30T00:00:00.000000000",
          "2029-12-31T00:00:00.000000000",
          "2030-01-31T00:00:00.000000000",
          "2030-02-28T00:00:00.000000000",
          "2030-03-31T00:00:00.000000000",
          "2030-04-30T00:00:00.000000000",
          "2030-05-31T00:00:00.000000000",
          "2030-06-30T00:00:00.000000000",
          "2030-07-31T00:00:00.000000000",
          "2030-08-31T00:00:00.000000000",
          "2030-09-30T00:00:00.000000000",
          "2030-10-31T00:00:00.000000000",
          "2030-11-30T00:00:00.000000000",
          "2030-12-31T00:00:00.000000000",
          "2031-01-31T00:00:00.000000000",
          "2031-02-28T00:00:00.000000000",
          "2031-03-31T00:00:00.000000000",
          "2031-04-30T00:00:00.000000000",
          "2031-05-31T00:00:00.000000000",
          "2031-06-30T00:00:00.000000000",
          "2031-07-31T00:00:00.000000000",
          "2031-08-31T00:00:00.000000000",
          "2031-09-30T00:00:00.000000000",
          "2031-10-31T00:00:00.000000000",
          "2031-11-30T00:00:00.000000000",
          "2031-12-31T00:00:00.000000000",
          "2032-01-31T00:00:00.000000000",
          "2032-02-29T00:00:00.000000000",
          "2032-03-31T00:00:00.000000000",
          "2032-04-30T00:00:00.000000000",
          "2032-05-31T00:00:00.000000000",
          "2032-06-30T00:00:00.000000000",
          "2032-07-31T00:00:00.000000000",
          "2032-08-31T00:00:00.000000000",
          "2032-09-30T00:00:00.000000000",
          "2032-10-31T00:00:00.000000000",
          "2032-11-30T00:00:00.000000000",
          "2032-12-31T00:00:00.000000000",
          "2033-01-31T00:00:00.000000000",
          "2033-02-28T00:00:00.000000000",
          "2033-03-31T00:00:00.000000000",
          "2033-04-30T00:00:00.000000000",
          "2033-05-31T00:00:00.000000000",
          "2033-06-30T00:00:00.000000000",
          "2033-07-31T00:00:00.000000000",
          "2033-08-31T00:00:00.000000000",
          "2033-09-30T00:00:00.000000000",
          "2033-10-31T00:00:00.000000000",
          "2033-11-30T00:00:00.000000000",
          "2033-12-31T00:00:00.000000000",
          "2034-01-31T00:00:00.000000000",
          "2034-02-28T00:00:00.000000000",
          "2034-03-31T00:00:00.000000000",
          "2034-04-30T00:00:00.000000000",
          "2034-05-31T00:00:00.000000000",
          "2034-06-30T00:00:00.000000000",
          "2034-07-31T00:00:00.000000000",
          "2034-08-31T00:00:00.000000000",
          "2034-09-30T00:00:00.000000000",
          "2034-10-31T00:00:00.000000000",
          "2034-11-30T00:00:00.000000000",
          "2034-12-31T00:00:00.000000000",
          "2035-01-31T00:00:00.000000000",
          "2035-02-28T00:00:00.000000000",
          "2035-03-31T00:00:00.000000000",
          "2035-04-30T00:00:00.000000000",
          "2035-05-31T00:00:00.000000000",
          "2035-06-30T00:00:00.000000000",
          "2035-07-31T00:00:00.000000000",
          "2035-08-31T00:00:00.000000000",
          "2035-09-30T00:00:00.000000000",
          "2035-10-31T00:00:00.000000000",
          "2035-11-30T00:00:00.000000000",
          "2035-12-31T00:00:00.000000000",
          "2036-01-31T00:00:00.000000000",
          "2036-02-29T00:00:00.000000000",
          "2036-03-31T00:00:00.000000000",
          "2036-04-30T00:00:00.000000000",
          "2036-05-31T00:00:00.000000000",
          "2036-06-30T00:00:00.000000000",
          "2036-07-31T00:00:00.000000000",
          "2036-08-31T00:00:00.000000000"
         ],
         "y": {
          "bdata": "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",
          "dtype": "f8"
         }
        },
        {
         "mode": "lines",
         "name": "Rolling Std (12)",
         "type": "scatter",
         "x": [
          "2020-01-31T00:00:00.000000000",
          "2020-02-29T00:00:00.000000000",
          "2020-03-31T00:00:00.000000000",
          "2020-04-30T00:00:00.000000000",
          "2020-05-31T00:00:00.000000000",
          "2020-06-30T00:00:00.000000000",
          "2020-07-31T00:00:00.000000000",
          "2020-08-31T00:00:00.000000000",
          "2020-09-30T00:00:00.000000000",
          "2020-10-31T00:00:00.000000000",
          "2020-11-30T00:00:00.000000000",
          "2020-12-31T00:00:00.000000000",
          "2021-01-31T00:00:00.000000000",
          "2021-02-28T00:00:00.000000000",
          "2021-03-31T00:00:00.000000000",
          "2021-04-30T00:00:00.000000000",
          "2021-05-31T00:00:00.000000000",
          "2021-06-30T00:00:00.000000000",
          "2021-07-31T00:00:00.000000000",
          "2021-08-31T00:00:00.000000000",
          "2021-09-30T00:00:00.000000000",
          "2021-10-31T00:00:00.000000000",
          "2021-11-30T00:00:00.000000000",
          "2021-12-31T00:00:00.000000000",
          "2022-01-31T00:00:00.000000000",
          "2022-02-28T00:00:00.000000000",
          "2022-03-31T00:00:00.000000000",
          "2022-04-30T00:00:00.000000000",
          "2022-05-31T00:00:00.000000000",
          "2022-06-30T00:00:00.000000000",
          "2022-07-31T00:00:00.000000000",
          "2022-08-31T00:00:00.000000000",
          "2022-09-30T00:00:00.000000000",
          "2022-10-31T00:00:00.000000000",
          "2022-11-30T00:00:00.000000000",
          "2022-12-31T00:00:00.000000000",
          "2023-01-31T00:00:00.000000000",
          "2023-02-28T00:00:00.000000000",
          "2023-03-31T00:00:00.000000000",
          "2023-04-30T00:00:00.000000000",
          "2023-05-31T00:00:00.000000000",
          "2023-06-30T00:00:00.000000000",
          "2023-07-31T00:00:00.000000000",
          "2023-08-31T00:00:00.000000000",
          "2023-09-30T00:00:00.000000000",
          "2023-10-31T00:00:00.000000000",
          "2023-11-30T00:00:00.000000000",
          "2023-12-31T00:00:00.000000000",
          "2024-01-31T00:00:00.000000000",
          "2024-02-29T00:00:00.000000000",
          "2024-03-31T00:00:00.000000000",
          "2024-04-30T00:00:00.000000000",
          "2024-05-31T00:00:00.000000000",
          "2024-06-30T00:00:00.000000000",
          "2024-07-31T00:00:00.000000000",
          "2024-08-31T00:00:00.000000000",
          "2024-09-30T00:00:00.000000000",
          "2024-10-31T00:00:00.000000000",
          "2024-11-30T00:00:00.000000000",
          "2024-12-31T00:00:00.000000000",
          "2025-01-31T00:00:00.000000000",
          "2025-02-28T00:00:00.000000000",
          "2025-03-31T00:00:00.000000000",
          "2025-04-30T00:00:00.000000000",
          "2025-05-31T00:00:00.000000000",
          "2025-06-30T00:00:00.000000000",
          "2025-07-31T00:00:00.000000000",
          "2025-08-31T00:00:00.000000000",
          "2025-09-30T00:00:00.000000000",
          "2025-10-31T00:00:00.000000000",
          "2025-11-30T00:00:00.000000000",
          "2025-12-31T00:00:00.000000000",
          "2026-01-31T00:00:00.000000000",
          "2026-02-28T00:00:00.000000000",
          "2026-03-31T00:00:00.000000000",
          "2026-04-30T00:00:00.000000000",
          "2026-05-31T00:00:00.000000000",
          "2026-06-30T00:00:00.000000000",
          "2026-07-31T00:00:00.000000000",
          "2026-08-31T00:00:00.000000000",
          "2026-09-30T00:00:00.000000000",
          "2026-10-31T00:00:00.000000000",
          "2026-11-30T00:00:00.000000000",
          "2026-12-31T00:00:00.000000000",
          "2027-01-31T00:00:00.000000000",
          "2027-02-28T00:00:00.000000000",
          "2027-03-31T00:00:00.000000000",
          "2027-04-30T00:00:00.000000000",
          "2027-05-31T00:00:00.000000000",
          "2027-06-30T00:00:00.000000000",
          "2027-07-31T00:00:00.000000000",
          "2027-08-31T00:00:00.000000000",
          "2027-09-30T00:00:00.000000000",
          "2027-10-31T00:00:00.000000000",
          "2027-11-30T00:00:00.000000000",
          "2027-12-31T00:00:00.000000000",
          "2028-01-31T00:00:00.000000000",
          "2028-02-29T00:00:00.000000000",
          "2028-03-31T00:00:00.000000000",
          "2028-04-30T00:00:00.000000000",
          "2028-05-31T00:00:00.000000000",
          "2028-06-30T00:00:00.000000000",
          "2028-07-31T00:00:00.000000000",
          "2028-08-31T00:00:00.000000000",
          "2028-09-30T00:00:00.000000000",
          "2028-10-31T00:00:00.000000000",
          "2028-11-30T00:00:00.000000000",
          "2028-12-31T00:00:00.000000000",
          "2029-01-31T00:00:00.000000000",
          "2029-02-28T00:00:00.000000000",
          "2029-03-31T00:00:00.000000000",
          "2029-04-30T00:00:00.000000000",
          "2029-05-31T00:00:00.000000000",
          "2029-06-30T00:00:00.000000000",
          "2029-07-31T00:00:00.000000000",
          "2029-08-31T00:00:00.000000000",
          "2029-09-30T00:00:00.000000000",
          "2029-10-31T00:00:00.000000000",
          "2029-11-30T00:00:00.000000000",
          "2029-12-31T00:00:00.000000000",
          "2030-01-31T00:00:00.000000000",
          "2030-02-28T00:00:00.000000000",
          "2030-03-31T00:00:00.000000000",
          "2030-04-30T00:00:00.000000000",
          "2030-05-31T00:00:00.000000000",
          "2030-06-30T00:00:00.000000000",
          "2030-07-31T00:00:00.000000000",
          "2030-08-31T00:00:00.000000000",
          "2030-09-30T00:00:00.000000000",
          "2030-10-31T00:00:00.000000000",
          "2030-11-30T00:00:00.000000000",
          "2030-12-31T00:00:00.000000000",
          "2031-01-31T00:00:00.000000000",
          "2031-02-28T00:00:00.000000000",
          "2031-03-31T00:00:00.000000000",
          "2031-04-30T00:00:00.000000000",
          "2031-05-31T00:00:00.000000000",
          "2031-06-30T00:00:00.000000000",
          "2031-07-31T00:00:00.000000000",
          "2031-08-31T00:00:00.000000000",
          "2031-09-30T00:00:00.000000000",
          "2031-10-31T00:00:00.000000000",
          "2031-11-30T00:00:00.000000000",
          "2031-12-31T00:00:00.000000000",
          "2032-01-31T00:00:00.000000000",
          "2032-02-29T00:00:00.000000000",
          "2032-03-31T00:00:00.000000000",
          "2032-04-30T00:00:00.000000000",
          "2032-05-31T00:00:00.000000000",
          "2032-06-30T00:00:00.000000000",
          "2032-07-31T00:00:00.000000000",
          "2032-08-31T00:00:00.000000000",
          "2032-09-30T00:00:00.000000000",
          "2032-10-31T00:00:00.000000000",
          "2032-11-30T00:00:00.000000000",
          "2032-12-31T00:00:00.000000000",
          "2033-01-31T00:00:00.000000000",
          "2033-02-28T00:00:00.000000000",
          "2033-03-31T00:00:00.000000000",
          "2033-04-30T00:00:00.000000000",
          "2033-05-31T00:00:00.000000000",
          "2033-06-30T00:00:00.000000000",
          "2033-07-31T00:00:00.000000000",
          "2033-08-31T00:00:00.000000000",
          "2033-09-30T00:00:00.000000000",
          "2033-10-31T00:00:00.000000000",
          "2033-11-30T00:00:00.000000000",
          "2033-12-31T00:00:00.000000000",
          "2034-01-31T00:00:00.000000000",
          "2034-02-28T00:00:00.000000000",
          "2034-03-31T00:00:00.000000000",
          "2034-04-30T00:00:00.000000000",
          "2034-05-31T00:00:00.000000000",
          "2034-06-30T00:00:00.000000000",
          "2034-07-31T00:00:00.000000000",
          "2034-08-31T00:00:00.000000000",
          "2034-09-30T00:00:00.000000000",
          "2034-10-31T00:00:00.000000000",
          "2034-11-30T00:00:00.000000000",
          "2034-12-31T00:00:00.000000000",
          "2035-01-31T00:00:00.000000000",
          "2035-02-28T00:00:00.000000000",
          "2035-03-31T00:00:00.000000000",
          "2035-04-30T00:00:00.000000000",
          "2035-05-31T00:00:00.000000000",
          "2035-06-30T00:00:00.000000000",
          "2035-07-31T00:00:00.000000000",
          "2035-08-31T00:00:00.000000000",
          "2035-09-30T00:00:00.000000000",
          "2035-10-31T00:00:00.000000000",
          "2035-11-30T00:00:00.000000000",
          "2035-12-31T00:00:00.000000000",
          "2036-01-31T00:00:00.000000000",
          "2036-02-29T00:00:00.000000000",
          "2036-03-31T00:00:00.000000000",
          "2036-04-30T00:00:00.000000000",
          "2036-05-31T00:00:00.000000000",
          "2036-06-30T00:00:00.000000000",
          "2036-07-31T00:00:00.000000000",
          "2036-08-31T00:00:00.000000000"
         ],
         "y": {
          "bdata": "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",
          "dtype": "f8"
         }
        }
       ],
       "layout": {
        "showlegend": true,
        "template": {
         "data": {
          "bar": [
           {
            "error_x": {
             "color": "#2a3f5f"
            },
            "error_y": {
             "color": "#2a3f5f"
            },
            "marker": {
             "line": {
              "color": "white",
              "width": 0.5
             },
             "pattern": {
              "fillmode": "overlay",
              "size": 10,
              "solidity": 0.2
             }
            },
            "type": "bar"
           }
          ],
          "barpolar": [
           {
            "marker": {
             "line": {
              "color": "white",
              "width": 0.5
             },
             "pattern": {
              "fillmode": "overlay",
              "size": 10,
              "solidity": 0.2
             }
            },
            "type": "barpolar"
           }
          ],
          "carpet": [
           {
            "aaxis": {
             "endlinecolor": "#2a3f5f",
             "gridcolor": "#C8D4E3",
             "linecolor": "#C8D4E3",
             "minorgridcolor": "#C8D4E3",
             "startlinecolor": "#2a3f5f"
            },
            "baxis": {
             "endlinecolor": "#2a3f5f",
             "gridcolor": "#C8D4E3",
             "linecolor": "#C8D4E3",
             "minorgridcolor": "#C8D4E3",
             "startlinecolor": "#2a3f5f"
            },
            "type": "carpet"
           }
          ],
          "choropleth": [
           {
            "colorbar": {
             "outlinewidth": 0,
             "ticks": ""
            },
            "type": "choropleth"
           }
          ],
          "contour": [
           {
            "colorbar": {
             "outlinewidth": 0,
             "ticks": ""
            },
            "colorscale": [
             [
              0,
              "#0d0887"
             ],
             [
              0.1111111111111111,
              "#46039f"
             ],
             [
              0.2222222222222222,
              "#7201a8"
             ],
             [
              0.3333333333333333,
              "#9c179e"
             ],
             [
              0.4444444444444444,
              "#bd3786"
             ],
             [
              0.5555555555555556,
              "#d8576b"
             ],
             [
              0.6666666666666666,
              "#ed7953"
             ],
             [
              0.7777777777777778,
              "#fb9f3a"
             ],
             [
              0.8888888888888888,
              "#fdca26"
             ],
             [
              1,
              "#f0f921"
             ]
            ],
            "type": "contour"
           }
          ],
          "contourcarpet": [
           {
            "colorbar": {
             "outlinewidth": 0,
             "ticks": ""
            },
            "type": "contourcarpet"
           }
          ],
          "heatmap": [
           {
            "colorbar": {
             "outlinewidth": 0,
             "ticks": ""
            },
            "colorscale": [
             [
              0,
              "#0d0887"
             ],
             [
              0.1111111111111111,
              "#46039f"
             ],
             [
              0.2222222222222222,
              "#7201a8"
             ],
             [
              0.3333333333333333,
              "#9c179e"
             ],
             [
              0.4444444444444444,
              "#bd3786"
             ],
             [
              0.5555555555555556,
              "#d8576b"
             ],
             [
              0.6666666666666666,
              "#ed7953"
             ],
             [
              0.7777777777777778,
              "#fb9f3a"
             ],
             [
              0.8888888888888888,
              "#fdca26"
             ],
             [
              1,
              "#f0f921"
             ]
            ],
            "type": "heatmap"
           }
          ],
          "histogram": [
           {
            "marker": {
             "pattern": {
              "fillmode": "overlay",
              "size": 10,
              "solidity": 0.2
             }
            },
            "type": "histogram"
           }
          ],
          "histogram2d": [
           {
            "colorbar": {
             "outlinewidth": 0,
             "ticks": ""
            },
            "colorscale": [
             [
              0,
              "#0d0887"
             ],
             [
              0.1111111111111111,
              "#46039f"
             ],
             [
              0.2222222222222222,
              "#7201a8"
             ],
             [
              0.3333333333333333,
              "#9c179e"
             ],
             [
              0.4444444444444444,
              "#bd3786"
             ],
             [
              0.5555555555555556,
              "#d8576b"
             ],
             [
              0.6666666666666666,
              "#ed7953"
             ],
             [
              0.7777777777777778,
              "#fb9f3a"
             ],
             [
              0.8888888888888888,
              "#fdca26"
             ],
             [
              1,
              "#f0f921"
             ]
            ],
            "type": "histogram2d"
           }
          ],
          "histogram2dcontour": [
           {
            "colorbar": {
             "outlinewidth": 0,
             "ticks": ""
            },
            "colorscale": [
             [
              0,
              "#0d0887"
             ],
             [
              0.1111111111111111,
              "#46039f"
             ],
             [
              0.2222222222222222,
              "#7201a8"
             ],
             [
              0.3333333333333333,
              "#9c179e"
             ],
             [
              0.4444444444444444,
              "#bd3786"
             ],
             [
              0.5555555555555556,
              "#d8576b"
             ],
             [
              0.6666666666666666,
              "#ed7953"
             ],
             [
              0.7777777777777778,
              "#fb9f3a"
             ],
             [
              0.8888888888888888,
              "#fdca26"
             ],
             [
              1,
              "#f0f921"
             ]
            ],
            "type": "histogram2dcontour"
           }
          ],
          "mesh3d": [
           {
            "colorbar": {
             "outlinewidth": 0,
             "ticks": ""
            },
            "type": "mesh3d"
           }
          ],
          "parcoords": [
           {
            "line": {
             "colorbar": {
              "outlinewidth": 0,
              "ticks": ""
             }
            },
            "type": "parcoords"
           }
          ],
          "pie": [
           {
            "automargin": true,
            "type": "pie"
           }
          ],
          "scatter": [
           {
            "fillpattern": {
             "fillmode": "overlay",
             "size": 10,
             "solidity": 0.2
            },
            "type": "scatter"
           }
          ],
          "scatter3d": [
           {
            "line": {
             "colorbar": {
              "outlinewidth": 0,
              "ticks": ""
             }
            },
            "marker": {
             "colorbar": {
              "outlinewidth": 0,
              "ticks": ""
             }
            },
            "type": "scatter3d"
           }
          ],
          "scattercarpet": [
           {
            "marker": {
             "colorbar": {
              "outlinewidth": 0,
              "ticks": ""
             }
            },
            "type": "scattercarpet"
           }
          ],
          "scattergeo": [
           {
            "marker": {
             "colorbar": {
              "outlinewidth": 0,
              "ticks": ""
             }
            },
            "type": "scattergeo"
           }
          ],
          "scattergl": [
           {
            "marker": {
             "colorbar": {
              "outlinewidth": 0,
              "ticks": ""
             }
            },
            "type": "scattergl"
           }
          ],
          "scattermap": [
           {
            "marker": {
             "colorbar": {
              "outlinewidth": 0,
              "ticks": ""
             }
            },
            "type": "scattermap"
           }
          ],
          "scattermapbox": [
           {
            "marker": {
             "colorbar": {
              "outlinewidth": 0,
              "ticks": ""
             }
            },
            "type": "scattermapbox"
           }
          ],
          "scatterpolar": [
           {
            "marker": {
             "colorbar": {
              "outlinewidth": 0,
              "ticks": ""
             }
            },
            "type": "scatterpolar"
           }
          ],
          "scatterpolargl": [
           {
            "marker": {
             "colorbar": {
              "outlinewidth": 0,
              "ticks": ""
             }
            },
            "type": "scatterpolargl"
           }
          ],
          "scatterternary": [
           {
            "marker": {
             "colorbar": {
              "outlinewidth": 0,
              "ticks": ""
             }
            },
            "type": "scatterternary"
           }
          ],
          "surface": [
           {
            "colorbar": {
             "outlinewidth": 0,
             "ticks": ""
            },
            "colorscale": [
             [
              0,
              "#0d0887"
             ],
             [
              0.1111111111111111,
              "#46039f"
             ],
             [
              0.2222222222222222,
              "#7201a8"
             ],
             [
              0.3333333333333333,
              "#9c179e"
             ],
             [
              0.4444444444444444,
              "#bd3786"
             ],
             [
              0.5555555555555556,
              "#d8576b"
             ],
             [
              0.6666666666666666,
              "#ed7953"
             ],
             [
              0.7777777777777778,
              "#fb9f3a"
             ],
             [
              0.8888888888888888,
              "#fdca26"
             ],
             [
              1,
              "#f0f921"
             ]
            ],
            "type": "surface"
           }
          ],
          "table": [
           {
            "cells": {
             "fill": {
              "color": "#EBF0F8"
             },
             "line": {
              "color": "white"
             }
            },
            "header": {
             "fill": {
              "color": "#C8D4E3"
             },
             "line": {
              "color": "white"
             }
            },
            "type": "table"
           }
          ]
         },
         "layout": {
          "annotationdefaults": {
           "arrowcolor": "#2a3f5f",
           "arrowhead": 0,
           "arrowwidth": 1
          },
          "autotypenumbers": "strict",
          "coloraxis": {
           "colorbar": {
            "outlinewidth": 0,
            "ticks": ""
           }
          },
          "colorscale": {
           "diverging": [
            [
             0,
             "#8e0152"
            ],
            [
             0.1,
             "#c51b7d"
            ],
            [
             0.2,
             "#de77ae"
            ],
            [
             0.3,
             "#f1b6da"
            ],
            [
             0.4,
             "#fde0ef"
            ],
            [
             0.5,
             "#f7f7f7"
            ],
            [
             0.6,
             "#e6f5d0"
            ],
            [
             0.7,
             "#b8e186"
            ],
            [
             0.8,
             "#7fbc41"
            ],
            [
             0.9,
             "#4d9221"
            ],
            [
             1,
             "#276419"
            ]
           ],
           "sequential": [
            [
             0,
             "#0d0887"
            ],
            [
             0.1111111111111111,
             "#46039f"
            ],
            [
             0.2222222222222222,
             "#7201a8"
            ],
            [
             0.3333333333333333,
             "#9c179e"
            ],
            [
             0.4444444444444444,
             "#bd3786"
            ],
            [
             0.5555555555555556,
             "#d8576b"
            ],
            [
             0.6666666666666666,
             "#ed7953"
            ],
            [
             0.7777777777777778,
             "#fb9f3a"
            ],
            [
             0.8888888888888888,
             "#fdca26"
            ],
            [
             1,
             "#f0f921"
            ]
           ],
           "sequentialminus": [
            [
             0,
             "#0d0887"
            ],
            [
             0.1111111111111111,
             "#46039f"
            ],
            [
             0.2222222222222222,
             "#7201a8"
            ],
            [
             0.3333333333333333,
             "#9c179e"
            ],
            [
             0.4444444444444444,
             "#bd3786"
            ],
            [
             0.5555555555555556,
             "#d8576b"
            ],
            [
             0.6666666666666666,
             "#ed7953"
            ],
            [
             0.7777777777777778,
             "#fb9f3a"
            ],
            [
             0.8888888888888888,
             "#fdca26"
            ],
            [
             1,
             "#f0f921"
            ]
           ]
          },
          "colorway": [
           "#636efa",
           "#EF553B",
           "#00cc96",
           "#ab63fa",
           "#FFA15A",
           "#19d3f3",
           "#FF6692",
           "#B6E880",
           "#FF97FF",
           "#FECB52"
          ],
          "font": {
           "color": "#2a3f5f"
          },
          "geo": {
           "bgcolor": "white",
           "lakecolor": "white",
           "landcolor": "white",
           "showlakes": true,
           "showland": true,
           "subunitcolor": "#C8D4E3"
          },
          "hoverlabel": {
           "align": "left"
          },
          "hovermode": "closest",
          "mapbox": {
           "style": "light"
          },
          "paper_bgcolor": "white",
          "plot_bgcolor": "white",
          "polar": {
           "angularaxis": {
            "gridcolor": "#EBF0F8",
            "linecolor": "#EBF0F8",
            "ticks": ""
           },
           "bgcolor": "white",
           "radialaxis": {
            "gridcolor": "#EBF0F8",
            "linecolor": "#EBF0F8",
            "ticks": ""
           }
          },
          "scene": {
           "xaxis": {
            "backgroundcolor": "white",
            "gridcolor": "#DFE8F3",
            "gridwidth": 2,
            "linecolor": "#EBF0F8",
            "showbackground": true,
            "ticks": "",
            "zerolinecolor": "#EBF0F8"
           },
           "yaxis": {
            "backgroundcolor": "white",
            "gridcolor": "#DFE8F3",
            "gridwidth": 2,
            "linecolor": "#EBF0F8",
            "showbackground": true,
            "ticks": "",
            "zerolinecolor": "#EBF0F8"
           },
           "zaxis": {
            "backgroundcolor": "white",
            "gridcolor": "#DFE8F3",
            "gridwidth": 2,
            "linecolor": "#EBF0F8",
            "showbackground": true,
            "ticks": "",
            "zerolinecolor": "#EBF0F8"
           }
          },
          "shapedefaults": {
           "line": {
            "color": "#2a3f5f"
           }
          },
          "ternary": {
           "aaxis": {
            "gridcolor": "#DFE8F3",
            "linecolor": "#A2B1C6",
            "ticks": ""
           },
           "baxis": {
            "gridcolor": "#DFE8F3",
            "linecolor": "#A2B1C6",
            "ticks": ""
           },
           "bgcolor": "white",
           "caxis": {
            "gridcolor": "#DFE8F3",
            "linecolor": "#A2B1C6",
            "ticks": ""
           }
          },
          "title": {
           "x": 0.05
          },
          "xaxis": {
           "automargin": true,
           "gridcolor": "#EBF0F8",
           "linecolor": "#EBF0F8",
           "ticks": "",
           "title": {
            "standoff": 15
           },
           "zerolinecolor": "#EBF0F8",
           "zerolinewidth": 2
          },
          "yaxis": {
           "automargin": true,
           "gridcolor": "#EBF0F8",
           "linecolor": "#EBF0F8",
           "ticks": "",
           "title": {
            "standoff": 15
           },
           "zerolinecolor": "#EBF0F8",
           "zerolinewidth": 2
          }
         }
        },
        "title": {
         "text": "Rolling Mean & Standard Deviation"
        },
        "xaxis": {
         "title": {
          "text": "Date"
         }
        },
        "yaxis": {
         "title": {
          "text": "Value"
         }
        }
       }
      }
     },
     "metadata": {},
     "output_type": "display_data"
    },
    {
     "name": "stdout",
     "output_type": "stream",
     "text": [
      "ADF Statistic: -0.1689\n",
      "p-value: 0.9421\n",
      "Critical Value (1%): -3.4658\n",
      "Critical Value (5%): -2.8771\n",
      "Critical Value (10%): -2.5751\n"
     ]
    }
   ],
   "source": [
    "# 📉 Stationarity checks\n",
    "\n",
    "from statsmodels.tsa.stattools import adfuller\n",
    "import plotly.graph_objects as go\n",
    "\n",
    "# Rolling statistics\n",
    "ts[\"rolling_mean\"] = ts[\"value\"].rolling(window=12).mean()\n",
    "ts[\"rolling_std\"] = ts[\"value\"].rolling(window=12).std()\n",
    "\n",
    "fig = go.Figure()\n",
    "fig.add_trace(go.Scatter(x=ts[\"date\"], y=ts[\"value\"], mode=\"lines\", name=\"Original\"))\n",
    "fig.add_trace(go.Scatter(x=ts[\"date\"], y=ts[\"rolling_mean\"], mode=\"lines\", name=\"Rolling Mean (12)\"))\n",
    "fig.add_trace(go.Scatter(x=ts[\"date\"], y=ts[\"rolling_std\"], mode=\"lines\", name=\"Rolling Std (12)\"))\n",
    "\n",
    "fig.update_layout(\n",
    "    title=\"Rolling Mean & Standard Deviation\",\n",
    "    xaxis_title=\"Date\",\n",
    "    yaxis_title=\"Value\",\n",
    "    showlegend=True,\n",
    "    template=\"plotly_white\"\n",
    ")\n",
    "fig.show()\n",
    "\n",
    "# ADF Test\n",
    "adf_result = adfuller(ts[\"value\"])\n",
    "print(f\"ADF Statistic: {adf_result[0]:.4f}\")\n",
    "print(f\"p-value: {adf_result[1]:.4f}\")\n",
    "for key, value in adf_result[4].items():\n",
    "    print(f\"Critical Value ({key}): {value:.4f}\")\n"
   ]
  },
  {
   "cell_type": "markdown",
   "id": "9030ef37",
   "metadata": {},
   "source": [
    "<a id=\"seasonality--trend-decomposition\"></a>\n",
    "#### 📐 Seasonality & trend decomposition\n"
   ]
  },
  {
   "cell_type": "markdown",
   "id": "ad3a1476",
   "metadata": {},
   "source": [
    "<details>\n",
    "<summary><strong>📖 Click to Expand</strong></summary>\n",
    "\n",
    "##### 📐 What Is Decomposition?\n",
    "\n",
    "Decomposition splits a time series into:\n",
    "- **Trend**: Long-term progression (upward or downward movement)\n",
    "- **Seasonality**: Regular, repeating patterns (e.g., monthly cycles)\n",
    "- **Residual**: The leftover noise after removing trend & seasonality\n",
    "\n",
    "Why care?\n",
    "- It **reveals structure** in your data.\n",
    "- Helps you decide whether to model trend, seasonality, or both.\n",
    "\n",
    "</details>\n"
   ]
  },
  {
   "cell_type": "code",
   "execution_count": 12,
   "id": "4c088556",
   "metadata": {},
   "outputs": [
    {
     "data": {
      "application/vnd.plotly.v1+json": {
       "config": {
        "plotlyServerURL": "https://plot.ly"
       },
       "data": [
        {
         "name": "Original",
         "type": "scatter",
         "x": [
          "2020-01-31T00:00:00.000000000",
          "2020-02-29T00:00:00.000000000",
          "2020-03-31T00:00:00.000000000",
          "2020-04-30T00:00:00.000000000",
          "2020-05-31T00:00:00.000000000",
          "2020-06-30T00:00:00.000000000",
          "2020-07-31T00:00:00.000000000",
          "2020-08-31T00:00:00.000000000",
          "2020-09-30T00:00:00.000000000",
          "2020-10-31T00:00:00.000000000",
          "2020-11-30T00:00:00.000000000",
          "2020-12-31T00:00:00.000000000",
          "2021-01-31T00:00:00.000000000",
          "2021-02-28T00:00:00.000000000",
          "2021-03-31T00:00:00.000000000",
          "2021-04-30T00:00:00.000000000",
          "2021-05-31T00:00:00.000000000",
          "2021-06-30T00:00:00.000000000",
          "2021-07-31T00:00:00.000000000",
          "2021-08-31T00:00:00.000000000",
          "2021-09-30T00:00:00.000000000",
          "2021-10-31T00:00:00.000000000",
          "2021-11-30T00:00:00.000000000",
          "2021-12-31T00:00:00.000000000",
          "2022-01-31T00:00:00.000000000",
          "2022-02-28T00:00:00.000000000",
          "2022-03-31T00:00:00.000000000",
          "2022-04-30T00:00:00.000000000",
          "2022-05-31T00:00:00.000000000",
          "2022-06-30T00:00:00.000000000",
          "2022-07-31T00:00:00.000000000",
          "2022-08-31T00:00:00.000000000",
          "2022-09-30T00:00:00.000000000",
          "2022-10-31T00:00:00.000000000",
          "2022-11-30T00:00:00.000000000",
          "2022-12-31T00:00:00.000000000",
          "2023-01-31T00:00:00.000000000",
          "2023-02-28T00:00:00.000000000",
          "2023-03-31T00:00:00.000000000",
          "2023-04-30T00:00:00.000000000",
          "2023-05-31T00:00:00.000000000",
          "2023-06-30T00:00:00.000000000",
          "2023-07-31T00:00:00.000000000",
          "2023-08-31T00:00:00.000000000",
          "2023-09-30T00:00:00.000000000",
          "2023-10-31T00:00:00.000000000",
          "2023-11-30T00:00:00.000000000",
          "2023-12-31T00:00:00.000000000",
          "2024-01-31T00:00:00.000000000",
          "2024-02-29T00:00:00.000000000",
          "2024-03-31T00:00:00.000000000",
          "2024-04-30T00:00:00.000000000",
          "2024-05-31T00:00:00.000000000",
          "2024-06-30T00:00:00.000000000",
          "2024-07-31T00:00:00.000000000",
          "2024-08-31T00:00:00.000000000",
          "2024-09-30T00:00:00.000000000",
          "2024-10-31T00:00:00.000000000",
          "2024-11-30T00:00:00.000000000",
          "2024-12-31T00:00:00.000000000",
          "2025-01-31T00:00:00.000000000",
          "2025-02-28T00:00:00.000000000",
          "2025-03-31T00:00:00.000000000",
          "2025-04-30T00:00:00.000000000",
          "2025-05-31T00:00:00.000000000",
          "2025-06-30T00:00:00.000000000",
          "2025-07-31T00:00:00.000000000",
          "2025-08-31T00:00:00.000000000",
          "2025-09-30T00:00:00.000000000",
          "2025-10-31T00:00:00.000000000",
          "2025-11-30T00:00:00.000000000",
          "2025-12-31T00:00:00.000000000",
          "2026-01-31T00:00:00.000000000",
          "2026-02-28T00:00:00.000000000",
          "2026-03-31T00:00:00.000000000",
          "2026-04-30T00:00:00.000000000",
          "2026-05-31T00:00:00.000000000",
          "2026-06-30T00:00:00.000000000",
          "2026-07-31T00:00:00.000000000",
          "2026-08-31T00:00:00.000000000",
          "2026-09-30T00:00:00.000000000",
          "2026-10-31T00:00:00.000000000",
          "2026-11-30T00:00:00.000000000",
          "2026-12-31T00:00:00.000000000",
          "2027-01-31T00:00:00.000000000",
          "2027-02-28T00:00:00.000000000",
          "2027-03-31T00:00:00.000000000",
          "2027-04-30T00:00:00.000000000",
          "2027-05-31T00:00:00.000000000",
          "2027-06-30T00:00:00.000000000",
          "2027-07-31T00:00:00.000000000",
          "2027-08-31T00:00:00.000000000",
          "2027-09-30T00:00:00.000000000",
          "2027-10-31T00:00:00.000000000",
          "2027-11-30T00:00:00.000000000",
          "2027-12-31T00:00:00.000000000",
          "2028-01-31T00:00:00.000000000",
          "2028-02-29T00:00:00.000000000",
          "2028-03-31T00:00:00.000000000",
          "2028-04-30T00:00:00.000000000",
          "2028-05-31T00:00:00.000000000",
          "2028-06-30T00:00:00.000000000",
          "2028-07-31T00:00:00.000000000",
          "2028-08-31T00:00:00.000000000",
          "2028-09-30T00:00:00.000000000",
          "2028-10-31T00:00:00.000000000",
          "2028-11-30T00:00:00.000000000",
          "2028-12-31T00:00:00.000000000",
          "2029-01-31T00:00:00.000000000",
          "2029-02-28T00:00:00.000000000",
          "2029-03-31T00:00:00.000000000",
          "2029-04-30T00:00:00.000000000",
          "2029-05-31T00:00:00.000000000",
          "2029-06-30T00:00:00.000000000",
          "2029-07-31T00:00:00.000000000",
          "2029-08-31T00:00:00.000000000",
          "2029-09-30T00:00:00.000000000",
          "2029-10-31T00:00:00.000000000",
          "2029-11-30T00:00:00.000000000",
          "2029-12-31T00:00:00.000000000",
          "2030-01-31T00:00:00.000000000",
          "2030-02-28T00:00:00.000000000",
          "2030-03-31T00:00:00.000000000",
          "2030-04-30T00:00:00.000000000",
          "2030-05-31T00:00:00.000000000",
          "2030-06-30T00:00:00.000000000",
          "2030-07-31T00:00:00.000000000",
          "2030-08-31T00:00:00.000000000",
          "2030-09-30T00:00:00.000000000",
          "2030-10-31T00:00:00.000000000",
          "2030-11-30T00:00:00.000000000",
          "2030-12-31T00:00:00.000000000",
          "2031-01-31T00:00:00.000000000",
          "2031-02-28T00:00:00.000000000",
          "2031-03-31T00:00:00.000000000",
          "2031-04-30T00:00:00.000000000",
          "2031-05-31T00:00:00.000000000",
          "2031-06-30T00:00:00.000000000",
          "2031-07-31T00:00:00.000000000",
          "2031-08-31T00:00:00.000000000",
          "2031-09-30T00:00:00.000000000",
          "2031-10-31T00:00:00.000000000",
          "2031-11-30T00:00:00.000000000",
          "2031-12-31T00:00:00.000000000",
          "2032-01-31T00:00:00.000000000",
          "2032-02-29T00:00:00.000000000",
          "2032-03-31T00:00:00.000000000",
          "2032-04-30T00:00:00.000000000",
          "2032-05-31T00:00:00.000000000",
          "2032-06-30T00:00:00.000000000",
          "2032-07-31T00:00:00.000000000",
          "2032-08-31T00:00:00.000000000",
          "2032-09-30T00:00:00.000000000",
          "2032-10-31T00:00:00.000000000",
          "2032-11-30T00:00:00.000000000",
          "2032-12-31T00:00:00.000000000",
          "2033-01-31T00:00:00.000000000",
          "2033-02-28T00:00:00.000000000",
          "2033-03-31T00:00:00.000000000",
          "2033-04-30T00:00:00.000000000",
          "2033-05-31T00:00:00.000000000",
          "2033-06-30T00:00:00.000000000",
          "2033-07-31T00:00:00.000000000",
          "2033-08-31T00:00:00.000000000",
          "2033-09-30T00:00:00.000000000",
          "2033-10-31T00:00:00.000000000",
          "2033-11-30T00:00:00.000000000",
          "2033-12-31T00:00:00.000000000",
          "2034-01-31T00:00:00.000000000",
          "2034-02-28T00:00:00.000000000",
          "2034-03-31T00:00:00.000000000",
          "2034-04-30T00:00:00.000000000",
          "2034-05-31T00:00:00.000000000",
          "2034-06-30T00:00:00.000000000",
          "2034-07-31T00:00:00.000000000",
          "2034-08-31T00:00:00.000000000",
          "2034-09-30T00:00:00.000000000",
          "2034-10-31T00:00:00.000000000",
          "2034-11-30T00:00:00.000000000",
          "2034-12-31T00:00:00.000000000",
          "2035-01-31T00:00:00.000000000",
          "2035-02-28T00:00:00.000000000",
          "2035-03-31T00:00:00.000000000",
          "2035-04-30T00:00:00.000000000",
          "2035-05-31T00:00:00.000000000",
          "2035-06-30T00:00:00.000000000",
          "2035-07-31T00:00:00.000000000",
          "2035-08-31T00:00:00.000000000",
          "2035-09-30T00:00:00.000000000",
          "2035-10-31T00:00:00.000000000",
          "2035-11-30T00:00:00.000000000",
          "2035-12-31T00:00:00.000000000",
          "2036-01-31T00:00:00.000000000",
          "2036-02-29T00:00:00.000000000",
          "2036-03-31T00:00:00.000000000",
          "2036-04-30T00:00:00.000000000",
          "2036-05-31T00:00:00.000000000",
          "2036-06-30T00:00:00.000000000",
          "2036-07-31T00:00:00.000000000",
          "2036-08-31T00:00:00.000000000"
         ],
         "xaxis": "x",
         "y": {
          "bdata": "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",
          "dtype": "f8"
         },
         "yaxis": "y"
        },
        {
         "name": "Trend",
         "type": "scatter",
         "x": [
          "2020-01-31T00:00:00.000000000",
          "2020-02-29T00:00:00.000000000",
          "2020-03-31T00:00:00.000000000",
          "2020-04-30T00:00:00.000000000",
          "2020-05-31T00:00:00.000000000",
          "2020-06-30T00:00:00.000000000",
          "2020-07-31T00:00:00.000000000",
          "2020-08-31T00:00:00.000000000",
          "2020-09-30T00:00:00.000000000",
          "2020-10-31T00:00:00.000000000",
          "2020-11-30T00:00:00.000000000",
          "2020-12-31T00:00:00.000000000",
          "2021-01-31T00:00:00.000000000",
          "2021-02-28T00:00:00.000000000",
          "2021-03-31T00:00:00.000000000",
          "2021-04-30T00:00:00.000000000",
          "2021-05-31T00:00:00.000000000",
          "2021-06-30T00:00:00.000000000",
          "2021-07-31T00:00:00.000000000",
          "2021-08-31T00:00:00.000000000",
          "2021-09-30T00:00:00.000000000",
          "2021-10-31T00:00:00.000000000",
          "2021-11-30T00:00:00.000000000",
          "2021-12-31T00:00:00.000000000",
          "2022-01-31T00:00:00.000000000",
          "2022-02-28T00:00:00.000000000",
          "2022-03-31T00:00:00.000000000",
          "2022-04-30T00:00:00.000000000",
          "2022-05-31T00:00:00.000000000",
          "2022-06-30T00:00:00.000000000",
          "2022-07-31T00:00:00.000000000",
          "2022-08-31T00:00:00.000000000",
          "2022-09-30T00:00:00.000000000",
          "2022-10-31T00:00:00.000000000",
          "2022-11-30T00:00:00.000000000",
          "2022-12-31T00:00:00.000000000",
          "2023-01-31T00:00:00.000000000",
          "2023-02-28T00:00:00.000000000",
          "2023-03-31T00:00:00.000000000",
          "2023-04-30T00:00:00.000000000",
          "2023-05-31T00:00:00.000000000",
          "2023-06-30T00:00:00.000000000",
          "2023-07-31T00:00:00.000000000",
          "2023-08-31T00:00:00.000000000",
          "2023-09-30T00:00:00.000000000",
          "2023-10-31T00:00:00.000000000",
          "2023-11-30T00:00:00.000000000",
          "2023-12-31T00:00:00.000000000",
          "2024-01-31T00:00:00.000000000",
          "2024-02-29T00:00:00.000000000",
          "2024-03-31T00:00:00.000000000",
          "2024-04-30T00:00:00.000000000",
          "2024-05-31T00:00:00.000000000",
          "2024-06-30T00:00:00.000000000",
          "2024-07-31T00:00:00.000000000",
          "2024-08-31T00:00:00.000000000",
          "2024-09-30T00:00:00.000000000",
          "2024-10-31T00:00:00.000000000",
          "2024-11-30T00:00:00.000000000",
          "2024-12-31T00:00:00.000000000",
          "2025-01-31T00:00:00.000000000",
          "2025-02-28T00:00:00.000000000",
          "2025-03-31T00:00:00.000000000",
          "2025-04-30T00:00:00.000000000",
          "2025-05-31T00:00:00.000000000",
          "2025-06-30T00:00:00.000000000",
          "2025-07-31T00:00:00.000000000",
          "2025-08-31T00:00:00.000000000",
          "2025-09-30T00:00:00.000000000",
          "2025-10-31T00:00:00.000000000",
          "2025-11-30T00:00:00.000000000",
          "2025-12-31T00:00:00.000000000",
          "2026-01-31T00:00:00.000000000",
          "2026-02-28T00:00:00.000000000",
          "2026-03-31T00:00:00.000000000",
          "2026-04-30T00:00:00.000000000",
          "2026-05-31T00:00:00.000000000",
          "2026-06-30T00:00:00.000000000",
          "2026-07-31T00:00:00.000000000",
          "2026-08-31T00:00:00.000000000",
          "2026-09-30T00:00:00.000000000",
          "2026-10-31T00:00:00.000000000",
          "2026-11-30T00:00:00.000000000",
          "2026-12-31T00:00:00.000000000",
          "2027-01-31T00:00:00.000000000",
          "2027-02-28T00:00:00.000000000",
          "2027-03-31T00:00:00.000000000",
          "2027-04-30T00:00:00.000000000",
          "2027-05-31T00:00:00.000000000",
          "2027-06-30T00:00:00.000000000",
          "2027-07-31T00:00:00.000000000",
          "2027-08-31T00:00:00.000000000",
          "2027-09-30T00:00:00.000000000",
          "2027-10-31T00:00:00.000000000",
          "2027-11-30T00:00:00.000000000",
          "2027-12-31T00:00:00.000000000",
          "2028-01-31T00:00:00.000000000",
          "2028-02-29T00:00:00.000000000",
          "2028-03-31T00:00:00.000000000",
          "2028-04-30T00:00:00.000000000",
          "2028-05-31T00:00:00.000000000",
          "2028-06-30T00:00:00.000000000",
          "2028-07-31T00:00:00.000000000",
          "2028-08-31T00:00:00.000000000",
          "2028-09-30T00:00:00.000000000",
          "2028-10-31T00:00:00.000000000",
          "2028-11-30T00:00:00.000000000",
          "2028-12-31T00:00:00.000000000",
          "2029-01-31T00:00:00.000000000",
          "2029-02-28T00:00:00.000000000",
          "2029-03-31T00:00:00.000000000",
          "2029-04-30T00:00:00.000000000",
          "2029-05-31T00:00:00.000000000",
          "2029-06-30T00:00:00.000000000",
          "2029-07-31T00:00:00.000000000",
          "2029-08-31T00:00:00.000000000",
          "2029-09-30T00:00:00.000000000",
          "2029-10-31T00:00:00.000000000",
          "2029-11-30T00:00:00.000000000",
          "2029-12-31T00:00:00.000000000",
          "2030-01-31T00:00:00.000000000",
          "2030-02-28T00:00:00.000000000",
          "2030-03-31T00:00:00.000000000",
          "2030-04-30T00:00:00.000000000",
          "2030-05-31T00:00:00.000000000",
          "2030-06-30T00:00:00.000000000",
          "2030-07-31T00:00:00.000000000",
          "2030-08-31T00:00:00.000000000",
          "2030-09-30T00:00:00.000000000",
          "2030-10-31T00:00:00.000000000",
          "2030-11-30T00:00:00.000000000",
          "2030-12-31T00:00:00.000000000",
          "2031-01-31T00:00:00.000000000",
          "2031-02-28T00:00:00.000000000",
          "2031-03-31T00:00:00.000000000",
          "2031-04-30T00:00:00.000000000",
          "2031-05-31T00:00:00.000000000",
          "2031-06-30T00:00:00.000000000",
          "2031-07-31T00:00:00.000000000",
          "2031-08-31T00:00:00.000000000",
          "2031-09-30T00:00:00.000000000",
          "2031-10-31T00:00:00.000000000",
          "2031-11-30T00:00:00.000000000",
          "2031-12-31T00:00:00.000000000",
          "2032-01-31T00:00:00.000000000",
          "2032-02-29T00:00:00.000000000",
          "2032-03-31T00:00:00.000000000",
          "2032-04-30T00:00:00.000000000",
          "2032-05-31T00:00:00.000000000",
          "2032-06-30T00:00:00.000000000",
          "2032-07-31T00:00:00.000000000",
          "2032-08-31T00:00:00.000000000",
          "2032-09-30T00:00:00.000000000",
          "2032-10-31T00:00:00.000000000",
          "2032-11-30T00:00:00.000000000",
          "2032-12-31T00:00:00.000000000",
          "2033-01-31T00:00:00.000000000",
          "2033-02-28T00:00:00.000000000",
          "2033-03-31T00:00:00.000000000",
          "2033-04-30T00:00:00.000000000",
          "2033-05-31T00:00:00.000000000",
          "2033-06-30T00:00:00.000000000",
          "2033-07-31T00:00:00.000000000",
          "2033-08-31T00:00:00.000000000",
          "2033-09-30T00:00:00.000000000",
          "2033-10-31T00:00:00.000000000",
          "2033-11-30T00:00:00.000000000",
          "2033-12-31T00:00:00.000000000",
          "2034-01-31T00:00:00.000000000",
          "2034-02-28T00:00:00.000000000",
          "2034-03-31T00:00:00.000000000",
          "2034-04-30T00:00:00.000000000",
          "2034-05-31T00:00:00.000000000",
          "2034-06-30T00:00:00.000000000",
          "2034-07-31T00:00:00.000000000",
          "2034-08-31T00:00:00.000000000",
          "2034-09-30T00:00:00.000000000",
          "2034-10-31T00:00:00.000000000",
          "2034-11-30T00:00:00.000000000",
          "2034-12-31T00:00:00.000000000",
          "2035-01-31T00:00:00.000000000",
          "2035-02-28T00:00:00.000000000",
          "2035-03-31T00:00:00.000000000",
          "2035-04-30T00:00:00.000000000",
          "2035-05-31T00:00:00.000000000",
          "2035-06-30T00:00:00.000000000",
          "2035-07-31T00:00:00.000000000",
          "2035-08-31T00:00:00.000000000",
          "2035-09-30T00:00:00.000000000",
          "2035-10-31T00:00:00.000000000",
          "2035-11-30T00:00:00.000000000",
          "2035-12-31T00:00:00.000000000",
          "2036-01-31T00:00:00.000000000",
          "2036-02-29T00:00:00.000000000",
          "2036-03-31T00:00:00.000000000",
          "2036-04-30T00:00:00.000000000",
          "2036-05-31T00:00:00.000000000",
          "2036-06-30T00:00:00.000000000",
          "2036-07-31T00:00:00.000000000",
          "2036-08-31T00:00:00.000000000"
         ],
         "xaxis": "x2",
         "y": {
          "bdata": "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",
          "dtype": "f8"
         },
         "yaxis": "y2"
        },
        {
         "name": "Seasonality",
         "type": "scatter",
         "x": [
          "2020-01-31T00:00:00.000000000",
          "2020-02-29T00:00:00.000000000",
          "2020-03-31T00:00:00.000000000",
          "2020-04-30T00:00:00.000000000",
          "2020-05-31T00:00:00.000000000",
          "2020-06-30T00:00:00.000000000",
          "2020-07-31T00:00:00.000000000",
          "2020-08-31T00:00:00.000000000",
          "2020-09-30T00:00:00.000000000",
          "2020-10-31T00:00:00.000000000",
          "2020-11-30T00:00:00.000000000",
          "2020-12-31T00:00:00.000000000",
          "2021-01-31T00:00:00.000000000",
          "2021-02-28T00:00:00.000000000",
          "2021-03-31T00:00:00.000000000",
          "2021-04-30T00:00:00.000000000",
          "2021-05-31T00:00:00.000000000",
          "2021-06-30T00:00:00.000000000",
          "2021-07-31T00:00:00.000000000",
          "2021-08-31T00:00:00.000000000",
          "2021-09-30T00:00:00.000000000",
          "2021-10-31T00:00:00.000000000",
          "2021-11-30T00:00:00.000000000",
          "2021-12-31T00:00:00.000000000",
          "2022-01-31T00:00:00.000000000",
          "2022-02-28T00:00:00.000000000",
          "2022-03-31T00:00:00.000000000",
          "2022-04-30T00:00:00.000000000",
          "2022-05-31T00:00:00.000000000",
          "2022-06-30T00:00:00.000000000",
          "2022-07-31T00:00:00.000000000",
          "2022-08-31T00:00:00.000000000",
          "2022-09-30T00:00:00.000000000",
          "2022-10-31T00:00:00.000000000",
          "2022-11-30T00:00:00.000000000",
          "2022-12-31T00:00:00.000000000",
          "2023-01-31T00:00:00.000000000",
          "2023-02-28T00:00:00.000000000",
          "2023-03-31T00:00:00.000000000",
          "2023-04-30T00:00:00.000000000",
          "2023-05-31T00:00:00.000000000",
          "2023-06-30T00:00:00.000000000",
          "2023-07-31T00:00:00.000000000",
          "2023-08-31T00:00:00.000000000",
          "2023-09-30T00:00:00.000000000",
          "2023-10-31T00:00:00.000000000",
          "2023-11-30T00:00:00.000000000",
          "2023-12-31T00:00:00.000000000",
          "2024-01-31T00:00:00.000000000",
          "2024-02-29T00:00:00.000000000",
          "2024-03-31T00:00:00.000000000",
          "2024-04-30T00:00:00.000000000",
          "2024-05-31T00:00:00.000000000",
          "2024-06-30T00:00:00.000000000",
          "2024-07-31T00:00:00.000000000",
          "2024-08-31T00:00:00.000000000",
          "2024-09-30T00:00:00.000000000",
          "2024-10-31T00:00:00.000000000",
          "2024-11-30T00:00:00.000000000",
          "2024-12-31T00:00:00.000000000",
          "2025-01-31T00:00:00.000000000",
          "2025-02-28T00:00:00.000000000",
          "2025-03-31T00:00:00.000000000",
          "2025-04-30T00:00:00.000000000",
          "2025-05-31T00:00:00.000000000",
          "2025-06-30T00:00:00.000000000",
          "2025-07-31T00:00:00.000000000",
          "2025-08-31T00:00:00.000000000",
          "2025-09-30T00:00:00.000000000",
          "2025-10-31T00:00:00.000000000",
          "2025-11-30T00:00:00.000000000",
          "2025-12-31T00:00:00.000000000",
          "2026-01-31T00:00:00.000000000",
          "2026-02-28T00:00:00.000000000",
          "2026-03-31T00:00:00.000000000",
          "2026-04-30T00:00:00.000000000",
          "2026-05-31T00:00:00.000000000",
          "2026-06-30T00:00:00.000000000",
          "2026-07-31T00:00:00.000000000",
          "2026-08-31T00:00:00.000000000",
          "2026-09-30T00:00:00.000000000",
          "2026-10-31T00:00:00.000000000",
          "2026-11-30T00:00:00.000000000",
          "2026-12-31T00:00:00.000000000",
          "2027-01-31T00:00:00.000000000",
          "2027-02-28T00:00:00.000000000",
          "2027-03-31T00:00:00.000000000",
          "2027-04-30T00:00:00.000000000",
          "2027-05-31T00:00:00.000000000",
          "2027-06-30T00:00:00.000000000",
          "2027-07-31T00:00:00.000000000",
          "2027-08-31T00:00:00.000000000",
          "2027-09-30T00:00:00.000000000",
          "2027-10-31T00:00:00.000000000",
          "2027-11-30T00:00:00.000000000",
          "2027-12-31T00:00:00.000000000",
          "2028-01-31T00:00:00.000000000",
          "2028-02-29T00:00:00.000000000",
          "2028-03-31T00:00:00.000000000",
          "2028-04-30T00:00:00.000000000",
          "2028-05-31T00:00:00.000000000",
          "2028-06-30T00:00:00.000000000",
          "2028-07-31T00:00:00.000000000",
          "2028-08-31T00:00:00.000000000",
          "2028-09-30T00:00:00.000000000",
          "2028-10-31T00:00:00.000000000",
          "2028-11-30T00:00:00.000000000",
          "2028-12-31T00:00:00.000000000",
          "2029-01-31T00:00:00.000000000",
          "2029-02-28T00:00:00.000000000",
          "2029-03-31T00:00:00.000000000",
          "2029-04-30T00:00:00.000000000",
          "2029-05-31T00:00:00.000000000",
          "2029-06-30T00:00:00.000000000",
          "2029-07-31T00:00:00.000000000",
          "2029-08-31T00:00:00.000000000",
          "2029-09-30T00:00:00.000000000",
          "2029-10-31T00:00:00.000000000",
          "2029-11-30T00:00:00.000000000",
          "2029-12-31T00:00:00.000000000",
          "2030-01-31T00:00:00.000000000",
          "2030-02-28T00:00:00.000000000",
          "2030-03-31T00:00:00.000000000",
          "2030-04-30T00:00:00.000000000",
          "2030-05-31T00:00:00.000000000",
          "2030-06-30T00:00:00.000000000",
          "2030-07-31T00:00:00.000000000",
          "2030-08-31T00:00:00.000000000",
          "2030-09-30T00:00:00.000000000",
          "2030-10-31T00:00:00.000000000",
          "2030-11-30T00:00:00.000000000",
          "2030-12-31T00:00:00.000000000",
          "2031-01-31T00:00:00.000000000",
          "2031-02-28T00:00:00.000000000",
          "2031-03-31T00:00:00.000000000",
          "2031-04-30T00:00:00.000000000",
          "2031-05-31T00:00:00.000000000",
          "2031-06-30T00:00:00.000000000",
          "2031-07-31T00:00:00.000000000",
          "2031-08-31T00:00:00.000000000",
          "2031-09-30T00:00:00.000000000",
          "2031-10-31T00:00:00.000000000",
          "2031-11-30T00:00:00.000000000",
          "2031-12-31T00:00:00.000000000",
          "2032-01-31T00:00:00.000000000",
          "2032-02-29T00:00:00.000000000",
          "2032-03-31T00:00:00.000000000",
          "2032-04-30T00:00:00.000000000",
          "2032-05-31T00:00:00.000000000",
          "2032-06-30T00:00:00.000000000",
          "2032-07-31T00:00:00.000000000",
          "2032-08-31T00:00:00.000000000",
          "2032-09-30T00:00:00.000000000",
          "2032-10-31T00:00:00.000000000",
          "2032-11-30T00:00:00.000000000",
          "2032-12-31T00:00:00.000000000",
          "2033-01-31T00:00:00.000000000",
          "2033-02-28T00:00:00.000000000",
          "2033-03-31T00:00:00.000000000",
          "2033-04-30T00:00:00.000000000",
          "2033-05-31T00:00:00.000000000",
          "2033-06-30T00:00:00.000000000",
          "2033-07-31T00:00:00.000000000",
          "2033-08-31T00:00:00.000000000",
          "2033-09-30T00:00:00.000000000",
          "2033-10-31T00:00:00.000000000",
          "2033-11-30T00:00:00.000000000",
          "2033-12-31T00:00:00.000000000",
          "2034-01-31T00:00:00.000000000",
          "2034-02-28T00:00:00.000000000",
          "2034-03-31T00:00:00.000000000",
          "2034-04-30T00:00:00.000000000",
          "2034-05-31T00:00:00.000000000",
          "2034-06-30T00:00:00.000000000",
          "2034-07-31T00:00:00.000000000",
          "2034-08-31T00:00:00.000000000",
          "2034-09-30T00:00:00.000000000",
          "2034-10-31T00:00:00.000000000",
          "2034-11-30T00:00:00.000000000",
          "2034-12-31T00:00:00.000000000",
          "2035-01-31T00:00:00.000000000",
          "2035-02-28T00:00:00.000000000",
          "2035-03-31T00:00:00.000000000",
          "2035-04-30T00:00:00.000000000",
          "2035-05-31T00:00:00.000000000",
          "2035-06-30T00:00:00.000000000",
          "2035-07-31T00:00:00.000000000",
          "2035-08-31T00:00:00.000000000",
          "2035-09-30T00:00:00.000000000",
          "2035-10-31T00:00:00.000000000",
          "2035-11-30T00:00:00.000000000",
          "2035-12-31T00:00:00.000000000",
          "2036-01-31T00:00:00.000000000",
          "2036-02-29T00:00:00.000000000",
          "2036-03-31T00:00:00.000000000",
          "2036-04-30T00:00:00.000000000",
          "2036-05-31T00:00:00.000000000",
          "2036-06-30T00:00:00.000000000",
          "2036-07-31T00:00:00.000000000",
          "2036-08-31T00:00:00.000000000"
         ],
         "xaxis": "x3",
         "y": {
          "bdata": "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",
          "dtype": "f8"
         },
         "yaxis": "y3"
        },
        {
         "name": "Residual",
         "type": "scatter",
         "x": [
          "2020-01-31T00:00:00.000000000",
          "2020-02-29T00:00:00.000000000",
          "2020-03-31T00:00:00.000000000",
          "2020-04-30T00:00:00.000000000",
          "2020-05-31T00:00:00.000000000",
          "2020-06-30T00:00:00.000000000",
          "2020-07-31T00:00:00.000000000",
          "2020-08-31T00:00:00.000000000",
          "2020-09-30T00:00:00.000000000",
          "2020-10-31T00:00:00.000000000",
          "2020-11-30T00:00:00.000000000",
          "2020-12-31T00:00:00.000000000",
          "2021-01-31T00:00:00.000000000",
          "2021-02-28T00:00:00.000000000",
          "2021-03-31T00:00:00.000000000",
          "2021-04-30T00:00:00.000000000",
          "2021-05-31T00:00:00.000000000",
          "2021-06-30T00:00:00.000000000",
          "2021-07-31T00:00:00.000000000",
          "2021-08-31T00:00:00.000000000",
          "2021-09-30T00:00:00.000000000",
          "2021-10-31T00:00:00.000000000",
          "2021-11-30T00:00:00.000000000",
          "2021-12-31T00:00:00.000000000",
          "2022-01-31T00:00:00.000000000",
          "2022-02-28T00:00:00.000000000",
          "2022-03-31T00:00:00.000000000",
          "2022-04-30T00:00:00.000000000",
          "2022-05-31T00:00:00.000000000",
          "2022-06-30T00:00:00.000000000",
          "2022-07-31T00:00:00.000000000",
          "2022-08-31T00:00:00.000000000",
          "2022-09-30T00:00:00.000000000",
          "2022-10-31T00:00:00.000000000",
          "2022-11-30T00:00:00.000000000",
          "2022-12-31T00:00:00.000000000",
          "2023-01-31T00:00:00.000000000",
          "2023-02-28T00:00:00.000000000",
          "2023-03-31T00:00:00.000000000",
          "2023-04-30T00:00:00.000000000",
          "2023-05-31T00:00:00.000000000",
          "2023-06-30T00:00:00.000000000",
          "2023-07-31T00:00:00.000000000",
          "2023-08-31T00:00:00.000000000",
          "2023-09-30T00:00:00.000000000",
          "2023-10-31T00:00:00.000000000",
          "2023-11-30T00:00:00.000000000",
          "2023-12-31T00:00:00.000000000",
          "2024-01-31T00:00:00.000000000",
          "2024-02-29T00:00:00.000000000",
          "2024-03-31T00:00:00.000000000",
          "2024-04-30T00:00:00.000000000",
          "2024-05-31T00:00:00.000000000",
          "2024-06-30T00:00:00.000000000",
          "2024-07-31T00:00:00.000000000",
          "2024-08-31T00:00:00.000000000",
          "2024-09-30T00:00:00.000000000",
          "2024-10-31T00:00:00.000000000",
          "2024-11-30T00:00:00.000000000",
          "2024-12-31T00:00:00.000000000",
          "2025-01-31T00:00:00.000000000",
          "2025-02-28T00:00:00.000000000",
          "2025-03-31T00:00:00.000000000",
          "2025-04-30T00:00:00.000000000",
          "2025-05-31T00:00:00.000000000",
          "2025-06-30T00:00:00.000000000",
          "2025-07-31T00:00:00.000000000",
          "2025-08-31T00:00:00.000000000",
          "2025-09-30T00:00:00.000000000",
          "2025-10-31T00:00:00.000000000",
          "2025-11-30T00:00:00.000000000",
          "2025-12-31T00:00:00.000000000",
          "2026-01-31T00:00:00.000000000",
          "2026-02-28T00:00:00.000000000",
          "2026-03-31T00:00:00.000000000",
          "2026-04-30T00:00:00.000000000",
          "2026-05-31T00:00:00.000000000",
          "2026-06-30T00:00:00.000000000",
          "2026-07-31T00:00:00.000000000",
          "2026-08-31T00:00:00.000000000",
          "2026-09-30T00:00:00.000000000",
          "2026-10-31T00:00:00.000000000",
          "2026-11-30T00:00:00.000000000",
          "2026-12-31T00:00:00.000000000",
          "2027-01-31T00:00:00.000000000",
          "2027-02-28T00:00:00.000000000",
          "2027-03-31T00:00:00.000000000",
          "2027-04-30T00:00:00.000000000",
          "2027-05-31T00:00:00.000000000",
          "2027-06-30T00:00:00.000000000",
          "2027-07-31T00:00:00.000000000",
          "2027-08-31T00:00:00.000000000",
          "2027-09-30T00:00:00.000000000",
          "2027-10-31T00:00:00.000000000",
          "2027-11-30T00:00:00.000000000",
          "2027-12-31T00:00:00.000000000",
          "2028-01-31T00:00:00.000000000",
          "2028-02-29T00:00:00.000000000",
          "2028-03-31T00:00:00.000000000",
          "2028-04-30T00:00:00.000000000",
          "2028-05-31T00:00:00.000000000",
          "2028-06-30T00:00:00.000000000",
          "2028-07-31T00:00:00.000000000",
          "2028-08-31T00:00:00.000000000",
          "2028-09-30T00:00:00.000000000",
          "2028-10-31T00:00:00.000000000",
          "2028-11-30T00:00:00.000000000",
          "2028-12-31T00:00:00.000000000",
          "2029-01-31T00:00:00.000000000",
          "2029-02-28T00:00:00.000000000",
          "2029-03-31T00:00:00.000000000",
          "2029-04-30T00:00:00.000000000",
          "2029-05-31T00:00:00.000000000",
          "2029-06-30T00:00:00.000000000",
          "2029-07-31T00:00:00.000000000",
          "2029-08-31T00:00:00.000000000",
          "2029-09-30T00:00:00.000000000",
          "2029-10-31T00:00:00.000000000",
          "2029-11-30T00:00:00.000000000",
          "2029-12-31T00:00:00.000000000",
          "2030-01-31T00:00:00.000000000",
          "2030-02-28T00:00:00.000000000",
          "2030-03-31T00:00:00.000000000",
          "2030-04-30T00:00:00.000000000",
          "2030-05-31T00:00:00.000000000",
          "2030-06-30T00:00:00.000000000",
          "2030-07-31T00:00:00.000000000",
          "2030-08-31T00:00:00.000000000",
          "2030-09-30T00:00:00.000000000",
          "2030-10-31T00:00:00.000000000",
          "2030-11-30T00:00:00.000000000",
          "2030-12-31T00:00:00.000000000",
          "2031-01-31T00:00:00.000000000",
          "2031-02-28T00:00:00.000000000",
          "2031-03-31T00:00:00.000000000",
          "2031-04-30T00:00:00.000000000",
          "2031-05-31T00:00:00.000000000",
          "2031-06-30T00:00:00.000000000",
          "2031-07-31T00:00:00.000000000",
          "2031-08-31T00:00:00.000000000",
          "2031-09-30T00:00:00.000000000",
          "2031-10-31T00:00:00.000000000",
          "2031-11-30T00:00:00.000000000",
          "2031-12-31T00:00:00.000000000",
          "2032-01-31T00:00:00.000000000",
          "2032-02-29T00:00:00.000000000",
          "2032-03-31T00:00:00.000000000",
          "2032-04-30T00:00:00.000000000",
          "2032-05-31T00:00:00.000000000",
          "2032-06-30T00:00:00.000000000",
          "2032-07-31T00:00:00.000000000",
          "2032-08-31T00:00:00.000000000",
          "2032-09-30T00:00:00.000000000",
          "2032-10-31T00:00:00.000000000",
          "2032-11-30T00:00:00.000000000",
          "2032-12-31T00:00:00.000000000",
          "2033-01-31T00:00:00.000000000",
          "2033-02-28T00:00:00.000000000",
          "2033-03-31T00:00:00.000000000",
          "2033-04-30T00:00:00.000000000",
          "2033-05-31T00:00:00.000000000",
          "2033-06-30T00:00:00.000000000",
          "2033-07-31T00:00:00.000000000",
          "2033-08-31T00:00:00.000000000",
          "2033-09-30T00:00:00.000000000",
          "2033-10-31T00:00:00.000000000",
          "2033-11-30T00:00:00.000000000",
          "2033-12-31T00:00:00.000000000",
          "2034-01-31T00:00:00.000000000",
          "2034-02-28T00:00:00.000000000",
          "2034-03-31T00:00:00.000000000",
          "2034-04-30T00:00:00.000000000",
          "2034-05-31T00:00:00.000000000",
          "2034-06-30T00:00:00.000000000",
          "2034-07-31T00:00:00.000000000",
          "2034-08-31T00:00:00.000000000",
          "2034-09-30T00:00:00.000000000",
          "2034-10-31T00:00:00.000000000",
          "2034-11-30T00:00:00.000000000",
          "2034-12-31T00:00:00.000000000",
          "2035-01-31T00:00:00.000000000",
          "2035-02-28T00:00:00.000000000",
          "2035-03-31T00:00:00.000000000",
          "2035-04-30T00:00:00.000000000",
          "2035-05-31T00:00:00.000000000",
          "2035-06-30T00:00:00.000000000",
          "2035-07-31T00:00:00.000000000",
          "2035-08-31T00:00:00.000000000",
          "2035-09-30T00:00:00.000000000",
          "2035-10-31T00:00:00.000000000",
          "2035-11-30T00:00:00.000000000",
          "2035-12-31T00:00:00.000000000",
          "2036-01-31T00:00:00.000000000",
          "2036-02-29T00:00:00.000000000",
          "2036-03-31T00:00:00.000000000",
          "2036-04-30T00:00:00.000000000",
          "2036-05-31T00:00:00.000000000",
          "2036-06-30T00:00:00.000000000",
          "2036-07-31T00:00:00.000000000",
          "2036-08-31T00:00:00.000000000"
         ],
         "xaxis": "x4",
         "y": {
          "bdata": "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",
          "dtype": "f8"
         },
         "yaxis": "y4"
        }
       ],
       "layout": {
        "annotations": [
         {
          "font": {
           "size": 16
          },
          "showarrow": false,
          "text": "Original",
          "x": 0.5,
          "xanchor": "center",
          "xref": "paper",
          "y": 1,
          "yanchor": "bottom",
          "yref": "paper"
         },
         {
          "font": {
           "size": 16
          },
          "showarrow": false,
          "text": "Trend",
          "x": 0.5,
          "xanchor": "center",
          "xref": "paper",
          "y": 0.71875,
          "yanchor": "bottom",
          "yref": "paper"
         },
         {
          "font": {
           "size": 16
          },
          "showarrow": false,
          "text": "Seasonality",
          "x": 0.5,
          "xanchor": "center",
          "xref": "paper",
          "y": 0.4375,
          "yanchor": "bottom",
          "yref": "paper"
         },
         {
          "font": {
           "size": 16
          },
          "showarrow": false,
          "text": "Residual",
          "x": 0.5,
          "xanchor": "center",
          "xref": "paper",
          "y": 0.15625,
          "yanchor": "bottom",
          "yref": "paper"
         }
        ],
        "height": 800,
        "showlegend": false,
        "template": {
         "data": {
          "bar": [
           {
            "error_x": {
             "color": "#2a3f5f"
            },
            "error_y": {
             "color": "#2a3f5f"
            },
            "marker": {
             "line": {
              "color": "white",
              "width": 0.5
             },
             "pattern": {
              "fillmode": "overlay",
              "size": 10,
              "solidity": 0.2
             }
            },
            "type": "bar"
           }
          ],
          "barpolar": [
           {
            "marker": {
             "line": {
              "color": "white",
              "width": 0.5
             },
             "pattern": {
              "fillmode": "overlay",
              "size": 10,
              "solidity": 0.2
             }
            },
            "type": "barpolar"
           }
          ],
          "carpet": [
           {
            "aaxis": {
             "endlinecolor": "#2a3f5f",
             "gridcolor": "#C8D4E3",
             "linecolor": "#C8D4E3",
             "minorgridcolor": "#C8D4E3",
             "startlinecolor": "#2a3f5f"
            },
            "baxis": {
             "endlinecolor": "#2a3f5f",
             "gridcolor": "#C8D4E3",
             "linecolor": "#C8D4E3",
             "minorgridcolor": "#C8D4E3",
             "startlinecolor": "#2a3f5f"
            },
            "type": "carpet"
           }
          ],
          "choropleth": [
           {
            "colorbar": {
             "outlinewidth": 0,
             "ticks": ""
            },
            "type": "choropleth"
           }
          ],
          "contour": [
           {
            "colorbar": {
             "outlinewidth": 0,
             "ticks": ""
            },
            "colorscale": [
             [
              0,
              "#0d0887"
             ],
             [
              0.1111111111111111,
              "#46039f"
             ],
             [
              0.2222222222222222,
              "#7201a8"
             ],
             [
              0.3333333333333333,
              "#9c179e"
             ],
             [
              0.4444444444444444,
              "#bd3786"
             ],
             [
              0.5555555555555556,
              "#d8576b"
             ],
             [
              0.6666666666666666,
              "#ed7953"
             ],
             [
              0.7777777777777778,
              "#fb9f3a"
             ],
             [
              0.8888888888888888,
              "#fdca26"
             ],
             [
              1,
              "#f0f921"
             ]
            ],
            "type": "contour"
           }
          ],
          "contourcarpet": [
           {
            "colorbar": {
             "outlinewidth": 0,
             "ticks": ""
            },
            "type": "contourcarpet"
           }
          ],
          "heatmap": [
           {
            "colorbar": {
             "outlinewidth": 0,
             "ticks": ""
            },
            "colorscale": [
             [
              0,
              "#0d0887"
             ],
             [
              0.1111111111111111,
              "#46039f"
             ],
             [
              0.2222222222222222,
              "#7201a8"
             ],
             [
              0.3333333333333333,
              "#9c179e"
             ],
             [
              0.4444444444444444,
              "#bd3786"
             ],
             [
              0.5555555555555556,
              "#d8576b"
             ],
             [
              0.6666666666666666,
              "#ed7953"
             ],
             [
              0.7777777777777778,
              "#fb9f3a"
             ],
             [
              0.8888888888888888,
              "#fdca26"
             ],
             [
              1,
              "#f0f921"
             ]
            ],
            "type": "heatmap"
           }
          ],
          "histogram": [
           {
            "marker": {
             "pattern": {
              "fillmode": "overlay",
              "size": 10,
              "solidity": 0.2
             }
            },
            "type": "histogram"
           }
          ],
          "histogram2d": [
           {
            "colorbar": {
             "outlinewidth": 0,
             "ticks": ""
            },
            "colorscale": [
             [
              0,
              "#0d0887"
             ],
             [
              0.1111111111111111,
              "#46039f"
             ],
             [
              0.2222222222222222,
              "#7201a8"
             ],
             [
              0.3333333333333333,
              "#9c179e"
             ],
             [
              0.4444444444444444,
              "#bd3786"
             ],
             [
              0.5555555555555556,
              "#d8576b"
             ],
             [
              0.6666666666666666,
              "#ed7953"
             ],
             [
              0.7777777777777778,
              "#fb9f3a"
             ],
             [
              0.8888888888888888,
              "#fdca26"
             ],
             [
              1,
              "#f0f921"
             ]
            ],
            "type": "histogram2d"
           }
          ],
          "histogram2dcontour": [
           {
            "colorbar": {
             "outlinewidth": 0,
             "ticks": ""
            },
            "colorscale": [
             [
              0,
              "#0d0887"
             ],
             [
              0.1111111111111111,
              "#46039f"
             ],
             [
              0.2222222222222222,
              "#7201a8"
             ],
             [
              0.3333333333333333,
              "#9c179e"
             ],
             [
              0.4444444444444444,
              "#bd3786"
             ],
             [
              0.5555555555555556,
              "#d8576b"
             ],
             [
              0.6666666666666666,
              "#ed7953"
             ],
             [
              0.7777777777777778,
              "#fb9f3a"
             ],
             [
              0.8888888888888888,
              "#fdca26"
             ],
             [
              1,
              "#f0f921"
             ]
            ],
            "type": "histogram2dcontour"
           }
          ],
          "mesh3d": [
           {
            "colorbar": {
             "outlinewidth": 0,
             "ticks": ""
            },
            "type": "mesh3d"
           }
          ],
          "parcoords": [
           {
            "line": {
             "colorbar": {
              "outlinewidth": 0,
              "ticks": ""
             }
            },
            "type": "parcoords"
           }
          ],
          "pie": [
           {
            "automargin": true,
            "type": "pie"
           }
          ],
          "scatter": [
           {
            "fillpattern": {
             "fillmode": "overlay",
             "size": 10,
             "solidity": 0.2
            },
            "type": "scatter"
           }
          ],
          "scatter3d": [
           {
            "line": {
             "colorbar": {
              "outlinewidth": 0,
              "ticks": ""
             }
            },
            "marker": {
             "colorbar": {
              "outlinewidth": 0,
              "ticks": ""
             }
            },
            "type": "scatter3d"
           }
          ],
          "scattercarpet": [
           {
            "marker": {
             "colorbar": {
              "outlinewidth": 0,
              "ticks": ""
             }
            },
            "type": "scattercarpet"
           }
          ],
          "scattergeo": [
           {
            "marker": {
             "colorbar": {
              "outlinewidth": 0,
              "ticks": ""
             }
            },
            "type": "scattergeo"
           }
          ],
          "scattergl": [
           {
            "marker": {
             "colorbar": {
              "outlinewidth": 0,
              "ticks": ""
             }
            },
            "type": "scattergl"
           }
          ],
          "scattermap": [
           {
            "marker": {
             "colorbar": {
              "outlinewidth": 0,
              "ticks": ""
             }
            },
            "type": "scattermap"
           }
          ],
          "scattermapbox": [
           {
            "marker": {
             "colorbar": {
              "outlinewidth": 0,
              "ticks": ""
             }
            },
            "type": "scattermapbox"
           }
          ],
          "scatterpolar": [
           {
            "marker": {
             "colorbar": {
              "outlinewidth": 0,
              "ticks": ""
             }
            },
            "type": "scatterpolar"
           }
          ],
          "scatterpolargl": [
           {
            "marker": {
             "colorbar": {
              "outlinewidth": 0,
              "ticks": ""
             }
            },
            "type": "scatterpolargl"
           }
          ],
          "scatterternary": [
           {
            "marker": {
             "colorbar": {
              "outlinewidth": 0,
              "ticks": ""
             }
            },
            "type": "scatterternary"
           }
          ],
          "surface": [
           {
            "colorbar": {
             "outlinewidth": 0,
             "ticks": ""
            },
            "colorscale": [
             [
              0,
              "#0d0887"
             ],
             [
              0.1111111111111111,
              "#46039f"
             ],
             [
              0.2222222222222222,
              "#7201a8"
             ],
             [
              0.3333333333333333,
              "#9c179e"
             ],
             [
              0.4444444444444444,
              "#bd3786"
             ],
             [
              0.5555555555555556,
              "#d8576b"
             ],
             [
              0.6666666666666666,
              "#ed7953"
             ],
             [
              0.7777777777777778,
              "#fb9f3a"
             ],
             [
              0.8888888888888888,
              "#fdca26"
             ],
             [
              1,
              "#f0f921"
             ]
            ],
            "type": "surface"
           }
          ],
          "table": [
           {
            "cells": {
             "fill": {
              "color": "#EBF0F8"
             },
             "line": {
              "color": "white"
             }
            },
            "header": {
             "fill": {
              "color": "#C8D4E3"
             },
             "line": {
              "color": "white"
             }
            },
            "type": "table"
           }
          ]
         },
         "layout": {
          "annotationdefaults": {
           "arrowcolor": "#2a3f5f",
           "arrowhead": 0,
           "arrowwidth": 1
          },
          "autotypenumbers": "strict",
          "coloraxis": {
           "colorbar": {
            "outlinewidth": 0,
            "ticks": ""
           }
          },
          "colorscale": {
           "diverging": [
            [
             0,
             "#8e0152"
            ],
            [
             0.1,
             "#c51b7d"
            ],
            [
             0.2,
             "#de77ae"
            ],
            [
             0.3,
             "#f1b6da"
            ],
            [
             0.4,
             "#fde0ef"
            ],
            [
             0.5,
             "#f7f7f7"
            ],
            [
             0.6,
             "#e6f5d0"
            ],
            [
             0.7,
             "#b8e186"
            ],
            [
             0.8,
             "#7fbc41"
            ],
            [
             0.9,
             "#4d9221"
            ],
            [
             1,
             "#276419"
            ]
           ],
           "sequential": [
            [
             0,
             "#0d0887"
            ],
            [
             0.1111111111111111,
             "#46039f"
            ],
            [
             0.2222222222222222,
             "#7201a8"
            ],
            [
             0.3333333333333333,
             "#9c179e"
            ],
            [
             0.4444444444444444,
             "#bd3786"
            ],
            [
             0.5555555555555556,
             "#d8576b"
            ],
            [
             0.6666666666666666,
             "#ed7953"
            ],
            [
             0.7777777777777778,
             "#fb9f3a"
            ],
            [
             0.8888888888888888,
             "#fdca26"
            ],
            [
             1,
             "#f0f921"
            ]
           ],
           "sequentialminus": [
            [
             0,
             "#0d0887"
            ],
            [
             0.1111111111111111,
             "#46039f"
            ],
            [
             0.2222222222222222,
             "#7201a8"
            ],
            [
             0.3333333333333333,
             "#9c179e"
            ],
            [
             0.4444444444444444,
             "#bd3786"
            ],
            [
             0.5555555555555556,
             "#d8576b"
            ],
            [
             0.6666666666666666,
             "#ed7953"
            ],
            [
             0.7777777777777778,
             "#fb9f3a"
            ],
            [
             0.8888888888888888,
             "#fdca26"
            ],
            [
             1,
             "#f0f921"
            ]
           ]
          },
          "colorway": [
           "#636efa",
           "#EF553B",
           "#00cc96",
           "#ab63fa",
           "#FFA15A",
           "#19d3f3",
           "#FF6692",
           "#B6E880",
           "#FF97FF",
           "#FECB52"
          ],
          "font": {
           "color": "#2a3f5f"
          },
          "geo": {
           "bgcolor": "white",
           "lakecolor": "white",
           "landcolor": "white",
           "showlakes": true,
           "showland": true,
           "subunitcolor": "#C8D4E3"
          },
          "hoverlabel": {
           "align": "left"
          },
          "hovermode": "closest",
          "mapbox": {
           "style": "light"
          },
          "paper_bgcolor": "white",
          "plot_bgcolor": "white",
          "polar": {
           "angularaxis": {
            "gridcolor": "#EBF0F8",
            "linecolor": "#EBF0F8",
            "ticks": ""
           },
           "bgcolor": "white",
           "radialaxis": {
            "gridcolor": "#EBF0F8",
            "linecolor": "#EBF0F8",
            "ticks": ""
           }
          },
          "scene": {
           "xaxis": {
            "backgroundcolor": "white",
            "gridcolor": "#DFE8F3",
            "gridwidth": 2,
            "linecolor": "#EBF0F8",
            "showbackground": true,
            "ticks": "",
            "zerolinecolor": "#EBF0F8"
           },
           "yaxis": {
            "backgroundcolor": "white",
            "gridcolor": "#DFE8F3",
            "gridwidth": 2,
            "linecolor": "#EBF0F8",
            "showbackground": true,
            "ticks": "",
            "zerolinecolor": "#EBF0F8"
           },
           "zaxis": {
            "backgroundcolor": "white",
            "gridcolor": "#DFE8F3",
            "gridwidth": 2,
            "linecolor": "#EBF0F8",
            "showbackground": true,
            "ticks": "",
            "zerolinecolor": "#EBF0F8"
           }
          },
          "shapedefaults": {
           "line": {
            "color": "#2a3f5f"
           }
          },
          "ternary": {
           "aaxis": {
            "gridcolor": "#DFE8F3",
            "linecolor": "#A2B1C6",
            "ticks": ""
           },
           "baxis": {
            "gridcolor": "#DFE8F3",
            "linecolor": "#A2B1C6",
            "ticks": ""
           },
           "bgcolor": "white",
           "caxis": {
            "gridcolor": "#DFE8F3",
            "linecolor": "#A2B1C6",
            "ticks": ""
           }
          },
          "title": {
           "x": 0.05
          },
          "xaxis": {
           "automargin": true,
           "gridcolor": "#EBF0F8",
           "linecolor": "#EBF0F8",
           "ticks": "",
           "title": {
            "standoff": 15
           },
           "zerolinecolor": "#EBF0F8",
           "zerolinewidth": 2
          },
          "yaxis": {
           "automargin": true,
           "gridcolor": "#EBF0F8",
           "linecolor": "#EBF0F8",
           "ticks": "",
           "title": {
            "standoff": 15
           },
           "zerolinecolor": "#EBF0F8",
           "zerolinewidth": 2
          }
         }
        },
        "title": {
         "text": "Seasonal Decomposition (Additive)"
        },
        "xaxis": {
         "anchor": "y",
         "domain": [
          0,
          1
         ],
         "matches": "x4",
         "showticklabels": false
        },
        "xaxis2": {
         "anchor": "y2",
         "domain": [
          0,
          1
         ],
         "matches": "x4",
         "showticklabels": false
        },
        "xaxis3": {
         "anchor": "y3",
         "domain": [
          0,
          1
         ],
         "matches": "x4",
         "showticklabels": false
        },
        "xaxis4": {
         "anchor": "y4",
         "domain": [
          0,
          1
         ],
         "title": {
          "text": "Date"
         }
        },
        "yaxis": {
         "anchor": "x",
         "domain": [
          0.84375,
          1
         ],
         "title": {
          "text": "Value"
         }
        },
        "yaxis2": {
         "anchor": "x2",
         "domain": [
          0.5625,
          0.71875
         ]
        },
        "yaxis3": {
         "anchor": "x3",
         "domain": [
          0.28125,
          0.4375
         ]
        },
        "yaxis4": {
         "anchor": "x4",
         "domain": [
          0,
          0.15625
         ]
        }
       }
      }
     },
     "metadata": {},
     "output_type": "display_data"
    }
   ],
   "source": [
    "# 📐 Seasonality & trend decomposition\n",
    "\n",
    "from statsmodels.tsa.seasonal import seasonal_decompose\n",
    "\n",
    "# Perform additive decomposition (suitable when components are independent)\n",
    "decomp = seasonal_decompose(ts[\"value\"], model=\"additive\", period=12)\n",
    "\n",
    "# Plot using Plotly\n",
    "import plotly.subplots as sp\n",
    "\n",
    "fig = sp.make_subplots(rows=4, cols=1, shared_xaxes=True, subplot_titles=[\"Original\", \"Trend\", \"Seasonality\", \"Residual\"])\n",
    "\n",
    "fig.add_trace(go.Scatter(x=ts[\"date\"], y=decomp.observed, name=\"Original\"), row=1, col=1)\n",
    "fig.add_trace(go.Scatter(x=ts[\"date\"], y=decomp.trend, name=\"Trend\"), row=2, col=1)\n",
    "fig.add_trace(go.Scatter(x=ts[\"date\"], y=decomp.seasonal, name=\"Seasonality\"), row=3, col=1)\n",
    "fig.add_trace(go.Scatter(x=ts[\"date\"], y=decomp.resid, name=\"Residual\"), row=4, col=1)\n",
    "\n",
    "fig.update_layout(\n",
    "    height=800,\n",
    "    title=\"Seasonal Decomposition (Additive)\",\n",
    "    showlegend=False,\n",
    "    template=\"plotly_white\"\n",
    ")\n",
    "\n",
    "fig.update_xaxes(title_text=\"Date\", row=4, col=1)\n",
    "fig.update_yaxes(title_text=\"Value\", row=1, col=1)\n",
    "fig.show()\n"
   ]
  },
  {
   "cell_type": "markdown",
   "id": "2ccc0e1a",
   "metadata": {},
   "source": [
    "<a id=\"autocorrelation--partial-autocorrelation\"></a>\n",
    "#### 📏 Autocorrelation & partial autocorrelation\n"
   ]
  },
  {
   "cell_type": "markdown",
   "id": "3eefa92f",
   "metadata": {},
   "source": [
    "<details>\n",
    "<summary><strong>📖 Click to Expand</strong></summary>\n",
    "\n",
    "##### 📏 Why These Plots?\n",
    "\n",
    "- **ACF (Autocorrelation Function)** shows how a time series is **correlated with its past values** (lags).\n",
    "- **PACF (Partial ACF)** isolates the **direct relationship** between the series and a specific lag.\n",
    "\n",
    "Why use them?\n",
    "- To **identify lag structures** in your data.\n",
    "- To choose parameters for models like **ARIMA** (p, q):\n",
    "  - ACF tailing off = use differencing\n",
    "  - PACF cutting off at lag *k* = potential AR(k) model\n",
    "\n",
    "</details>\n"
   ]
  },
  {
   "cell_type": "code",
   "execution_count": 13,
   "id": "a18f7776",
   "metadata": {},
   "outputs": [
    {
     "data": {
      "image/png": "[encoded data removed]",
      "text/plain": [
       "<Figure size 1200x600 with 2 Axes>"
      ]
     },
     "metadata": {},
     "output_type": "display_data"
    }
   ],
   "source": [
    "# 📏 Autocorrelation & partial autocorrelation\n",
    "\n",
    "from statsmodels.graphics.tsaplots import plot_acf, plot_pacf\n",
    "\n",
    "fig, ax = plt.subplots(2, 1, figsize=(12, 6))\n",
    "\n",
    "plot_acf(ts[\"value\"], ax=ax[0], lags=40)\n",
    "ax[0].set_title(\"Autocorrelation (ACF)\")\n",
    "ax[0].set_xlabel(\"Lag\")\n",
    "ax[0].set_ylabel(\"Correlation\")\n",
    "ax[0].grid(False)\n",
    "\n",
    "plot_pacf(ts[\"value\"], ax=ax[1], lags=40, method='ywm')\n",
    "ax[1].set_title(\"Partial Autocorrelation (PACF)\")\n",
    "ax[1].set_xlabel(\"Lag\")\n",
    "ax[1].set_ylabel(\"Correlation\")\n",
    "ax[1].grid(False)\n",
    "\n",
    "plt.tight_layout()\n",
    "plt.show()\n"
   ]
  },
  {
   "cell_type": "markdown",
   "id": "8dd02365",
   "metadata": {},
   "source": [
    "[Back to the top](#table-of-contents)\n",
    "___\n"
   ]
  },
  {
   "cell_type": "markdown",
   "id": "45a7fd7f",
   "metadata": {},
   "source": [
    "<a id=\"forecasting-baselines\"></a>\n",
    "# 🧪 Forecasting Baselines\n"
   ]
  },
  {
   "cell_type": "markdown",
   "id": "886cd9d1",
   "metadata": {},
   "source": [
    "<details>\n",
    "<summary><strong>📖 Click to Expand</strong></summary>\n",
    "\n",
    "##### 🧪 What Are Forecasting Baselines?\n",
    "\n",
    "Before jumping into complex models like ARIMA or ML, it's smart to try **simple, interpretable methods**. They:\n",
    "- Serve as **reference points** for evaluating more advanced models\n",
    "- Are fast to run and surprisingly competitive for some time series\n",
    "\n",
    "This section covers:\n",
    "- Naive Forecast (last observed value)\n",
    "- Moving Average\n",
    "- Simple Exponential Smoothing (SES)\n",
    "All are univariate and make **point forecasts only** (no uncertainty intervals yet).\n",
    "\n",
    "</details>\n"
   ]
  },
  {
   "cell_type": "markdown",
   "id": "721714f1",
   "metadata": {},
   "source": [
    "<a id=\"naive-forecast\"></a>\n",
    "#### 📉 Naive Forecast\n"
   ]
  },
  {
   "cell_type": "markdown",
   "id": "be50b3d6",
   "metadata": {},
   "source": [
    "<details>\n",
    "<summary><strong>📖 Click to Expand</strong></summary>\n",
    "\n",
    "##### 📉 Naive Forecast\n",
    "\n",
    "This is the **simplest possible model**:\n",
    "- It assumes the **next value is equal to the last known value** from the training set.\n",
    "- Great sanity check: if complex models can’t beat this, they’re overfitting.\n",
    "\n",
    "</details>\n"
   ]
  },
  {
   "cell_type": "code",
   "execution_count": null,
   "id": "8c6e0ff3",
   "metadata": {},
   "outputs": [
    {
     "data": {
      "application/vnd.plotly.v1+json": {
       "config": {
        "plotlyServerURL": "https://plot.ly"
       },
       "data": [
        {
         "hovertemplate": "<extra></extra>",
         "legendgroup": "",
         "line": {
          "color": "#636efa",
          "dash": "solid"
         },
         "marker": {
          "symbol": "circle"
         },
         "mode": "lines",
         "name": "",
         "orientation": "v",
         "showlegend": false,
         "type": "scatter",
         "xaxis": "x",
         "yaxis": "y"
        },
        {
         "name": "Train",
         "type": "scatter",
         "x": [
          "2020-01-31T00:00:00.000000000",
          "2020-02-29T00:00:00.000000000",
          "2020-03-31T00:00:00.000000000",
          "2020-04-30T00:00:00.000000000",
          "2020-05-31T00:00:00.000000000",
          "2020-06-30T00:00:00.000000000",
          "2020-07-31T00:00:00.000000000",
          "2020-08-31T00:00:00.000000000",
          "2020-09-30T00:00:00.000000000",
          "2020-10-31T00:00:00.000000000",
          "2020-11-30T00:00:00.000000000",
          "2020-12-31T00:00:00.000000000",
          "2021-01-31T00:00:00.000000000",
          "2021-02-28T00:00:00.000000000",
          "2021-03-31T00:00:00.000000000",
          "2021-04-30T00:00:00.000000000",
          "2021-05-31T00:00:00.000000000",
          "2021-06-30T00:00:00.000000000",
          "2021-07-31T00:00:00.000000000",
          "2021-08-31T00:00:00.000000000",
          "2021-09-30T00:00:00.000000000",
          "2021-10-31T00:00:00.000000000",
          "2021-11-30T00:00:00.000000000",
          "2021-12-31T00:00:00.000000000",
          "2022-01-31T00:00:00.000000000",
          "2022-02-28T00:00:00.000000000",
          "2022-03-31T00:00:00.000000000",
          "2022-04-30T00:00:00.000000000",
          "2022-05-31T00:00:00.000000000",
          "2022-06-30T00:00:00.000000000",
          "2022-07-31T00:00:00.000000000",
          "2022-08-31T00:00:00.000000000",
          "2022-09-30T00:00:00.000000000",
          "2022-10-31T00:00:00.000000000",
          "2022-11-30T00:00:00.000000000",
          "2022-12-31T00:00:00.000000000",
          "2023-01-31T00:00:00.000000000",
          "2023-02-28T00:00:00.000000000",
          "2023-03-31T00:00:00.000000000",
          "2023-04-30T00:00:00.000000000",
          "2023-05-31T00:00:00.000000000",
          "2023-06-30T00:00:00.000000000",
          "2023-07-31T00:00:00.000000000",
          "2023-08-31T00:00:00.000000000",
          "2023-09-30T00:00:00.000000000",
          "2023-10-31T00:00:00.000000000",
          "2023-11-30T00:00:00.000000000",
          "2023-12-31T00:00:00.000000000",
          "2024-01-31T00:00:00.000000000",
          "2024-02-29T00:00:00.000000000",
          "2024-03-31T00:00:00.000000000",
          "2024-04-30T00:00:00.000000000",
          "2024-05-31T00:00:00.000000000",
          "2024-06-30T00:00:00.000000000",
          "2024-07-31T00:00:00.000000000",
          "2024-08-31T00:00:00.000000000",
          "2024-09-30T00:00:00.000000000",
          "2024-10-31T00:00:00.000000000",
          "2024-11-30T00:00:00.000000000",
          "2024-12-31T00:00:00.000000000",
          "2025-01-31T00:00:00.000000000",
          "2025-02-28T00:00:00.000000000",
          "2025-03-31T00:00:00.000000000",
          "2025-04-30T00:00:00.000000000",
          "2025-05-31T00:00:00.000000000",
          "2025-06-30T00:00:00.000000000",
          "2025-07-31T00:00:00.000000000",
          "2025-08-31T00:00:00.000000000",
          "2025-09-30T00:00:00.000000000",
          "2025-10-31T00:00:00.000000000",
          "2025-11-30T00:00:00.000000000",
          "2025-12-31T00:00:00.000000000",
          "2026-01-31T00:00:00.000000000",
          "2026-02-28T00:00:00.000000000",
          "2026-03-31T00:00:00.000000000",
          "2026-04-30T00:00:00.000000000",
          "2026-05-31T00:00:00.000000000",
          "2026-06-30T00:00:00.000000000",
          "2026-07-31T00:00:00.000000000",
          "2026-08-31T00:00:00.000000000",
          "2026-09-30T00:00:00.000000000",
          "2026-10-31T00:00:00.000000000",
          "2026-11-30T00:00:00.000000000",
          "2026-12-31T00:00:00.000000000",
          "2027-01-31T00:00:00.000000000",
          "2027-02-28T00:00:00.000000000",
          "2027-03-31T00:00:00.000000000",
          "2027-04-30T00:00:00.000000000",
          "2027-05-31T00:00:00.000000000",
          "2027-06-30T00:00:00.000000000",
          "2027-07-31T00:00:00.000000000",
          "2027-08-31T00:00:00.000000000",
          "2027-09-30T00:00:00.000000000",
          "2027-10-31T00:00:00.000000000",
          "2027-11-30T00:00:00.000000000",
          "2027-12-31T00:00:00.000000000",
          "2028-01-31T00:00:00.000000000",
          "2028-02-29T00:00:00.000000000",
          "2028-03-31T00:00:00.000000000",
          "2028-04-30T00:00:00.000000000",
          "2028-05-31T00:00:00.000000000",
          "2028-06-30T00:00:00.000000000",
          "2028-07-31T00:00:00.000000000",
          "2028-08-31T00:00:00.000000000",
          "2028-09-30T00:00:00.000000000",
          "2028-10-31T00:00:00.000000000",
          "2028-11-30T00:00:00.000000000",
          "2028-12-31T00:00:00.000000000",
          "2029-01-31T00:00:00.000000000",
          "2029-02-28T00:00:00.000000000",
          "2029-03-31T00:00:00.000000000",
          "2029-04-30T00:00:00.000000000",
          "2029-05-31T00:00:00.000000000",
          "2029-06-30T00:00:00.000000000",
          "2029-07-31T00:00:00.000000000",
          "2029-08-31T00:00:00.000000000",
          "2029-09-30T00:00:00.000000000",
          "2029-10-31T00:00:00.000000000",
          "2029-11-30T00:00:00.000000000",
          "2029-12-31T00:00:00.000000000",
          "2030-01-31T00:00:00.000000000",
          "2030-02-28T00:00:00.000000000",
          "2030-03-31T00:00:00.000000000",
          "2030-04-30T00:00:00.000000000",
          "2030-05-31T00:00:00.000000000",
          "2030-06-30T00:00:00.000000000",
          "2030-07-31T00:00:00.000000000",
          "2030-08-31T00:00:00.000000000",
          "2030-09-30T00:00:00.000000000",
          "2030-10-31T00:00:00.000000000",
          "2030-11-30T00:00:00.000000000",
          "2030-12-31T00:00:00.000000000",
          "2031-01-31T00:00:00.000000000",
          "2031-02-28T00:00:00.000000000",
          "2031-03-31T00:00:00.000000000",
          "2031-04-30T00:00:00.000000000",
          "2031-05-31T00:00:00.000000000",
          "2031-06-30T00:00:00.000000000",
          "2031-07-31T00:00:00.000000000",
          "2031-08-31T00:00:00.000000000",
          "2031-09-30T00:00:00.000000000",
          "2031-10-31T00:00:00.000000000",
          "2031-11-30T00:00:00.000000000",
          "2031-12-31T00:00:00.000000000",
          "2032-01-31T00:00:00.000000000",
          "2032-02-29T00:00:00.000000000",
          "2032-03-31T00:00:00.000000000",
          "2032-04-30T00:00:00.000000000",
          "2032-05-31T00:00:00.000000000",
          "2032-06-30T00:00:00.000000000",
          "2032-07-31T00:00:00.000000000",
          "2032-08-31T00:00:00.000000000",
          "2032-09-30T00:00:00.000000000",
          "2032-10-31T00:00:00.000000000",
          "2032-11-30T00:00:00.000000000",
          "2032-12-31T00:00:00.000000000",
          "2033-01-31T00:00:00.000000000",
          "2033-02-28T00:00:00.000000000",
          "2033-03-31T00:00:00.000000000",
          "2033-04-30T00:00:00.000000000"
         ],
         "y": {
          "bdata": "fDCpKCrK3z++nRTRv0sDQMk5rpwyUBRApiesVfSxGkDdbiEtGzARQKVo1XQPIwRA41yeOW4X/j8Gr0SIyBf2v4rRJDAilxHA/4JPjU0FEMBHy+ZUBCoRwDxzdxXBTQPAsmHf7g0K6z8WmLKm+9bzP8XSOb5FeApA+4mGrRPEFEAfTOJCOnwQQPQvnVMgWQ1AANeOVxmvbL+EropmBakHwJv/WetRwP2/CgnZh5euEMCgAGKIrkEJwCJAPV/ZJgbAhEwkOTcs5T/61yemCPAOQJDZk3RS8RFA0oPBvg/uGkBwbVLRzIsUQLbNmUEiUw1ANxsBdJH87D+Y/aYZRR/tPw5O9eJ54gXA6NIAawGZEcDAq+OH3cj8vzEBlDSOZP+/G7FIYa0kAEAsIORNbzIDQHt0yktdpRNAMTwgimugHEAKHXIDiFAcQPQ5WNg67RJA6Dom9iDr/z+co7u+VX3kv7QQGTnfxwzAXwAKzRWrC8CGDiABa9UDwPAZxI3iZ+0/h6uXN6ELBkC9luOaG5gJQDRVbMDGqhxA2O2EUv+1HECU9mIsqRAZQH9KO7uXGRdAQxahu9/0DUCpeaJaIB/zPyyRpv6Z1wLAN1MQ5CKPA8BczLc6QVnxv0JQ0p/AC/c/OH9QiYZJBECrGSCZx4QVQIZYxcqDWxlAu8XvueTgG0B2Jjjiq7cgQM30qW6DfRxAbCeblOL0CUD+ffwEBu39PyM6f0kdpeG/0UfkhxlsAcDJTVrgiN/cvyknSWTV2ARAm+CgPnqoDEBCbyG3k+4eQM642zBFtxVAXlHUWnYuI0CtiglT+HggQN7mGQwHSBhABE/qoaELEEA0m4TWKJHgvxCEXxFK8+C/RiwkUzZS4r/D5k1iPkv0P8gh3vn7cPI/Q8EVewdNC0Aw/070ERQZQN2e1c1fIiNANDw7aLZmI0DZn7aN6HEgQKg1xMpI8R1AzqkuLZB6EkCV/5DVAlUIQKAa2QMdLtq/HJcZufzv5L8ABrFSYahWP/Q6BVls7uk/WFbebCB7FEBduvJorYoeQLHBMtcMhSJABN/N7QZ7I0DnhfBmcMIfQC7mU/NxnhxAdrrtG7QhE0D2WYc5Rvr9P/gANinPguc/quPU7xrG5T+q1DjZwA8HQM9zQAhlaQhAe39LWB69FkBisQmSnJwfQBlpR6SHwR9A0UYh5k0aJUANPZ2PeAkkQK/r2EKESCVA7QWrLCclFkD+x5qtvqQMQBzHKh3Nbfc/XFUrrZSD0r8gdAMSUvAFQAH9vIFl7RBAfRwwHuRIG0CE2YdwHq8eQJyVEHMmuidAJ4hXGOCOI0CfdOv92EsmQJJGkvuX8SVAnEelE09dFUCc/yh9X4YKQD0WoRoNnQFA4b8tcXJT7z9sjWV8JNzkPzJKJe4cmxBA0wIRFJBIFkDvSyGNY1AjQBO5JAPrSSRAmRxx6e6qKkBJM3pGGMMkQD+PUrrtHyJAtVIprCX+HkBiRiPFUAgKQE3F0CvHdQdAVjW2rvsjC0DYKxJ/SSvzP5e7+v90exNAPdFLH/j7HUDOctlS8iIlQPyY6pIW3CRAVaGNaQkiJkBfT+0qGZQoQG++7r2fkSRAcmcr/xgnH0DrXgov0LwVQIpFb2w5BgVArsz60JVdB0C73vLd9JwNQGgRADBiTBJAHVxn5PFoI0BY/1Pb/7klQKnalQk0KCZArWHxfAJLK0A=",
          "dtype": "f8"
         }
        },
        {
         "name": "Actual",
         "type": "scatter",
         "x": [
          "2033-05-31T00:00:00.000000000",
          "2033-06-30T00:00:00.000000000",
          "2033-07-31T00:00:00.000000000",
          "2033-08-31T00:00:00.000000000",
          "2033-09-30T00:00:00.000000000",
          "2033-10-31T00:00:00.000000000",
          "2033-11-30T00:00:00.000000000",
          "2033-12-31T00:00:00.000000000",
          "2034-01-31T00:00:00.000000000",
          "2034-02-28T00:00:00.000000000",
          "2034-03-31T00:00:00.000000000",
          "2034-04-30T00:00:00.000000000",
          "2034-05-31T00:00:00.000000000",
          "2034-06-30T00:00:00.000000000",
          "2034-07-31T00:00:00.000000000",
          "2034-08-31T00:00:00.000000000",
          "2034-09-30T00:00:00.000000000",
          "2034-10-31T00:00:00.000000000",
          "2034-11-30T00:00:00.000000000",
          "2034-12-31T00:00:00.000000000",
          "2035-01-31T00:00:00.000000000",
          "2035-02-28T00:00:00.000000000",
          "2035-03-31T00:00:00.000000000",
          "2035-04-30T00:00:00.000000000",
          "2035-05-31T00:00:00.000000000",
          "2035-06-30T00:00:00.000000000",
          "2035-07-31T00:00:00.000000000",
          "2035-08-31T00:00:00.000000000",
          "2035-09-30T00:00:00.000000000",
          "2035-10-31T00:00:00.000000000",
          "2035-11-30T00:00:00.000000000",
          "2035-12-31T00:00:00.000000000",
          "2036-01-31T00:00:00.000000000",
          "2036-02-29T00:00:00.000000000",
          "2036-03-31T00:00:00.000000000",
          "2036-04-30T00:00:00.000000000",
          "2036-05-31T00:00:00.000000000",
          "2036-06-30T00:00:00.000000000",
          "2036-07-31T00:00:00.000000000",
          "2036-08-31T00:00:00.000000000"
         ],
         "y": {
          "bdata": "nwSsKJLKJkAC1xCDTMEmQPEyL7s9mSJAVDvcsyh7E0DkmRgrcX8TQEsY+KRHog1AWcVhKqZVE0DEPifPricfQISQ7vnFZCBAydlFUDp6JEBdZqyGdvcnQAE4IzPnjSlAl/jFJuDKKUDcZ1WfuREnQDTgkBlzCiJA7bnLjg98HEDAwVUMvxsSQLyhyMxbZBVATPYonFZmEUC6txdcJ24iQP/PmVl/VyNAFCGMDgV6JUCSl/NUV88oQNNpDxpeWy1ATY1YtK60KkD7LvYDXgUpQMR1/UbToyNAVcm4je9LG0Aw21ySzRQRQM9gw3hy3AdAsGIUYZoVE0Cb121IS9EfQNtFcveDuSNAR2iwVM/nJUAVH2bqDIEsQAGKXjBeXi5AlRpI2U2XKkCL+eP9PxspQB+DHwATBCRAexK6MZltGUA=",
          "dtype": "f8"
         }
        },
        {
         "name": "Naive Forecast",
         "type": "scatter",
         "x": [
          "2033-05-31T00:00:00.000000000",
          "2033-06-30T00:00:00.000000000",
          "2033-07-31T00:00:00.000000000",
          "2033-08-31T00:00:00.000000000",
          "2033-09-30T00:00:00.000000000",
          "2033-10-31T00:00:00.000000000",
          "2033-11-30T00:00:00.000000000",
          "2033-12-31T00:00:00.000000000",
          "2034-01-31T00:00:00.000000000",
          "2034-02-28T00:00:00.000000000",
          "2034-03-31T00:00:00.000000000",
          "2034-04-30T00:00:00.000000000",
          "2034-05-31T00:00:00.000000000",
          "2034-06-30T00:00:00.000000000",
          "2034-07-31T00:00:00.000000000",
          "2034-08-31T00:00:00.000000000",
          "2034-09-30T00:00:00.000000000",
          "2034-10-31T00:00:00.000000000",
          "2034-11-30T00:00:00.000000000",
          "2034-12-31T00:00:00.000000000",
          "2035-01-31T00:00:00.000000000",
          "2035-02-28T00:00:00.000000000",
          "2035-03-31T00:00:00.000000000",
          "2035-04-30T00:00:00.000000000",
          "2035-05-31T00:00:00.000000000",
          "2035-06-30T00:00:00.000000000",
          "2035-07-31T00:00:00.000000000",
          "2035-08-31T00:00:00.000000000",
          "2035-09-30T00:00:00.000000000",
          "2035-10-31T00:00:00.000000000",
          "2035-11-30T00:00:00.000000000",
          "2035-12-31T00:00:00.000000000",
          "2036-01-31T00:00:00.000000000",
          "2036-02-29T00:00:00.000000000",
          "2036-03-31T00:00:00.000000000",
          "2036-04-30T00:00:00.000000000",
          "2036-05-31T00:00:00.000000000",
          "2036-06-30T00:00:00.000000000",
          "2036-07-31T00:00:00.000000000",
          "2036-08-31T00:00:00.000000000"
         ],
         "y": {
          "bdata": "rWHxfAJLK0CtYfF8AksrQK1h8XwCSytArWHxfAJLK0CtYfF8AksrQK1h8XwCSytArWHxfAJLK0CtYfF8AksrQK1h8XwCSytArWHxfAJLK0CtYfF8AksrQK1h8XwCSytArWHxfAJLK0CtYfF8AksrQK1h8XwCSytArWHxfAJLK0CtYfF8AksrQK1h8XwCSytArWHxfAJLK0CtYfF8AksrQK1h8XwCSytArWHxfAJLK0CtYfF8AksrQK1h8XwCSytArWHxfAJLK0CtYfF8AksrQK1h8XwCSytArWHxfAJLK0CtYfF8AksrQK1h8XwCSytArWHxfAJLK0CtYfF8AksrQK1h8XwCSytArWHxfAJLK0CtYfF8AksrQK1h8XwCSytArWHxfAJLK0CtYfF8AksrQK1h8XwCSytArWHxfAJLK0A=",
          "dtype": "f8"
         }
        }
       ],
       "layout": {
        "legend": {
         "tracegroupgap": 0
        },
        "margin": {
         "t": 60
        },
        "template": {
         "data": {
          "bar": [
           {
            "error_x": {
             "color": "#2a3f5f"
            },
            "error_y": {
             "color": "#2a3f5f"
            },
            "marker": {
             "line": {
              "color": "white",
              "width": 0.5
             },
             "pattern": {
              "fillmode": "overlay",
              "size": 10,
              "solidity": 0.2
             }
            },
            "type": "bar"
           }
          ],
          "barpolar": [
           {
            "marker": {
             "line": {
              "color": "white",
              "width": 0.5
             },
             "pattern": {
              "fillmode": "overlay",
              "size": 10,
              "solidity": 0.2
             }
            },
            "type": "barpolar"
           }
          ],
          "carpet": [
           {
            "aaxis": {
             "endlinecolor": "#2a3f5f",
             "gridcolor": "#C8D4E3",
             "linecolor": "#C8D4E3",
             "minorgridcolor": "#C8D4E3",
             "startlinecolor": "#2a3f5f"
            },
            "baxis": {
             "endlinecolor": "#2a3f5f",
             "gridcolor": "#C8D4E3",
             "linecolor": "#C8D4E3",
             "minorgridcolor": "#C8D4E3",
             "startlinecolor": "#2a3f5f"
            },
            "type": "carpet"
           }
          ],
          "choropleth": [
           {
            "colorbar": {
             "outlinewidth": 0,
             "ticks": ""
            },
            "type": "choropleth"
           }
          ],
          "contour": [
           {
            "colorbar": {
             "outlinewidth": 0,
             "ticks": ""
            },
            "colorscale": [
             [
              0,
              "#0d0887"
             ],
             [
              0.1111111111111111,
              "#46039f"
             ],
             [
              0.2222222222222222,
              "#7201a8"
             ],
             [
              0.3333333333333333,
              "#9c179e"
             ],
             [
              0.4444444444444444,
              "#bd3786"
             ],
             [
              0.5555555555555556,
              "#d8576b"
             ],
             [
              0.6666666666666666,
              "#ed7953"
             ],
             [
              0.7777777777777778,
              "#fb9f3a"
             ],
             [
              0.8888888888888888,
              "#fdca26"
             ],
             [
              1,
              "#f0f921"
             ]
            ],
            "type": "contour"
           }
          ],
          "contourcarpet": [
           {
            "colorbar": {
             "outlinewidth": 0,
             "ticks": ""
            },
            "type": "contourcarpet"
           }
          ],
          "heatmap": [
           {
            "colorbar": {
             "outlinewidth": 0,
             "ticks": ""
            },
            "colorscale": [
             [
              0,
              "#0d0887"
             ],
             [
              0.1111111111111111,
              "#46039f"
             ],
             [
              0.2222222222222222,
              "#7201a8"
             ],
             [
              0.3333333333333333,
              "#9c179e"
             ],
             [
              0.4444444444444444,
              "#bd3786"
             ],
             [
              0.5555555555555556,
              "#d8576b"
             ],
             [
              0.6666666666666666,
              "#ed7953"
             ],
             [
              0.7777777777777778,
              "#fb9f3a"
             ],
             [
              0.8888888888888888,
              "#fdca26"
             ],
             [
              1,
              "#f0f921"
             ]
            ],
            "type": "heatmap"
           }
          ],
          "histogram": [
           {
            "marker": {
             "pattern": {
              "fillmode": "overlay",
              "size": 10,
              "solidity": 0.2
             }
            },
            "type": "histogram"
           }
          ],
          "histogram2d": [
           {
            "colorbar": {
             "outlinewidth": 0,
             "ticks": ""
            },
            "colorscale": [
             [
              0,
              "#0d0887"
             ],
             [
              0.1111111111111111,
              "#46039f"
             ],
             [
              0.2222222222222222,
              "#7201a8"
             ],
             [
              0.3333333333333333,
              "#9c179e"
             ],
             [
              0.4444444444444444,
              "#bd3786"
             ],
             [
              0.5555555555555556,
              "#d8576b"
             ],
             [
              0.6666666666666666,
              "#ed7953"
             ],
             [
              0.7777777777777778,
              "#fb9f3a"
             ],
             [
              0.8888888888888888,
              "#fdca26"
             ],
             [
              1,
              "#f0f921"
             ]
            ],
            "type": "histogram2d"
           }
          ],
          "histogram2dcontour": [
           {
            "colorbar": {
             "outlinewidth": 0,
             "ticks": ""
            },
            "colorscale": [
             [
              0,
              "#0d0887"
             ],
             [
              0.1111111111111111,
              "#46039f"
             ],
             [
              0.2222222222222222,
              "#7201a8"
             ],
             [
              0.3333333333333333,
              "#9c179e"
             ],
             [
              0.4444444444444444,
              "#bd3786"
             ],
             [
              0.5555555555555556,
              "#d8576b"
             ],
             [
              0.6666666666666666,
              "#ed7953"
             ],
             [
              0.7777777777777778,
              "#fb9f3a"
             ],
             [
              0.8888888888888888,
              "#fdca26"
             ],
             [
              1,
              "#f0f921"
             ]
            ],
            "type": "histogram2dcontour"
           }
          ],
          "mesh3d": [
           {
            "colorbar": {
             "outlinewidth": 0,
             "ticks": ""
            },
            "type": "mesh3d"
           }
          ],
          "parcoords": [
           {
            "line": {
             "colorbar": {
              "outlinewidth": 0,
              "ticks": ""
             }
            },
            "type": "parcoords"
           }
          ],
          "pie": [
           {
            "automargin": true,
            "type": "pie"
           }
          ],
          "scatter": [
           {
            "fillpattern": {
             "fillmode": "overlay",
             "size": 10,
             "solidity": 0.2
            },
            "type": "scatter"
           }
          ],
          "scatter3d": [
           {
            "line": {
             "colorbar": {
              "outlinewidth": 0,
              "ticks": ""
             }
            },
            "marker": {
             "colorbar": {
              "outlinewidth": 0,
              "ticks": ""
             }
            },
            "type": "scatter3d"
           }
          ],
          "scattercarpet": [
           {
            "marker": {
             "colorbar": {
              "outlinewidth": 0,
              "ticks": ""
             }
            },
            "type": "scattercarpet"
           }
          ],
          "scattergeo": [
           {
            "marker": {
             "colorbar": {
              "outlinewidth": 0,
              "ticks": ""
             }
            },
            "type": "scattergeo"
           }
          ],
          "scattergl": [
           {
            "marker": {
             "colorbar": {
              "outlinewidth": 0,
              "ticks": ""
             }
            },
            "type": "scattergl"
           }
          ],
          "scattermap": [
           {
            "marker": {
             "colorbar": {
              "outlinewidth": 0,
              "ticks": ""
             }
            },
            "type": "scattermap"
           }
          ],
          "scattermapbox": [
           {
            "marker": {
             "colorbar": {
              "outlinewidth": 0,
              "ticks": ""
             }
            },
            "type": "scattermapbox"
           }
          ],
          "scatterpolar": [
           {
            "marker": {
             "colorbar": {
              "outlinewidth": 0,
              "ticks": ""
             }
            },
            "type": "scatterpolar"
           }
          ],
          "scatterpolargl": [
           {
            "marker": {
             "colorbar": {
              "outlinewidth": 0,
              "ticks": ""
             }
            },
            "type": "scatterpolargl"
           }
          ],
          "scatterternary": [
           {
            "marker": {
             "colorbar": {
              "outlinewidth": 0,
              "ticks": ""
             }
            },
            "type": "scatterternary"
           }
          ],
          "surface": [
           {
            "colorbar": {
             "outlinewidth": 0,
             "ticks": ""
            },
            "colorscale": [
             [
              0,
              "#0d0887"
             ],
             [
              0.1111111111111111,
              "#46039f"
             ],
             [
              0.2222222222222222,
              "#7201a8"
             ],
             [
              0.3333333333333333,
              "#9c179e"
             ],
             [
              0.4444444444444444,
              "#bd3786"
             ],
             [
              0.5555555555555556,
              "#d8576b"
             ],
             [
              0.6666666666666666,
              "#ed7953"
             ],
             [
              0.7777777777777778,
              "#fb9f3a"
             ],
             [
              0.8888888888888888,
              "#fdca26"
             ],
             [
              1,
              "#f0f921"
             ]
            ],
            "type": "surface"
           }
          ],
          "table": [
           {
            "cells": {
             "fill": {
              "color": "#EBF0F8"
             },
             "line": {
              "color": "white"
             }
            },
            "header": {
             "fill": {
              "color": "#C8D4E3"
             },
             "line": {
              "color": "white"
             }
            },
            "type": "table"
           }
          ]
         },
         "layout": {
          "annotationdefaults": {
           "arrowcolor": "#2a3f5f",
           "arrowhead": 0,
           "arrowwidth": 1
          },
          "autotypenumbers": "strict",
          "coloraxis": {
           "colorbar": {
            "outlinewidth": 0,
            "ticks": ""
           }
          },
          "colorscale": {
           "diverging": [
            [
             0,
             "#8e0152"
            ],
            [
             0.1,
             "#c51b7d"
            ],
            [
             0.2,
             "#de77ae"
            ],
            [
             0.3,
             "#f1b6da"
            ],
            [
             0.4,
             "#fde0ef"
            ],
            [
             0.5,
             "#f7f7f7"
            ],
            [
             0.6,
             "#e6f5d0"
            ],
            [
             0.7,
             "#b8e186"
            ],
            [
             0.8,
             "#7fbc41"
            ],
            [
             0.9,
             "#4d9221"
            ],
            [
             1,
             "#276419"
            ]
           ],
           "sequential": [
            [
             0,
             "#0d0887"
            ],
            [
             0.1111111111111111,
             "#46039f"
            ],
            [
             0.2222222222222222,
             "#7201a8"
            ],
            [
             0.3333333333333333,
             "#9c179e"
            ],
            [
             0.4444444444444444,
             "#bd3786"
            ],
            [
             0.5555555555555556,
             "#d8576b"
            ],
            [
             0.6666666666666666,
             "#ed7953"
            ],
            [
             0.7777777777777778,
             "#fb9f3a"
            ],
            [
             0.8888888888888888,
             "#fdca26"
            ],
            [
             1,
             "#f0f921"
            ]
           ],
           "sequentialminus": [
            [
             0,
             "#0d0887"
            ],
            [
             0.1111111111111111,
             "#46039f"
            ],
            [
             0.2222222222222222,
             "#7201a8"
            ],
            [
             0.3333333333333333,
             "#9c179e"
            ],
            [
             0.4444444444444444,
             "#bd3786"
            ],
            [
             0.5555555555555556,
             "#d8576b"
            ],
            [
             0.6666666666666666,
             "#ed7953"
            ],
            [
             0.7777777777777778,
             "#fb9f3a"
            ],
            [
             0.8888888888888888,
             "#fdca26"
            ],
            [
             1,
             "#f0f921"
            ]
           ]
          },
          "colorway": [
           "#636efa",
           "#EF553B",
           "#00cc96",
           "#ab63fa",
           "#FFA15A",
           "#19d3f3",
           "#FF6692",
           "#B6E880",
           "#FF97FF",
           "#FECB52"
          ],
          "font": {
           "color": "#2a3f5f"
          },
          "geo": {
           "bgcolor": "white",
           "lakecolor": "white",
           "landcolor": "white",
           "showlakes": true,
           "showland": true,
           "subunitcolor": "#C8D4E3"
          },
          "hoverlabel": {
           "align": "left"
          },
          "hovermode": "closest",
          "mapbox": {
           "style": "light"
          },
          "paper_bgcolor": "white",
          "plot_bgcolor": "white",
          "polar": {
           "angularaxis": {
            "gridcolor": "#EBF0F8",
            "linecolor": "#EBF0F8",
            "ticks": ""
           },
           "bgcolor": "white",
           "radialaxis": {
            "gridcolor": "#EBF0F8",
            "linecolor": "#EBF0F8",
            "ticks": ""
           }
          },
          "scene": {
           "xaxis": {
            "backgroundcolor": "white",
            "gridcolor": "#DFE8F3",
            "gridwidth": 2,
            "linecolor": "#EBF0F8",
            "showbackground": true,
            "ticks": "",
            "zerolinecolor": "#EBF0F8"
           },
           "yaxis": {
            "backgroundcolor": "white",
            "gridcolor": "#DFE8F3",
            "gridwidth": 2,
            "linecolor": "#EBF0F8",
            "showbackground": true,
            "ticks": "",
            "zerolinecolor": "#EBF0F8"
           },
           "zaxis": {
            "backgroundcolor": "white",
            "gridcolor": "#DFE8F3",
            "gridwidth": 2,
            "linecolor": "#EBF0F8",
            "showbackground": true,
            "ticks": "",
            "zerolinecolor": "#EBF0F8"
           }
          },
          "shapedefaults": {
           "line": {
            "color": "#2a3f5f"
           }
          },
          "ternary": {
           "aaxis": {
            "gridcolor": "#DFE8F3",
            "linecolor": "#A2B1C6",
            "ticks": ""
           },
           "baxis": {
            "gridcolor": "#DFE8F3",
            "linecolor": "#A2B1C6",
            "ticks": ""
           },
           "bgcolor": "white",
           "caxis": {
            "gridcolor": "#DFE8F3",
            "linecolor": "#A2B1C6",
            "ticks": ""
           }
          },
          "title": {
           "x": 0.05
          },
          "xaxis": {
           "automargin": true,
           "gridcolor": "#EBF0F8",
           "linecolor": "#EBF0F8",
           "ticks": "",
           "title": {
            "standoff": 15
           },
           "zerolinecolor": "#EBF0F8",
           "zerolinewidth": 2
          },
          "yaxis": {
           "automargin": true,
           "gridcolor": "#EBF0F8",
           "linecolor": "#EBF0F8",
           "ticks": "",
           "title": {
            "standoff": 15
           },
           "zerolinecolor": "#EBF0F8",
           "zerolinewidth": 2
          }
         }
        },
        "title": {
         "text": "Naive Forecast"
        },
        "xaxis": {
         "anchor": "y",
         "domain": [
          0,
          1
         ],
         "title": {
          "text": "Date"
         }
        },
        "yaxis": {
         "anchor": "x",
         "domain": [
          0,
          1
         ],
         "title": {
          "text": "Value"
         }
        }
       }
      }
     },
     "metadata": {},
     "output_type": "display_data"
    }
   ],
   "source": [
    "naive_forecast = test.copy()\n",
    "naive_forecast[\"prediction\"] = train[\"value\"].iloc[-1]\n",
    "\n",
    "import plotly.express as px\n",
    "\n",
    "fig = px.line()\n",
    "fig.add_scatter(x=train[\"date\"], y=train[\"value\"], name=\"Train\")\n",
    "fig.add_scatter(x=test[\"date\"], y=test[\"value\"], name=\"Actual\")\n",
    "fig.add_scatter(x=naive_forecast[\"date\"], y=naive_forecast[\"prediction\"], name=\"Naive Forecast\")\n",
    "fig.update_layout(\n",
    "    title=\"Naive Forecast\",\n",
    "    xaxis_title=\"Date\",\n",
    "    yaxis_title=\"Value\",\n",
    "    template=\"plotly_white\"\n",
    ")\n",
    "fig.show()\n"
   ]
  },
  {
   "cell_type": "markdown",
   "metadata": {},
   "source": [
    "<a id=\"moving-average\"></a>\n",
    "#### 📊 Moving Average\n"
   ]
  },
  {
   "cell_type": "markdown",
   "id": "233c4e84",
   "metadata": {},
   "source": [
    "<details>\n",
    "<summary><strong>📖 Click to Expand</strong></summary>\n",
    "\n",
    "##### 📊 Moving Average\n",
    "\n",
    "Forecast is the **mean of the last N observations**.\n",
    "- Smoother than naive forecast.\n",
    "- Assumes short-term average is a good guess for next value.\n",
    "\n",
    "Good when:\n",
    "- There's **no strong trend or seasonality**.\n",
    "- You want a simple but less noisy baseline.\n",
    "\n",
    "</details>\n"
   ]
  },
  {
   "cell_type": "code",
   "execution_count": null,
   "id": "ed4ed973",
   "metadata": {},
   "outputs": [
    {
     "data": {
      "application/vnd.plotly.v1+json": {
       "config": {
        "plotlyServerURL": "https://plot.ly"
       },
       "data": [
        {
         "hovertemplate": "<extra></extra>",
         "legendgroup": "",
         "line": {
          "color": "#636efa",
          "dash": "solid"
         },
         "marker": {
          "symbol": "circle"
         },
         "mode": "lines",
         "name": "",
         "orientation": "v",
         "showlegend": false,
         "type": "scatter",
         "xaxis": "x",
         "yaxis": "y"
        },
        {
         "name": "Train",
         "type": "scatter",
         "x": [
          "2020-01-31T00:00:00.000000000",
          "2020-02-29T00:00:00.000000000",
          "2020-03-31T00:00:00.000000000",
          "2020-04-30T00:00:00.000000000",
          "2020-05-31T00:00:00.000000000",
          "2020-06-30T00:00:00.000000000",
          "2020-07-31T00:00:00.000000000",
          "2020-08-31T00:00:00.000000000",
          "2020-09-30T00:00:00.000000000",
          "2020-10-31T00:00:00.000000000",
          "2020-11-30T00:00:00.000000000",
          "2020-12-31T00:00:00.000000000",
          "2021-01-31T00:00:00.000000000",
          "2021-02-28T00:00:00.000000000",
          "2021-03-31T00:00:00.000000000",
          "2021-04-30T00:00:00.000000000",
          "2021-05-31T00:00:00.000000000",
          "2021-06-30T00:00:00.000000000",
          "2021-07-31T00:00:00.000000000",
          "2021-08-31T00:00:00.000000000",
          "2021-09-30T00:00:00.000000000",
          "2021-10-31T00:00:00.000000000",
          "2021-11-30T00:00:00.000000000",
          "2021-12-31T00:00:00.000000000",
          "2022-01-31T00:00:00.000000000",
          "2022-02-28T00:00:00.000000000",
          "2022-03-31T00:00:00.000000000",
          "2022-04-30T00:00:00.000000000",
          "2022-05-31T00:00:00.000000000",
          "2022-06-30T00:00:00.000000000",
          "2022-07-31T00:00:00.000000000",
          "2022-08-31T00:00:00.000000000",
          "2022-09-30T00:00:00.000000000",
          "2022-10-31T00:00:00.000000000",
          "2022-11-30T00:00:00.000000000",
          "2022-12-31T00:00:00.000000000",
          "2023-01-31T00:00:00.000000000",
          "2023-02-28T00:00:00.000000000",
          "2023-03-31T00:00:00.000000000",
          "2023-04-30T00:00:00.000000000",
          "2023-05-31T00:00:00.000000000",
          "2023-06-30T00:00:00.000000000",
          "2023-07-31T00:00:00.000000000",
          "2023-08-31T00:00:00.000000000",
          "2023-09-30T00:00:00.000000000",
          "2023-10-31T00:00:00.000000000",
          "2023-11-30T00:00:00.000000000",
          "2023-12-31T00:00:00.000000000",
          "2024-01-31T00:00:00.000000000",
          "2024-02-29T00:00:00.000000000",
          "2024-03-31T00:00:00.000000000",
          "2024-04-30T00:00:00.000000000",
          "2024-05-31T00:00:00.000000000",
          "2024-06-30T00:00:00.000000000",
          "2024-07-31T00:00:00.000000000",
          "2024-08-31T00:00:00.000000000",
          "2024-09-30T00:00:00.000000000",
          "2024-10-31T00:00:00.000000000",
          "2024-11-30T00:00:00.000000000",
          "2024-12-31T00:00:00.000000000",
          "2025-01-31T00:00:00.000000000",
          "2025-02-28T00:00:00.000000000",
          "2025-03-31T00:00:00.000000000",
          "2025-04-30T00:00:00.000000000",
          "2025-05-31T00:00:00.000000000",
          "2025-06-30T00:00:00.000000000",
          "2025-07-31T00:00:00.000000000",
          "2025-08-31T00:00:00.000000000",
          "2025-09-30T00:00:00.000000000",
          "2025-10-31T00:00:00.000000000",
          "2025-11-30T00:00:00.000000000",
          "2025-12-31T00:00:00.000000000",
          "2026-01-31T00:00:00.000000000",
          "2026-02-28T00:00:00.000000000",
          "2026-03-31T00:00:00.000000000",
          "2026-04-30T00:00:00.000000000",
          "2026-05-31T00:00:00.000000000",
          "2026-06-30T00:00:00.000000000",
          "2026-07-31T00:00:00.000000000",
          "2026-08-31T00:00:00.000000000",
          "2026-09-30T00:00:00.000000000",
          "2026-10-31T00:00:00.000000000",
          "2026-11-30T00:00:00.000000000",
          "2026-12-31T00:00:00.000000000",
          "2027-01-31T00:00:00.000000000",
          "2027-02-28T00:00:00.000000000",
          "2027-03-31T00:00:00.000000000",
          "2027-04-30T00:00:00.000000000",
          "2027-05-31T00:00:00.000000000",
          "2027-06-30T00:00:00.000000000",
          "2027-07-31T00:00:00.000000000",
          "2027-08-31T00:00:00.000000000",
          "2027-09-30T00:00:00.000000000",
          "2027-10-31T00:00:00.000000000",
          "2027-11-30T00:00:00.000000000",
          "2027-12-31T00:00:00.000000000",
          "2028-01-31T00:00:00.000000000",
          "2028-02-29T00:00:00.000000000",
          "2028-03-31T00:00:00.000000000",
          "2028-04-30T00:00:00.000000000",
          "2028-05-31T00:00:00.000000000",
          "2028-06-30T00:00:00.000000000",
          "2028-07-31T00:00:00.000000000",
          "2028-08-31T00:00:00.000000000",
          "2028-09-30T00:00:00.000000000",
          "2028-10-31T00:00:00.000000000",
          "2028-11-30T00:00:00.000000000",
          "2028-12-31T00:00:00.000000000",
          "2029-01-31T00:00:00.000000000",
          "2029-02-28T00:00:00.000000000",
          "2029-03-31T00:00:00.000000000",
          "2029-04-30T00:00:00.000000000",
          "2029-05-31T00:00:00.000000000",
          "2029-06-30T00:00:00.000000000",
          "2029-07-31T00:00:00.000000000",
          "2029-08-31T00:00:00.000000000",
          "2029-09-30T00:00:00.000000000",
          "2029-10-31T00:00:00.000000000",
          "2029-11-30T00:00:00.000000000",
          "2029-12-31T00:00:00.000000000",
          "2030-01-31T00:00:00.000000000",
          "2030-02-28T00:00:00.000000000",
          "2030-03-31T00:00:00.000000000",
          "2030-04-30T00:00:00.000000000",
          "2030-05-31T00:00:00.000000000",
          "2030-06-30T00:00:00.000000000",
          "2030-07-31T00:00:00.000000000",
          "2030-08-31T00:00:00.000000000",
          "2030-09-30T00:00:00.000000000",
          "2030-10-31T00:00:00.000000000",
          "2030-11-30T00:00:00.000000000",
          "2030-12-31T00:00:00.000000000",
          "2031-01-31T00:00:00.000000000",
          "2031-02-28T00:00:00.000000000",
          "2031-03-31T00:00:00.000000000",
          "2031-04-30T00:00:00.000000000",
          "2031-05-31T00:00:00.000000000",
          "2031-06-30T00:00:00.000000000",
          "2031-07-31T00:00:00.000000000",
          "2031-08-31T00:00:00.000000000",
          "2031-09-30T00:00:00.000000000",
          "2031-10-31T00:00:00.000000000",
          "2031-11-30T00:00:00.000000000",
          "2031-12-31T00:00:00.000000000",
          "2032-01-31T00:00:00.000000000",
          "2032-02-29T00:00:00.000000000",
          "2032-03-31T00:00:00.000000000",
          "2032-04-30T00:00:00.000000000",
          "2032-05-31T00:00:00.000000000",
          "2032-06-30T00:00:00.000000000",
          "2032-07-31T00:00:00.000000000",
          "2032-08-31T00:00:00.000000000",
          "2032-09-30T00:00:00.000000000",
          "2032-10-31T00:00:00.000000000",
          "2032-11-30T00:00:00.000000000",
          "2032-12-31T00:00:00.000000000",
          "2033-01-31T00:00:00.000000000",
          "2033-02-28T00:00:00.000000000",
          "2033-03-31T00:00:00.000000000",
          "2033-04-30T00:00:00.000000000"
         ],
         "y": {
          "bdata": "fDCpKCrK3z++nRTRv0sDQMk5rpwyUBRApiesVfSxGkDdbiEtGzARQKVo1XQPIwRA41yeOW4X/j8Gr0SIyBf2v4rRJDAilxHA/4JPjU0FEMBHy+ZUBCoRwDxzdxXBTQPAsmHf7g0K6z8WmLKm+9bzP8XSOb5FeApA+4mGrRPEFEAfTOJCOnwQQPQvnVMgWQ1AANeOVxmvbL+EropmBakHwJv/WetRwP2/CgnZh5euEMCgAGKIrkEJwCJAPV/ZJgbAhEwkOTcs5T/61yemCPAOQJDZk3RS8RFA0oPBvg/uGkBwbVLRzIsUQLbNmUEiUw1ANxsBdJH87D+Y/aYZRR/tPw5O9eJ54gXA6NIAawGZEcDAq+OH3cj8vzEBlDSOZP+/G7FIYa0kAEAsIORNbzIDQHt0yktdpRNAMTwgimugHEAKHXIDiFAcQPQ5WNg67RJA6Dom9iDr/z+co7u+VX3kv7QQGTnfxwzAXwAKzRWrC8CGDiABa9UDwPAZxI3iZ+0/h6uXN6ELBkC9luOaG5gJQDRVbMDGqhxA2O2EUv+1HECU9mIsqRAZQH9KO7uXGRdAQxahu9/0DUCpeaJaIB/zPyyRpv6Z1wLAN1MQ5CKPA8BczLc6QVnxv0JQ0p/AC/c/OH9QiYZJBECrGSCZx4QVQIZYxcqDWxlAu8XvueTgG0B2Jjjiq7cgQM30qW6DfRxAbCeblOL0CUD+ffwEBu39PyM6f0kdpeG/0UfkhxlsAcDJTVrgiN/cvyknSWTV2ARAm+CgPnqoDEBCbyG3k+4eQM642zBFtxVAXlHUWnYuI0CtiglT+HggQN7mGQwHSBhABE/qoaELEEA0m4TWKJHgvxCEXxFK8+C/RiwkUzZS4r/D5k1iPkv0P8gh3vn7cPI/Q8EVewdNC0Aw/070ERQZQN2e1c1fIiNANDw7aLZmI0DZn7aN6HEgQKg1xMpI8R1AzqkuLZB6EkCV/5DVAlUIQKAa2QMdLtq/HJcZufzv5L8ABrFSYahWP/Q6BVls7uk/WFbebCB7FEBduvJorYoeQLHBMtcMhSJABN/N7QZ7I0DnhfBmcMIfQC7mU/NxnhxAdrrtG7QhE0D2WYc5Rvr9P/gANinPguc/quPU7xrG5T+q1DjZwA8HQM9zQAhlaQhAe39LWB69FkBisQmSnJwfQBlpR6SHwR9A0UYh5k0aJUANPZ2PeAkkQK/r2EKESCVA7QWrLCclFkD+x5qtvqQMQBzHKh3Nbfc/XFUrrZSD0r8gdAMSUvAFQAH9vIFl7RBAfRwwHuRIG0CE2YdwHq8eQJyVEHMmuidAJ4hXGOCOI0CfdOv92EsmQJJGkvuX8SVAnEelE09dFUCc/yh9X4YKQD0WoRoNnQFA4b8tcXJT7z9sjWV8JNzkPzJKJe4cmxBA0wIRFJBIFkDvSyGNY1AjQBO5JAPrSSRAmRxx6e6qKkBJM3pGGMMkQD+PUrrtHyJAtVIprCX+HkBiRiPFUAgKQE3F0CvHdQdAVjW2rvsjC0DYKxJ/SSvzP5e7+v90exNAPdFLH/j7HUDOctlS8iIlQPyY6pIW3CRAVaGNaQkiJkBfT+0qGZQoQG++7r2fkSRAcmcr/xgnH0DrXgov0LwVQIpFb2w5BgVArsz60JVdB0C73vLd9JwNQGgRADBiTBJAHVxn5PFoI0BY/1Pb/7klQKnalQk0KCZArWHxfAJLK0A=",
          "dtype": "f8"
         }
        },
        {
         "name": "Actual",
         "type": "scatter",
         "x": [
          "2033-05-31T00:00:00.000000000",
          "2033-06-30T00:00:00.000000000",
          "2033-07-31T00:00:00.000000000",
          "2033-08-31T00:00:00.000000000",
          "2033-09-30T00:00:00.000000000",
          "2033-10-31T00:00:00.000000000",
          "2033-11-30T00:00:00.000000000",
          "2033-12-31T00:00:00.000000000",
          "2034-01-31T00:00:00.000000000",
          "2034-02-28T00:00:00.000000000",
          "2034-03-31T00:00:00.000000000",
          "2034-04-30T00:00:00.000000000",
          "2034-05-31T00:00:00.000000000",
          "2034-06-30T00:00:00.000000000",
          "2034-07-31T00:00:00.000000000",
          "2034-08-31T00:00:00.000000000",
          "2034-09-30T00:00:00.000000000",
          "2034-10-31T00:00:00.000000000",
          "2034-11-30T00:00:00.000000000",
          "2034-12-31T00:00:00.000000000",
          "2035-01-31T00:00:00.000000000",
          "2035-02-28T00:00:00.000000000",
          "2035-03-31T00:00:00.000000000",
          "2035-04-30T00:00:00.000000000",
          "2035-05-31T00:00:00.000000000",
          "2035-06-30T00:00:00.000000000",
          "2035-07-31T00:00:00.000000000",
          "2035-08-31T00:00:00.000000000",
          "2035-09-30T00:00:00.000000000",
          "2035-10-31T00:00:00.000000000",
          "2035-11-30T00:00:00.000000000",
          "2035-12-31T00:00:00.000000000",
          "2036-01-31T00:00:00.000000000",
          "2036-02-29T00:00:00.000000000",
          "2036-03-31T00:00:00.000000000",
          "2036-04-30T00:00:00.000000000",
          "2036-05-31T00:00:00.000000000",
          "2036-06-30T00:00:00.000000000",
          "2036-07-31T00:00:00.000000000",
          "2036-08-31T00:00:00.000000000"
         ],
         "y": {
          "bdata": "nwSsKJLKJkAC1xCDTMEmQPEyL7s9mSJAVDvcsyh7E0DkmRgrcX8TQEsY+KRHog1AWcVhKqZVE0DEPifPricfQISQ7vnFZCBAydlFUDp6JEBdZqyGdvcnQAE4IzPnjSlAl/jFJuDKKUDcZ1WfuREnQDTgkBlzCiJA7bnLjg98HEDAwVUMvxsSQLyhyMxbZBVATPYonFZmEUC6txdcJ24iQP/PmVl/VyNAFCGMDgV6JUCSl/NUV88oQNNpDxpeWy1ATY1YtK60KkD7LvYDXgUpQMR1/UbToyNAVcm4je9LG0Aw21ySzRQRQM9gw3hy3AdAsGIUYZoVE0Cb121IS9EfQNtFcveDuSNAR2iwVM/nJUAVH2bqDIEsQAGKXjBeXi5AlRpI2U2XKkCL+eP9PxspQB+DHwATBCRAexK6MZltGUA=",
          "dtype": "f8"
         }
        },
        {
         "name": "Moving Average (12)",
         "type": "scatter",
         "x": [
          "2033-05-31T00:00:00.000000000",
          "2033-06-30T00:00:00.000000000",
          "2033-07-31T00:00:00.000000000",
          "2033-08-31T00:00:00.000000000",
          "2033-09-30T00:00:00.000000000",
          "2033-10-31T00:00:00.000000000",
          "2033-11-30T00:00:00.000000000",
          "2033-12-31T00:00:00.000000000",
          "2034-01-31T00:00:00.000000000",
          "2034-02-28T00:00:00.000000000",
          "2034-03-31T00:00:00.000000000",
          "2034-04-30T00:00:00.000000000",
          "2034-05-31T00:00:00.000000000",
          "2034-06-30T00:00:00.000000000",
          "2034-07-31T00:00:00.000000000",
          "2034-08-31T00:00:00.000000000",
          "2034-09-30T00:00:00.000000000",
          "2034-10-31T00:00:00.000000000",
          "2034-11-30T00:00:00.000000000",
          "2034-12-31T00:00:00.000000000",
          "2035-01-31T00:00:00.000000000",
          "2035-02-28T00:00:00.000000000",
          "2035-03-31T00:00:00.000000000",
          "2035-04-30T00:00:00.000000000",
          "2035-05-31T00:00:00.000000000",
          "2035-06-30T00:00:00.000000000",
          "2035-07-31T00:00:00.000000000",
          "2035-08-31T00:00:00.000000000",
          "2035-09-30T00:00:00.000000000",
          "2035-10-31T00:00:00.000000000",
          "2035-11-30T00:00:00.000000000",
          "2035-12-31T00:00:00.000000000",
          "2036-01-31T00:00:00.000000000",
          "2036-02-29T00:00:00.000000000",
          "2036-03-31T00:00:00.000000000",
          "2036-04-30T00:00:00.000000000",
          "2036-05-31T00:00:00.000000000",
          "2036-06-30T00:00:00.000000000",
          "2036-07-31T00:00:00.000000000",
          "2036-08-31T00:00:00.000000000"
         ],
         "y": {
          "bdata": "n3ctpl6jH0Cfdy2mXqMfQJ93LaZeox9An3ctpl6jH0Cfdy2mXqMfQJ93LaZeox9An3ctpl6jH0Cfdy2mXqMfQJ93LaZeox9An3ctpl6jH0Cfdy2mXqMfQJ93LaZeox9An3ctpl6jH0Cfdy2mXqMfQJ93LaZeox9An3ctpl6jH0Cfdy2mXqMfQJ93LaZeox9An3ctpl6jH0Cfdy2mXqMfQJ93LaZeox9An3ctpl6jH0Cfdy2mXqMfQJ93LaZeox9An3ctpl6jH0Cfdy2mXqMfQJ93LaZeox9An3ctpl6jH0Cfdy2mXqMfQJ93LaZeox9An3ctpl6jH0Cfdy2mXqMfQJ93LaZeox9An3ctpl6jH0Cfdy2mXqMfQJ93LaZeox9An3ctpl6jH0Cfdy2mXqMfQJ93LaZeox9An3ctpl6jH0A=",
          "dtype": "f8"
         }
        }
       ],
       "layout": {
        "legend": {
         "tracegroupgap": 0
        },
        "margin": {
         "t": 60
        },
        "template": {
         "data": {
          "bar": [
           {
            "error_x": {
             "color": "#2a3f5f"
            },
            "error_y": {
             "color": "#2a3f5f"
            },
            "marker": {
             "line": {
              "color": "white",
              "width": 0.5
             },
             "pattern": {
              "fillmode": "overlay",
              "size": 10,
              "solidity": 0.2
             }
            },
            "type": "bar"
           }
          ],
          "barpolar": [
           {
            "marker": {
             "line": {
              "color": "white",
              "width": 0.5
             },
             "pattern": {
              "fillmode": "overlay",
              "size": 10,
              "solidity": 0.2
             }
            },
            "type": "barpolar"
           }
          ],
          "carpet": [
           {
            "aaxis": {
             "endlinecolor": "#2a3f5f",
             "gridcolor": "#C8D4E3",
             "linecolor": "#C8D4E3",
             "minorgridcolor": "#C8D4E3",
             "startlinecolor": "#2a3f5f"
            },
            "baxis": {
             "endlinecolor": "#2a3f5f",
             "gridcolor": "#C8D4E3",
             "linecolor": "#C8D4E3",
             "minorgridcolor": "#C8D4E3",
             "startlinecolor": "#2a3f5f"
            },
            "type": "carpet"
           }
          ],
          "choropleth": [
           {
            "colorbar": {
             "outlinewidth": 0,
             "ticks": ""
            },
            "type": "choropleth"
           }
          ],
          "contour": [
           {
            "colorbar": {
             "outlinewidth": 0,
             "ticks": ""
            },
            "colorscale": [
             [
              0,
              "#0d0887"
             ],
             [
              0.1111111111111111,
              "#46039f"
             ],
             [
              0.2222222222222222,
              "#7201a8"
             ],
             [
              0.3333333333333333,
              "#9c179e"
             ],
             [
              0.4444444444444444,
              "#bd3786"
             ],
             [
              0.5555555555555556,
              "#d8576b"
             ],
             [
              0.6666666666666666,
              "#ed7953"
             ],
             [
              0.7777777777777778,
              "#fb9f3a"
             ],
             [
              0.8888888888888888,
              "#fdca26"
             ],
             [
              1,
              "#f0f921"
             ]
            ],
            "type": "contour"
           }
          ],
          "contourcarpet": [
           {
            "colorbar": {
             "outlinewidth": 0,
             "ticks": ""
            },
            "type": "contourcarpet"
           }
          ],
          "heatmap": [
           {
            "colorbar": {
             "outlinewidth": 0,
             "ticks": ""
            },
            "colorscale": [
             [
              0,
              "#0d0887"
             ],
             [
              0.1111111111111111,
              "#46039f"
             ],
             [
              0.2222222222222222,
              "#7201a8"
             ],
             [
              0.3333333333333333,
              "#9c179e"
             ],
             [
              0.4444444444444444,
              "#bd3786"
             ],
             [
              0.5555555555555556,
              "#d8576b"
             ],
             [
              0.6666666666666666,
              "#ed7953"
             ],
             [
              0.7777777777777778,
              "#fb9f3a"
             ],
             [
              0.8888888888888888,
              "#fdca26"
             ],
             [
              1,
              "#f0f921"
             ]
            ],
            "type": "heatmap"
           }
          ],
          "histogram": [
           {
            "marker": {
             "pattern": {
              "fillmode": "overlay",
              "size": 10,
              "solidity": 0.2
             }
            },
            "type": "histogram"
           }
          ],
          "histogram2d": [
           {
            "colorbar": {
             "outlinewidth": 0,
             "ticks": ""
            },
            "colorscale": [
             [
              0,
              "#0d0887"
             ],
             [
              0.1111111111111111,
              "#46039f"
             ],
             [
              0.2222222222222222,
              "#7201a8"
             ],
             [
              0.3333333333333333,
              "#9c179e"
             ],
             [
              0.4444444444444444,
              "#bd3786"
             ],
             [
              0.5555555555555556,
              "#d8576b"
             ],
             [
              0.6666666666666666,
              "#ed7953"
             ],
             [
              0.7777777777777778,
              "#fb9f3a"
             ],
             [
              0.8888888888888888,
              "#fdca26"
             ],
             [
              1,
              "#f0f921"
             ]
            ],
            "type": "histogram2d"
           }
          ],
          "histogram2dcontour": [
           {
            "colorbar": {
             "outlinewidth": 0,
             "ticks": ""
            },
            "colorscale": [
             [
              0,
              "#0d0887"
             ],
             [
              0.1111111111111111,
              "#46039f"
             ],
             [
              0.2222222222222222,
              "#7201a8"
             ],
             [
              0.3333333333333333,
              "#9c179e"
             ],
             [
              0.4444444444444444,
              "#bd3786"
             ],
             [
              0.5555555555555556,
              "#d8576b"
             ],
             [
              0.6666666666666666,
              "#ed7953"
             ],
             [
              0.7777777777777778,
              "#fb9f3a"
             ],
             [
              0.8888888888888888,
              "#fdca26"
             ],
             [
              1,
              "#f0f921"
             ]
            ],
            "type": "histogram2dcontour"
           }
          ],
          "mesh3d": [
           {
            "colorbar": {
             "outlinewidth": 0,
             "ticks": ""
            },
            "type": "mesh3d"
           }
          ],
          "parcoords": [
           {
            "line": {
             "colorbar": {
              "outlinewidth": 0,
              "ticks": ""
             }
            },
            "type": "parcoords"
           }
          ],
          "pie": [
           {
            "automargin": true,
            "type": "pie"
           }
          ],
          "scatter": [
           {
            "fillpattern": {
             "fillmode": "overlay",
             "size": 10,
             "solidity": 0.2
            },
            "type": "scatter"
           }
          ],
          "scatter3d": [
           {
            "line": {
             "colorbar": {
              "outlinewidth": 0,
              "ticks": ""
             }
            },
            "marker": {
             "colorbar": {
              "outlinewidth": 0,
              "ticks": ""
             }
            },
            "type": "scatter3d"
           }
          ],
          "scattercarpet": [
           {
            "marker": {
             "colorbar": {
              "outlinewidth": 0,
              "ticks": ""
             }
            },
            "type": "scattercarpet"
           }
          ],
          "scattergeo": [
           {
            "marker": {
             "colorbar": {
              "outlinewidth": 0,
              "ticks": ""
             }
            },
            "type": "scattergeo"
           }
          ],
          "scattergl": [
           {
            "marker": {
             "colorbar": {
              "outlinewidth": 0,
              "ticks": ""
             }
            },
            "type": "scattergl"
           }
          ],
          "scattermap": [
           {
            "marker": {
             "colorbar": {
              "outlinewidth": 0,
              "ticks": ""
             }
            },
            "type": "scattermap"
           }
          ],
          "scattermapbox": [
           {
            "marker": {
             "colorbar": {
              "outlinewidth": 0,
              "ticks": ""
             }
            },
            "type": "scattermapbox"
           }
          ],
          "scatterpolar": [
           {
            "marker": {
             "colorbar": {
              "outlinewidth": 0,
              "ticks": ""
             }
            },
            "type": "scatterpolar"
           }
          ],
          "scatterpolargl": [
           {
            "marker": {
             "colorbar": {
              "outlinewidth": 0,
              "ticks": ""
             }
            },
            "type": "scatterpolargl"
           }
          ],
          "scatterternary": [
           {
            "marker": {
             "colorbar": {
              "outlinewidth": 0,
              "ticks": ""
             }
            },
            "type": "scatterternary"
           }
          ],
          "surface": [
           {
            "colorbar": {
             "outlinewidth": 0,
             "ticks": ""
            },
            "colorscale": [
             [
              0,
              "#0d0887"
             ],
             [
              0.1111111111111111,
              "#46039f"
             ],
             [
              0.2222222222222222,
              "#7201a8"
             ],
             [
              0.3333333333333333,
              "#9c179e"
             ],
             [
              0.4444444444444444,
              "#bd3786"
             ],
             [
              0.5555555555555556,
              "#d8576b"
             ],
             [
              0.6666666666666666,
              "#ed7953"
             ],
             [
              0.7777777777777778,
              "#fb9f3a"
             ],
             [
              0.8888888888888888,
              "#fdca26"
             ],
             [
              1,
              "#f0f921"
             ]
            ],
            "type": "surface"
           }
          ],
          "table": [
           {
            "cells": {
             "fill": {
              "color": "#EBF0F8"
             },
             "line": {
              "color": "white"
             }
            },
            "header": {
             "fill": {
              "color": "#C8D4E3"
             },
             "line": {
              "color": "white"
             }
            },
            "type": "table"
           }
          ]
         },
         "layout": {
          "annotationdefaults": {
           "arrowcolor": "#2a3f5f",
           "arrowhead": 0,
           "arrowwidth": 1
          },
          "autotypenumbers": "strict",
          "coloraxis": {
           "colorbar": {
            "outlinewidth": 0,
            "ticks": ""
           }
          },
          "colorscale": {
           "diverging": [
            [
             0,
             "#8e0152"
            ],
            [
             0.1,
             "#c51b7d"
            ],
            [
             0.2,
             "#de77ae"
            ],
            [
             0.3,
             "#f1b6da"
            ],
            [
             0.4,
             "#fde0ef"
            ],
            [
             0.5,
             "#f7f7f7"
            ],
            [
             0.6,
             "#e6f5d0"
            ],
            [
             0.7,
             "#b8e186"
            ],
            [
             0.8,
             "#7fbc41"
            ],
            [
             0.9,
             "#4d9221"
            ],
            [
             1,
             "#276419"
            ]
           ],
           "sequential": [
            [
             0,
             "#0d0887"
            ],
            [
             0.1111111111111111,
             "#46039f"
            ],
            [
             0.2222222222222222,
             "#7201a8"
            ],
            [
             0.3333333333333333,
             "#9c179e"
            ],
            [
             0.4444444444444444,
             "#bd3786"
            ],
            [
             0.5555555555555556,
             "#d8576b"
            ],
            [
             0.6666666666666666,
             "#ed7953"
            ],
            [
             0.7777777777777778,
             "#fb9f3a"
            ],
            [
             0.8888888888888888,
             "#fdca26"
            ],
            [
             1,
             "#f0f921"
            ]
           ],
           "sequentialminus": [
            [
             0,
             "#0d0887"
            ],
            [
             0.1111111111111111,
             "#46039f"
            ],
            [
             0.2222222222222222,
             "#7201a8"
            ],
            [
             0.3333333333333333,
             "#9c179e"
            ],
            [
             0.4444444444444444,
             "#bd3786"
            ],
            [
             0.5555555555555556,
             "#d8576b"
            ],
            [
             0.6666666666666666,
             "#ed7953"
            ],
            [
             0.7777777777777778,
             "#fb9f3a"
            ],
            [
             0.8888888888888888,
             "#fdca26"
            ],
            [
             1,
             "#f0f921"
            ]
           ]
          },
          "colorway": [
           "#636efa",
           "#EF553B",
           "#00cc96",
           "#ab63fa",
           "#FFA15A",
           "#19d3f3",
           "#FF6692",
           "#B6E880",
           "#FF97FF",
           "#FECB52"
          ],
          "font": {
           "color": "#2a3f5f"
          },
          "geo": {
           "bgcolor": "white",
           "lakecolor": "white",
           "landcolor": "white",
           "showlakes": true,
           "showland": true,
           "subunitcolor": "#C8D4E3"
          },
          "hoverlabel": {
           "align": "left"
          },
          "hovermode": "closest",
          "mapbox": {
           "style": "light"
          },
          "paper_bgcolor": "white",
          "plot_bgcolor": "white",
          "polar": {
           "angularaxis": {
            "gridcolor": "#EBF0F8",
            "linecolor": "#EBF0F8",
            "ticks": ""
           },
           "bgcolor": "white",
           "radialaxis": {
            "gridcolor": "#EBF0F8",
            "linecolor": "#EBF0F8",
            "ticks": ""
           }
          },
          "scene": {
           "xaxis": {
            "backgroundcolor": "white",
            "gridcolor": "#DFE8F3",
            "gridwidth": 2,
            "linecolor": "#EBF0F8",
            "showbackground": true,
            "ticks": "",
            "zerolinecolor": "#EBF0F8"
           },
           "yaxis": {
            "backgroundcolor": "white",
            "gridcolor": "#DFE8F3",
            "gridwidth": 2,
            "linecolor": "#EBF0F8",
            "showbackground": true,
            "ticks": "",
            "zerolinecolor": "#EBF0F8"
           },
           "zaxis": {
            "backgroundcolor": "white",
            "gridcolor": "#DFE8F3",
            "gridwidth": 2,
            "linecolor": "#EBF0F8",
            "showbackground": true,
            "ticks": "",
            "zerolinecolor": "#EBF0F8"
           }
          },
          "shapedefaults": {
           "line": {
            "color": "#2a3f5f"
           }
          },
          "ternary": {
           "aaxis": {
            "gridcolor": "#DFE8F3",
            "linecolor": "#A2B1C6",
            "ticks": ""
           },
           "baxis": {
            "gridcolor": "#DFE8F3",
            "linecolor": "#A2B1C6",
            "ticks": ""
           },
           "bgcolor": "white",
           "caxis": {
            "gridcolor": "#DFE8F3",
            "linecolor": "#A2B1C6",
            "ticks": ""
           }
          },
          "title": {
           "x": 0.05
          },
          "xaxis": {
           "automargin": true,
           "gridcolor": "#EBF0F8",
           "linecolor": "#EBF0F8",
           "ticks": "",
           "title": {
            "standoff": 15
           },
           "zerolinecolor": "#EBF0F8",
           "zerolinewidth": 2
          },
          "yaxis": {
           "automargin": true,
           "gridcolor": "#EBF0F8",
           "linecolor": "#EBF0F8",
           "ticks": "",
           "title": {
            "standoff": 15
           },
           "zerolinecolor": "#EBF0F8",
           "zerolinewidth": 2
          }
         }
        },
        "title": {
         "text": "Moving Average Forecast"
        },
        "xaxis": {
         "anchor": "y",
         "domain": [
          0,
          1
         ],
         "title": {
          "text": "Date"
         }
        },
        "yaxis": {
         "anchor": "x",
         "domain": [
          0,
          1
         ],
         "title": {
          "text": "Value"
         }
        }
       }
      }
     },
     "metadata": {},
     "output_type": "display_data"
    }
   ],
   "source": [
    "window = 12\n",
    "moving_avg = test.copy()\n",
    "moving_avg[\"prediction\"] = train[\"value\"].rolling(window).mean().iloc[-1]\n",
    "\n",
    "fig = px.line()\n",
    "fig.add_scatter(x=train[\"date\"], y=train[\"value\"], name=\"Train\")\n",
    "fig.add_scatter(x=test[\"date\"], y=test[\"value\"], name=\"Actual\")\n",
    "fig.add_scatter(x=moving_avg[\"date\"], y=moving_avg[\"prediction\"], name=f\"Moving Average ({window})\")\n",
    "fig.update_layout(\n",
    "    title=\"Moving Average Forecast\",\n",
    "    xaxis_title=\"Date\",\n",
    "    yaxis_title=\"Value\",\n",
    "    template=\"plotly_white\"\n",
    ")\n",
    "fig.show()\n"
   ]
  },
  {
   "cell_type": "markdown",
   "id": "bb027b6a",
   "metadata": {},
   "source": [
    "<a id=\"simple-exponential-smoothing\"></a>\n",
    "#### 📈 Simple Exponential Smoothing\n"
   ]
  },
  {
   "cell_type": "markdown",
   "id": "6ed71766",
   "metadata": {},
   "source": [
    "<details>\n",
    "<summary><strong>📖 Click to Expand</strong></summary>\n",
    "\n",
    "##### 📈 Simple Exponential Smoothing (SES)\n",
    "\n",
    "Like moving average — but gives **more weight to recent observations**:\n",
    "- Controlled by smoothing factor **alpha ∈ [0, 1]**\n",
    "- Higher alpha = more recent points dominate\n",
    "\n",
    "Ideal when:\n",
    "- Data has **no clear trend or seasonality**\n",
    "- You want more **reactive forecasts**\n",
    "\n",
    "</details>\n"
   ]
  },
  {
   "cell_type": "code",
   "execution_count": 17,
   "id": "d6733e62",
   "metadata": {},
   "outputs": [
    {
     "data": {
      "application/vnd.plotly.v1+json": {
       "config": {
        "plotlyServerURL": "https://plot.ly"
       },
       "data": [
        {
         "hovertemplate": "<extra></extra>",
         "legendgroup": "",
         "line": {
          "color": "#636efa",
          "dash": "solid"
         },
         "marker": {
          "symbol": "circle"
         },
         "mode": "lines",
         "name": "",
         "orientation": "v",
         "showlegend": false,
         "type": "scatter",
         "xaxis": "x",
         "yaxis": "y"
        },
        {
         "name": "Train",
         "type": "scatter",
         "x": [
          "2020-01-31T00:00:00.000000000",
          "2020-02-29T00:00:00.000000000",
          "2020-03-31T00:00:00.000000000",
          "2020-04-30T00:00:00.000000000",
          "2020-05-31T00:00:00.000000000",
          "2020-06-30T00:00:00.000000000",
          "2020-07-31T00:00:00.000000000",
          "2020-08-31T00:00:00.000000000",
          "2020-09-30T00:00:00.000000000",
          "2020-10-31T00:00:00.000000000",
          "2020-11-30T00:00:00.000000000",
          "2020-12-31T00:00:00.000000000",
          "2021-01-31T00:00:00.000000000",
          "2021-02-28T00:00:00.000000000",
          "2021-03-31T00:00:00.000000000",
          "2021-04-30T00:00:00.000000000",
          "2021-05-31T00:00:00.000000000",
          "2021-06-30T00:00:00.000000000",
          "2021-07-31T00:00:00.000000000",
          "2021-08-31T00:00:00.000000000",
          "2021-09-30T00:00:00.000000000",
          "2021-10-31T00:00:00.000000000",
          "2021-11-30T00:00:00.000000000",
          "2021-12-31T00:00:00.000000000",
          "2022-01-31T00:00:00.000000000",
          "2022-02-28T00:00:00.000000000",
          "2022-03-31T00:00:00.000000000",
          "2022-04-30T00:00:00.000000000",
          "2022-05-31T00:00:00.000000000",
          "2022-06-30T00:00:00.000000000",
          "2022-07-31T00:00:00.000000000",
          "2022-08-31T00:00:00.000000000",
          "2022-09-30T00:00:00.000000000",
          "2022-10-31T00:00:00.000000000",
          "2022-11-30T00:00:00.000000000",
          "2022-12-31T00:00:00.000000000",
          "2023-01-31T00:00:00.000000000",
          "2023-02-28T00:00:00.000000000",
          "2023-03-31T00:00:00.000000000",
          "2023-04-30T00:00:00.000000000",
          "2023-05-31T00:00:00.000000000",
          "2023-06-30T00:00:00.000000000",
          "2023-07-31T00:00:00.000000000",
          "2023-08-31T00:00:00.000000000",
          "2023-09-30T00:00:00.000000000",
          "2023-10-31T00:00:00.000000000",
          "2023-11-30T00:00:00.000000000",
          "2023-12-31T00:00:00.000000000",
          "2024-01-31T00:00:00.000000000",
          "2024-02-29T00:00:00.000000000",
          "2024-03-31T00:00:00.000000000",
          "2024-04-30T00:00:00.000000000",
          "2024-05-31T00:00:00.000000000",
          "2024-06-30T00:00:00.000000000",
          "2024-07-31T00:00:00.000000000",
          "2024-08-31T00:00:00.000000000",
          "2024-09-30T00:00:00.000000000",
          "2024-10-31T00:00:00.000000000",
          "2024-11-30T00:00:00.000000000",
          "2024-12-31T00:00:00.000000000",
          "2025-01-31T00:00:00.000000000",
          "2025-02-28T00:00:00.000000000",
          "2025-03-31T00:00:00.000000000",
          "2025-04-30T00:00:00.000000000",
          "2025-05-31T00:00:00.000000000",
          "2025-06-30T00:00:00.000000000",
          "2025-07-31T00:00:00.000000000",
          "2025-08-31T00:00:00.000000000",
          "2025-09-30T00:00:00.000000000",
          "2025-10-31T00:00:00.000000000",
          "2025-11-30T00:00:00.000000000",
          "2025-12-31T00:00:00.000000000",
          "2026-01-31T00:00:00.000000000",
          "2026-02-28T00:00:00.000000000",
          "2026-03-31T00:00:00.000000000",
          "2026-04-30T00:00:00.000000000",
          "2026-05-31T00:00:00.000000000",
          "2026-06-30T00:00:00.000000000",
          "2026-07-31T00:00:00.000000000",
          "2026-08-31T00:00:00.000000000",
          "2026-09-30T00:00:00.000000000",
          "2026-10-31T00:00:00.000000000",
          "2026-11-30T00:00:00.000000000",
          "2026-12-31T00:00:00.000000000",
          "2027-01-31T00:00:00.000000000",
          "2027-02-28T00:00:00.000000000",
          "2027-03-31T00:00:00.000000000",
          "2027-04-30T00:00:00.000000000",
          "2027-05-31T00:00:00.000000000",
          "2027-06-30T00:00:00.000000000",
          "2027-07-31T00:00:00.000000000",
          "2027-08-31T00:00:00.000000000",
          "2027-09-30T00:00:00.000000000",
          "2027-10-31T00:00:00.000000000",
          "2027-11-30T00:00:00.000000000",
          "2027-12-31T00:00:00.000000000",
          "2028-01-31T00:00:00.000000000",
          "2028-02-29T00:00:00.000000000",
          "2028-03-31T00:00:00.000000000",
          "2028-04-30T00:00:00.000000000",
          "2028-05-31T00:00:00.000000000",
          "2028-06-30T00:00:00.000000000",
          "2028-07-31T00:00:00.000000000",
          "2028-08-31T00:00:00.000000000",
          "2028-09-30T00:00:00.000000000",
          "2028-10-31T00:00:00.000000000",
          "2028-11-30T00:00:00.000000000",
          "2028-12-31T00:00:00.000000000",
          "2029-01-31T00:00:00.000000000",
          "2029-02-28T00:00:00.000000000",
          "2029-03-31T00:00:00.000000000",
          "2029-04-30T00:00:00.000000000",
          "2029-05-31T00:00:00.000000000",
          "2029-06-30T00:00:00.000000000",
          "2029-07-31T00:00:00.000000000",
          "2029-08-31T00:00:00.000000000",
          "2029-09-30T00:00:00.000000000",
          "2029-10-31T00:00:00.000000000",
          "2029-11-30T00:00:00.000000000",
          "2029-12-31T00:00:00.000000000",
          "2030-01-31T00:00:00.000000000",
          "2030-02-28T00:00:00.000000000",
          "2030-03-31T00:00:00.000000000",
          "2030-04-30T00:00:00.000000000",
          "2030-05-31T00:00:00.000000000",
          "2030-06-30T00:00:00.000000000",
          "2030-07-31T00:00:00.000000000",
          "2030-08-31T00:00:00.000000000",
          "2030-09-30T00:00:00.000000000",
          "2030-10-31T00:00:00.000000000",
          "2030-11-30T00:00:00.000000000",
          "2030-12-31T00:00:00.000000000",
          "2031-01-31T00:00:00.000000000",
          "2031-02-28T00:00:00.000000000",
          "2031-03-31T00:00:00.000000000",
          "2031-04-30T00:00:00.000000000",
          "2031-05-31T00:00:00.000000000",
          "2031-06-30T00:00:00.000000000",
          "2031-07-31T00:00:00.000000000",
          "2031-08-31T00:00:00.000000000",
          "2031-09-30T00:00:00.000000000",
          "2031-10-31T00:00:00.000000000",
          "2031-11-30T00:00:00.000000000",
          "2031-12-31T00:00:00.000000000",
          "2032-01-31T00:00:00.000000000",
          "2032-02-29T00:00:00.000000000",
          "2032-03-31T00:00:00.000000000",
          "2032-04-30T00:00:00.000000000",
          "2032-05-31T00:00:00.000000000",
          "2032-06-30T00:00:00.000000000",
          "2032-07-31T00:00:00.000000000",
          "2032-08-31T00:00:00.000000000",
          "2032-09-30T00:00:00.000000000",
          "2032-10-31T00:00:00.000000000",
          "2032-11-30T00:00:00.000000000",
          "2032-12-31T00:00:00.000000000",
          "2033-01-31T00:00:00.000000000",
          "2033-02-28T00:00:00.000000000",
          "2033-03-31T00:00:00.000000000",
          "2033-04-30T00:00:00.000000000"
         ],
         "y": {
          "bdata": "fDCpKCrK3z++nRTRv0sDQMk5rpwyUBRApiesVfSxGkDdbiEtGzARQKVo1XQPIwRA41yeOW4X/j8Gr0SIyBf2v4rRJDAilxHA/4JPjU0FEMBHy+ZUBCoRwDxzdxXBTQPAsmHf7g0K6z8WmLKm+9bzP8XSOb5FeApA+4mGrRPEFEAfTOJCOnwQQPQvnVMgWQ1AANeOVxmvbL+EropmBakHwJv/WetRwP2/CgnZh5euEMCgAGKIrkEJwCJAPV/ZJgbAhEwkOTcs5T/61yemCPAOQJDZk3RS8RFA0oPBvg/uGkBwbVLRzIsUQLbNmUEiUw1ANxsBdJH87D+Y/aYZRR/tPw5O9eJ54gXA6NIAawGZEcDAq+OH3cj8vzEBlDSOZP+/G7FIYa0kAEAsIORNbzIDQHt0yktdpRNAMTwgimugHEAKHXIDiFAcQPQ5WNg67RJA6Dom9iDr/z+co7u+VX3kv7QQGTnfxwzAXwAKzRWrC8CGDiABa9UDwPAZxI3iZ+0/h6uXN6ELBkC9luOaG5gJQDRVbMDGqhxA2O2EUv+1HECU9mIsqRAZQH9KO7uXGRdAQxahu9/0DUCpeaJaIB/zPyyRpv6Z1wLAN1MQ5CKPA8BczLc6QVnxv0JQ0p/AC/c/OH9QiYZJBECrGSCZx4QVQIZYxcqDWxlAu8XvueTgG0B2Jjjiq7cgQM30qW6DfRxAbCeblOL0CUD+ffwEBu39PyM6f0kdpeG/0UfkhxlsAcDJTVrgiN/cvyknSWTV2ARAm+CgPnqoDEBCbyG3k+4eQM642zBFtxVAXlHUWnYuI0CtiglT+HggQN7mGQwHSBhABE/qoaELEEA0m4TWKJHgvxCEXxFK8+C/RiwkUzZS4r/D5k1iPkv0P8gh3vn7cPI/Q8EVewdNC0Aw/070ERQZQN2e1c1fIiNANDw7aLZmI0DZn7aN6HEgQKg1xMpI8R1AzqkuLZB6EkCV/5DVAlUIQKAa2QMdLtq/HJcZufzv5L8ABrFSYahWP/Q6BVls7uk/WFbebCB7FEBduvJorYoeQLHBMtcMhSJABN/N7QZ7I0DnhfBmcMIfQC7mU/NxnhxAdrrtG7QhE0D2WYc5Rvr9P/gANinPguc/quPU7xrG5T+q1DjZwA8HQM9zQAhlaQhAe39LWB69FkBisQmSnJwfQBlpR6SHwR9A0UYh5k0aJUANPZ2PeAkkQK/r2EKESCVA7QWrLCclFkD+x5qtvqQMQBzHKh3Nbfc/XFUrrZSD0r8gdAMSUvAFQAH9vIFl7RBAfRwwHuRIG0CE2YdwHq8eQJyVEHMmuidAJ4hXGOCOI0CfdOv92EsmQJJGkvuX8SVAnEelE09dFUCc/yh9X4YKQD0WoRoNnQFA4b8tcXJT7z9sjWV8JNzkPzJKJe4cmxBA0wIRFJBIFkDvSyGNY1AjQBO5JAPrSSRAmRxx6e6qKkBJM3pGGMMkQD+PUrrtHyJAtVIprCX+HkBiRiPFUAgKQE3F0CvHdQdAVjW2rvsjC0DYKxJ/SSvzP5e7+v90exNAPdFLH/j7HUDOctlS8iIlQPyY6pIW3CRAVaGNaQkiJkBfT+0qGZQoQG++7r2fkSRAcmcr/xgnH0DrXgov0LwVQIpFb2w5BgVArsz60JVdB0C73vLd9JwNQGgRADBiTBJAHVxn5PFoI0BY/1Pb/7klQKnalQk0KCZArWHxfAJLK0A=",
          "dtype": "f8"
         }
        },
        {
         "name": "Actual",
         "type": "scatter",
         "x": [
          "2033-05-31T00:00:00.000000000",
          "2033-06-30T00:00:00.000000000",
          "2033-07-31T00:00:00.000000000",
          "2033-08-31T00:00:00.000000000",
          "2033-09-30T00:00:00.000000000",
          "2033-10-31T00:00:00.000000000",
          "2033-11-30T00:00:00.000000000",
          "2033-12-31T00:00:00.000000000",
          "2034-01-31T00:00:00.000000000",
          "2034-02-28T00:00:00.000000000",
          "2034-03-31T00:00:00.000000000",
          "2034-04-30T00:00:00.000000000",
          "2034-05-31T00:00:00.000000000",
          "2034-06-30T00:00:00.000000000",
          "2034-07-31T00:00:00.000000000",
          "2034-08-31T00:00:00.000000000",
          "2034-09-30T00:00:00.000000000",
          "2034-10-31T00:00:00.000000000",
          "2034-11-30T00:00:00.000000000",
          "2034-12-31T00:00:00.000000000",
          "2035-01-31T00:00:00.000000000",
          "2035-02-28T00:00:00.000000000",
          "2035-03-31T00:00:00.000000000",
          "2035-04-30T00:00:00.000000000",
          "2035-05-31T00:00:00.000000000",
          "2035-06-30T00:00:00.000000000",
          "2035-07-31T00:00:00.000000000",
          "2035-08-31T00:00:00.000000000",
          "2035-09-30T00:00:00.000000000",
          "2035-10-31T00:00:00.000000000",
          "2035-11-30T00:00:00.000000000",
          "2035-12-31T00:00:00.000000000",
          "2036-01-31T00:00:00.000000000",
          "2036-02-29T00:00:00.000000000",
          "2036-03-31T00:00:00.000000000",
          "2036-04-30T00:00:00.000000000",
          "2036-05-31T00:00:00.000000000",
          "2036-06-30T00:00:00.000000000",
          "2036-07-31T00:00:00.000000000",
          "2036-08-31T00:00:00.000000000"
         ],
         "y": {
          "bdata": "nwSsKJLKJkAC1xCDTMEmQPEyL7s9mSJAVDvcsyh7E0DkmRgrcX8TQEsY+KRHog1AWcVhKqZVE0DEPifPricfQISQ7vnFZCBAydlFUDp6JEBdZqyGdvcnQAE4IzPnjSlAl/jFJuDKKUDcZ1WfuREnQDTgkBlzCiJA7bnLjg98HEDAwVUMvxsSQLyhyMxbZBVATPYonFZmEUC6txdcJ24iQP/PmVl/VyNAFCGMDgV6JUCSl/NUV88oQNNpDxpeWy1ATY1YtK60KkD7LvYDXgUpQMR1/UbToyNAVcm4je9LG0Aw21ySzRQRQM9gw3hy3AdAsGIUYZoVE0Cb121IS9EfQNtFcveDuSNAR2iwVM/nJUAVH2bqDIEsQAGKXjBeXi5AlRpI2U2XKkCL+eP9PxspQB+DHwATBCRAexK6MZltGUA=",
          "dtype": "f8"
         }
        },
        {
         "name": "SES Forecast",
         "type": "scatter",
         "x": [
          "2033-05-31T00:00:00.000000000",
          "2033-06-30T00:00:00.000000000",
          "2033-07-31T00:00:00.000000000",
          "2033-08-31T00:00:00.000000000",
          "2033-09-30T00:00:00.000000000",
          "2033-10-31T00:00:00.000000000",
          "2033-11-30T00:00:00.000000000",
          "2033-12-31T00:00:00.000000000",
          "2034-01-31T00:00:00.000000000",
          "2034-02-28T00:00:00.000000000",
          "2034-03-31T00:00:00.000000000",
          "2034-04-30T00:00:00.000000000",
          "2034-05-31T00:00:00.000000000",
          "2034-06-30T00:00:00.000000000",
          "2034-07-31T00:00:00.000000000",
          "2034-08-31T00:00:00.000000000",
          "2034-09-30T00:00:00.000000000",
          "2034-10-31T00:00:00.000000000",
          "2034-11-30T00:00:00.000000000",
          "2034-12-31T00:00:00.000000000",
          "2035-01-31T00:00:00.000000000",
          "2035-02-28T00:00:00.000000000",
          "2035-03-31T00:00:00.000000000",
          "2035-04-30T00:00:00.000000000",
          "2035-05-31T00:00:00.000000000",
          "2035-06-30T00:00:00.000000000",
          "2035-07-31T00:00:00.000000000",
          "2035-08-31T00:00:00.000000000",
          "2035-09-30T00:00:00.000000000",
          "2035-10-31T00:00:00.000000000",
          "2035-11-30T00:00:00.000000000",
          "2035-12-31T00:00:00.000000000",
          "2036-01-31T00:00:00.000000000",
          "2036-02-29T00:00:00.000000000",
          "2036-03-31T00:00:00.000000000",
          "2036-04-30T00:00:00.000000000",
          "2036-05-31T00:00:00.000000000",
          "2036-06-30T00:00:00.000000000",
          "2036-07-31T00:00:00.000000000",
          "2036-08-31T00:00:00.000000000"
         ],
         "y": {
          "bdata": "C66oewJLK0ALrqh7AksrQAuuqHsCSytAC66oewJLK0ALrqh7AksrQAuuqHsCSytAC66oewJLK0ALrqh7AksrQAuuqHsCSytAC66oewJLK0ALrqh7AksrQAuuqHsCSytAC66oewJLK0ALrqh7AksrQAuuqHsCSytAC66oewJLK0ALrqh7AksrQAuuqHsCSytAC66oewJLK0ALrqh7AksrQAuuqHsCSytAC66oewJLK0ALrqh7AksrQAuuqHsCSytAC66oewJLK0ALrqh7AksrQAuuqHsCSytAC66oewJLK0ALrqh7AksrQAuuqHsCSytAC66oewJLK0ALrqh7AksrQAuuqHsCSytAC66oewJLK0ALrqh7AksrQAuuqHsCSytAC66oewJLK0ALrqh7AksrQAuuqHsCSytAC66oewJLK0A=",
          "dtype": "f8"
         }
        }
       ],
       "layout": {
        "legend": {
         "tracegroupgap": 0
        },
        "margin": {
         "t": 60
        },
        "template": {
         "data": {
          "bar": [
           {
            "error_x": {
             "color": "#2a3f5f"
            },
            "error_y": {
             "color": "#2a3f5f"
            },
            "marker": {
             "line": {
              "color": "white",
              "width": 0.5
             },
             "pattern": {
              "fillmode": "overlay",
              "size": 10,
              "solidity": 0.2
             }
            },
            "type": "bar"
           }
          ],
          "barpolar": [
           {
            "marker": {
             "line": {
              "color": "white",
              "width": 0.5
             },
             "pattern": {
              "fillmode": "overlay",
              "size": 10,
              "solidity": 0.2
             }
            },
            "type": "barpolar"
           }
          ],
          "carpet": [
           {
            "aaxis": {
             "endlinecolor": "#2a3f5f",
             "gridcolor": "#C8D4E3",
             "linecolor": "#C8D4E3",
             "minorgridcolor": "#C8D4E3",
             "startlinecolor": "#2a3f5f"
            },
            "baxis": {
             "endlinecolor": "#2a3f5f",
             "gridcolor": "#C8D4E3",
             "linecolor": "#C8D4E3",
             "minorgridcolor": "#C8D4E3",
             "startlinecolor": "#2a3f5f"
            },
            "type": "carpet"
           }
          ],
          "choropleth": [
           {
            "colorbar": {
             "outlinewidth": 0,
             "ticks": ""
            },
            "type": "choropleth"
           }
          ],
          "contour": [
           {
            "colorbar": {
             "outlinewidth": 0,
             "ticks": ""
            },
            "colorscale": [
             [
              0,
              "#0d0887"
             ],
             [
              0.1111111111111111,
              "#46039f"
             ],
             [
              0.2222222222222222,
              "#7201a8"
             ],
             [
              0.3333333333333333,
              "#9c179e"
             ],
             [
              0.4444444444444444,
              "#bd3786"
             ],
             [
              0.5555555555555556,
              "#d8576b"
             ],
             [
              0.6666666666666666,
              "#ed7953"
             ],
             [
              0.7777777777777778,
              "#fb9f3a"
             ],
             [
              0.8888888888888888,
              "#fdca26"
             ],
             [
              1,
              "#f0f921"
             ]
            ],
            "type": "contour"
           }
          ],
          "contourcarpet": [
           {
            "colorbar": {
             "outlinewidth": 0,
             "ticks": ""
            },
            "type": "contourcarpet"
           }
          ],
          "heatmap": [
           {
            "colorbar": {
             "outlinewidth": 0,
             "ticks": ""
            },
            "colorscale": [
             [
              0,
              "#0d0887"
             ],
             [
              0.1111111111111111,
              "#46039f"
             ],
             [
              0.2222222222222222,
              "#7201a8"
             ],
             [
              0.3333333333333333,
              "#9c179e"
             ],
             [
              0.4444444444444444,
              "#bd3786"
             ],
             [
              0.5555555555555556,
              "#d8576b"
             ],
             [
              0.6666666666666666,
              "#ed7953"
             ],
             [
              0.7777777777777778,
              "#fb9f3a"
             ],
             [
              0.8888888888888888,
              "#fdca26"
             ],
             [
              1,
              "#f0f921"
             ]
            ],
            "type": "heatmap"
           }
          ],
          "histogram": [
           {
            "marker": {
             "pattern": {
              "fillmode": "overlay",
              "size": 10,
              "solidity": 0.2
             }
            },
            "type": "histogram"
           }
          ],
          "histogram2d": [
           {
            "colorbar": {
             "outlinewidth": 0,
             "ticks": ""
            },
            "colorscale": [
             [
              0,
              "#0d0887"
             ],
             [
              0.1111111111111111,
              "#46039f"
             ],
             [
              0.2222222222222222,
              "#7201a8"
             ],
             [
              0.3333333333333333,
              "#9c179e"
             ],
             [
              0.4444444444444444,
              "#bd3786"
             ],
             [
              0.5555555555555556,
              "#d8576b"
             ],
             [
              0.6666666666666666,
              "#ed7953"
             ],
             [
              0.7777777777777778,
              "#fb9f3a"
             ],
             [
              0.8888888888888888,
              "#fdca26"
             ],
             [
              1,
              "#f0f921"
             ]
            ],
            "type": "histogram2d"
           }
          ],
          "histogram2dcontour": [
           {
            "colorbar": {
             "outlinewidth": 0,
             "ticks": ""
            },
            "colorscale": [
             [
              0,
              "#0d0887"
             ],
             [
              0.1111111111111111,
              "#46039f"
             ],
             [
              0.2222222222222222,
              "#7201a8"
             ],
             [
              0.3333333333333333,
              "#9c179e"
             ],
             [
              0.4444444444444444,
              "#bd3786"
             ],
             [
              0.5555555555555556,
              "#d8576b"
             ],
             [
              0.6666666666666666,
              "#ed7953"
             ],
             [
              0.7777777777777778,
              "#fb9f3a"
             ],
             [
              0.8888888888888888,
              "#fdca26"
             ],
             [
              1,
              "#f0f921"
             ]
            ],
            "type": "histogram2dcontour"
           }
          ],
          "mesh3d": [
           {
            "colorbar": {
             "outlinewidth": 0,
             "ticks": ""
            },
            "type": "mesh3d"
           }
          ],
          "parcoords": [
           {
            "line": {
             "colorbar": {
              "outlinewidth": 0,
              "ticks": ""
             }
            },
            "type": "parcoords"
           }
          ],
          "pie": [
           {
            "automargin": true,
            "type": "pie"
           }
          ],
          "scatter": [
           {
            "fillpattern": {
             "fillmode": "overlay",
             "size": 10,
             "solidity": 0.2
            },
            "type": "scatter"
           }
          ],
          "scatter3d": [
           {
            "line": {
             "colorbar": {
              "outlinewidth": 0,
              "ticks": ""
             }
            },
            "marker": {
             "colorbar": {
              "outlinewidth": 0,
              "ticks": ""
             }
            },
            "type": "scatter3d"
           }
          ],
          "scattercarpet": [
           {
            "marker": {
             "colorbar": {
              "outlinewidth": 0,
              "ticks": ""
             }
            },
            "type": "scattercarpet"
           }
          ],
          "scattergeo": [
           {
            "marker": {
             "colorbar": {
              "outlinewidth": 0,
              "ticks": ""
             }
            },
            "type": "scattergeo"
           }
          ],
          "scattergl": [
           {
            "marker": {
             "colorbar": {
              "outlinewidth": 0,
              "ticks": ""
             }
            },
            "type": "scattergl"
           }
          ],
          "scattermap": [
           {
            "marker": {
             "colorbar": {
              "outlinewidth": 0,
              "ticks": ""
             }
            },
            "type": "scattermap"
           }
          ],
          "scattermapbox": [
           {
            "marker": {
             "colorbar": {
              "outlinewidth": 0,
              "ticks": ""
             }
            },
            "type": "scattermapbox"
           }
          ],
          "scatterpolar": [
           {
            "marker": {
             "colorbar": {
              "outlinewidth": 0,
              "ticks": ""
             }
            },
            "type": "scatterpolar"
           }
          ],
          "scatterpolargl": [
           {
            "marker": {
             "colorbar": {
              "outlinewidth": 0,
              "ticks": ""
             }
            },
            "type": "scatterpolargl"
           }
          ],
          "scatterternary": [
           {
            "marker": {
             "colorbar": {
              "outlinewidth": 0,
              "ticks": ""
             }
            },
            "type": "scatterternary"
           }
          ],
          "surface": [
           {
            "colorbar": {
             "outlinewidth": 0,
             "ticks": ""
            },
            "colorscale": [
             [
              0,
              "#0d0887"
             ],
             [
              0.1111111111111111,
              "#46039f"
             ],
             [
              0.2222222222222222,
              "#7201a8"
             ],
             [
              0.3333333333333333,
              "#9c179e"
             ],
             [
              0.4444444444444444,
              "#bd3786"
             ],
             [
              0.5555555555555556,
              "#d8576b"
             ],
             [
              0.6666666666666666,
              "#ed7953"
             ],
             [
              0.7777777777777778,
              "#fb9f3a"
             ],
             [
              0.8888888888888888,
              "#fdca26"
             ],
             [
              1,
              "#f0f921"
             ]
            ],
            "type": "surface"
           }
          ],
          "table": [
           {
            "cells": {
             "fill": {
              "color": "#EBF0F8"
             },
             "line": {
              "color": "white"
             }
            },
            "header": {
             "fill": {
              "color": "#C8D4E3"
             },
             "line": {
              "color": "white"
             }
            },
            "type": "table"
           }
          ]
         },
         "layout": {
          "annotationdefaults": {
           "arrowcolor": "#2a3f5f",
           "arrowhead": 0,
           "arrowwidth": 1
          },
          "autotypenumbers": "strict",
          "coloraxis": {
           "colorbar": {
            "outlinewidth": 0,
            "ticks": ""
           }
          },
          "colorscale": {
           "diverging": [
            [
             0,
             "#8e0152"
            ],
            [
             0.1,
             "#c51b7d"
            ],
            [
             0.2,
             "#de77ae"
            ],
            [
             0.3,
             "#f1b6da"
            ],
            [
             0.4,
             "#fde0ef"
            ],
            [
             0.5,
             "#f7f7f7"
            ],
            [
             0.6,
             "#e6f5d0"
            ],
            [
             0.7,
             "#b8e186"
            ],
            [
             0.8,
             "#7fbc41"
            ],
            [
             0.9,
             "#4d9221"
            ],
            [
             1,
             "#276419"
            ]
           ],
           "sequential": [
            [
             0,
             "#0d0887"
            ],
            [
             0.1111111111111111,
             "#46039f"
            ],
            [
             0.2222222222222222,
             "#7201a8"
            ],
            [
             0.3333333333333333,
             "#9c179e"
            ],
            [
             0.4444444444444444,
             "#bd3786"
            ],
            [
             0.5555555555555556,
             "#d8576b"
            ],
            [
             0.6666666666666666,
             "#ed7953"
            ],
            [
             0.7777777777777778,
             "#fb9f3a"
            ],
            [
             0.8888888888888888,
             "#fdca26"
            ],
            [
             1,
             "#f0f921"
            ]
           ],
           "sequentialminus": [
            [
             0,
             "#0d0887"
            ],
            [
             0.1111111111111111,
             "#46039f"
            ],
            [
             0.2222222222222222,
             "#7201a8"
            ],
            [
             0.3333333333333333,
             "#9c179e"
            ],
            [
             0.4444444444444444,
             "#bd3786"
            ],
            [
             0.5555555555555556,
             "#d8576b"
            ],
            [
             0.6666666666666666,
             "#ed7953"
            ],
            [
             0.7777777777777778,
             "#fb9f3a"
            ],
            [
             0.8888888888888888,
             "#fdca26"
            ],
            [
             1,
             "#f0f921"
            ]
           ]
          },
          "colorway": [
           "#636efa",
           "#EF553B",
           "#00cc96",
           "#ab63fa",
           "#FFA15A",
           "#19d3f3",
           "#FF6692",
           "#B6E880",
           "#FF97FF",
           "#FECB52"
          ],
          "font": {
           "color": "#2a3f5f"
          },
          "geo": {
           "bgcolor": "white",
           "lakecolor": "white",
           "landcolor": "white",
           "showlakes": true,
           "showland": true,
           "subunitcolor": "#C8D4E3"
          },
          "hoverlabel": {
           "align": "left"
          },
          "hovermode": "closest",
          "mapbox": {
           "style": "light"
          },
          "paper_bgcolor": "white",
          "plot_bgcolor": "white",
          "polar": {
           "angularaxis": {
            "gridcolor": "#EBF0F8",
            "linecolor": "#EBF0F8",
            "ticks": ""
           },
           "bgcolor": "white",
           "radialaxis": {
            "gridcolor": "#EBF0F8",
            "linecolor": "#EBF0F8",
            "ticks": ""
           }
          },
          "scene": {
           "xaxis": {
            "backgroundcolor": "white",
            "gridcolor": "#DFE8F3",
            "gridwidth": 2,
            "linecolor": "#EBF0F8",
            "showbackground": true,
            "ticks": "",
            "zerolinecolor": "#EBF0F8"
           },
           "yaxis": {
            "backgroundcolor": "white",
            "gridcolor": "#DFE8F3",
            "gridwidth": 2,
            "linecolor": "#EBF0F8",
            "showbackground": true,
            "ticks": "",
            "zerolinecolor": "#EBF0F8"
           },
           "zaxis": {
            "backgroundcolor": "white",
            "gridcolor": "#DFE8F3",
            "gridwidth": 2,
            "linecolor": "#EBF0F8",
            "showbackground": true,
            "ticks": "",
            "zerolinecolor": "#EBF0F8"
           }
          },
          "shapedefaults": {
           "line": {
            "color": "#2a3f5f"
           }
          },
          "ternary": {
           "aaxis": {
            "gridcolor": "#DFE8F3",
            "linecolor": "#A2B1C6",
            "ticks": ""
           },
           "baxis": {
            "gridcolor": "#DFE8F3",
            "linecolor": "#A2B1C6",
            "ticks": ""
           },
           "bgcolor": "white",
           "caxis": {
            "gridcolor": "#DFE8F3",
            "linecolor": "#A2B1C6",
            "ticks": ""
           }
          },
          "title": {
           "x": 0.05
          },
          "xaxis": {
           "automargin": true,
           "gridcolor": "#EBF0F8",
           "linecolor": "#EBF0F8",
           "ticks": "",
           "title": {
            "standoff": 15
           },
           "zerolinecolor": "#EBF0F8",
           "zerolinewidth": 2
          },
          "yaxis": {
           "automargin": true,
           "gridcolor": "#EBF0F8",
           "linecolor": "#EBF0F8",
           "ticks": "",
           "title": {
            "standoff": 15
           },
           "zerolinecolor": "#EBF0F8",
           "zerolinewidth": 2
          }
         }
        },
        "title": {
         "text": "Simple Exponential Smoothing Forecast"
        },
        "xaxis": {
         "anchor": "y",
         "domain": [
          0,
          1
         ],
         "title": {
          "text": "Date"
         }
        },
        "yaxis": {
         "anchor": "x",
         "domain": [
          0,
          1
         ],
         "title": {
          "text": "Value"
         }
        }
       }
      }
     },
     "metadata": {},
     "output_type": "display_data"
    }
   ],
   "source": [
    "# 📈 Simple Exponential Smoothing\n",
    "\n",
    "from statsmodels.tsa.holtwinters import SimpleExpSmoothing\n",
    "\n",
    "model_ses = SimpleExpSmoothing(train[\"value\"]).fit()\n",
    "ses_forecast = test.copy()\n",
    "ses_forecast[\"prediction\"] = model_ses.forecast(len(test))\n",
    "\n",
    "fig = px.line()\n",
    "fig.add_scatter(x=train[\"date\"], y=train[\"value\"], name=\"Train\")\n",
    "fig.add_scatter(x=test[\"date\"], y=test[\"value\"], name=\"Actual\")\n",
    "fig.add_scatter(x=ses_forecast[\"date\"], y=ses_forecast[\"prediction\"], name=\"SES Forecast\")\n",
    "fig.update_layout(\n",
    "    title=\"Simple Exponential Smoothing Forecast\",\n",
    "    xaxis_title=\"Date\",\n",
    "    yaxis_title=\"Value\",\n",
    "    template=\"plotly_white\"\n",
    ")\n",
    "fig.show()\n"
   ]
  },
  {
   "cell_type": "markdown",
   "id": "4736642d",
   "metadata": {},
   "source": [
    "<a id=\"baseline-evaluation\"></a>\n",
    "#### 📋 Baseline Evaluation\n"
   ]
  },
  {
   "cell_type": "markdown",
   "id": "c15657dc",
   "metadata": {},
   "source": [
    "<details>\n",
    "<summary><strong>📖 Click to Expand</strong></summary>\n",
    "\n",
    "##### 📋 Why Evaluate Even Simple Models?\n",
    "\n",
    "Even \"dumb\" models like Naive Forecast can be **surprisingly hard to beat**.\n",
    "\n",
    "Common error metrics:\n",
    "- **MAE (Mean Absolute Error)**: Easy to interpret, robust to outliers\n",
    "- **RMSE (Root Mean Square Error)**: Penalizes large errors more\n",
    "- **MAPE (Mean Absolute Percentage Error)**: Good for scale-free comparison — but fails on 0s\n",
    "\n",
    "A baseline that performs well sets the bar for any complex model.\n",
    "\n",
    "</details>\n"
   ]
  },
  {
   "cell_type": "code",
   "execution_count": 23,
   "id": "7fd018c0",
   "metadata": {},
   "outputs": [
    {
     "name": "stdout",
     "output_type": "stream",
     "text": [
      "        Model    MAE   RMSE  MAPE (%)\n",
      "0       Naive  4.610  5.613    79.707\n",
      "1  Moving Avg  3.191  3.652    40.232\n",
      "2         SES  4.610  5.613    79.707\n"
     ]
    },
    {
     "data": {
      "application/vnd.plotly.v1+json": {
       "config": {
        "plotlyServerURL": "https://plot.ly"
       },
       "data": [
        {
         "alignmentgroup": "True",
         "hovertemplate": "Metric=MAE<br>Model=%{x}<br>Score=%{y}<extra></extra>",
         "legendgroup": "MAE",
         "marker": {
          "color": "#636efa",
          "pattern": {
           "shape": ""
          }
         },
         "name": "MAE",
         "offsetgroup": "MAE",
         "orientation": "v",
         "showlegend": true,
         "textposition": "auto",
         "texttemplate": "%{y:.2f}",
         "type": "bar",
         "x": [
          "Naive",
          "Moving Avg",
          "SES"
         ],
         "xaxis": "x",
         "y": {
          "bdata": "I+/y8AJxEkBOFryq+IYJQCokxO4CcRJA",
          "dtype": "f8"
         },
         "yaxis": "y"
        },
        {
         "alignmentgroup": "True",
         "hovertemplate": "Metric=RMSE<br>Model=%{x}<br>Score=%{y}<extra></extra>",
         "legendgroup": "RMSE",
         "marker": {
          "color": "#EF553B",
          "pattern": {
           "shape": ""
          }
         },
         "name": "RMSE",
         "offsetgroup": "RMSE",
         "orientation": "v",
         "showlegend": true,
         "textposition": "auto",
         "texttemplate": "%{y:.2f}",
         "type": "bar",
         "x": [
          "Naive",
          "Moving Avg",
          "SES"
         ],
         "xaxis": "x",
         "y": {
          "bdata": "W8qhT15zFkBGK8FPZDcNQJZhmE1ecxZA",
          "dtype": "f8"
         },
         "yaxis": "y"
        },
        {
         "alignmentgroup": "True",
         "hovertemplate": "Metric=MAPE (%)<br>Model=%{x}<br>Score=%{y}<extra></extra>",
         "legendgroup": "MAPE (%)",
         "marker": {
          "color": "#00cc96",
          "pattern": {
           "shape": ""
          }
         },
         "name": "MAPE (%)",
         "offsetgroup": "MAPE (%)",
         "orientation": "v",
         "showlegend": true,
         "textposition": "auto",
         "texttemplate": "%{y:.2f}",
         "type": "bar",
         "x": [
          "Naive",
          "Moving Avg",
          "SES"
         ],
         "xaxis": "x",
         "y": {
          "bdata": "KIUKmETtU0BsiLUZuh1EQAicGpZE7VNA",
          "dtype": "f8"
         },
         "yaxis": "y"
        }
       ],
       "layout": {
        "barmode": "group",
        "legend": {
         "title": {
          "text": "Metric"
         },
         "tracegroupgap": 0
        },
        "template": {
         "data": {
          "bar": [
           {
            "error_x": {
             "color": "#2a3f5f"
            },
            "error_y": {
             "color": "#2a3f5f"
            },
            "marker": {
             "line": {
              "color": "white",
              "width": 0.5
             },
             "pattern": {
              "fillmode": "overlay",
              "size": 10,
              "solidity": 0.2
             }
            },
            "type": "bar"
           }
          ],
          "barpolar": [
           {
            "marker": {
             "line": {
              "color": "white",
              "width": 0.5
             },
             "pattern": {
              "fillmode": "overlay",
              "size": 10,
              "solidity": 0.2
             }
            },
            "type": "barpolar"
           }
          ],
          "carpet": [
           {
            "aaxis": {
             "endlinecolor": "#2a3f5f",
             "gridcolor": "#C8D4E3",
             "linecolor": "#C8D4E3",
             "minorgridcolor": "#C8D4E3",
             "startlinecolor": "#2a3f5f"
            },
            "baxis": {
             "endlinecolor": "#2a3f5f",
             "gridcolor": "#C8D4E3",
             "linecolor": "#C8D4E3",
             "minorgridcolor": "#C8D4E3",
             "startlinecolor": "#2a3f5f"
            },
            "type": "carpet"
           }
          ],
          "choropleth": [
           {
            "colorbar": {
             "outlinewidth": 0,
             "ticks": ""
            },
            "type": "choropleth"
           }
          ],
          "contour": [
           {
            "colorbar": {
             "outlinewidth": 0,
             "ticks": ""
            },
            "colorscale": [
             [
              0,
              "#0d0887"
             ],
             [
              0.1111111111111111,
              "#46039f"
             ],
             [
              0.2222222222222222,
              "#7201a8"
             ],
             [
              0.3333333333333333,
              "#9c179e"
             ],
             [
              0.4444444444444444,
              "#bd3786"
             ],
             [
              0.5555555555555556,
              "#d8576b"
             ],
             [
              0.6666666666666666,
              "#ed7953"
             ],
             [
              0.7777777777777778,
              "#fb9f3a"
             ],
             [
              0.8888888888888888,
              "#fdca26"
             ],
             [
              1,
              "#f0f921"
             ]
            ],
            "type": "contour"
           }
          ],
          "contourcarpet": [
           {
            "colorbar": {
             "outlinewidth": 0,
             "ticks": ""
            },
            "type": "contourcarpet"
           }
          ],
          "heatmap": [
           {
            "colorbar": {
             "outlinewidth": 0,
             "ticks": ""
            },
            "colorscale": [
             [
              0,
              "#0d0887"
             ],
             [
              0.1111111111111111,
              "#46039f"
             ],
             [
              0.2222222222222222,
              "#7201a8"
             ],
             [
              0.3333333333333333,
              "#9c179e"
             ],
             [
              0.4444444444444444,
              "#bd3786"
             ],
             [
              0.5555555555555556,
              "#d8576b"
             ],
             [
              0.6666666666666666,
              "#ed7953"
             ],
             [
              0.7777777777777778,
              "#fb9f3a"
             ],
             [
              0.8888888888888888,
              "#fdca26"
             ],
             [
              1,
              "#f0f921"
             ]
            ],
            "type": "heatmap"
           }
          ],
          "histogram": [
           {
            "marker": {
             "pattern": {
              "fillmode": "overlay",
              "size": 10,
              "solidity": 0.2
             }
            },
            "type": "histogram"
           }
          ],
          "histogram2d": [
           {
            "colorbar": {
             "outlinewidth": 0,
             "ticks": ""
            },
            "colorscale": [
             [
              0,
              "#0d0887"
             ],
             [
              0.1111111111111111,
              "#46039f"
             ],
             [
              0.2222222222222222,
              "#7201a8"
             ],
             [
              0.3333333333333333,
              "#9c179e"
             ],
             [
              0.4444444444444444,
              "#bd3786"
             ],
             [
              0.5555555555555556,
              "#d8576b"
             ],
             [
              0.6666666666666666,
              "#ed7953"
             ],
             [
              0.7777777777777778,
              "#fb9f3a"
             ],
             [
              0.8888888888888888,
              "#fdca26"
             ],
             [
              1,
              "#f0f921"
             ]
            ],
            "type": "histogram2d"
           }
          ],
          "histogram2dcontour": [
           {
            "colorbar": {
             "outlinewidth": 0,
             "ticks": ""
            },
            "colorscale": [
             [
              0,
              "#0d0887"
             ],
             [
              0.1111111111111111,
              "#46039f"
             ],
             [
              0.2222222222222222,
              "#7201a8"
             ],
             [
              0.3333333333333333,
              "#9c179e"
             ],
             [
              0.4444444444444444,
              "#bd3786"
             ],
             [
              0.5555555555555556,
              "#d8576b"
             ],
             [
              0.6666666666666666,
              "#ed7953"
             ],
             [
              0.7777777777777778,
              "#fb9f3a"
             ],
             [
              0.8888888888888888,
              "#fdca26"
             ],
             [
              1,
              "#f0f921"
             ]
            ],
            "type": "histogram2dcontour"
           }
          ],
          "mesh3d": [
           {
            "colorbar": {
             "outlinewidth": 0,
             "ticks": ""
            },
            "type": "mesh3d"
           }
          ],
          "parcoords": [
           {
            "line": {
             "colorbar": {
              "outlinewidth": 0,
              "ticks": ""
             }
            },
            "type": "parcoords"
           }
          ],
          "pie": [
           {
            "automargin": true,
            "type": "pie"
           }
          ],
          "scatter": [
           {
            "fillpattern": {
             "fillmode": "overlay",
             "size": 10,
             "solidity": 0.2
            },
            "type": "scatter"
           }
          ],
          "scatter3d": [
           {
            "line": {
             "colorbar": {
              "outlinewidth": 0,
              "ticks": ""
             }
            },
            "marker": {
             "colorbar": {
              "outlinewidth": 0,
              "ticks": ""
             }
            },
            "type": "scatter3d"
           }
          ],
          "scattercarpet": [
           {
            "marker": {
             "colorbar": {
              "outlinewidth": 0,
              "ticks": ""
             }
            },
            "type": "scattercarpet"
           }
          ],
          "scattergeo": [
           {
            "marker": {
             "colorbar": {
              "outlinewidth": 0,
              "ticks": ""
             }
            },
            "type": "scattergeo"
           }
          ],
          "scattergl": [
           {
            "marker": {
             "colorbar": {
              "outlinewidth": 0,
              "ticks": ""
             }
            },
            "type": "scattergl"
           }
          ],
          "scattermap": [
           {
            "marker": {
             "colorbar": {
              "outlinewidth": 0,
              "ticks": ""
             }
            },
            "type": "scattermap"
           }
          ],
          "scattermapbox": [
           {
            "marker": {
             "colorbar": {
              "outlinewidth": 0,
              "ticks": ""
             }
            },
            "type": "scattermapbox"
           }
          ],
          "scatterpolar": [
           {
            "marker": {
             "colorbar": {
              "outlinewidth": 0,
              "ticks": ""
             }
            },
            "type": "scatterpolar"
           }
          ],
          "scatterpolargl": [
           {
            "marker": {
             "colorbar": {
              "outlinewidth": 0,
              "ticks": ""
             }
            },
            "type": "scatterpolargl"
           }
          ],
          "scatterternary": [
           {
            "marker": {
             "colorbar": {
              "outlinewidth": 0,
              "ticks": ""
             }
            },
            "type": "scatterternary"
           }
          ],
          "surface": [
           {
            "colorbar": {
             "outlinewidth": 0,
             "ticks": ""
            },
            "colorscale": [
             [
              0,
              "#0d0887"
             ],
             [
              0.1111111111111111,
              "#46039f"
             ],
             [
              0.2222222222222222,
              "#7201a8"
             ],
             [
              0.3333333333333333,
              "#9c179e"
             ],
             [
              0.4444444444444444,
              "#bd3786"
             ],
             [
              0.5555555555555556,
              "#d8576b"
             ],
             [
              0.6666666666666666,
              "#ed7953"
             ],
             [
              0.7777777777777778,
              "#fb9f3a"
             ],
             [
              0.8888888888888888,
              "#fdca26"
             ],
             [
              1,
              "#f0f921"
             ]
            ],
            "type": "surface"
           }
          ],
          "table": [
           {
            "cells": {
             "fill": {
              "color": "#EBF0F8"
             },
             "line": {
              "color": "white"
             }
            },
            "header": {
             "fill": {
              "color": "#C8D4E3"
             },
             "line": {
              "color": "white"
             }
            },
            "type": "table"
           }
          ]
         },
         "layout": {
          "annotationdefaults": {
           "arrowcolor": "#2a3f5f",
           "arrowhead": 0,
           "arrowwidth": 1
          },
          "autotypenumbers": "strict",
          "coloraxis": {
           "colorbar": {
            "outlinewidth": 0,
            "ticks": ""
           }
          },
          "colorscale": {
           "diverging": [
            [
             0,
             "#8e0152"
            ],
            [
             0.1,
             "#c51b7d"
            ],
            [
             0.2,
             "#de77ae"
            ],
            [
             0.3,
             "#f1b6da"
            ],
            [
             0.4,
             "#fde0ef"
            ],
            [
             0.5,
             "#f7f7f7"
            ],
            [
             0.6,
             "#e6f5d0"
            ],
            [
             0.7,
             "#b8e186"
            ],
            [
             0.8,
             "#7fbc41"
            ],
            [
             0.9,
             "#4d9221"
            ],
            [
             1,
             "#276419"
            ]
           ],
           "sequential": [
            [
             0,
             "#0d0887"
            ],
            [
             0.1111111111111111,
             "#46039f"
            ],
            [
             0.2222222222222222,
             "#7201a8"
            ],
            [
             0.3333333333333333,
             "#9c179e"
            ],
            [
             0.4444444444444444,
             "#bd3786"
            ],
            [
             0.5555555555555556,
             "#d8576b"
            ],
            [
             0.6666666666666666,
             "#ed7953"
            ],
            [
             0.7777777777777778,
             "#fb9f3a"
            ],
            [
             0.8888888888888888,
             "#fdca26"
            ],
            [
             1,
             "#f0f921"
            ]
           ],
           "sequentialminus": [
            [
             0,
             "#0d0887"
            ],
            [
             0.1111111111111111,
             "#46039f"
            ],
            [
             0.2222222222222222,
             "#7201a8"
            ],
            [
             0.3333333333333333,
             "#9c179e"
            ],
            [
             0.4444444444444444,
             "#bd3786"
            ],
            [
             0.5555555555555556,
             "#d8576b"
            ],
            [
             0.6666666666666666,
             "#ed7953"
            ],
            [
             0.7777777777777778,
             "#fb9f3a"
            ],
            [
             0.8888888888888888,
             "#fdca26"
            ],
            [
             1,
             "#f0f921"
            ]
           ]
          },
          "colorway": [
           "#636efa",
           "#EF553B",
           "#00cc96",
           "#ab63fa",
           "#FFA15A",
           "#19d3f3",
           "#FF6692",
           "#B6E880",
           "#FF97FF",
           "#FECB52"
          ],
          "font": {
           "color": "#2a3f5f"
          },
          "geo": {
           "bgcolor": "white",
           "lakecolor": "white",
           "landcolor": "white",
           "showlakes": true,
           "showland": true,
           "subunitcolor": "#C8D4E3"
          },
          "hoverlabel": {
           "align": "left"
          },
          "hovermode": "closest",
          "mapbox": {
           "style": "light"
          },
          "paper_bgcolor": "white",
          "plot_bgcolor": "white",
          "polar": {
           "angularaxis": {
            "gridcolor": "#EBF0F8",
            "linecolor": "#EBF0F8",
            "ticks": ""
           },
           "bgcolor": "white",
           "radialaxis": {
            "gridcolor": "#EBF0F8",
            "linecolor": "#EBF0F8",
            "ticks": ""
           }
          },
          "scene": {
           "xaxis": {
            "backgroundcolor": "white",
            "gridcolor": "#DFE8F3",
            "gridwidth": 2,
            "linecolor": "#EBF0F8",
            "showbackground": true,
            "ticks": "",
            "zerolinecolor": "#EBF0F8"
           },
           "yaxis": {
            "backgroundcolor": "white",
            "gridcolor": "#DFE8F3",
            "gridwidth": 2,
            "linecolor": "#EBF0F8",
            "showbackground": true,
            "ticks": "",
            "zerolinecolor": "#EBF0F8"
           },
           "zaxis": {
            "backgroundcolor": "white",
            "gridcolor": "#DFE8F3",
            "gridwidth": 2,
            "linecolor": "#EBF0F8",
            "showbackground": true,
            "ticks": "",
            "zerolinecolor": "#EBF0F8"
           }
          },
          "shapedefaults": {
           "line": {
            "color": "#2a3f5f"
           }
          },
          "ternary": {
           "aaxis": {
            "gridcolor": "#DFE8F3",
            "linecolor": "#A2B1C6",
            "ticks": ""
           },
           "baxis": {
            "gridcolor": "#DFE8F3",
            "linecolor": "#A2B1C6",
            "ticks": ""
           },
           "bgcolor": "white",
           "caxis": {
            "gridcolor": "#DFE8F3",
            "linecolor": "#A2B1C6",
            "ticks": ""
           }
          },
          "title": {
           "x": 0.05
          },
          "xaxis": {
           "automargin": true,
           "gridcolor": "#EBF0F8",
           "linecolor": "#EBF0F8",
           "ticks": "",
           "title": {
            "standoff": 15
           },
           "zerolinecolor": "#EBF0F8",
           "zerolinewidth": 2
          },
          "yaxis": {
           "automargin": true,
           "gridcolor": "#EBF0F8",
           "linecolor": "#EBF0F8",
           "ticks": "",
           "title": {
            "standoff": 15
           },
           "zerolinecolor": "#EBF0F8",
           "zerolinewidth": 2
          }
         }
        },
        "title": {
         "text": "📊 Baseline Model Errors (Lower is Better)"
        },
        "xaxis": {
         "anchor": "y",
         "domain": [
          0,
          1
         ],
         "title": {
          "text": "Model"
         }
        },
        "yaxis": {
         "anchor": "x",
         "domain": [
          0,
          1
         ],
         "title": {
          "text": "Error"
         }
        }
       }
      }
     },
     "metadata": {},
     "output_type": "display_data"
    }
   ],
   "source": [
    "# 📋 Baseline Evaluation\n",
    "\n",
    "from sklearn.metrics import mean_absolute_error, mean_squared_error\n",
    "\n",
    "def mape(y_true, y_pred):\n",
    "    return np.mean(np.abs((y_true - y_pred) / y_true)) * 100\n",
    "\n",
    "baseline_results = pd.DataFrame({\n",
    "    \"Model\": [\"Naive\", \"Moving Avg\", \"SES\"],\n",
    "    \"MAE\": [\n",
    "        mean_absolute_error(test[\"value\"], naive_forecast[\"prediction\"]),\n",
    "        mean_absolute_error(test[\"value\"], moving_avg[\"prediction\"]),\n",
    "        mean_absolute_error(test[\"value\"], ses_forecast[\"prediction\"])\n",
    "    ],\n",
    "    \"RMSE\": [\n",
    "        np.sqrt(mean_squared_error(test[\"value\"], naive_forecast[\"prediction\"])),\n",
    "        np.sqrt(mean_squared_error(test[\"value\"], moving_avg[\"prediction\"])),\n",
    "        np.sqrt(mean_squared_error(test[\"value\"], ses_forecast[\"prediction\"]))\n",
    "    ],\n",
    "    \"MAPE (%)\": [\n",
    "        mape(test[\"value\"], naive_forecast[\"prediction\"]),\n",
    "        mape(test[\"value\"], moving_avg[\"prediction\"]),\n",
    "        mape(test[\"value\"], ses_forecast[\"prediction\"])\n",
    "    ]\n",
    "})\n",
    "\n",
    "# Show table directly\n",
    "print(baseline_results.round(3))\n",
    "\n",
    "import plotly.express as px\n",
    "\n",
    "# Melt to long format\n",
    "melted = baseline_results.melt(id_vars=\"Model\", var_name=\"Metric\", value_name=\"Score\")\n",
    "\n",
    "fig = px.bar(melted, x=\"Model\", y=\"Score\", color=\"Metric\", barmode=\"group\",\n",
    "             title=\"📊 Baseline Model Errors (Lower is Better)\",\n",
    "             text_auto=\".2f\")\n",
    "\n",
    "fig.update_layout(template=\"plotly_white\", yaxis_title=\"Error\")\n",
    "fig.show()\n",
    "\n"
   ]
  },
  {
   "cell_type": "markdown",
   "id": "90684020",
   "metadata": {},
   "source": [
    "[Back to the top](#table-of-contents)\n",
    "___\n"
   ]
  },
  {
   "cell_type": "markdown",
   "id": "3c5144bf",
   "metadata": {},
   "source": [
    "<a id=\"arima-family\"></a>\n",
    "# ⚙️ ARIMA Family\n"
   ]
  },
  {
   "cell_type": "markdown",
   "id": "a90060cb",
   "metadata": {},
   "source": [
    "<a id=\"ar-ma-arma\"></a>\n",
    "#### 🧩 AR, MA, ARMA\n"
   ]
  },
  {
   "cell_type": "markdown",
   "id": "cec8c2db",
   "metadata": {},
   "source": [
    "<a id=\"arima\"></a>\n",
    "#### 🛠️ ARIMA\n"
   ]
  },
  {
   "cell_type": "markdown",
   "id": "0b8e3f8e",
   "metadata": {},
   "source": [
    "<a id=\"sarima\"></a>\n",
    "#### 🔁 SARIMA\n"
   ]
  },
  {
   "cell_type": "markdown",
   "id": "0b858387",
   "metadata": {},
   "source": [
    "<a id=\"residual-diagnostics\"></a>\n",
    "#### 🔍 Residual diagnostics\n"
   ]
  },
  {
   "cell_type": "markdown",
   "id": "164fbed4",
   "metadata": {},
   "source": [
    "<a id=\"arima-evaluation\"></a>\n",
    "#### 📋 ARIMA Evaluation\n"
   ]
  },
  {
   "cell_type": "markdown",
   "id": "4dc95445",
   "metadata": {},
   "source": [
    "[Back to the top](#table-of-contents)\n",
    "___\n"
   ]
  },
  {
   "cell_type": "markdown",
   "id": "0c296a89",
   "metadata": {},
   "source": [
    "<a id=\"state-space-models\"></a>\n",
    "# 🌊 State Space Models\n"
   ]
  },
  {
   "cell_type": "markdown",
   "id": "e551ad2c",
   "metadata": {},
   "source": [
    "<a id=\"intro-to-kalman-filters\"></a>\n",
    "#### 🧠 Intro to Kalman Filters\n"
   ]
  },
  {
   "cell_type": "markdown",
   "id": "e6dd387b",
   "metadata": {},
   "source": [
    "<a id=\"statsmodels-or-prophet\"></a>\n",
    "#### 📦 Statsmodels or Prophet\n"
   ]
  },
  {
   "cell_type": "markdown",
   "id": "2733de8d",
   "metadata": {},
   "source": [
    "<a id=\"state-space-forecast-evaluation\"></a>\n",
    "#### 📋 State Space Forecast Evaluation\n"
   ]
  },
  {
   "cell_type": "markdown",
   "id": "010c7fff",
   "metadata": {},
   "source": [
    "[Back to the top](#table-of-contents)\n",
    "___\n"
   ]
  },
  {
   "cell_type": "markdown",
   "id": "c803af8d",
   "metadata": {},
   "source": [
    "<a id=\"mlhybrid-approaches-optional\"></a>\n",
    "# 🧠 ML/Hybrid Approaches (Optional)\n"
   ]
  },
  {
   "cell_type": "markdown",
   "id": "7d914304",
   "metadata": {},
   "source": [
    "<a id=\"feature-engineering\"></a>\n",
    "#### 🧮 Feature engineering\n"
   ]
  },
  {
   "cell_type": "markdown",
   "id": "98b39b67",
   "metadata": {},
   "source": [
    "<a id=\"xgboost-or-lightgbm\"></a>\n",
    "#### ⚡ XGBoost or LightGBM\n"
   ]
  },
  {
   "cell_type": "markdown",
   "id": "84097054",
   "metadata": {},
   "source": [
    "<a id=\"ml-model-evaluation\"></a>\n",
    "#### 📋 ML Model Evaluation\n"
   ]
  },
  {
   "cell_type": "markdown",
   "id": "0161bed9",
   "metadata": {},
   "source": [
    "[Back to the top](#table-of-contents)\n",
    "___\n"
   ]
  },
  {
   "cell_type": "markdown",
   "id": "547ba360",
   "metadata": {},
   "source": [
    "<a id=\"evaluation-summary\"></a>\n",
    "# 🧮 Evaluation Summary\n"
   ]
  },
  {
   "cell_type": "markdown",
   "id": "c43aaa3f",
   "metadata": {},
   "source": [
    "<a id=\"metric-comparison-table\"></a>\n",
    "#### 📊 Metric comparison table\n"
   ]
  },
  {
   "cell_type": "markdown",
   "id": "c17fb68a",
   "metadata": {},
   "source": [
    "<a id=\"actual-vs-predicted-plots\"></a>\n",
    "#### 📈 Actual vs predicted plots\n"
   ]
  },
  {
   "cell_type": "markdown",
   "id": "f83af0c5",
   "metadata": {},
   "source": [
    "[Back to the top](#table-of-contents)\n",
    "___\n"
   ]
  },
  {
   "cell_type": "markdown",
   "id": "cafc74c7",
   "metadata": {},
   "source": [
    "<a id=\"deployment-considerations\"></a>\n",
    "# 📦 Deployment Considerations\n"
   ]
  },
  {
   "cell_type": "markdown",
   "id": "1e5ab08a",
   "metadata": {},
   "source": [
    "<a id=\"what-to-save\"></a>\n",
    "#### 🧾 What to save\n"
   ]
  },
  {
   "cell_type": "markdown",
   "id": "9c52dfd7",
   "metadata": {
    "vscode": {
     "languageId": "plaintext"
    }
   },
   "source": [
    "<a id=\"re-forecasting-workflows\"></a>\n",
    "#### 🔄 Re-forecasting workflows\n"
   ]
  },
  {
   "cell_type": "markdown",
   "id": "cb025f18",
   "metadata": {},
   "source": [
    "[Back to the top](#table-of-contents)\n",
    "___\n"
   ]
  },
  {
   "cell_type": "markdown",
   "id": "c0c20cd2",
   "metadata": {},
   "source": [
    "<a id=\"closing-notes\"></a>\n",
    "# 🔚 Closing Notes\n"
   ]
  },
  {
   "cell_type": "markdown",
   "id": "bf977015",
   "metadata": {},
   "source": [
    "<a id=\"strengthslimits-recap\"></a>\n",
    "#### 🧠 Strengths/limits recap\n"
   ]
  },
  {
   "cell_type": "markdown",
   "id": "dff27536",
   "metadata": {},
   "source": [
    "<a id=\"next-steps\"></a>\n",
    "#### 🚀 Next steps\n"
   ]
  },
  {
   "cell_type": "markdown",
   "id": "858b3f9b",
   "metadata": {},
   "source": [
    "[Back to the top](#table-of-contents)\n",
    "___\n"
   ]
  }
 ],
 "metadata": {
  "kernelspec": {
   "display_name": "Python 3",
   "language": "python",
   "name": "python3"
  },
  "language_info": {
   "codemirror_mode": {
    "name": "ipython",
    "version": 3
   },
   "file_extension": ".py",
   "mimetype": "text/x-python",
   "name": "python",
   "nbconvert_exporter": "python",
   "pygments_lexer": "ipython3",
   "version": "3.9.6"
  }
 },
 "nbformat": 4,
 "nbformat_minor": 5
}
