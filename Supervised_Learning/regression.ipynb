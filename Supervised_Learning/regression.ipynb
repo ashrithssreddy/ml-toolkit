{
 "cells": [
  {
   "cell_type": "markdown",
   "metadata": {},
   "source": [
    "![Python](https://img.shields.io/badge/python-3.9-blue)\n",
    "![Status: Pending Migration](https://img.shields.io/badge/status-pending%20migration-orange)\n",
    "\n",
    "<a id=\"table-of-contents\"></a>\n",
    "# 📖 Regression\n",
    "\n",
    "- [🔍 Objective](#🔍-objective)\n",
    "    - [💡 Problem Framing](#💡-problem-framing)\n",
    "    - [📈 Why Regression?](#📈-why-regression)\n",
    "- [🧪 Data Setup](#🧪-data-setup)\n",
    "    - [📥 Load Dataset](#📥-load-dataset)\n",
    "    - [📊 Visual EDA](#📊-visual-eda)\n",
    "    - [🛠 Feature Engineering](#🛠-feature-engineering)\n",
    "    - [✂️ Train-Test Split](#✂️-train-test-split)\n",
    "- [🔄 Preprocessing](#🔄-preprocessing)\n",
    "    - [⚖️ Feature Scaling](#⚖️-feature-scaling)\n",
    "    - [🧹 Feature Selection (RFE)](#🧹-feature-selection-rfe)\n",
    "- [✅ Assumption Checks](#✅-assumption-checks)\n",
    "    - [📐 Linearity](#📐-linearity)\n",
    "    - [📉 Homoscedasticity](#📉-homoscedasticity)\n",
    "    - [📊 Normality of Residuals](#📊-normality-of-residuals)\n",
    "    - [🔗 Multicollinearity](#🔗-multicollinearity)\n",
    "    - [🔄 Independence](#🔄-independence)\n",
    "- [⚙️ Base Model: Linear Regression](#⚙️-base-model:-linear-regression)\n",
    "    - [🏗️ Model Fit](#🏗️-model-fit)\n",
    "    - [📏 Evaluation Metrics](#📏-evaluation-metrics)\n",
    "    - [🌀 Residual Analysis](#🌀-residual-analysis)\n",
    "- [🚨 Outlier Detection](#🚨-outlier-detection)\n",
    "    - [🔍 Leverage](#🔍-leverage)\n",
    "    - [🔥 Cook’s Distance](#🔥-cook’s-distance)\n",
    "    - [📉 Visual Diagnostics](#📉-visual-diagnostics)\n",
    "- [📊 Diagnostic Plots](#📊-diagnostic-plots)\n",
    "    - [🆚 Predicted vs Actual](#🆚-predicted-vs-actual)\n",
    "    - [🌀 Residual Plot](#🌀-residual-plot)\n",
    "    - [📈 QQ Plot](#📈-qq-plot)\n",
    "- [🧠 Interpretability](#🧠-interpretability)\n",
    "    - [🔢 Coefficients](#🔢-coefficients)\n",
    "    - [🧮 VIF](#🧮-vif)\n",
    "    - [📊 What impacts R²](#📊-what-impacts-r²)\n",
    "    - [🚨 Overfitting indicators](#🚨-overfitting-indicators)\n",
    "    - [🔬 SHAP / PDP](#🔬-shap-/-pdp)\n",
    "- [🧰 Regularized Models](#🧰-regularized-models)\n",
    "    - [📌 When to use regularization](#📌-when-to-use-regularization)\n",
    "    - [🧊 Ridge Regression](#🧊-ridge-regression)\n",
    "    - [🔥 Lasso Regression](#🔥-lasso-regression)\n",
    "    - [🧃 ElasticNet](#🧃-elasticnet)\n",
    "    - [🎯 Hyperparameter Tuning](#🎯-hyperparameter-tuning)\n",
    "- [🧾 Model Comparison Summary](#🧾-model-comparison-summary)\n",
    "- [📦 Ensemble Methods](#📦-ensemble-methods)\n",
    "    - [🪵 Bagging (Random Forest Regressor)](#🪵-bagging-random-forest-regressor)\n",
    "    - [🚀 Boosting (XGBoost, LightGBM)](#🚀-boosting-xgboost,-lightgbm)\n",
    "    - [🧠 Stacking (Meta-modeling)](#🧠-stacking-meta-modeling)\n",
    "\n",
    "<hr style=\"border: none; height: 1px; background-color: #ddd;\" />\n"
   ]
  },
  {
   "cell_type": "markdown",
   "metadata": {},
   "source": [
    "<a id=\"objective\"></a>\n",
    "# 🔍 Objective\n"
   ]
  },
  {
   "cell_type": "markdown",
   "metadata": {},
   "source": [
    "<a id=\"problem-framing\"></a>\n",
    "#### 💡 Problem Framing\n",
    "\n"
   ]
  },
  {
   "cell_type": "markdown",
   "metadata": {},
   "source": [
    "<a id=\"why-regression\"></a>\n",
    "#### 📈 Why Regression?"
   ]
  },
  {
   "cell_type": "markdown",
   "metadata": {},
   "source": [
    "[Back to the top](#table-of-contents)\n",
    "___\n",
    "\n"
   ]
  },
  {
   "cell_type": "markdown",
   "metadata": {},
   "source": [
    "<a id=\"data-setup\"></a>\n",
    "# 🧪 Data Setup"
   ]
  },
  {
   "cell_type": "markdown",
   "metadata": {},
   "source": [
    "<a id=\"load-dataset\"></a>\n",
    "#### 📥 Load Dataset"
   ]
  },
  {
   "cell_type": "markdown",
   "metadata": {},
   "source": [
    "<a id=\"visual-eda\"></a>\n",
    "#### 📊 Visual EDA"
   ]
  },
  {
   "cell_type": "markdown",
   "metadata": {},
   "source": [
    "<a id=\"feature-engineering\"></a>\n",
    "#### 🛠 Feature Engineering"
   ]
  },
  {
   "cell_type": "markdown",
   "metadata": {},
   "source": [
    "<a id=\"train-test-split\"></a>\n",
    "#### ✂️ Train-Test Split"
   ]
  },
  {
   "cell_type": "markdown",
   "metadata": {},
   "source": [
    "[Back to the top](#table-of-contents)\n",
    "___\n",
    "\n"
   ]
  },
  {
   "cell_type": "markdown",
   "metadata": {},
   "source": [
    "<a id=\"preprocessing\"></a>\n",
    "# 🔄 Preprocessing"
   ]
  },
  {
   "cell_type": "markdown",
   "metadata": {},
   "source": [
    "<a id=\"feature-scaling\"></a>\n",
    "#### ⚖️ Feature Scaling"
   ]
  },
  {
   "cell_type": "markdown",
   "metadata": {},
   "source": [
    "<a id=\"feature-selection\"></a>\n",
    "#### 🧹 Feature Selection (RFE)"
   ]
  },
  {
   "cell_type": "markdown",
   "metadata": {},
   "source": [
    "[Back to the top](#table-of-contents)\n",
    "___\n",
    "\n"
   ]
  },
  {
   "cell_type": "markdown",
   "metadata": {},
   "source": [
    "<a id=\"assumption-checks\"></a>\n",
    "# ✅ Assumption Checks"
   ]
  },
  {
   "cell_type": "markdown",
   "metadata": {},
   "source": [
    "<a id=\"linearity-check\"></a>\n",
    "#### 📐 Linearity"
   ]
  },
  {
   "cell_type": "markdown",
   "metadata": {},
   "source": [
    "<a id=\"homoscedasticity\"></a>\n",
    "#### 📉 Homoscedasticity"
   ]
  },
  {
   "cell_type": "markdown",
   "metadata": {},
   "source": [
    "<a id=\"normality-check\"></a>\n",
    "#### 📊 Normality of Residuals"
   ]
  },
  {
   "cell_type": "markdown",
   "metadata": {},
   "source": [
    "<a id=\"multicollinearity\"></a>\n",
    "#### 🔗 Multicollinearity"
   ]
  },
  {
   "cell_type": "markdown",
   "metadata": {},
   "source": [
    "<a id=\"independence\"></a>\n",
    "#### 🔄 Independence"
   ]
  },
  {
   "cell_type": "markdown",
   "metadata": {},
   "source": [
    "[Back to the top](#table-of-contents)\n",
    "___\n",
    "\n"
   ]
  },
  {
   "cell_type": "markdown",
   "metadata": {},
   "source": [
    "<a id=\"linear-regression\"></a>\n",
    "# ⚙️ Base Model: Linear Regression"
   ]
  },
  {
   "cell_type": "markdown",
   "metadata": {},
   "source": [
    "<a id=\"fit-model\"></a>\n",
    "#### 🏗️ Model Fit"
   ]
  },
  {
   "cell_type": "markdown",
   "metadata": {},
   "source": [
    "<a id=\"evaluation-metrics\"></a>\n",
    "#### 📏 Evaluation Metrics"
   ]
  },
  {
   "cell_type": "markdown",
   "metadata": {},
   "source": [
    "<a id=\"residual-analysis\"></a>\n",
    "#### 🌀 Residual Analysis"
   ]
  },
  {
   "cell_type": "markdown",
   "metadata": {},
   "source": [
    "[Back to the top](#table-of-contents)\n",
    "___\n",
    "\n"
   ]
  },
  {
   "cell_type": "markdown",
   "metadata": {},
   "source": [
    "<a id=\"outlier-detection\"></a>\n",
    "# 🚨 Outlier Detection"
   ]
  },
  {
   "cell_type": "markdown",
   "metadata": {},
   "source": [
    "<a id=\"leverage-points\"></a>\n",
    "#### 🔍 Leverage"
   ]
  },
  {
   "cell_type": "markdown",
   "metadata": {},
   "source": [
    "<a id=\"cooks-distance\"></a>\n",
    "#### 🔥 Cook’s Distance"
   ]
  },
  {
   "cell_type": "markdown",
   "metadata": {},
   "source": [
    "<a id=\"outlier-visuals\"></a>\n",
    "#### 📉 Visual Diagnostics"
   ]
  },
  {
   "cell_type": "markdown",
   "metadata": {},
   "source": [
    "[Back to the top](#table-of-contents)\n",
    "___\n",
    "\n"
   ]
  },
  {
   "cell_type": "markdown",
   "metadata": {},
   "source": [
    "<a id=\"diagnostic-plots\"></a>\n",
    "# 📊 Diagnostic Plots\n"
   ]
  },
  {
   "cell_type": "markdown",
   "metadata": {},
   "source": [
    "<a id=\"pred-vs-actual\"></a>\n",
    "#### 🆚 Predicted vs Actual"
   ]
  },
  {
   "cell_type": "markdown",
   "metadata": {},
   "source": [
    "<a id=\"residual-plot\"></a>\n",
    "#### 🌀 Residual Plot"
   ]
  },
  {
   "cell_type": "markdown",
   "metadata": {},
   "source": [
    "<a id=\"qq-plot\"></a>\n",
    "#### 📈 QQ Plot"
   ]
  },
  {
   "cell_type": "markdown",
   "metadata": {},
   "source": [
    "[Back to the top](#table-of-contents)\n",
    "___\n",
    "\n"
   ]
  },
  {
   "cell_type": "markdown",
   "metadata": {},
   "source": [
    "<a id=\"interpretability\"></a>\n",
    "# 🧠 Interpretability"
   ]
  },
  {
   "cell_type": "markdown",
   "metadata": {},
   "source": [
    "<a id=\"coefficients\"></a>\n",
    "#### 🔢 Coefficients"
   ]
  },
  {
   "cell_type": "markdown",
   "metadata": {},
   "source": [
    "<a id=\"vif\"></a>\n",
    "#### 🧮 VIF\n",
    "\n"
   ]
  },
  {
   "cell_type": "markdown",
   "metadata": {},
   "source": [
    "<a id=\"r2-factors\"></a>\n",
    "#### 📊 What impacts R²\n"
   ]
  },
  {
   "cell_type": "markdown",
   "metadata": {},
   "source": [
    "<a id=\"overfitting\"></a>\n",
    "#### 🚨 Overfitting indicators\n"
   ]
  },
  {
   "cell_type": "markdown",
   "metadata": {},
   "source": [
    "<a id=\"shap\"></a>\n",
    "#### 🔬 SHAP / PDP\n",
    "\n"
   ]
  },
  {
   "cell_type": "markdown",
   "metadata": {},
   "source": [
    "[Back to the top](#table-of-contents)\n",
    "___\n",
    "\n"
   ]
  },
  {
   "cell_type": "markdown",
   "metadata": {},
   "source": [
    "<a id=\"regularized-models\"></a>\n",
    "# 🧰 Regularized Models\n",
    "\n",
    "<a id=\"when-regularize\"></a>\n",
    "#### 📌 When to use regularization\n",
    "\n"
   ]
  },
  {
   "cell_type": "markdown",
   "metadata": {},
   "source": [
    "<a id=\"ridge-regression\"></a>\n",
    "#### 🧊 Ridge Regression\n"
   ]
  },
  {
   "cell_type": "markdown",
   "metadata": {},
   "source": [
    "<a id=\"lasso-regression\"></a>\n",
    "#### 🔥 Lasso Regression\n"
   ]
  },
  {
   "cell_type": "markdown",
   "metadata": {},
   "source": [
    "<a id=\"elasticnet\"></a>\n",
    "#### 🧃 ElasticNet\n"
   ]
  },
  {
   "cell_type": "markdown",
   "metadata": {},
   "source": [
    "<a id=\"hyperparameter-tuning\"></a>\n",
    "#### 🎯 Hyperparameter Tuning"
   ]
  },
  {
   "cell_type": "markdown",
   "metadata": {},
   "source": [
    "[Back to the top](#table-of-contents)\n",
    "___\n",
    "\n"
   ]
  },
  {
   "cell_type": "markdown",
   "metadata": {},
   "source": [
    "<a id=\"model-comparison\"></a>\n",
    "# 🧾 Model Comparison Summary"
   ]
  },
  {
   "cell_type": "markdown",
   "metadata": {},
   "source": [
    "[Back to the top](#table-of-contents)\n",
    "___"
   ]
  },
  {
   "cell_type": "markdown",
   "metadata": {},
   "source": [
    "<a id=\"ensemble-methods\"></a>\n",
    "# 📦 Ensemble Methods"
   ]
  },
  {
   "cell_type": "markdown",
   "metadata": {},
   "source": [
    "<a id=\"bagging\"></a>\n",
    "#### 🪵 Bagging (Random Forest Regressor)"
   ]
  },
  {
   "cell_type": "markdown",
   "metadata": {},
   "source": [
    "<a id=\"boosting\"></a>\n",
    "#### 🚀 Boosting (XGBoost, LightGBM)"
   ]
  },
  {
   "cell_type": "markdown",
   "metadata": {},
   "source": [
    "<a id=\"stacking\"></a>\n",
    "#### 🧠 Stacking (Meta-modeling)"
   ]
  },
  {
   "cell_type": "markdown",
   "metadata": {},
   "source": [
    "[Back to the top](#table-of-contents)\n",
    "___\n",
    "\n"
   ]
  }
 ],
 "metadata": {
  "kernelspec": {
   "display_name": "Python [conda env:base]",
   "language": "python",
   "name": "conda-base-py"
  },
  "language_info": {
   "codemirror_mode": {
    "name": "ipython",
    "version": 3
   },
   "file_extension": ".py",
   "mimetype": "text/x-python",
   "name": "python",
   "nbconvert_exporter": "python",
   "pygments_lexer": "ipython3",
   "version": "3.12.7"
  }
 },
 "nbformat": 4,
 "nbformat_minor": 4
}
