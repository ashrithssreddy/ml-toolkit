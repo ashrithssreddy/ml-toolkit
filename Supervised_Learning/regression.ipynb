{
 "cells": [
  {
   "cell_type": "markdown",
   "metadata": {},
   "source": [
    "<a id=\"table-of-contents\"></a>\n",
    "# 📖 Table of Contents\n",
    "\n",
    "[🔍 Objective](#objective)  \n",
    "- [💡 Problem Framing](#problem-framing)  \n",
    "- [📈 Why Regression?](#why-regression)\n",
    "\n",
    "[🧪 Data Setup](#data-setup)  \n",
    "- [📥 Load Dataset](#load-dataset)  \n",
    "- [📊 Visual EDA](#visual-eda)  \n",
    "- [🛠 Feature Engineering](#feature-engineering)  \n",
    "- [✂️ Train-Test Split](#train-test-split)\n",
    "\n",
    "[🔄 Preprocessing](#preprocessing)  \n",
    "- [⚖️ Feature Scaling](#feature-scaling)  \n",
    "- [🧹 Feature Selection (RFE)](#feature-selection)\n",
    "\n",
    "[✅ Assumption Checks](#assumption-checks)  \n",
    "- [📐 Linearity](#linearity-check)  \n",
    "- [📉 Homoscedasticity](#homoscedasticity)  \n",
    "- [📊 Normality of Residuals](#normality-check)  \n",
    "- [🔗 Multicollinearity](#multicollinearity)  \n",
    "- [🔄 Independence](#independence)\n",
    "\n",
    "[⚙️ Base Model: Linear Regression](#linear-regression)  \n",
    "- [🏗️ Model Fit](#fit-model)  \n",
    "- [📏 Evaluation Metrics](#evaluation-metrics)  \n",
    "- [🌀 Residual Analysis](#residual-analysis)\n",
    "\n",
    "[🚨 Outlier Detection](#outlier-detection)  \n",
    "- [🔍 Leverage](#leverage-points)  \n",
    "- [🔥 Cook’s Distance](#cooks-distance)  \n",
    "- [📉 Visual Diagnostics](#outlier-visuals)\n",
    "\n",
    "[🧰 Regularized Models](#regularized-models)  \n",
    "- [🧊 Ridge Regression](#ridge-regression)  \n",
    "- [🔥 Lasso Regression](#lasso-regression)  \n",
    "- [🧃 ElasticNet](#elasticnet)  \n",
    "- [🎯 Hyperparameter Tuning](#hyperparameter-tuning)\n",
    "\n",
    "[📊 Diagnostic Plots](#diagnostic-plots)  \n",
    "- [🆚 Predicted vs Actual](#pred-vs-actual)  \n",
    "- [🌀 Residual Plot](#residual-plot)  \n",
    "- [📈 QQ Plot](#qq-plot)\n",
    "\n",
    "[🧠 Interpretability](#interpretability)  \n",
    "- [🔢 Coefficients](#coefficients)  \n",
    "- [🧮 VIF](#vif)  \n",
    "- [🔬 SHAP / PDP](#shap)\n",
    "\n",
    "[🧾 Model Comparison Summary](#model-comparison)\n",
    "\n",
    "[📌 Final Summary](#final-summary)\n",
    "\n",
    "[❓ FAQ / Notes](#faq)  \n",
    "- [📌 When to use regularization](#when-regularize)  \n",
    "- [📊 What impacts R²](#r2-factors)  \n",
    "- [🚨 Overfitting indicators](#overfitting)\n",
    "\n",
    "<hr style=\"border: none; height: 1px; background-color: #ddd;\" />\n"
   ]
  },
  {
   "cell_type": "markdown",
   "metadata": {},
   "source": [
    "<a id=\"objective\"></a>\n",
    "# 🔍 Objective\n"
   ]
  },
  {
   "cell_type": "markdown",
   "metadata": {},
   "source": [
    "<a id=\"problem-framing\"></a>\n",
    "#### 💡 Problem Framing\n",
    "\n"
   ]
  },
  {
   "cell_type": "markdown",
   "metadata": {},
   "source": [
    "<a id=\"why-regression\"></a>\n",
    "#### 📈 Why Regression?"
   ]
  },
  {
   "cell_type": "markdown",
   "metadata": {},
   "source": [
    "[Back to the top](#table-of-contents)\n",
    "___\n",
    "\n"
   ]
  },
  {
   "cell_type": "markdown",
   "metadata": {},
   "source": [
    "<a id=\"data-setup\"></a>\n",
    "# 🧪 Data Setup"
   ]
  },
  {
   "cell_type": "markdown",
   "metadata": {},
   "source": [
    "<a id=\"load-dataset\"></a>\n",
    "#### 📥 Load Dataset"
   ]
  },
  {
   "cell_type": "markdown",
   "metadata": {},
   "source": [
    "<a id=\"visual-eda\"></a>\n",
    "#### 📊 Visual EDA"
   ]
  },
  {
   "cell_type": "markdown",
   "metadata": {},
   "source": [
    "<a id=\"feature-engineering\"></a>\n",
    "#### 🛠 Feature Engineering"
   ]
  },
  {
   "cell_type": "markdown",
   "metadata": {},
   "source": [
    "<a id=\"train-test-split\"></a>\n",
    "#### ✂️ Train-Test Split"
   ]
  },
  {
   "cell_type": "markdown",
   "metadata": {},
   "source": [
    "[Back to the top](#table-of-contents)\n",
    "___\n",
    "\n"
   ]
  },
  {
   "cell_type": "markdown",
   "metadata": {},
   "source": [
    "<a id=\"preprocessing\"></a>\n",
    "# 🔄 Preprocessing"
   ]
  },
  {
   "cell_type": "markdown",
   "metadata": {},
   "source": [
    "<a id=\"feature-scaling\"></a>\n",
    "#### ⚖️ Feature Scaling"
   ]
  },
  {
   "cell_type": "markdown",
   "metadata": {},
   "source": [
    "<a id=\"feature-selection\"></a>\n",
    "#### 🧹 Feature Selection (RFE)"
   ]
  },
  {
   "cell_type": "markdown",
   "metadata": {},
   "source": [
    "[Back to the top](#table-of-contents)\n",
    "___\n",
    "\n"
   ]
  },
  {
   "cell_type": "markdown",
   "metadata": {},
   "source": [
    "<a id=\"assumption-checks\"></a>\n",
    "# ✅ Assumption Checks"
   ]
  },
  {
   "cell_type": "markdown",
   "metadata": {},
   "source": [
    "<a id=\"linearity-check\"></a>\n",
    "#### 📐 Linearity"
   ]
  },
  {
   "cell_type": "markdown",
   "metadata": {},
   "source": [
    "<a id=\"homoscedasticity\"></a>\n",
    "#### 📉 Homoscedasticity"
   ]
  },
  {
   "cell_type": "markdown",
   "metadata": {},
   "source": [
    "<a id=\"normality-check\"></a>\n",
    "#### 📊 Normality of Residuals"
   ]
  },
  {
   "cell_type": "markdown",
   "metadata": {},
   "source": [
    "<a id=\"multicollinearity\"></a>\n",
    "#### 🔗 Multicollinearity"
   ]
  },
  {
   "cell_type": "markdown",
   "metadata": {},
   "source": [
    "<a id=\"independence\"></a>\n",
    "#### 🔄 Independence"
   ]
  },
  {
   "cell_type": "markdown",
   "metadata": {},
   "source": [
    "[Back to the top](#table-of-contents)\n",
    "___\n",
    "\n"
   ]
  },
  {
   "cell_type": "markdown",
   "metadata": {},
   "source": [
    "<a id=\"linear-regression\"></a>\n",
    "# ⚙️ Base Model: Linear Regression"
   ]
  },
  {
   "cell_type": "markdown",
   "metadata": {},
   "source": [
    "<a id=\"fit-model\"></a>\n",
    "#### 🏗️ Model Fit"
   ]
  },
  {
   "cell_type": "markdown",
   "metadata": {},
   "source": [
    "<a id=\"evaluation-metrics\"></a>\n",
    "#### 📏 Evaluation Metrics"
   ]
  },
  {
   "cell_type": "markdown",
   "metadata": {},
   "source": [
    "<a id=\"residual-analysis\"></a>\n",
    "#### 🌀 Residual Analysis"
   ]
  },
  {
   "cell_type": "markdown",
   "metadata": {},
   "source": [
    "[Back to the top](#table-of-contents)\n",
    "___\n",
    "\n"
   ]
  },
  {
   "cell_type": "markdown",
   "metadata": {},
   "source": [
    "<a id=\"outlier-detection\"></a>\n",
    "# 🚨 Outlier Detection"
   ]
  },
  {
   "cell_type": "markdown",
   "metadata": {},
   "source": [
    "<a id=\"leverage-points\"></a>\n",
    "#### 🔍 Leverage"
   ]
  },
  {
   "cell_type": "markdown",
   "metadata": {},
   "source": [
    "<a id=\"cooks-distance\"></a>\n",
    "#### 🔥 Cook’s Distance"
   ]
  },
  {
   "cell_type": "markdown",
   "metadata": {},
   "source": [
    "<a id=\"outlier-visuals\"></a>\n",
    "#### 📉 Visual Diagnostics"
   ]
  },
  {
   "cell_type": "markdown",
   "metadata": {},
   "source": [
    "[Back to the top](#table-of-contents)\n",
    "___\n",
    "\n"
   ]
  },
  {
   "cell_type": "markdown",
   "metadata": {},
   "source": [
    "<a id=\"regularized-models\"></a>\n",
    "# 🧰 Regularized Models"
   ]
  },
  {
   "cell_type": "markdown",
   "metadata": {},
   "source": [
    "<a id=\"ridge-regression\"></a>\n",
    "#### 🧊 Ridge Regression"
   ]
  },
  {
   "cell_type": "markdown",
   "metadata": {},
   "source": [
    "<a id=\"lasso-regression\"></a>\n",
    "#### 🔥 Lasso Regression"
   ]
  },
  {
   "cell_type": "markdown",
   "metadata": {},
   "source": [
    "<a id=\"elasticnet\"></a>\n",
    "#### 🧃 ElasticNet"
   ]
  },
  {
   "cell_type": "markdown",
   "metadata": {},
   "source": [
    "<a id=\"hyperparameter-tuning\"></a>\n",
    "#### 🎯 Hyperparameter Tuning"
   ]
  },
  {
   "cell_type": "markdown",
   "metadata": {},
   "source": [
    "[Back to the top](#table-of-contents)\n",
    "___\n",
    "\n"
   ]
  },
  {
   "cell_type": "markdown",
   "metadata": {},
   "source": [
    "<a id=\"diagnostic-plots\"></a>\n",
    "# 📊 Diagnostic Plots\n"
   ]
  },
  {
   "cell_type": "markdown",
   "metadata": {},
   "source": [
    "<a id=\"pred-vs-actual\"></a>\n",
    "#### 🆚 Predicted vs Actual"
   ]
  },
  {
   "cell_type": "markdown",
   "metadata": {},
   "source": [
    "<a id=\"residual-plot\"></a>\n",
    "#### 🌀 Residual Plot"
   ]
  },
  {
   "cell_type": "markdown",
   "metadata": {},
   "source": [
    "<a id=\"qq-plot\"></a>\n",
    "#### 📈 QQ Plot"
   ]
  },
  {
   "cell_type": "markdown",
   "metadata": {},
   "source": [
    "[Back to the top](#table-of-contents)\n",
    "___\n",
    "\n"
   ]
  },
  {
   "cell_type": "markdown",
   "metadata": {},
   "source": [
    "<a id=\"interpretability\"></a>\n",
    "# 🧠 Interpretability"
   ]
  },
  {
   "cell_type": "markdown",
   "metadata": {},
   "source": [
    "<a id=\"coefficients\"></a>\n",
    "#### 🔢 Coefficients"
   ]
  },
  {
   "cell_type": "markdown",
   "metadata": {},
   "source": [
    "<a id=\"vif\"></a>\n",
    "#### 🧮 VIF\n",
    "\n"
   ]
  },
  {
   "cell_type": "markdown",
   "metadata": {},
   "source": [
    "<a id=\"shap\"></a>\n",
    "#### 🔬 SHAP / PDP\n",
    "\n"
   ]
  },
  {
   "cell_type": "markdown",
   "metadata": {},
   "source": [
    "[Back to the top](#table-of-contents)\n",
    "___\n",
    "\n"
   ]
  },
  {
   "cell_type": "markdown",
   "metadata": {},
   "source": [
    "<a id=\"model-comparison\"></a>\n",
    "# 🧾 Model Comparison Summary"
   ]
  },
  {
   "cell_type": "markdown",
   "metadata": {},
   "source": [
    "[Back to the top](#table-of-contents)\n",
    "___\n",
    "\n"
   ]
  },
  {
   "cell_type": "markdown",
   "metadata": {},
   "source": [
    "<a id=\"final-summary\"></a>\n",
    "# 📌 Final Summary"
   ]
  },
  {
   "cell_type": "markdown",
   "metadata": {},
   "source": [
    "[Back to the top](#table-of-contents)\n",
    "___\n",
    "\n"
   ]
  },
  {
   "cell_type": "markdown",
   "metadata": {},
   "source": [
    "<a id=\"faq\"></a>\n",
    "# ❓ FAQ / Notes"
   ]
  },
  {
   "cell_type": "markdown",
   "metadata": {},
   "source": [
    "<a id=\"when-regularize\"></a>\n",
    "#### 📌 When to use regularization\n",
    "\n"
   ]
  },
  {
   "cell_type": "markdown",
   "metadata": {},
   "source": [
    "<a id=\"r2-factors\"></a>\n",
    "#### 📊 What impacts R²\n",
    "\n"
   ]
  },
  {
   "cell_type": "markdown",
   "metadata": {},
   "source": [
    "<a id=\"overfitting\"></a>\n",
    "#### 🚨 Overfitting indicators\n"
   ]
  },
  {
   "cell_type": "markdown",
   "metadata": {},
   "source": [
    "[Back to the top](#table-of-contents)\n",
    "___\n",
    "\n"
   ]
  }
 ],
 "metadata": {
  "kernelspec": {
   "display_name": "base",
   "language": "python",
   "name": "python3"
  },
  "language_info": {
   "codemirror_mode": {
    "name": "ipython",
    "version": 3
   },
   "file_extension": ".py",
   "mimetype": "text/x-python",
   "name": "python",
   "nbconvert_exporter": "python",
   "pygments_lexer": "ipython3",
   "version": "3.11.3"
  }
 },
 "nbformat": 4,
 "nbformat_minor": 2
}
