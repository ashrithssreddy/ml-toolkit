{
 "cells": [
  {
   "cell_type": "markdown",
   "id": "d035e9c8",
   "metadata": {},
   "source": [
    "<a id=\"table-of-contents\"></a>\n",
    "# 📖 Table of Contents\n",
    "\n",
    "1. [📚 Classification Overview](#classification-overview)\n",
    "2. [🧰 Data Setup](#data-setup)\n",
    "    - [📚 Libraries](#libraries)\n",
    "    - [📄 Sample Data](#sample-data)\n",
    "    - [📊 Data Characteristics Dictionary](#data-characteristics-dictionary)\n",
    "3. [📊 EDA](#eda)\n",
    "    - [🎯 Analyzing Target Variable](#analyze-target-variable)\n",
    "    - [🔢 Identifying Feature Types](#analyze-feature-types)\n",
    "    - [📊 Feature Correlations](#analyze-feature-correlations)\n",
    "    - [🚨 Analyzing Outliers](#analyze-outliers)\n",
    "    - [🛠️ Missing Data](#analyze-missing-data)\n",
    "    - [📈 Data Size](#analyze-data-size)\n",
    "    - [🧠 Linear Separability](#analyze-linear-separability)\n",
    "___\n",
    "\n"
   ]
  },
  {
   "cell_type": "markdown",
   "id": "ca01ccc1",
   "metadata": {},
   "source": [
    "<a id=\"classification-overview\"></a>\n",
    "# 📚 Classification Overview\n",
    "\n",
    "<details><summary><strong>📖 Click to Expand</strong></summary>\n",
    "Classification is a type of supervised machine learning where the goal is to predict a categorical label for an observation. Given a set of features (input data), the model tries to assign the observation to one of several predefined classes. Common examples of classification problems include:\n",
    "- **Spam detection**: Classifying emails as spam or not.\n",
    "- **Customer churn prediction**: Classifying customers as likely to leave (churn) or stay based on their activity.\n",
    "- **Image recognition**: Classifying images into categories, like identifying animals, vehicles, etc.\n",
    "\n",
    "In classification, the output is discrete (e.g., 'spam' vs 'not spam', 'churn' vs 'no churn'). This contrasts with regression, where the output is continuous (e.g., predicting a house price).\n",
    "\n",
    "##### Key Points\n",
    "- Supervised learning approach.\n",
    "- Used for predicting categories.\n",
    "- Output is discrete (binary or multiclass).\n",
    "- Examples: email classification, disease diagnosis, fraud detection.\n",
    "\n",
    "</details>\n",
    "\n"
   ]
  },
  {
   "cell_type": "markdown",
   "id": "1edb4bf2",
   "metadata": {},
   "source": [
    "[Back to the top](#table-of-contents)\n",
    "___\n"
   ]
  },
  {
   "cell_type": "markdown",
   "id": "7b631b05",
   "metadata": {},
   "source": [
    "# 📊 Data Setup\n",
    "<a id=\"data-setup\"></a>"
   ]
  },
  {
   "cell_type": "markdown",
   "id": "c3a337b6",
   "metadata": {},
   "source": [
    "<a id=\"libraries\"></a>\n",
    "#### 📚 Libraries"
   ]
  },
  {
   "cell_type": "code",
   "execution_count": null,
   "id": "0fbb80db",
   "metadata": {},
   "outputs": [],
   "source": [
    "# Data handling and manipulation\n",
    "import pandas as pd\n",
    "import numpy as np\n",
    "\n",
    "# Machine Learning and Model Evaluation\n",
    "from sklearn.datasets import make_classification\n",
    "from sklearn.model_selection import train_test_split, TimeSeriesSplit, KFold\n",
    "from sklearn.decomposition import PCA\n",
    "from sklearn.dummy import DummyClassifier\n",
    "from sklearn.metrics import accuracy_score, classification_report, confusion_matrix\n",
    "\n",
    "# Statistical and Other Utilities\n",
    "from scipy.stats import zscore\n",
    "from termcolor import colored\n",
    "\n",
    "# Visualization\n",
    "import matplotlib.pyplot as plt"
   ]
  },
  {
   "cell_type": "markdown",
   "id": "bd8349a8",
   "metadata": {},
   "source": [
    "<a id=\"sample-data\"></a>\n",
    "#### 🧾 Sample Data\n",
    "\n",
    "\n",
    "<details><summary><strong>📖 Click to Expand</strong></summary>\n",
    "In this section, we will begin by preparing the dataset. For simplicity, we'll use a simulated classification dataset generated using the `make_classification` function from `sklearn`. This allows us to create a synthetic dataset that is suitable for practicing classification tasks.\n",
    "\n",
    "We will simulate a dataset with the following properties:\n",
    "- 1000 samples (observations)\n",
    "- 10 features (predictors)\n",
    "- 2 informative features (ones that help in prediction)\n",
    "- 2 classes (binary classification problem)\n",
    "\n",
    "Let's generate and take a look at the data.\n",
    "\n",
    "</details>"
   ]
  },
  {
   "cell_type": "code",
   "execution_count": null,
   "id": "b354f1c4",
   "metadata": {},
   "outputs": [
    {
     "data": {
      "text/html": [
       "<div>\n",
       "<style scoped>\n",
       "    .dataframe tbody tr th:only-of-type {\n",
       "        vertical-align: middle;\n",
       "    }\n",
       "\n",
       "    .dataframe tbody tr th {\n",
       "        vertical-align: top;\n",
       "    }\n",
       "\n",
       "    .dataframe thead th {\n",
       "        text-align: right;\n",
       "    }\n",
       "</style>\n",
       "<table border=\"1\" class=\"dataframe\">\n",
       "  <thead>\n",
       "    <tr style=\"text-align: right;\">\n",
       "      <th></th>\n",
       "      <th>Feature_1</th>\n",
       "      <th>Feature_2</th>\n",
       "      <th>Feature_3</th>\n",
       "      <th>Feature_4</th>\n",
       "      <th>Feature_5</th>\n",
       "      <th>Feature_6</th>\n",
       "      <th>Feature_7</th>\n",
       "      <th>Feature_8</th>\n",
       "      <th>Feature_9</th>\n",
       "      <th>Feature_10</th>\n",
       "      <th>Target</th>\n",
       "    </tr>\n",
       "  </thead>\n",
       "  <tbody>\n",
       "    <tr>\n",
       "      <th>0</th>\n",
       "      <td>0.964799</td>\n",
       "      <td>-0.066449</td>\n",
       "      <td>0.986768</td>\n",
       "      <td>-0.358079</td>\n",
       "      <td>0.997266</td>\n",
       "      <td>1.181890</td>\n",
       "      <td>-1.615679</td>\n",
       "      <td>-1.210161</td>\n",
       "      <td>-0.628077</td>\n",
       "      <td>1.227274</td>\n",
       "      <td>0</td>\n",
       "    </tr>\n",
       "    <tr>\n",
       "      <th>1</th>\n",
       "      <td>-0.916511</td>\n",
       "      <td>-0.566395</td>\n",
       "      <td>-1.008614</td>\n",
       "      <td>0.831617</td>\n",
       "      <td>-1.176962</td>\n",
       "      <td>1.820544</td>\n",
       "      <td>1.752375</td>\n",
       "      <td>-0.984534</td>\n",
       "      <td>0.363896</td>\n",
       "      <td>0.209470</td>\n",
       "      <td>1</td>\n",
       "    </tr>\n",
       "    <tr>\n",
       "      <th>2</th>\n",
       "      <td>-0.109484</td>\n",
       "      <td>-0.432774</td>\n",
       "      <td>-0.457649</td>\n",
       "      <td>0.793818</td>\n",
       "      <td>-0.268646</td>\n",
       "      <td>-1.836360</td>\n",
       "      <td>1.239086</td>\n",
       "      <td>-0.246383</td>\n",
       "      <td>-1.058145</td>\n",
       "      <td>-0.297376</td>\n",
       "      <td>1</td>\n",
       "    </tr>\n",
       "    <tr>\n",
       "      <th>3</th>\n",
       "      <td>1.750412</td>\n",
       "      <td>2.023606</td>\n",
       "      <td>1.688159</td>\n",
       "      <td>0.006800</td>\n",
       "      <td>-1.607661</td>\n",
       "      <td>0.184741</td>\n",
       "      <td>-2.619427</td>\n",
       "      <td>-0.357445</td>\n",
       "      <td>-1.473127</td>\n",
       "      <td>-0.190039</td>\n",
       "      <td>0</td>\n",
       "    </tr>\n",
       "    <tr>\n",
       "      <th>4</th>\n",
       "      <td>-0.224726</td>\n",
       "      <td>-0.711303</td>\n",
       "      <td>-0.220778</td>\n",
       "      <td>0.117124</td>\n",
       "      <td>1.536061</td>\n",
       "      <td>0.597538</td>\n",
       "      <td>0.348645</td>\n",
       "      <td>-0.939156</td>\n",
       "      <td>0.175915</td>\n",
       "      <td>0.236224</td>\n",
       "      <td>1</td>\n",
       "    </tr>\n",
       "  </tbody>\n",
       "</table>\n",
       "</div>"
      ],
      "text/plain": [
       "   Feature_1  Feature_2  Feature_3  Feature_4  Feature_5  Feature_6  \\\n",
       "0   0.964799  -0.066449   0.986768  -0.358079   0.997266   1.181890   \n",
       "1  -0.916511  -0.566395  -1.008614   0.831617  -1.176962   1.820544   \n",
       "2  -0.109484  -0.432774  -0.457649   0.793818  -0.268646  -1.836360   \n",
       "3   1.750412   2.023606   1.688159   0.006800  -1.607661   0.184741   \n",
       "4  -0.224726  -0.711303  -0.220778   0.117124   1.536061   0.597538   \n",
       "\n",
       "   Feature_7  Feature_8  Feature_9  Feature_10  Target  \n",
       "0  -1.615679  -1.210161  -0.628077    1.227274       0  \n",
       "1   1.752375  -0.984534   0.363896    0.209470       1  \n",
       "2   1.239086  -0.246383  -1.058145   -0.297376       1  \n",
       "3  -2.619427  -0.357445  -1.473127   -0.190039       0  \n",
       "4   0.348645  -0.939156   0.175915    0.236224       1  "
      ]
     },
     "execution_count": 1,
     "metadata": {},
     "output_type": "execute_result"
    }
   ],
   "source": [
    "# Simulating a classification dataset\n",
    "X, y = make_classification(n_samples=1000, n_features=10, n_informative=2, n_classes=2, random_state=42)\n",
    "\n",
    "# Converting to a DataFrame for easier handling\n",
    "df = pd.DataFrame(X, columns=[f\"Feature_{i}\" for i in range(1, 11)])\n",
    "df['Target'] = y\n",
    "\n",
    "# Display the first few rows of the dataset\n",
    "df.head()\n"
   ]
  },
  {
   "cell_type": "markdown",
   "id": "9243de8a",
   "metadata": {},
   "source": [
    "<a id=\"data-characteristics-dictionary\"></a>\n",
    "\n",
    "#### 📊 Data Characteristics Dictionary\n",
    "\n",
    "<details><summary><strong>📖 Click to Expand Explanation</strong></summary>\n",
    "\n",
    "This section initializes the **data characteristics dictionary**, which will store various metadata about the dataset, including details about the target variable, features, data size, and linear separability.\n",
    "\n",
    "The dictionary contains the following key sections:\n",
    "\n",
    "1. **🎯 Target Variable**:\n",
    "   - **Type**: Specifies whether the target variable is **binary** or **multiclass**.\n",
    "   - **Imbalance**: Indicates whether the target variable has **class imbalance**.\n",
    "   - **Class Imbalance Severity**: Specifies the severity of the imbalance (e.g., **high**, **low**).\n",
    "\n",
    "2. **🔧 Features**:\n",
    "   - **Type**: Describes the type of features in the dataset (e.g., **categorical**, **continuous**, or **mixed**).\n",
    "   - **Correlation**: Indicates the correlation between features (e.g., **low**, **medium**, **high**).\n",
    "   - **Outliers**: Flag to indicate whether **outliers** are detected in the features.\n",
    "   - **Missing Data**: Tracks the percentage of **missing data** or flags missing values.\n",
    "\n",
    "3. **📈 Data Size**:\n",
    "   - **Size**: Contains the **number of samples** (rows) and **number of features** (columns).\n",
    "\n",
    "4. **🔍 Linear Separability**:\n",
    "   - **Linear Separability**: States whether the classes are **linearly separable** (True or False).\n",
    "\n",
    "This dictionary will be updated dynamically as we analyze the dataset in subsequent steps. It serves as a **summary of key dataset properties** to help guide further analysis and modeling decisions.\n",
    "\n",
    "</details>\n"
   ]
  },
  {
   "cell_type": "code",
   "execution_count": 2,
   "id": "a0bc981b",
   "metadata": {},
   "outputs": [],
   "source": [
    "# Initialize the data characteristics dictionary\n",
    "data_characteristics = {\n",
    "    \"target_variable\": {\n",
    "        \"type\": None,  # \"binary\", \"multiclass\"\n",
    "        \"imbalance\": None,  # True if imbalanced, False otherwise\n",
    "        \"class_imbalance_severity\": None  # e.g., \"high\", \"low\"\n",
    "    },\n",
    "    \"features\": {\n",
    "        \"type\": None,  # \"categorical\", \"continuous\", \"mixed\"\n",
    "        \"correlation\": None,  # \"low\", \"medium\", \"high\"\n",
    "        \"outliers\": None,  # True if outliers detected, False otherwise\n",
    "        \"missing_data\": None  # Percentage of missing data or boolean\n",
    "    },\n",
    "    \"data_size\": None,  # Size of dataset (samples, features)\n",
    "    \"linear_separability\": None  # True if classes are linearly separable\n",
    "}\n"
   ]
  },
  {
   "cell_type": "markdown",
   "id": "87d1becd",
   "metadata": {},
   "source": [
    "[Back to the top](#table-of-contents)\n",
    "___\n"
   ]
  },
  {
   "cell_type": "markdown",
   "id": "4f077732",
   "metadata": {},
   "source": [
    "<a id=\"eda\"></a>\n",
    "# 📊 EDA\n",
    "\n",
    "<details><summary><strong>📖 Click to Expand Explanation</strong></summary>\n",
    "\n",
    "In this section, we perform **Exploratory Data Analysis (EDA)** specifically to populate the **data characteristics dictionary**. The goal is to gather essential insights about the dataset and store them in the dictionary, which will later help with modeling and data preprocessing. The analysis includes:\n",
    "\n",
    "1. **🎯 Analyzing Target Variable**:  \n",
    "   - We assess the **target variable** (e.g., its type and class imbalance) and store the information in the dictionary.\n",
    "\n",
    "2. **🔢 Identifying Feature Types**:  \n",
    "   - We determine whether the features are **categorical**, **numerical**, or a **mixed type**, and update the dictionary accordingly.\n",
    "\n",
    "3. **📊 Feature Correlations**:  \n",
    "   - We analyze the **correlations** between features and store information about whether they are highly correlated or not.\n",
    "\n",
    "4. **🚨 Identifying Outliers**:  \n",
    "   - We check for any **outliers** in the dataset and record whether any are detected in the dictionary.\n",
    "\n",
    "5. **🛠️ Missing Data Analysis**:  \n",
    "   - We analyze **missing data** in the dataset and record the percentage of missing values for each feature.\n",
    "\n",
    "6. **📈 Data Size**:  \n",
    "   - We gather the **data size** (number of samples and features) and store it in the dictionary.\n",
    "\n",
    "7. **🧠 Linear Separability**:  \n",
    "   - We determine if the classes in the dataset are **linearly separable** based on a PCA analysis and update the dictionary.\n",
    "\n",
    "</details>"
   ]
  },
  {
   "cell_type": "markdown",
   "id": "ade5c905",
   "metadata": {},
   "source": [
    "<a id=\"analyze-target-variable\"></a>\n",
    "\n",
    "#### 🎯 Analyzing Target Variable\n",
    "\n",
    "<details><summary><strong>📖 Click to Expand Explanation</strong></summary>\n",
    "\n",
    "This section focuses on analyzing the **target variable** (assumed to be named **'Target'** in the dataset). The analysis includes:\n",
    "\n",
    "1. **🧐 Identifying the Type of Target**:  \n",
    "   - **Binary Classification**: If there are **2 unique classes** (e.g., yes/no, true/false).\n",
    "   - **🔢 Multiclass Classification**: If there are more than **2 unique classes**.\n",
    "\n",
    "2. **⚖️ Class Distribution**:  \n",
    "   - **Imbalance Check**: Compares the ratio of the smallest to largest class.  \n",
    "   - If the ratio is below **0.2**, the data is considered **highly imbalanced**.\n",
    "\n",
    "3. **🚨 Imbalance Severity**:  \n",
    "   - Highlights whether the imbalance is **high** or **low**.  \n",
    "   - A **high imbalance** may require special handling like **SMOTE** or **adjusting weights** during training.\n",
    "\n",
    "This analysis is crucial for selecting the appropriate classification technique and handling potential issues due to class imbalance.\n",
    "\n",
    "</details>\n"
   ]
  },
  {
   "cell_type": "code",
   "execution_count": null,
   "id": "32405960",
   "metadata": {},
   "outputs": [],
   "source": [
    "def analyze_target_variable(df, data_characteristics):\n",
    "    target_column = 'Target'  # Assuming 'Target' is the target column name\n",
    "    unique_classes = df[target_column].nunique()\n",
    "    \n",
    "    print(colored(f\"📊 Analyzing Target Variable: {target_column}\"))\n",
    "    print(f\"🔍 Found {unique_classes} unique classes in the target variable.\")\n",
    "    \n",
    "    # Check if binary or multiclass\n",
    "    if unique_classes == 2:\n",
    "        data_characteristics[\"target_variable\"][\"type\"] = \"binary\"\n",
    "        print(colored(\"✅ The target variable is binary (2 classes).\", 'green'))\n",
    "    else:\n",
    "        data_characteristics[\"target_variable\"][\"type\"] = \"multiclass\"\n",
    "        print(colored(f\"⚖️ The target variable is multiclass ({unique_classes} classes).\"))\n",
    "    \n",
    "    # Check if imbalanced\n",
    "    class_counts = df[target_column].value_counts()\n",
    "    imbalance_ratio = class_counts.min() / class_counts.max()\n",
    "    print(f\"📊 Class distribution: {class_counts.to_dict()}\")\n",
    "    \n",
    "    if imbalance_ratio < 0.2:\n",
    "        data_characteristics[\"target_variable\"][\"imbalance\"] = True\n",
    "        data_characteristics[\"target_variable\"][\"class_imbalance_severity\"] = \"high\"\n",
    "        print(colored(f\"⚠️ Target variable is imbalanced with a severity ratio of {imbalance_ratio:.2f} (high imbalance).\", 'red'))\n",
    "    else:\n",
    "        data_characteristics[\"target_variable\"][\"imbalance\"] = False\n",
    "        data_characteristics[\"target_variable\"][\"class_imbalance_severity\"] = \"low\"\n",
    "        print(colored(f\"✅ Target variable is balanced with a severity ratio of {imbalance_ratio:.2f} (low imbalance).\", 'green'))\n",
    "    \n",
    "    return data_characteristics\n"
   ]
  },
  {
   "cell_type": "code",
   "execution_count": 4,
   "id": "e318b996",
   "metadata": {},
   "outputs": [
    {
     "name": "stdout",
     "output_type": "stream",
     "text": [
      "📊 Analyzing Target Variable: Target\u001b[0m\n",
      "🔍 Found 2 unique classes in the target variable.\n",
      "\u001b[32m✅ The target variable is binary (2 classes).\u001b[0m\n",
      "📊 Class distribution: {0: 501, 1: 499}\n",
      "\u001b[32m✅ Target variable is balanced with a severity ratio of 1.00 (low imbalance).\u001b[0m\n"
     ]
    }
   ],
   "source": [
    "data_characteristics = analyze_target_variable(df, data_characteristics)"
   ]
  },
  {
   "cell_type": "markdown",
   "id": "221c2d6a",
   "metadata": {},
   "source": [
    "<hr style=\"border: none; height: 1px; background-color: #ddd;\" />"
   ]
  },
  {
   "cell_type": "markdown",
   "id": "cb87fc14",
   "metadata": {},
   "source": [
    "<a id=\"analyze-feature-types\"></a>\n",
    "\n",
    "#### 🔢 Analyzing Feature Types\n",
    "\n",
    "<details><summary><strong>📖 Click to Expand Explanation</strong></summary>\n",
    "\n",
    "In this section, we analyze the **types of features** in the dataset (categorical vs. numerical). The process includes:\n",
    "\n",
    "1. **📋 Identifying Categorical Features**:  \n",
    "   - Features with data types like **'object'** or **'category'** are considered **categorical**.  \n",
    "   - These features represent **categories** or **labels** (e.g., color, gender, etc.).\n",
    "\n",
    "2. **📐 Identifying Numerical Features**:  \n",
    "   - Features with data types **'float64'** or **'int64'** are considered **numerical**.  \n",
    "   - These features contain **quantitative data** (e.g., age, height, price).\n",
    "\n",
    "3. **🔀 Dataset Type**:  \n",
    "   - If the dataset contains both **categorical** and **numerical features**, it’s labeled as **mixed**.  \n",
    "   - If only **categorical** features are present, the dataset is labeled **categorical**.  \n",
    "   - If only **numerical** features are present, the dataset is labeled **continuous**.\n",
    "\n",
    "This analysis is crucial for selecting the appropriate preprocessing techniques for the features (e.g., encoding for categorical features, scaling for numerical features).\n",
    "\n",
    "</details>\n"
   ]
  },
  {
   "cell_type": "code",
   "execution_count": 5,
   "id": "a181b6e3",
   "metadata": {},
   "outputs": [],
   "source": [
    "def analyze_feature_types(df, data_characteristics):\n",
    "    categorical_cols = df.select_dtypes(include=['object', 'category']).columns\n",
    "    numerical_cols = df.select_dtypes(include=['float64', 'int64']).columns\n",
    "    \n",
    "    print(colored(\"🔍 Analyzing Feature Types\"))\n",
    "    print(f\"📋 Categorical features: {categorical_cols.tolist()}\")\n",
    "    print(f\"📐 Numerical features: {numerical_cols.tolist()}\")\n",
    "    \n",
    "    if len(categorical_cols) > 0 and len(numerical_cols) > 0:\n",
    "        data_characteristics[\"features\"][\"type\"] = \"mixed\"\n",
    "        print(colored(\"🔀 The dataset contains both categorical and numerical features (mixed).\"))\n",
    "    elif len(categorical_cols) > 0:\n",
    "        data_characteristics[\"features\"][\"type\"] = \"categorical\"\n",
    "        print(colored(f\"📊 The dataset contains only categorical features: {categorical_cols.tolist()}.\", 'green'))\n",
    "    else:\n",
    "        data_characteristics[\"features\"][\"type\"] = \"continuous\"\n",
    "        print(colored(f\"📈 The dataset contains only continuous features: {numerical_cols.tolist()}.\", 'green'))\n",
    "    \n",
    "    return data_characteristics\n"
   ]
  },
  {
   "cell_type": "code",
   "execution_count": 6,
   "id": "3624bc97",
   "metadata": {},
   "outputs": [
    {
     "name": "stdout",
     "output_type": "stream",
     "text": [
      "🔍 Analyzing Feature Types\u001b[0m\n",
      "📋 Categorical features: []\n",
      "📐 Numerical features: ['Feature_1', 'Feature_2', 'Feature_3', 'Feature_4', 'Feature_5', 'Feature_6', 'Feature_7', 'Feature_8', 'Feature_9', 'Feature_10', 'Target']\n",
      "\u001b[32m📈 The dataset contains only continuous features: ['Feature_1', 'Feature_2', 'Feature_3', 'Feature_4', 'Feature_5', 'Feature_6', 'Feature_7', 'Feature_8', 'Feature_9', 'Feature_10', 'Target'].\u001b[0m\n"
     ]
    }
   ],
   "source": [
    "data_characteristics = analyze_feature_types(df, data_characteristics)\n"
   ]
  },
  {
   "cell_type": "markdown",
   "id": "efd367b1",
   "metadata": {},
   "source": [
    "<hr style=\"border: none; height: 1px; background-color: #ddd;\" />"
   ]
  },
  {
   "cell_type": "markdown",
   "id": "eb295c65",
   "metadata": {},
   "source": [
    "<a id=\"analyze-feature-correlations\"></a>\n",
    "\n",
    "#### 📊 Analyzing Feature Correlations\n",
    "\n",
    "<details><summary><strong>📖 Click to Expand Explanation</strong></summary>\n",
    "\n",
    "This section analyzes the **correlation matrix** of the features in the dataset, excluding the target variable. The process includes:\n",
    "\n",
    "1. **📉 Calculating the Correlation Matrix**:  \n",
    "   - The correlation matrix shows how each feature is related to every other feature in the dataset.  \n",
    "   - A **high correlation** between features indicates that they move together in a similar pattern (e.g., both increase or decrease together).\n",
    "\n",
    "2. **⚡ Identifying Highly Correlated Pairs**:  \n",
    "   - **Correlation threshold** of **0.9** is used to identify highly correlated feature pairs.  \n",
    "   - If the correlation exceeds this threshold, it could signal **redundant features**.\n",
    "\n",
    "3. **🔴 High Correlation Found**:  \n",
    "   - If there are any pairs with high correlation, they are flagged as **highly correlated**.  \n",
    "   - Highly correlated features can be removed to avoid issues with multicollinearity during modeling.\n",
    "\n",
    "4. **✅ Low Correlation**:  \n",
    "   - If no features have high correlation, it means there is **no significant redundancy** in the features.\n",
    "\n",
    "This analysis helps to ensure that the features used in the model are independent and do not overlap too much.\n",
    "\n",
    "</details>\n"
   ]
  },
  {
   "cell_type": "code",
   "execution_count": 7,
   "id": "0cff84eb",
   "metadata": {},
   "outputs": [],
   "source": [
    "def analyze_feature_correlations(df, data_characteristics):\n",
    "    # Calculate the correlation matrix (excluding the target variable)\n",
    "    corr_matrix = df.drop('Target', axis=1).corr()\n",
    "    high_corr_threshold = 0.9  # Correlation threshold for \"high\"\n",
    "    \n",
    "    print(colored(\"📊 Analyzing Feature Correlations\"))\n",
    "    print(f\"📉 Correlation matrix:\\n{corr_matrix}\")\n",
    "    \n",
    "    # Check if any correlations exceed the threshold\n",
    "    high_corr = (corr_matrix.abs() > high_corr_threshold).sum().sum() - len(df.columns)\n",
    "    print(f\"⚡ Number of highly correlated feature pairs: {high_corr}\")\n",
    "    \n",
    "    if high_corr > 0:\n",
    "        data_characteristics[\"features\"][\"correlation\"] = \"high\"\n",
    "        print(colored(f\"🔴 Found {high_corr} pairs of features with high correlation (above {high_corr_threshold}).\", 'red'))\n",
    "    else:\n",
    "        data_characteristics[\"features\"][\"correlation\"] = \"low\"\n",
    "        print(colored(f\"✅ No feature pairs found with high correlation (above {high_corr_threshold}).\", 'green'))\n",
    "    \n",
    "    return data_characteristics\n"
   ]
  },
  {
   "cell_type": "code",
   "execution_count": 8,
   "id": "2c105e9d",
   "metadata": {},
   "outputs": [
    {
     "name": "stdout",
     "output_type": "stream",
     "text": [
      "📊 Analyzing Feature Correlations\u001b[0m\n",
      "📉 Correlation matrix:\n",
      "            Feature_1  Feature_2  Feature_3  Feature_4  Feature_5  Feature_6  \\\n",
      "Feature_1    1.000000   0.058172   0.935882   0.012282   0.027394   0.016197   \n",
      "Feature_2    0.058172   1.000000   0.062426   0.022266  -0.031579  -0.026735   \n",
      "Feature_3    0.935882   0.062426   1.000000   0.014551   0.012872  -0.000606   \n",
      "Feature_4    0.012282   0.022266   0.014551   1.000000  -0.016467  -0.002439   \n",
      "Feature_5    0.027394  -0.031579   0.012872  -0.016467   1.000000  -0.010388   \n",
      "Feature_6    0.016197  -0.026735  -0.000606  -0.002439  -0.010388   1.000000   \n",
      "Feature_7   -0.779008  -0.059525  -0.949966  -0.015008   0.001379   0.015440   \n",
      "Feature_8   -0.028237   0.037916  -0.013006   0.032063  -0.039584  -0.017981   \n",
      "Feature_9   -0.701895  -0.024690  -0.405943  -0.002441  -0.045036  -0.043242   \n",
      "Feature_10  -0.035538  -0.048878  -0.025878  -0.043532   0.041455  -0.036535   \n",
      "\n",
      "            Feature_7  Feature_8  Feature_9  Feature_10  \n",
      "Feature_1   -0.779008  -0.028237  -0.701895   -0.035538  \n",
      "Feature_2   -0.059525   0.037916  -0.024690   -0.048878  \n",
      "Feature_3   -0.949966  -0.013006  -0.405943   -0.025878  \n",
      "Feature_4   -0.015008   0.032063  -0.002441   -0.043532  \n",
      "Feature_5    0.001379  -0.039584  -0.045036    0.041455  \n",
      "Feature_6    0.015440  -0.017981  -0.043242   -0.036535  \n",
      "Feature_7    1.000000  -0.001887   0.100172    0.014548  \n",
      "Feature_8   -0.001887   1.000000   0.046952   -0.039575  \n",
      "Feature_9    0.100172   0.046952   1.000000    0.039866  \n",
      "Feature_10   0.014548  -0.039575   0.039866    1.000000  \n",
      "⚡ Number of highly correlated feature pairs: 3\n",
      "\u001b[31m🔴 Found 3 pairs of features with high correlation (above 0.9).\u001b[0m\n"
     ]
    }
   ],
   "source": [
    "data_characteristics = analyze_feature_correlations(df, data_characteristics)\n"
   ]
  },
  {
   "cell_type": "markdown",
   "id": "f2b894f0",
   "metadata": {},
   "source": [
    "<hr style=\"border: none; height: 1px; background-color: #ddd;\" />"
   ]
  },
  {
   "cell_type": "markdown",
   "id": "7537f15a",
   "metadata": {},
   "source": [
    "<a id=\"analyze-outliers\"></a>\n",
    "\n",
    "#### 🚨 Analyzing Outliers\n",
    "\n",
    "<details><summary><strong>📖 Click to Expand Explanation</strong></summary>\n",
    "\n",
    "This section focuses on identifying **outliers** in the dataset using **Z-scores**. The process includes:\n",
    "\n",
    "1. **📉 Calculating Z-scores**:  \n",
    "   - Z-scores are computed for each feature in the dataset to identify how far each data point is from the mean, measured in standard deviations.\n",
    "\n",
    "2. **⚡ Identifying Outliers**:  \n",
    "   - Outliers are defined as data points that have a **Z-score greater than 3** or less than **-3** (meaning they are more than 3 standard deviations away from the mean).\n",
    "   - Any feature with a Z-score above this threshold is considered an **outlier**.\n",
    "\n",
    "3. **🚨 Detecting Outliers**:  \n",
    "   - If outliers are detected (i.e., Z-scores > 3), they are flagged and counted.  \n",
    "   - The total number of outliers is displayed, which can help decide if further action is needed, such as **data transformation** or **removal**.\n",
    "\n",
    "4. **✅ No Significant Outliers**:  \n",
    "   - If no significant outliers are detected, it suggests that the data follows a more **normal distribution** and may not require adjustments.\n",
    "\n",
    "This analysis helps to ensure that extreme values do not disproportionately affect the model performance.\n",
    "\n",
    "</details>\n"
   ]
  },
  {
   "cell_type": "code",
   "execution_count": null,
   "id": "64085bb3",
   "metadata": {},
   "outputs": [],
   "source": [
    "def analyze_outliers(df, data_characteristics):\n",
    "    numeric_data = df.select_dtypes(include=['float64', 'int64'])\n",
    "    \n",
    "    print(colored(\"🔍 Analyzing Outliers\"))\n",
    "    print(f\"📉 Z-scores for numerical features:\\n{zscore(numeric_data)}\")\n",
    "    \n",
    "    # Calculate Z-scores for each feature\n",
    "    z_scores = zscore(numeric_data)\n",
    "    \n",
    "    # Check for outliers where z-scores are greater than 3\n",
    "    outliers = (z_scores > 3).sum().sum()  # Sum across both axes to get a scalar value\n",
    "    \n",
    "    print(f\"⚡ Total outliers detected: {outliers}\")\n",
    "    \n",
    "    if outliers > 0:\n",
    "        data_characteristics[\"features\"][\"outliers\"] = True\n",
    "        print(colored(f\"🚨 Detected {outliers} outliers across the features.\", 'red'))\n",
    "    else:\n",
    "        data_characteristics[\"features\"][\"outliers\"] = False\n",
    "        print(colored(\"✅ No significant outliers detected.\", 'green'))\n",
    "    \n",
    "    return data_characteristics\n"
   ]
  },
  {
   "cell_type": "code",
   "execution_count": 10,
   "id": "0d40babf",
   "metadata": {},
   "outputs": [
    {
     "name": "stdout",
     "output_type": "stream",
     "text": [
      "🔍 Analyzing Outliers\u001b[0m\n",
      "📉 Z-scores for numerical features:\n",
      "     Feature_1  Feature_2  Feature_3  Feature_4  Feature_5  Feature_6  \\\n",
      "0     1.089170  -0.051238   1.180508  -0.332625   0.996738   1.167833   \n",
      "1    -1.102121  -0.550766  -1.259751   0.864132  -1.099597   1.815262   \n",
      "2    -0.162122  -0.417257  -0.585947   0.826109  -0.223822  -1.891890   \n",
      "3     2.004226   2.037069   2.038277   0.034419  -1.514866   0.156982   \n",
      "4    -0.296352  -0.695553  -0.296264   0.145399   1.516231   0.575451   \n",
      "..         ...        ...        ...        ...        ...        ...   \n",
      "995  -1.627580   1.476187  -1.438674  -0.264598  -0.363413   0.002544   \n",
      "996  -1.799079  -3.203167  -1.617012   0.425526  -0.473879   1.341364   \n",
      "997   1.915962   1.768620   1.913529   0.046090  -1.425014   0.295715   \n",
      "998  -0.941497  -0.819835  -0.264546   1.131311   0.208820  -0.306981   \n",
      "999   0.254793  -0.987445   0.414563  -0.305740   1.375175  -1.393991   \n",
      "\n",
      "     Feature_7  Feature_8  Feature_9  Feature_10    Target  \n",
      "0    -1.135314  -1.075348  -0.438634    1.199727 -0.998002  \n",
      "1     1.264860  -0.860151   0.312022    0.183985  1.002002  \n",
      "2     0.899075  -0.156119  -0.764079   -0.321835  1.002002  \n",
      "3    -1.850614  -0.262048  -1.078108   -0.214715 -0.998002  \n",
      "4     0.264521  -0.816870   0.169771    0.210684  1.002002  \n",
      "..         ...        ...        ...         ...       ...  \n",
      "995   1.117428   1.441595   1.313323    1.045308  1.002002  \n",
      "996   1.282769  -1.524301   1.397637    0.009141  1.002002  \n",
      "997  -1.706853   0.739579  -1.101357    0.199747 -0.998002  \n",
      "998  -0.363899  -0.395490   1.907391    0.840370 -0.998002  \n",
      "999  -0.511903   0.816374   0.177201    1.388482 -0.998002  \n",
      "\n",
      "[1000 rows x 11 columns]\n",
      "⚡ Total outliers detected: 16\n",
      "\u001b[31m🚨 Detected 16 outliers across the features.\u001b[0m\n"
     ]
    }
   ],
   "source": [
    "data_characteristics = analyze_outliers(df, data_characteristics)"
   ]
  },
  {
   "cell_type": "markdown",
   "id": "9bbebc58",
   "metadata": {},
   "source": [
    "<hr style=\"border: none; height: 1px; background-color: #ddd;\" />"
   ]
  },
  {
   "cell_type": "markdown",
   "id": "5a885aa8",
   "metadata": {},
   "source": [
    "<a id=\"analyze-missing-data\"></a>\n",
    "\n",
    "#### 🛠️ Analyzing Missing Data\n",
    "\n",
    "<details><summary><strong>📖 Click to Expand Explanation</strong></summary>\n",
    "\n",
    "This section focuses on analyzing **missing data** in the dataset. The process includes:\n",
    "\n",
    "1. **📊 Calculating Missing Data Percentage**:  \n",
    "   - For each feature, the percentage of missing data is calculated.  \n",
    "   - **Missing data** refers to cells where the value is **null** (or **NaN**).\n",
    "\n",
    "2. **⚠️ Features with Missing Data**:  \n",
    "   - Features with more than **0% missing data** are flagged.  \n",
    "   - If a feature has missing data, it may need to be addressed with techniques like **imputation** or **removal**.\n",
    "\n",
    "3. **✅ No Missing Data**:  \n",
    "   - If there are **no missing values**, the dataset is considered complete, and no action is required.\n",
    "\n",
    "This analysis helps determine whether missing data should be imputed, ignored, or handled in another way during preprocessing.\n",
    "\n",
    "</details>\n"
   ]
  },
  {
   "cell_type": "code",
   "execution_count": 11,
   "id": "81616861",
   "metadata": {},
   "outputs": [],
   "source": [
    "def analyze_missing_data(df, data_characteristics):\n",
    "    print(colored(\"🔍 Analyzing Missing Data\"))\n",
    "    \n",
    "    # Calculate percentage of missing data for each feature\n",
    "    missing_data = df.isnull().mean() * 100  # Percentage of missing data\n",
    "    print(f\"📊 Missing data percentage:\\n{missing_data}\")\n",
    "    \n",
    "    if missing_data.max() > 0:\n",
    "        data_characteristics[\"features\"][\"missing_data\"] = missing_data\n",
    "        print(f\"⚠️ Features with missing data: {missing_data[missing_data > 0]}\")\n",
    "    else:\n",
    "        data_characteristics[\"features\"][\"missing_data\"] = 0\n",
    "        print(colored(\"✅ No missing data detected.\", 'green'))\n",
    "    \n",
    "    return data_characteristics\n"
   ]
  },
  {
   "cell_type": "code",
   "execution_count": 12,
   "id": "e0fccd8e",
   "metadata": {},
   "outputs": [
    {
     "name": "stdout",
     "output_type": "stream",
     "text": [
      "🔍 Analyzing Missing Data\u001b[0m\n",
      "📊 Missing data percentage:\n",
      "Feature_1     0.0\n",
      "Feature_2     0.0\n",
      "Feature_3     0.0\n",
      "Feature_4     0.0\n",
      "Feature_5     0.0\n",
      "Feature_6     0.0\n",
      "Feature_7     0.0\n",
      "Feature_8     0.0\n",
      "Feature_9     0.0\n",
      "Feature_10    0.0\n",
      "Target        0.0\n",
      "dtype: float64\n",
      "\u001b[32m✅ No missing data detected.\u001b[0m\n"
     ]
    }
   ],
   "source": [
    "data_characteristics = analyze_missing_data(df, data_characteristics)\n",
    "\n"
   ]
  },
  {
   "cell_type": "markdown",
   "id": "abc5c1d6",
   "metadata": {},
   "source": [
    "<hr style=\"border: none; height: 1px; background-color: #ddd;\" />"
   ]
  },
  {
   "cell_type": "markdown",
   "id": "780776be",
   "metadata": {},
   "source": [
    "<a id=\"analyze-data-size\"></a>\n",
    "\n",
    "#### 📊 Analyzing Data Size\n",
    "\n",
    "<details><summary><strong>📖 Click to Expand Explanation</strong></summary>\n",
    "\n",
    "This section focuses on analyzing the **data size** of the dataset. The process includes:\n",
    "\n",
    "1. **📋 Number of Samples (Rows)**:  \n",
    "   - The dataset's **number of samples** refers to the total number of rows in the dataset, representing the number of data points.\n",
    "\n",
    "2. **🔢 Number of Features (Columns)**:  \n",
    "   - The dataset's **number of features** refers to the total number of columns (excluding the target variable).  \n",
    "   - Features represent the variables or characteristics of the data (e.g., age, income, product type).\n",
    "\n",
    "This analysis helps to understand the **structure** of the dataset, which is important for selecting appropriate machine learning algorithms and models.\n",
    "\n",
    "</details>\n"
   ]
  },
  {
   "cell_type": "code",
   "execution_count": 13,
   "id": "9e923c4a",
   "metadata": {},
   "outputs": [],
   "source": [
    "def analyze_data_size(df, data_characteristics):\n",
    "    print(colored(\"📊 **Analyzing Data Size**\"))\n",
    "    \n",
    "    # Get the number of rows (samples) and columns (features)\n",
    "    num_samples, num_features = df.shape\n",
    "    data_characteristics[\"data_size\"] = {\"samples\": num_samples, \"features\": num_features}\n",
    "    \n",
    "    print(f\"📋 Data Size: {num_samples} samples, {num_features} features.\")\n",
    "    \n",
    "    return data_characteristics\n"
   ]
  },
  {
   "cell_type": "code",
   "execution_count": 14,
   "id": "751fedde",
   "metadata": {},
   "outputs": [
    {
     "name": "stdout",
     "output_type": "stream",
     "text": [
      "📊 **Analyzing Data Size**\u001b[0m\n",
      "📋 Data Size: 1000 samples, 11 features.\n"
     ]
    }
   ],
   "source": [
    "data_characteristics = analyze_data_size(df, data_characteristics)  # New function\n"
   ]
  },
  {
   "cell_type": "markdown",
   "id": "44531998",
   "metadata": {},
   "source": [
    "<hr style=\"border: none; height: 1px; background-color: #ddd;\" />"
   ]
  },
  {
   "cell_type": "markdown",
   "id": "597606ad",
   "metadata": {},
   "source": [
    "<a id=\"analyze-linear-separability\"></a>\n",
    "\n",
    "#### 🧠 Analyzing Linear Separability\n",
    "\n",
    "<details><summary><strong>📖 Click to Expand Explanation</strong></summary>\n",
    "\n",
    "This section focuses on visualizing the **linear separability** of the dataset using **Principal Component Analysis (PCA)**. The process includes:\n",
    "\n",
    "1. **📊 PCA for Dimensionality Reduction**:  \n",
    "   - **PCA** is used to reduce the dataset to 2 dimensions (**PC1 and PC2**) for easier visualization.  \n",
    "   - This allows us to plot the features in 2D space, making it easier to visually assess if the classes are **linearly separable**.\n",
    "\n",
    "2. **🔍 Visualizing Separability**:  \n",
    "   - The **PCA projection** is plotted, with **color coding** to represent the different classes in the target variable.  \n",
    "   - If the classes are well-separated in the 2D plot, the dataset is considered **linearly separable**.\n",
    "\n",
    "3. **🧐 Manual Judgment**:  \n",
    "   - After inspecting the plot, **linear separability** can be manually updated based on the visual separation.  \n",
    "   - You can choose to mark the dataset as **'separable'**, **'non-separable'**, or **'unknown'** based on your judgment.\n",
    "\n",
    "This analysis helps to understand if the dataset can be separated using a **linear model** (e.g., **Logistic Regression**, **Linear SVM**).\n",
    "\n",
    "</details>\n"
   ]
  },
  {
   "cell_type": "code",
   "execution_count": null,
   "id": "f896ec1c",
   "metadata": {},
   "outputs": [],
   "source": [
    "def analyze_linear_separability(df, data_characteristics):\n",
    "    print(colored(\"🔍 **Analyzing Linear Separability**\"))\n",
    "    \n",
    "    X = df.drop('Target', axis=1)\n",
    "    y = df['Target']\n",
    "    \n",
    "    # Use PCA to reduce to 2D for visualization\n",
    "    pca = PCA(n_components=2)\n",
    "    X_pca = pca.fit_transform(X)\n",
    "    \n",
    "    # Plotting the PCA projection\n",
    "    plt.figure(figsize=(8, 6))\n",
    "    plt.scatter(X_pca[:, 0], X_pca[:, 1], c=y, cmap='coolwarm', alpha=0.7)\n",
    "    plt.title('PCA Projection of Features')\n",
    "    plt.xlabel('PC1')\n",
    "    plt.ylabel('PC2')\n",
    "    plt.colorbar(label='Target')\n",
    "    plt.show()\n",
    "    \n",
    "    # Manually set linear separability after inspection\n",
    "    # Example: You can directly update based on your judgment\n",
    "    # data_characteristics[\"linear_separability\"] = \"separable\"  # Set this if the classes are separable\n",
    "    # OR\n",
    "    # data_characteristics[\"linear_separability\"] = \"non-separable\"  # Set this if the classes are not separable\n",
    "    # OR\n",
    "    # data_characteristics[\"linear_separability\"] = \"unknown\"  # Set this if it's unclear    \n",
    "    # print(f\"Linear separability is set to: {data_characteristics['linear_separability']}\")\n",
    "    \n",
    "    return data_characteristics"
   ]
  },
  {
   "cell_type": "code",
   "execution_count": 16,
   "id": "79b622c6",
   "metadata": {},
   "outputs": [
    {
     "name": "stdout",
     "output_type": "stream",
     "text": [
      "🔍 **Analyzing Linear Separability**\u001b[0m\n"
     ]
    },
    {
     "data": {
      "image/png": "[encoded data removed]",
      "text/plain": [
       "<Figure size 800x600 with 2 Axes>"
      ]
     },
     "metadata": {},
     "output_type": "display_data"
    }
   ],
   "source": [
    "data_characteristics = analyze_linear_separability(df, data_characteristics)\n",
    "\n",
    "# Assuming you have already visualized the PCA plot\n",
    "# Manually set linear separability based on your observation\n",
    "data_characteristics[\"linear_separability\"] = \"separable\"  # Or \"non-separable\" or \"unknown\"\n",
    "\n"
   ]
  },
  {
   "cell_type": "markdown",
   "id": "001bda89",
   "metadata": {},
   "source": [
    "<hr style=\"border: none; height: 1px; background-color: #ddd;\" />"
   ]
  },
  {
   "cell_type": "markdown",
   "id": "409c9fa3",
   "metadata": {},
   "source": [
    "Print the populated dictionary"
   ]
  },
  {
   "cell_type": "code",
   "execution_count": 17,
   "id": "b670f5d5",
   "metadata": {},
   "outputs": [
    {
     "data": {
      "text/plain": [
       "{'target_variable': {'type': 'binary',\n",
       "  'imbalance': False,\n",
       "  'class_imbalance_severity': 'low'},\n",
       " 'features': {'type': 'continuous',\n",
       "  'correlation': 'high',\n",
       "  'outliers': True,\n",
       "  'missing_data': 0},\n",
       " 'data_size': {'samples': 1000, 'features': 11},\n",
       " 'linear_separability': 'separable'}"
      ]
     },
     "execution_count": 17,
     "metadata": {},
     "output_type": "execute_result"
    }
   ],
   "source": [
    "# from IPython.display import HTML\n",
    "# from IPython.core.interactiveshell import InteractiveShell\n",
    "# InteractiveShell.ast_node_interactivity = \"all\"\n",
    "# from IPython.display import display, HTML\n",
    "# import json\n",
    "# display(HTML(f\"<pre style='color:teal; font-size:14px;'>{json.dumps(data_characteristics, indent=4)}</pre>\"))\n",
    "data_characteristics\n",
    "\n"
   ]
  },
  {
   "cell_type": "markdown",
   "id": "e94923dc",
   "metadata": {},
   "source": [
    "[Back to the top](#table-of-contents)\n",
    "___\n"
   ]
  },
  {
   "cell_type": "markdown",
   "id": "38c83998",
   "metadata": {},
   "source": [
    "<a id=\"data-treatment\"></a>\n",
    "\n",
    "# 🧰 Data Treatment\n",
    "\n",
    "<details><summary><strong>📖 Click to Expand Explanation</strong></summary>\n",
    "\n",
    "In this section, we apply various **data treatments** to prepare the dataset for model training. The following treatments will be applied:\n",
    "\n",
    "1. **🛑 Handling Missing Values**\n",
    "2. **🔧 Feature Engineering**\n",
    "3. **🏷️ Handling Categorical Data**\n",
    "4. **⚖️ Scaling the Data**\n",
    "\n",
    "</details>\n"
   ]
  },
  {
   "cell_type": "markdown",
   "id": "0027161b",
   "metadata": {},
   "source": [
    "<a id=\"handle-missing-values\"></a>\n",
    "\n",
    "#### 🛑 Handling Missing Values\n",
    "\n",
    "<details><summary><strong>📖 Click to Expand Explanation</strong></summary>\n",
    "\n",
    "This step handles the **missing values** in the dataset. There are two common approaches:\n",
    "\n",
    "1. **❌ Dropping Missing Data**:  \n",
    "   - Rows or columns containing **missing values** (NaN) can be **dropped**.  \n",
    "   - This is usually done when the missing data is **relatively small**, and dropping it won't result in significant information loss.\n",
    "\n",
    "2. **💡 Imputing Missing Data**:  \n",
    "   - For features with missing values, you can **impute** the missing data using techniques such as:\n",
    "     - **Mean**: For numerical columns, replace missing values with the **mean** of that column.\n",
    "     - **Median**: For numerical columns, replace missing values with the **median**.\n",
    "     - **Mode**: For categorical columns, replace missing values with the **most frequent value**.\n",
    "\n",
    "Imputation helps prevent losing valuable data when missing values are widespread.\n",
    "\n",
    "**Example**:  \n",
    "- **Imputation with Mean**: Replace missing values in a numerical column with the **mean** of that column.\n",
    "\n",
    "</details>\n"
   ]
  },
  {
   "cell_type": "code",
   "execution_count": 18,
   "id": "e099e933",
   "metadata": {},
   "outputs": [],
   "source": [
    "def handle_missing_values(df):\n",
    "    \"\"\"\n",
    "    Handle missing values in the dataset.\n",
    "    Placeholder: Decide whether to impute or drop rows/columns with missing data.\n",
    "    \"\"\"\n",
    "    # Placeholder - Example of handling missing data\n",
    "    # df = df.dropna()  # Drop rows with missing values\n",
    "    # OR\n",
    "    # df['column_name'] = df['column_name'].fillna(df['column_name'].mean())  # Impute missing values with mean\n",
    "    pass\n"
   ]
  },
  {
   "cell_type": "markdown",
   "id": "411a8ea4",
   "metadata": {},
   "source": [
    "<a id=\"feature-engineering\"></a>\n",
    "\n",
    "#### 🔧 Feature Engineering\n",
    "\n",
    "<details><summary><strong>📖 Click to Expand Explanation</strong></summary>\n",
    "\n",
    "Feature engineering involves creating new features or modifying existing features to improve the model’s performance. Here are some common techniques:\n",
    "\n",
    "1. **🔄 Interaction Features**:  \n",
    "   - Combine existing features to create **interaction features**. For example, multiplying two features may capture a relationship between them.\n",
    "\n",
    "2. **📅 Temporal Features**:  \n",
    "   - Convert date/time data into features like **year**, **month**, or **day of the week** to help models use temporal patterns.\n",
    "\n",
    "3. **⚖️ Aggregated Features**:  \n",
    "   - Create aggregated features, such as the **mean** or **sum** of several columns, to reduce noise or create summary features.\n",
    "\n",
    "Example:  \n",
    "- **Creating Interaction Features**: Multiply two features to create a new feature that represents the interaction between them.\n",
    "\n",
    "</details>\n"
   ]
  },
  {
   "cell_type": "code",
   "execution_count": 19,
   "id": "200d1fe3",
   "metadata": {},
   "outputs": [],
   "source": [
    "def feature_engineering(df):\n",
    "    \"\"\"\n",
    "    Perform feature engineering to create or modify features in the dataset.\n",
    "    Placeholder: Create new features or transform existing features based on insights.\n",
    "    \"\"\"\n",
    "    # Placeholder - Example of feature engineering\n",
    "    # df['new_feature'] = df['feature1'] * df['feature2']  # Create a new feature\n",
    "    pass\n"
   ]
  },
  {
   "cell_type": "markdown",
   "id": "aad164f7",
   "metadata": {},
   "source": [
    "<a id=\"handle-categorical-data\"></a>\n",
    "\n",
    "#### 🏷️ Handling Categorical Data\n",
    "\n",
    "<details><summary><strong>📖 Click to Expand Explanation</strong></summary>\n",
    "\n",
    "This step handles the **categorical data** in the dataset. Machine learning algorithms require numerical data, so categorical variables need to be converted into numeric values. Common encoding techniques include:\n",
    "\n",
    "1. **🔢 One-Hot Encoding**:  \n",
    "   - Each category in a categorical feature is transformed into **binary columns** (1 or 0), representing the presence or absence of each category.\n",
    "\n",
    "2. **🏷️ Label Encoding**:  \n",
    "   - Assign a unique **numeric label** to each category in a categorical feature. This method is useful for **ordinal** features, where the order matters (e.g., low, medium, high).\n",
    "\n",
    "Example:  \n",
    "- **One-Hot Encoding**: Convert categorical values into binary columns, one for each category.\n",
    "\n",
    "</details>\n"
   ]
  },
  {
   "cell_type": "code",
   "execution_count": 20,
   "id": "b7027a90",
   "metadata": {},
   "outputs": [],
   "source": [
    "def handle_categorical_data(df):\n",
    "    \"\"\"\n",
    "    Handle categorical data in the dataset.\n",
    "    Placeholder: Apply encoding techniques like One-Hot Encoding or Label Encoding.\n",
    "    \"\"\"\n",
    "    # Placeholder - Example of handling categorical data\n",
    "    # df = pd.get_dummies(df, columns=['categorical_column'])  # One-Hot Encoding\n",
    "    # OR\n",
    "    # from sklearn.preprocessing import LabelEncoder\n",
    "    # le = LabelEncoder()\n",
    "    # df['encoded_column'] = le.fit_transform(df['categorical_column'])  # Label Encoding\n",
    "    pass\n"
   ]
  },
  {
   "cell_type": "markdown",
   "id": "dd9d8f0e",
   "metadata": {},
   "source": [
    "<a id=\"scale-data\"></a>\n",
    "\n",
    "#### ⚖️ Scaling the Data\n",
    "\n",
    "<details><summary><strong>📖 Click to Expand Explanation</strong></summary>\n",
    "\n",
    "Scaling is important for algorithms that are sensitive to the magnitude of features, like **SVM**, **KNN**, and **Logistic Regression**. There are two main scaling methods:\n",
    "\n",
    "1. **📏 Standardization (Z-score Scaling)**:  \n",
    "   - This transforms the data so that each feature has a **mean of 0** and a **standard deviation of 1**. This is useful when features have different scales.\n",
    "\n",
    "2. **🌍 Normalization**:  \n",
    "   - This transforms the data to fit within a fixed range, typically **0 to 1**, and is useful when features have different units or scales.\n",
    "\n",
    "Example:  \n",
    "- **Standardization**: Standardize numerical features so they have a mean of 0 and standard deviation of 1.\n",
    "\n",
    "</details>\n"
   ]
  },
  {
   "cell_type": "code",
   "execution_count": 21,
   "id": "317e2c0e",
   "metadata": {},
   "outputs": [],
   "source": [
    "def scale_data(df):\n",
    "    \"\"\"\n",
    "    Scale the numerical features in the dataset.\n",
    "    Placeholder: Normalize or standardize numerical features if needed.\n",
    "    \"\"\"\n",
    "    # Placeholder - Example of scaling the data\n",
    "    # from sklearn.preprocessing import StandardScaler\n",
    "    # scaler = StandardScaler()\n",
    "    # df[['numerical_column1', 'numerical_column2']] = scaler.fit_transform(df[['numerical_column1', 'numerical_column2']])\n",
    "    pass\n"
   ]
  },
  {
   "cell_type": "markdown",
   "id": "747f3f38",
   "metadata": {},
   "source": [
    "<a id=\"data-splitting\"></a>\n",
    "\n",
    "# 📊 Data Splitting\n",
    "\n",
    "<details><summary><strong>📖 Click to Expand Explanation</strong></summary>\n",
    "\n",
    "In this section, we will explore various strategies for **splitting** the data into **training** and **testing** sets. Proper splitting ensures that the model is evaluated correctly and prevents overfitting or biasing from the data.\n",
    "\n",
    "We will cover the following data splitting techniques:\n",
    "\n",
    "- **📈 Basic Train-Test Split**: A straightforward 80-20 split.\n",
    "- **🧑‍🤝‍🧑 Stratified Train-Test Split**: Ensures balanced class distribution.\n",
    "- **🕰️ Time-series Split**: Respects the temporal order for time-series data.\n",
    "- **🔄 K-Fold Cross-Validation**: A more robust evaluation technique.\n",
    "\n",
    "</details>\n"
   ]
  },
  {
   "cell_type": "markdown",
   "id": "6323d6e8",
   "metadata": {},
   "source": [
    "<a id=\"basic-train-test-split\"></a>\n",
    "\n",
    "#### 📈 Basic Train-Test Split\n",
    "\n",
    "<details><summary><strong>📖 Click to Expand Explanation</strong></summary>\n",
    "\n",
    "The **basic train-test split** is the simplest method, where the dataset is divided into two parts: 80% for training and 20% for testing. This basic split helps evaluate model performance but may not always work well for imbalanced or time-series data.\n",
    "\n",
    "</details>\n"
   ]
  },
  {
   "cell_type": "code",
   "execution_count": null,
   "id": "2dbd7373",
   "metadata": {},
   "outputs": [],
   "source": [
    "def basic_train_test_split(df, target_column, test_size=0.2, random_state=42):\n",
    "    \"\"\"\n",
    "    Perform a basic train-test split (80-20 by default) on the dataset.\n",
    "    \n",
    "    Parameters:\n",
    "    - df: DataFrame containing the dataset.\n",
    "    - target_column: The column name representing the target variable.\n",
    "    - test_size: The proportion of the dataset to include in the test split (default 0.2).\n",
    "    - random_state: Controls the randomness of the train-test split (default 42).\n",
    "    \n",
    "    Returns:\n",
    "    - X_train: Training data features.\n",
    "    - X_test: Test data features.\n",
    "    - y_train: Training data target.\n",
    "    - y_test: Test data target.\n",
    "    \"\"\"\n",
    "    # Features and target variables\n",
    "    X = df.drop(target_column, axis=1)  # Features\n",
    "    y = df[target_column]  # Target variable\n",
    "    \n",
    "    # Perform the train-test split\n",
    "    X_train, X_test, y_train, y_test = train_test_split(X, y, test_size=test_size, random_state=random_state)\n",
    "    \n",
    "    return X_train, X_test, y_train, y_test\n"
   ]
  },
  {
   "cell_type": "markdown",
   "id": "87bc5ee6",
   "metadata": {},
   "source": [
    "<a id=\"stratified-train-test-split\"></a>\n",
    "\n",
    "#### 🧑‍🤝‍🧑 Stratified Train-Test Split\n",
    "\n",
    "<details><summary><strong>📖 Click to Expand Explanation</strong></summary>\n",
    "\n",
    "For imbalanced datasets, it's crucial to keep the class distribution similar in both the **training** and **testing** sets. A **stratified split** ensures that each set has the same proportions of classes as the original dataset.\n",
    "\n",
    "</details>\n"
   ]
  },
  {
   "cell_type": "code",
   "execution_count": null,
   "id": "d6236dd3",
   "metadata": {},
   "outputs": [],
   "source": [
    "def stratified_train_test_split(df, target_column, test_size=0.2, random_state=42):\n",
    "    \"\"\"\n",
    "    Perform a stratified train-test split to maintain class distribution.\n",
    "    \n",
    "    Parameters:\n",
    "    - df: DataFrame containing the dataset.\n",
    "    - target_column: The column name representing the target variable.\n",
    "    - test_size: The proportion of the dataset to include in the test split (default 0.2).\n",
    "    - random_state: Controls the randomness of the train-test split (default 42).\n",
    "    \n",
    "    Returns:\n",
    "    - X_train: Training data features.\n",
    "    - X_test: Test data features.\n",
    "    - y_train: Training data target.\n",
    "    - y_test: Test data target.\n",
    "    \"\"\"\n",
    "    # Features and target variables\n",
    "    X = df.drop(target_column, axis=1)  # Features\n",
    "    y = df[target_column]  # Target variable\n",
    "    \n",
    "    # Perform the stratified train-test split\n",
    "    X_train, X_test, y_train, y_test = train_test_split(X, y, test_size=test_size, stratify=y, random_state=random_state)\n",
    "    \n",
    "    return X_train, X_test, y_train, y_test\n"
   ]
  },
  {
   "cell_type": "markdown",
   "id": "df835b0e",
   "metadata": {},
   "source": [
    "<a id=\"time-series-split\"></a>\n",
    "\n",
    "#### 🕰️ Time-series Split\n",
    "\n",
    "<details><summary><strong>📖 Click to Expand Explanation</strong></summary>\n",
    "\n",
    "For **time-series data**, we need to respect the temporal order. This means that the model should always be trained on data from the **past** and tested on data from the **future**. Using a **time-series split** prevents the model from having access to future data during training.\n",
    "\n",
    "</details>\n"
   ]
  },
  {
   "cell_type": "code",
   "execution_count": null,
   "id": "eda83aae",
   "metadata": {},
   "outputs": [],
   "source": [
    "def time_series_split(df, target_column, n_splits=5):\n",
    "    \"\"\"\n",
    "    Perform a time-series split, ensuring the model is trained on past data and tested on future data.\n",
    "    \n",
    "    Parameters:\n",
    "    - df: DataFrame containing the dataset.\n",
    "    - target_column: The column name representing the target variable.\n",
    "    - n_splits: The number of splits (default 5).\n",
    "    \n",
    "    Returns:\n",
    "    - X_train, X_test, y_train, y_test for each fold in the time-series split.\n",
    "    \"\"\"\n",
    "    # Features and target variables\n",
    "    X = df.drop(target_column, axis=1)  # Features\n",
    "    y = df[target_column]  # Target variable\n",
    "    \n",
    "    # Sort the data by date (ensure the data is sorted chronologically before splitting)\n",
    "    df = df.sort_values('date_column')  # Assuming there is a 'date_column' to sort by\n",
    "    \n",
    "    # Initialize TimeSeriesSplit\n",
    "    tscv = TimeSeriesSplit(n_splits=n_splits)\n",
    "    \n",
    "    for train_index, test_index in tscv.split(X):\n",
    "        X_train, X_test = X.iloc[train_index], X.iloc[test_index]\n",
    "        y_train, y_test = y.iloc[train_index], y.iloc[test_index]\n",
    "        print(f\"Train samples: {len(X_train)} | Test samples: {len(X_test)}\")\n",
    "    \n",
    "    return X_train, X_test, y_train, y_test\n"
   ]
  },
  {
   "cell_type": "markdown",
   "id": "80eb0f90",
   "metadata": {},
   "source": [
    "<a id=\"k-fold-cross-validation\"></a>\n",
    "\n",
    "#### 🔄 K-Fold Cross-Validation\n",
    "\n",
    "<details><summary><strong>📖 Click to Expand Explanation</strong></summary>\n",
    "\n",
    "In **K-fold cross-validation**, the data is split into **K** equal-sized folds. The model is trained **K times**, each time using a different fold as the test set and the remaining folds as the training set. This technique provides a more robust estimate of model performance by evaluating it on different portions of the data.\n",
    "\n",
    "</details>\n"
   ]
  },
  {
   "cell_type": "code",
   "execution_count": null,
   "id": "8bd22d06",
   "metadata": {},
   "outputs": [],
   "source": [
    "def k_fold_cross_validation(df, target_column, n_splits=5):\n",
    "    \"\"\"\n",
    "    Perform K-Fold Cross-Validation on the dataset.\n",
    "    \n",
    "    Parameters:\n",
    "    - df: DataFrame containing the dataset.\n",
    "    - target_column: The column name representing the target variable.\n",
    "    - n_splits: The number of splits (default 5).\n",
    "    \n",
    "    Returns:\n",
    "    - X_train, X_test, y_train, y_test for each fold in the cross-validation.\n",
    "    \"\"\"\n",
    "    # Features and target variables\n",
    "    X = df.drop(target_column, axis=1)  # Features\n",
    "    y = df[target_column]  # Target variable\n",
    "    \n",
    "    # Initialize KFold\n",
    "    kf = KFold(n_splits=n_splits, shuffle=True, random_state=42)\n",
    "    \n",
    "    for train_index, test_index in kf.split(X):\n",
    "        X_train, X_test = X.iloc[train_index], X.iloc[test_index]\n",
    "        y_train, y_test = y.iloc[train_index], y.iloc[test_index]\n",
    "        print(f\"Train samples: {len(X_train)} | Test samples: {len(X_test)}\")\n",
    "    \n",
    "    return X_train, X_test, y_train, y_test\n"
   ]
  },
  {
   "cell_type": "markdown",
   "id": "642fe9ec",
   "metadata": {},
   "source": [
    "<a id=\"data-leakage\"></a>\n",
    "\n",
    "#### 🚨 Handling Data Leakage\n",
    "\n",
    "<details><summary><strong>📖 Click to Expand Explanation</strong></summary>\n",
    "\n",
    "**Data leakage** happens when the model inadvertently gets access to information it wouldn't have in a real-world scenario, such as future data or features derived from the target variable. This results in overly optimistic performance metrics.\n",
    "\n",
    "We need to ensure that the data split respects temporal and feature constraints to prevent leakage.\n",
    "\n",
    "</details>\n"
   ]
  },
  {
   "cell_type": "code",
   "execution_count": 26,
   "id": "14def2ae",
   "metadata": {},
   "outputs": [],
   "source": [
    "def check_for_data_leakage(df, target_column):\n",
    "    \"\"\"\n",
    "    Function to check for potential data leakage in the dataset.\n",
    "    \n",
    "    Parameters:\n",
    "    - df: DataFrame containing the dataset.\n",
    "    - target_column: The column name representing the target variable.\n",
    "    \"\"\"\n",
    "    # Placeholder logic to check for potential data leakage\n",
    "    pass\n"
   ]
  },
  {
   "cell_type": "code",
   "execution_count": 27,
   "id": "85f93d95",
   "metadata": {},
   "outputs": [],
   "source": [
    "X_train, X_test, y_train, y_test = basic_train_test_split(df, target_column='Target')\n"
   ]
  },
  {
   "cell_type": "markdown",
   "id": "0477d2b3",
   "metadata": {},
   "source": [
    "<a id=\"baseline-model\"></a>\n",
    "\n",
    "# 🧪 Baseline Model\n",
    "<details><summary><strong>📖 Click to Expand Explanation</strong></summary>\n",
    "\n",
    "In this section, we define the **baseline model** for the classification task. The baseline model is typically a **dummy model** that can be used to compare against more sophisticated models. Here, we use the **DummyClassifier**, which predicts the majority class, to set a baseline performance.\n",
    "\n",
    "The baseline model will help us assess if more advanced models (e.g., Random Forest, SVM) are making meaningful improvements over a simple strategy.\n",
    "\n",
    "</details>\n"
   ]
  },
  {
   "cell_type": "markdown",
   "id": "fdce003c",
   "metadata": {},
   "source": [
    "<a id=\"dummy-classifier\"></a>\n",
    "\n",
    "#### 📈 Dummy Classifier\n",
    "\n",
    "<details><summary><strong>📖 Click to Expand Explanation</strong></summary>\n",
    "\n",
    "In this step, we train a **Dummy Classifier** using the **majority class strategy**, where the model always predicts the most frequent class in the dataset.\n",
    "\n",
    "- **Strategy**: The Dummy Classifier uses the **'most_frequent'** strategy to predict the majority class for every observation.\n",
    "- This serves as our **baseline model** for comparison.\n",
    "\n",
    "By using this model, we can gauge the **minimum performance** we should expect from any more complex model. If an advanced model does not outperform this baseline, it likely indicates that the model is not capturing meaningful patterns in the data.\n",
    "\n",
    "</details>\n"
   ]
  },
  {
   "cell_type": "code",
   "execution_count": null,
   "id": "05ee48b8",
   "metadata": {},
   "outputs": [],
   "source": [
    "def dummy_classifier_baseline(X_train, y_train, X_test, y_test):\n",
    "    \"\"\"\n",
    "    Dummy classifier predicting the majority class as the baseline.\n",
    "    \"\"\"\n",
    "    # Initialize the Dummy Classifier to predict the most frequent class\n",
    "    baseline_model = DummyClassifier(strategy='most_frequent', random_state=42)\n",
    "    \n",
    "    # Fit the model on training data\n",
    "    baseline_model.fit(X_train, y_train)\n",
    "    \n",
    "    # Make predictions on the test data\n",
    "    y_pred = baseline_model.predict(X_test)\n",
    "    \n",
    "    # Return predictions for evaluation\n",
    "    return y_pred\n"
   ]
  },
  {
   "cell_type": "code",
   "execution_count": 34,
   "id": "25d9c98e",
   "metadata": {},
   "outputs": [],
   "source": [
    "y_pred = dummy_classifier_baseline(X_train, y_train, X_test, y_test)\n",
    "\n",
    "# # 3. Evaluate the baseline model's performance\n",
    "# accuracy = accuracy_score(y_test, y_pred)\n",
    "# clf_report = classification_report(y_test, y_pred)\n",
    "# conf_matrix = confusion_matrix(y_test, y_pred)\n",
    "\n",
    "# # 4. Print the evaluation metrics\n",
    "# print(f\"Baseline Model Accuracy: {accuracy:.4f}\")\n",
    "# print(\"\\nClassification Report:\\n\", clf_report)\n",
    "# print(\"Confusion Matrix:\\n\", conf_matrix)"
   ]
  },
  {
   "cell_type": "markdown",
   "id": "41821d07",
   "metadata": {},
   "source": [
    "<a id=\"baseline-metrics\"></a>\n",
    "\n",
    "#### 📊 Metrics to Benchmark\n",
    "\n",
    "<details><summary><strong>📖 Click to Expand Explanation</strong></summary>\n",
    "\n",
    "After training the baseline model, we evaluate its performance using key classification metrics:\n",
    "\n",
    "1. **Accuracy**: Measures the proportion of correct predictions out of the total predictions.\n",
    "   \n",
    "2. **Classification Report**: Includes metrics like:\n",
    "   - **Precision**: The percentage of relevant instances among the retrieved instances.\n",
    "   - **Recall**: The percentage of relevant instances that have been retrieved.\n",
    "   - **F1-Score**: The harmonic mean of precision and recall.\n",
    "\n",
    "3. **Confusion Matrix**: Provides a detailed breakdown of the **True Positives**, **True Negatives**, **False Positives**, and **False Negatives** to understand where the model is making errors.\n",
    "\n",
    "These metrics provide a **benchmark** for evaluating more advanced models. Any model you train later should outperform the baseline model on these metrics to demonstrate its effectiveness.\n",
    "\n",
    "</details>\n"
   ]
  },
  {
   "cell_type": "code",
   "execution_count": 35,
   "id": "4ef1056e",
   "metadata": {},
   "outputs": [],
   "source": [
    "def evaluate_baseline_model(y_test, y_pred):\n",
    "    \"\"\"\n",
    "    Evaluate the baseline model using key classification metrics.\n",
    "    \"\"\"\n",
    "    # Accuracy score\n",
    "    accuracy = accuracy_score(y_test, y_pred)\n",
    "    \n",
    "    # Classification Report (Precision, Recall, F1-Score)\n",
    "    clf_report = classification_report(y_test, y_pred)\n",
    "    \n",
    "    # Confusion Matrix\n",
    "    conf_matrix = confusion_matrix(y_test, y_pred)\n",
    "    \n",
    "    # Print all evaluation metrics\n",
    "    print(f\"Baseline Model Accuracy: {accuracy:.4f}\")\n",
    "    print(\"\\nClassification Report:\\n\", clf_report)\n",
    "    print(\"Confusion Matrix:\\n\", conf_matrix)\n"
   ]
  },
  {
   "cell_type": "code",
   "execution_count": 37,
   "id": "7daf10cc",
   "metadata": {},
   "outputs": [
    {
     "name": "stdout",
     "output_type": "stream",
     "text": [
      "Baseline Model Accuracy: 0.4450\n",
      "\n",
      "Classification Report:\n",
      "               precision    recall  f1-score   support\n",
      "\n",
      "           0       0.45      1.00      0.62        89\n",
      "           1       0.00      0.00      0.00       111\n",
      "\n",
      "    accuracy                           0.45       200\n",
      "   macro avg       0.22      0.50      0.31       200\n",
      "weighted avg       0.20      0.45      0.27       200\n",
      "\n",
      "Confusion Matrix:\n",
      " [[ 89   0]\n",
      " [111   0]]\n"
     ]
    },
    {
     "name": "stderr",
     "output_type": "stream",
     "text": [
      "/Users/ar/Library/Python/3.9/lib/python/site-packages/sklearn/metrics/_classification.py:1565: UndefinedMetricWarning: Precision is ill-defined and being set to 0.0 in labels with no predicted samples. Use `zero_division` parameter to control this behavior.\n",
      "  _warn_prf(average, modifier, f\"{metric.capitalize()} is\", len(result))\n",
      "/Users/ar/Library/Python/3.9/lib/python/site-packages/sklearn/metrics/_classification.py:1565: UndefinedMetricWarning: Precision is ill-defined and being set to 0.0 in labels with no predicted samples. Use `zero_division` parameter to control this behavior.\n",
      "  _warn_prf(average, modifier, f\"{metric.capitalize()} is\", len(result))\n",
      "/Users/ar/Library/Python/3.9/lib/python/site-packages/sklearn/metrics/_classification.py:1565: UndefinedMetricWarning: Precision is ill-defined and being set to 0.0 in labels with no predicted samples. Use `zero_division` parameter to control this behavior.\n",
      "  _warn_prf(average, modifier, f\"{metric.capitalize()} is\", len(result))\n"
     ]
    }
   ],
   "source": [
    "evaluate_baseline_model(y_test, y_pred)\n"
   ]
  },
  {
   "cell_type": "code",
   "execution_count": null,
   "id": "b2763bf6",
   "metadata": {},
   "outputs": [],
   "source": []
  }
 ],
 "metadata": {
  "kernelspec": {
   "display_name": "Python 3",
   "language": "python",
   "name": "python3"
  },
  "language_info": {
   "codemirror_mode": {
    "name": "ipython",
    "version": 3
   },
   "file_extension": ".py",
   "mimetype": "text/x-python",
   "name": "python",
   "nbconvert_exporter": "python",
   "pygments_lexer": "ipython3",
   "version": "3.9.6"
  }
 },
 "nbformat": 4,
 "nbformat_minor": 5
}
