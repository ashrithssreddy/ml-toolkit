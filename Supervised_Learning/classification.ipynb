{
 "cells": [
  {
   "cell_type": "markdown",
   "id": "7946c46b",
   "metadata": {},
   "source": [
    "<a id=\"table-of-contents\"></a>\n",
    "# 📖 Table of Contents\n",
    "\n",
    "[🧭 Objective](#objective)  \n",
    "- [📌 What is Classification?](#what-is-classification)  \n",
    "- [📦 Use Cases](#classification-use-cases)  \n",
    "- [⚠️ Challenges](#classification-challenges)\n",
    "\n",
    "[📂 Data Setup](#data-setup)  \n",
    "- [📥 Load Dataset](#load-dataset)  \n",
    "- [🧹 Preprocessing](#preprocessing)\n",
    "\n",
    "[🧪 Baseline Model](#baseline-model)  \n",
    "- [📈 Dummy Classifier](#dummy-classifier)  \n",
    "- [📊 Metrics to Benchmark](#baseline-metrics)\n",
    "\n",
    "[🔍 Models](#models)\n",
    "\n",
    "[📊 Logistic Regression](#logistic-regression)\n",
    "\n",
    "[🧮 Naive Bayes](#naive-bayes)\n",
    "\n",
    "[🌳 Decision Tree](#decision-tree)\n",
    "\n",
    "[🌲 Random Forest](#random-forest)\n",
    "\n",
    "[🚀 XGBoost](#xgboost)\n",
    "\n",
    "[🎯 KNN (K-Nearest Neighbors)](#knn)\n",
    "\n",
    "[📈 SVM (Support Vector Machines)](#svm)\n",
    "\n",
    "[🧠 Neural Network](#neural-net)\n",
    "\n",
    "[📊 Evaluation & Comparison](#evaluation)  \n",
    "- [📉 Confusion Matrix](#confusion-matrix)  \n",
    "- [📈 ROC Curve / AUC](#roc-auc)  \n",
    "- [📏 Precision / Recall / F1](#prf-metrics)  \n",
    "- [📋 Model Comparison Table](#comparison-table)\n",
    "\n",
    "[📌 Final Summary](#final-summary)  \n",
    "- [💼 Business Insights](#business-insights)  \n",
    "- [🧠 Technical Learnings](#technical-learnings)\n",
    "\n",
    "[❓ FAQ / Notes](#faq)  \n",
    "- [📏 Class Imbalance](#class-imbalance)  \n",
    "- [🧪 When to Use What Model](#model-selection-guide)\n",
    "___"
   ]
  },
  {
   "cell_type": "markdown",
   "id": "0de6e3d2",
   "metadata": {},
   "source": [
    "<a id=\"objective\"></a>\n",
    "# 🧭 Objective\n",
    "\n"
   ]
  },
  {
   "cell_type": "markdown",
   "id": "3cafdd70",
   "metadata": {},
   "source": [
    "<a id=\"what-is-classification\"></a>\n",
    "#### 📌 What is Classification?\n",
    "\n"
   ]
  },
  {
   "cell_type": "markdown",
   "id": "b8616d21",
   "metadata": {},
   "source": [
    "<a id=\"classification-use-cases\"></a>\n",
    "#### 📦 Use Cases\n",
    "\n"
   ]
  },
  {
   "cell_type": "markdown",
   "id": "2b07b50e",
   "metadata": {},
   "source": [
    "<a id=\"classification-challenges\"></a>\n",
    "#### ⚠️ Challenges\n",
    "\n"
   ]
  },
  {
   "cell_type": "markdown",
   "id": "eac4415e",
   "metadata": {},
   "source": [
    "[Back to the top](#table-of-contents)\n",
    "___"
   ]
  },
  {
   "cell_type": "markdown",
   "id": "133f37c7",
   "metadata": {},
   "source": [
    "<a id=\"data-setup\"></a>\n",
    "# 📂 Data Setup\n",
    "\n"
   ]
  },
  {
   "cell_type": "markdown",
   "id": "0a09beb6",
   "metadata": {},
   "source": [
    "<a id=\"load-dataset\"></a>\n",
    "#### 📥 Load Dataset\n",
    "\n"
   ]
  },
  {
   "cell_type": "markdown",
   "id": "28ffb3b8",
   "metadata": {},
   "source": [
    "<a id=\"preprocessing\"></a>\n",
    "#### 🧹 Preprocessing\n",
    "\n"
   ]
  },
  {
   "cell_type": "markdown",
   "id": "77810fb9",
   "metadata": {},
   "source": [
    "[Back to the top](#table-of-contents)\n",
    "___\n",
    "\n"
   ]
  },
  {
   "cell_type": "markdown",
   "id": "4be293f5",
   "metadata": {},
   "source": [
    "<a id=\"baseline-model\"></a>\n",
    "# 🧪 Baseline Model\n",
    "\n"
   ]
  },
  {
   "cell_type": "markdown",
   "id": "f16d9e15",
   "metadata": {},
   "source": [
    "<a id=\"dummy-classifier\"></a>\n",
    "#### 📈 Dummy Classifier\n",
    "\n"
   ]
  },
  {
   "cell_type": "markdown",
   "id": "3d79df02",
   "metadata": {},
   "source": [
    "<a id=\"baseline-metrics\"></a>\n",
    "#### 📊 Metrics to Benchmark\n",
    "\n"
   ]
  },
  {
   "cell_type": "markdown",
   "id": "dbe5a36b",
   "metadata": {},
   "source": [
    "[Back to the top](#table-of-contents)\n",
    "___\n",
    "\n"
   ]
  },
  {
   "cell_type": "markdown",
   "id": "edb56812",
   "metadata": {},
   "source": [
    "<a id=\"models\"></a>\n",
    "# 🔍 Models\n",
    "\n"
   ]
  },
  {
   "cell_type": "markdown",
   "id": "a3df501b",
   "metadata": {},
   "source": [
    "[Back to the top](#table-of-contents)\n",
    "___\n",
    "\n"
   ]
  },
  {
   "cell_type": "markdown",
   "id": "c5b01510",
   "metadata": {},
   "source": [
    "<a id=\"logistic-regression\"></a>\n",
    "# 📊 Logistic Regression\n",
    "\n"
   ]
  },
  {
   "cell_type": "markdown",
   "id": "f091f5b1",
   "metadata": {},
   "source": [
    "[Back to the top](#table-of-contents)\n",
    "___\n",
    "\n"
   ]
  },
  {
   "cell_type": "markdown",
   "id": "1680be07",
   "metadata": {},
   "source": [
    "<a id=\"naive-bayes\"></a>\n",
    "# 🧮 Naive Bayes\n",
    "\n"
   ]
  },
  {
   "cell_type": "markdown",
   "id": "0afc61fd",
   "metadata": {},
   "source": [
    "[Back to the top](#table-of-contents)\n",
    "___\n",
    "\n"
   ]
  },
  {
   "cell_type": "markdown",
   "id": "6a831589",
   "metadata": {},
   "source": [
    "<a id=\"decision-tree\"></a>\n",
    "# 🌳 Decision Tree\n",
    "\n"
   ]
  },
  {
   "cell_type": "markdown",
   "id": "2ae0137f",
   "metadata": {},
   "source": [
    "[Back to the top](#table-of-contents)\n",
    "___\n",
    "\n"
   ]
  },
  {
   "cell_type": "markdown",
   "id": "ad987ee3",
   "metadata": {},
   "source": [
    "<a id=\"random-forest\"></a>\n",
    "# 🌲 Random Forest\n",
    "\n"
   ]
  },
  {
   "cell_type": "markdown",
   "id": "4ce30ab7",
   "metadata": {},
   "source": [
    "[Back to the top](#table-of-contents)\n",
    "___\n",
    "\n"
   ]
  },
  {
   "cell_type": "markdown",
   "id": "7ffb6069",
   "metadata": {},
   "source": [
    "<a id=\"xgboost\"></a>\n",
    "# 🚀 XGBoost\n",
    "\n"
   ]
  },
  {
   "cell_type": "markdown",
   "id": "b5d806f1",
   "metadata": {},
   "source": [
    "[Back to the top](#table-of-contents)\n",
    "___\n",
    "\n"
   ]
  },
  {
   "cell_type": "markdown",
   "id": "ea5a4b23",
   "metadata": {},
   "source": [
    "<a id=\"knn\"></a>\n",
    "# 🎯 KNN (K-Nearest Neighbors)\n",
    "\n",
    "\n"
   ]
  },
  {
   "cell_type": "markdown",
   "id": "33536ff9",
   "metadata": {},
   "source": [
    "[Back to the top](#table-of-contents)\n",
    "___\n",
    "\n"
   ]
  },
  {
   "cell_type": "markdown",
   "id": "2550a922",
   "metadata": {},
   "source": [
    "<a id=\"svm\"></a>\n",
    "# 📈 SVM (Support Vector Machines)\n"
   ]
  },
  {
   "cell_type": "markdown",
   "id": "172f16ac",
   "metadata": {},
   "source": [
    "[Back to the top](#table-of-contents)\n",
    "___\n",
    "\n"
   ]
  },
  {
   "cell_type": "markdown",
   "id": "9089ef7a",
   "metadata": {},
   "source": [
    "<a id=\"neural-net\"></a>\n",
    "# 🧠 Neural Network\n",
    "\n"
   ]
  },
  {
   "cell_type": "markdown",
   "id": "a11ee97d",
   "metadata": {},
   "source": [
    "[Back to the top](#table-of-contents)\n",
    "___\n",
    "\n"
   ]
  },
  {
   "cell_type": "markdown",
   "id": "ebabc42a",
   "metadata": {},
   "source": [
    "<a id=\"evaluation\"></a>\n",
    "# 📊 Evaluation & Comparison\n",
    "\n"
   ]
  },
  {
   "cell_type": "markdown",
   "id": "29501be6",
   "metadata": {},
   "source": [
    "<a id=\"confusion-matrix\"></a>\n",
    "#### 📉 Confusion Matrix\n",
    "\n"
   ]
  },
  {
   "cell_type": "markdown",
   "id": "c9a16778",
   "metadata": {},
   "source": [
    "<hr style=\"border: none; height: 1px; background-color: #ddd;\" />\n"
   ]
  },
  {
   "cell_type": "markdown",
   "id": "84b24059",
   "metadata": {},
   "source": [
    "<a id=\"roc-auc\"></a>\n",
    "#### 📈 ROC Curve / AUC\n",
    "\n"
   ]
  },
  {
   "cell_type": "markdown",
   "id": "98f5cd8d",
   "metadata": {},
   "source": [
    "<hr style=\"border: none; height: 1px; background-color: #ddd;\" />\n"
   ]
  },
  {
   "cell_type": "markdown",
   "id": "1f751ffa",
   "metadata": {},
   "source": [
    "<a id=\"prf-metrics\"></a>\n",
    "#### 📏 Precision / Recall / F1\n",
    "\n"
   ]
  },
  {
   "cell_type": "markdown",
   "id": "fa5fcc4a",
   "metadata": {},
   "source": [
    "<hr style=\"border: none; height: 1px; background-color: #ddd;\" />\n"
   ]
  },
  {
   "cell_type": "markdown",
   "id": "61653b60",
   "metadata": {},
   "source": [
    "<a id=\"comparison-table\"></a>\n",
    "#### 📋 Model Comparison Table\n",
    "\n"
   ]
  },
  {
   "cell_type": "markdown",
   "id": "b685f067",
   "metadata": {},
   "source": [
    "<hr style=\"border: none; height: 1px; background-color: #ddd;\" />\n"
   ]
  },
  {
   "cell_type": "markdown",
   "id": "db02091d",
   "metadata": {},
   "source": [
    "[Back to the top](#table-of-contents)\n",
    "___\n",
    "\n"
   ]
  },
  {
   "cell_type": "markdown",
   "id": "22e6c97c",
   "metadata": {},
   "source": [
    "<a id=\"final-summary\"></a>\n",
    "# 📌 Final Summary\n",
    "\n"
   ]
  },
  {
   "cell_type": "markdown",
   "id": "018c2214",
   "metadata": {},
   "source": [
    "<a id=\"business-insights\"></a>\n",
    "#### 💼 Business Insights"
   ]
  },
  {
   "cell_type": "markdown",
   "id": "353c8671",
   "metadata": {},
   "source": [
    "<a id=\"technical-learnings\"></a>\n",
    "#### 🧠 Technical Learnings"
   ]
  },
  {
   "cell_type": "markdown",
   "id": "3903f2c5",
   "metadata": {},
   "source": [
    "[Back to the top](#table-of-contents)\n",
    "___\n",
    "\n"
   ]
  },
  {
   "cell_type": "markdown",
   "id": "3b48c869",
   "metadata": {},
   "source": [
    "<a id=\"faq\"></a>\n",
    "# ❓ FAQ / Notes"
   ]
  },
  {
   "cell_type": "markdown",
   "id": "18b99809",
   "metadata": {},
   "source": [
    "<a id=\"class-imbalance\"></a>\n",
    "#### 📏 Class Imbalance"
   ]
  },
  {
   "cell_type": "markdown",
   "id": "36b5b414",
   "metadata": {},
   "source": [
    "<hr style=\"border: none; height: 1px; background-color: #ddd;\" />\n"
   ]
  },
  {
   "cell_type": "markdown",
   "id": "fad29161",
   "metadata": {},
   "source": [
    "<a id=\"model-selection-guide\"></a>\n",
    "#### 🧪 When to Use What Model"
   ]
  },
  {
   "cell_type": "markdown",
   "id": "d56e416f",
   "metadata": {},
   "source": [
    "[Back to the top](#table-of-contents)\n",
    "___\n",
    "\n"
   ]
  }
 ],
 "metadata": {
  "kernelspec": {
   "display_name": "Python 3 (ipykernel)",
   "language": "python",
   "name": "python3"
  },
  "language_info": {
   "codemirror_mode": {
    "name": "ipython",
    "version": 3
   },
   "file_extension": ".py",
   "mimetype": "text/x-python",
   "name": "python",
   "nbconvert_exporter": "python",
   "pygments_lexer": "ipython3",
   "version": "3.11.3"
  }
 },
 "nbformat": 4,
 "nbformat_minor": 5
}
