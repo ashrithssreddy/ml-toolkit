{
 "cells": [
  {
   "cell_type": "markdown",
   "id": "7946c46b",
   "metadata": {},
   "source": [
    "![Status: Complete](https://img.shields.io/badge/status-complete-brightgreen)\n",
    "![Python](https://img.shields.io/badge/python-3.10-blue)\n",
    "![Coverage](https://img.shields.io/badge/coverage-90%25-green)\n",
    "![License](https://img.shields.io/badge/license-MIT-green)\n",
    "\n",
    "<a id=\"table-of-contents\"></a>\n",
    "# 📖 Classification\n",
    "\n",
    "[🧭 Problem Statement](#objective)  \n",
    "  - [📌 What is Classification?](#what-is-classification)\n",
    "\n",
    "[📂 Data Setup](#data-setup)  \n",
    "  - [📥 Load Dataset](#load-dataset)  \n",
    "  - [📊 Data Characteristics Dictionary](#data-characteristics-dictionary)  \n",
    "  - [🔎 EDA](#eda)  \n",
    "  - [🛠️ Feature Engineering](#feature-engineering)  \n",
    "  - [🧹 Preprocessing](#preprocessing)\n",
    "\n",
    "[🧪 Baseline Classifier Model](#baseline-model)  \n",
    "  - [📊 Model Evaluation](#evaluation-baseline)  \n",
    "  - [📉 Confusion Matrix](#confusion-matrix-baseline)  \n",
    "  - [📈 ROC Curve / AUC](#roc-auc-baseline)  \n",
    "  - [🧮 Update Best Model Info](#update-best-model)\n",
    "\n",
    "[🔍 Algorithms](#models)  \n",
    "  - [📊 Logistic Regression](#logistic-regression)  \n",
    "  - [🧮 Naive Bayes](#naive-bayes)  \n",
    "  - [🌳 Decision Tree](#decision-tree)  \n",
    "  - [🌲 Random Forest](#random-forest)  \n",
    "  - [🎯 KNN (K-Nearest Neighbors)](#knn)  \n",
    "  - [📈 SVM (Support Vector Machines)](#svm)  \n",
    "  - [🚀 XGBoost](#xgboost)  \n",
    "  - [🧠 Neural Network](#neural-net)\n",
    "\n",
    "[📊 Model Selection](#model-exploration)  \n",
    "  - [🧠 Recommend Models](#recommend-models)  \n",
    "  - [📈 Model Comparison](#model-comparison)  \n",
    "  - [📊 Feature Importance](#feature-importance)  \n",
    "  - [🧬 SHAP Values](#shap-values)\n",
    "\n",
    "[🛠️ Fine-Tune](#tuning)  \n",
    "  - [🧪 Feature Selection – RFE](#feature-selection-rfe)  \n",
    "  - [🧪 Feature Selection – RFE + SHAP](#feature-selection-rfe-shap)  \n",
    "  - [🔎 Grid Search](#grid-search)  \n",
    "  - [🎲 Randomized Search](#random-search)\n",
    "\n",
    "[🔀 Ensemble Methods](#ensemble)  \n",
    "  - [🗳️ Voting Classifier](#voting-ensemble)  \n",
    "  - [🧬 Stacking Classifier](#stacking-ensemble)  \n",
    "  - [🪵 Bagging](#bagging)  \n",
    "  - [🚀 Boosting](#boosting)\n",
    "\n",
    "[📦 Export & Deployment](#export-deploy)\n",
    "  - [🧊 Pickling](#pickling)\n",
    "  - [📊 Monitoring Hooks](#monitoring-hooks)\n",
    "\n",
    "<hr style=\"border: none; height: 1px; background-color: #ddd;\" />"
   ]
  },
  {
   "cell_type": "markdown",
   "id": "0de6e3d2",
   "metadata": {},
   "source": [
    "<a id=\"objective\"></a>\n",
    "# 🧭 Problem Statement\n",
    "\n"
   ]
  },
  {
   "cell_type": "markdown",
   "id": "3cafdd70",
   "metadata": {},
   "source": [
    "<a id=\"what-is-classification\"></a>\n",
    "<h4>📌 What is Classification?</h4>\n",
    "\n",
    "<details><summary><strong>📖 Click to Expand</strong></summary>\n",
    "\n",
    "<p>Classification is a type of supervised machine learning where the goal is to predict a categorical label for an observation. Given a set of features (input data), the model tries to assign the observation to one of several predefined classes.</p>\n",
    "\n",
    "<p>Common examples of classification problems include:</p>\n",
    "<ul>\n",
    "  <li><strong>Spam detection</strong>: Classifying emails as spam or not.</li>\n",
    "  <li><strong>Customer churn prediction</strong>: Classifying customers as likely to leave (churn) or stay based on their activity.</li>\n",
    "  <li><strong>Image recognition</strong>: Classifying images into categories, like identifying animals, vehicles, etc.</li>\n",
    "</ul>\n",
    "\n",
    "<p>In classification, the output is discrete (e.g., 'spam' vs 'not spam', 'churn' vs 'no churn'). This contrasts with regression, where the output is continuous (e.g., predicting a house price).</p>\n",
    "\n",
    "<h5>Key Points</h5>\n",
    "<ul>\n",
    "  <li>Supervised learning approach.</li>\n",
    "  <li>Used for predicting categories.</li>\n",
    "  <li>Output is discrete (binary or multiclass).</li>\n",
    "  <li>Examples: email classification, disease diagnosis, fraud detection.</li>\n",
    "</ul>\n",
    "\n",
    "</details>\n"
   ]
  },
  {
   "cell_type": "markdown",
   "id": "eac4415e",
   "metadata": {},
   "source": [
    "[Back to the top](#table-of-contents)\n",
    "___"
   ]
  },
  {
   "cell_type": "markdown",
   "id": "133f37c7",
   "metadata": {},
   "source": [
    "<a id=\"data-setup\"></a>\n",
    "# 📂 Data Setup\n",
    "\n"
   ]
  },
  {
   "cell_type": "markdown",
   "id": "0a09beb6",
   "metadata": {},
   "source": [
    "<a id=\"load-dataset\"></a>\n",
    "#### 📥 Load Dataset\n",
    "\n"
   ]
  },
  {
   "cell_type": "markdown",
   "id": "7faf2c74",
   "metadata": {},
   "source": [
    "<details><summary><strong>📖 Click to Expand</strong></summary>\n",
    "\n",
    "<p>In this section, we will begin by preparing the dataset. For simplicity, we'll use a simulated classification dataset generated using the <code>make_classification</code> function from <code>sklearn</code>. This allows us to create a synthetic dataset that is suitable for practicing classification tasks.</p>\n",
    "\n",
    "<p>We will simulate a dataset with the following properties:</p>\n",
    "<ul>\n",
    "  <li>1000 samples (observations)</li>\n",
    "  <li>10 features (predictors)</li>\n",
    "  <li>2 informative features (ones that help in prediction)</li>\n",
    "  <li>2 classes (binary classification problem)</li>\n",
    "</ul>\n",
    "\n",
    "<p>Let's generate and take a look at the data.</p>\n",
    "\n",
    "</details>\n"
   ]
  },
  {
   "cell_type": "code",
   "execution_count": 1,
   "id": "7c540ccb",
   "metadata": {},
   "outputs": [],
   "source": [
    "# Data handling and manipulation\n",
    "import pandas as pd\n",
    "import numpy as np\n",
    "\n",
    "# Machine Learning and Model Evaluation\n",
    "from sklearn.datasets import make_classification\n",
    "from sklearn.model_selection import train_test_split, TimeSeriesSplit, KFold\n",
    "from sklearn.decomposition import PCA\n",
    "from sklearn.dummy import DummyClassifier\n",
    "from sklearn.metrics import accuracy_score, classification_report, confusion_matrix\n",
    "\n",
    "# Statistical and Other Utilities\n",
    "from scipy.stats import zscore\n",
    "from termcolor import colored\n",
    "\n",
    "# Visualization\n",
    "import matplotlib.pyplot as plt"
   ]
  },
  {
   "cell_type": "code",
   "execution_count": 2,
   "id": "6ca7b755",
   "metadata": {},
   "outputs": [
    {
     "data": {
      "text/html": [
       "<div>\n",
       "<style scoped>\n",
       "    .dataframe tbody tr th:only-of-type {\n",
       "        vertical-align: middle;\n",
       "    }\n",
       "\n",
       "    .dataframe tbody tr th {\n",
       "        vertical-align: top;\n",
       "    }\n",
       "\n",
       "    .dataframe thead th {\n",
       "        text-align: right;\n",
       "    }\n",
       "</style>\n",
       "<table border=\"1\" class=\"dataframe\">\n",
       "  <thead>\n",
       "    <tr style=\"text-align: right;\">\n",
       "      <th></th>\n",
       "      <th>Feature_1</th>\n",
       "      <th>Feature_2</th>\n",
       "      <th>Feature_3</th>\n",
       "      <th>Feature_4</th>\n",
       "      <th>Feature_5</th>\n",
       "      <th>Feature_6</th>\n",
       "      <th>Feature_7</th>\n",
       "      <th>Feature_8</th>\n",
       "      <th>Feature_9</th>\n",
       "      <th>Feature_10</th>\n",
       "      <th>Target</th>\n",
       "    </tr>\n",
       "  </thead>\n",
       "  <tbody>\n",
       "    <tr>\n",
       "      <th>0</th>\n",
       "      <td>0.959085</td>\n",
       "      <td>-0.066449</td>\n",
       "      <td>0.918572</td>\n",
       "      <td>-0.358079</td>\n",
       "      <td>0.997266</td>\n",
       "      <td>1.181890</td>\n",
       "      <td>-1.415679</td>\n",
       "      <td>-1.210161</td>\n",
       "      <td>-0.828077</td>\n",
       "      <td>1.227274</td>\n",
       "      <td>0</td>\n",
       "    </tr>\n",
       "    <tr>\n",
       "      <th>1</th>\n",
       "      <td>-0.910796</td>\n",
       "      <td>-0.566395</td>\n",
       "      <td>-0.940419</td>\n",
       "      <td>0.831617</td>\n",
       "      <td>-1.176962</td>\n",
       "      <td>1.820544</td>\n",
       "      <td>1.552375</td>\n",
       "      <td>-0.984534</td>\n",
       "      <td>0.563896</td>\n",
       "      <td>0.209470</td>\n",
       "      <td>1</td>\n",
       "    </tr>\n",
       "    <tr>\n",
       "      <th>2</th>\n",
       "      <td>-0.103769</td>\n",
       "      <td>-0.432774</td>\n",
       "      <td>-0.389454</td>\n",
       "      <td>0.793818</td>\n",
       "      <td>-0.268646</td>\n",
       "      <td>-1.836360</td>\n",
       "      <td>1.039086</td>\n",
       "      <td>-0.246383</td>\n",
       "      <td>-0.858145</td>\n",
       "      <td>-0.297376</td>\n",
       "      <td>1</td>\n",
       "    </tr>\n",
       "    <tr>\n",
       "      <th>3</th>\n",
       "      <td>1.580930</td>\n",
       "      <td>2.023606</td>\n",
       "      <td>1.542262</td>\n",
       "      <td>0.006800</td>\n",
       "      <td>-1.607661</td>\n",
       "      <td>0.184741</td>\n",
       "      <td>-2.419427</td>\n",
       "      <td>-0.357445</td>\n",
       "      <td>-1.273127</td>\n",
       "      <td>-0.190039</td>\n",
       "      <td>0</td>\n",
       "    </tr>\n",
       "    <tr>\n",
       "      <th>4</th>\n",
       "      <td>-0.006898</td>\n",
       "      <td>-0.711303</td>\n",
       "      <td>0.139918</td>\n",
       "      <td>0.117124</td>\n",
       "      <td>1.536061</td>\n",
       "      <td>0.597538</td>\n",
       "      <td>-0.437329</td>\n",
       "      <td>-0.939156</td>\n",
       "      <td>0.484698</td>\n",
       "      <td>0.236224</td>\n",
       "      <td>0</td>\n",
       "    </tr>\n",
       "  </tbody>\n",
       "</table>\n",
       "</div>"
      ],
      "text/plain": [
       "   Feature_1  Feature_2  Feature_3  Feature_4  Feature_5  Feature_6  \\\n",
       "0   0.959085  -0.066449   0.918572  -0.358079   0.997266   1.181890   \n",
       "1  -0.910796  -0.566395  -0.940419   0.831617  -1.176962   1.820544   \n",
       "2  -0.103769  -0.432774  -0.389454   0.793818  -0.268646  -1.836360   \n",
       "3   1.580930   2.023606   1.542262   0.006800  -1.607661   0.184741   \n",
       "4  -0.006898  -0.711303   0.139918   0.117124   1.536061   0.597538   \n",
       "\n",
       "   Feature_7  Feature_8  Feature_9  Feature_10  Target  \n",
       "0  -1.415679  -1.210161  -0.828077    1.227274       0  \n",
       "1   1.552375  -0.984534   0.563896    0.209470       1  \n",
       "2   1.039086  -0.246383  -0.858145   -0.297376       1  \n",
       "3  -2.419427  -0.357445  -1.273127   -0.190039       0  \n",
       "4  -0.437329  -0.939156   0.484698    0.236224       0  "
      ]
     },
     "execution_count": 2,
     "metadata": {},
     "output_type": "execute_result"
    }
   ],
   "source": [
    "from sklearn.datasets import make_classification\n",
    "import numpy as np\n",
    "import pandas as pd\n",
    "\n",
    "# Simulate base classification dataset\n",
    "X, y = make_classification(\n",
    "    n_samples=1000,\n",
    "    n_features=10,\n",
    "    n_informative=2,\n",
    "    n_redundant=2,\n",
    "    n_repeated=0,\n",
    "    n_classes=2,\n",
    "    weights=[0.7, 0.3],  # simulate class imbalance\n",
    "    flip_y=0.01,         # 1% label noise\n",
    "    class_sep=0.8,       # less separation = harder task\n",
    "    random_state=42\n",
    ")\n",
    "\n",
    "# Create DataFrame\n",
    "df = pd.DataFrame(X, columns=[f\"Feature_{i}\" for i in range(1, 11)])\n",
    "target_col = \"Target\" \n",
    "df[target_col] = y\n",
    "\n",
    "# Inject missing values randomly (e.g., 1% of cells)\n",
    "# mask = np.random.rand(*df.shape) < 0.01\n",
    "# df[mask] = np.nan\n",
    "\n",
    "# Display preview\n",
    "df.head()\n"
   ]
  },
  {
   "cell_type": "markdown",
   "id": "f28407bd",
   "metadata": {},
   "source": [
    "<a id=\"data-characteristics-dictionary\"></a>\n",
    "<h4>📊 Data Characteristics Dictionary</h4>\n",
    "\n",
    "<details><summary><strong>📖 Click to Expand</strong></summary>\n",
    "\n",
    "<p>This section initializes the <strong>data characteristics dictionary</strong>, which will store various metadata about the dataset, including details about the target variable, features, data size, and linear separability.</p>\n",
    "\n",
    "<p>The dictionary contains the following key sections:</p>\n",
    "\n",
    "<ol>\n",
    "  <li><strong>🎯 Target Variable</strong>:\n",
    "    <ul>\n",
    "      <li><strong>Type</strong>: Specifies whether the target variable is <strong>binary</strong> or <strong>multiclass</strong>.</li>\n",
    "      <li><strong>Imbalance</strong>: Indicates whether the target variable has <strong>class imbalance</strong>.</li>\n",
    "      <li><strong>Class Imbalance Severity</strong>: Specifies the severity of the imbalance (e.g., <strong>high</strong>, <strong>low</strong>).</li>\n",
    "    </ul>\n",
    "  </li>\n",
    "  <li><strong>🔧 Features</strong>:\n",
    "    <ul>\n",
    "      <li><strong>Type</strong>: Describes the type of features in the dataset (e.g., <strong>categorical</strong>, <strong>continuous</strong>, or <strong>mixed</strong>).</li>\n",
    "      <li><strong>Correlation</strong>: Indicates the correlation between features (e.g., <strong>low</strong>, <strong>medium</strong>, <strong>high</strong>).</li>\n",
    "      <li><strong>Outliers</strong>: Flag to indicate whether <strong>outliers</strong> are detected in the features.</li>\n",
    "      <li><strong>Missing Data</strong>: Tracks the percentage of <strong>missing data</strong> or flags missing values.</li>\n",
    "    </ul>\n",
    "  </li>\n",
    "  <li><strong>📈 Data Size</strong>:\n",
    "    <ul>\n",
    "      <li><strong>Size</strong>: Contains the <strong>number of samples</strong> (rows) and <strong>number of features</strong> (columns).</li>\n",
    "    </ul>\n",
    "  </li>\n",
    "  <li><strong>🔍 Linear Separability</strong>:\n",
    "    <ul>\n",
    "      <li><strong>Linear Separability</strong>: States whether the classes are <strong>linearly separable</strong> (True or False).</li>\n",
    "    </ul>\n",
    "  </li>\n",
    "</ol>\n",
    "\n",
    "<p>This dictionary will be updated dynamically as we analyze the dataset in subsequent steps. It serves as a <strong>summary of key dataset properties</strong> to help guide further analysis and modeling decisions.</p>\n",
    "\n",
    "</details>\n"
   ]
  },
  {
   "cell_type": "code",
   "execution_count": 3,
   "id": "73753c79",
   "metadata": {},
   "outputs": [],
   "source": [
    "# Initialize the data characteristics dictionary\n",
    "data_characteristics = {\n",
    "    \"target_variable\": {\n",
    "        \"type\": None,  # \"binary\", \"multiclass\"\n",
    "        \"imbalance\": None,  # True if imbalanced, False otherwise\n",
    "        \"class_imbalance_severity\": None  # e.g., \"high\", \"low\"\n",
    "    },\n",
    "    \"features\": {\n",
    "        \"type\": None,  # \"categorical\", \"continuous\", \"mixed\"\n",
    "        \"correlation\": None,  # \"low\", \"medium\", \"high\"\n",
    "        \"outliers\": None,  # True if outliers detected, False otherwise\n",
    "        \"missing_data\": None  # Percentage of missing data or boolean\n",
    "    },\n",
    "    \"data_size\": None,  # Size of dataset (samples, features)\n",
    "    \"linear_separability\": None  # True if classes are linearly separable\n",
    "}"
   ]
  },
  {
   "cell_type": "markdown",
   "id": "9f0f51fa",
   "metadata": {},
   "source": [
    "<a id=\"eda\"></a>\n",
    "#### 🔎 EDA\n"
   ]
  },
  {
   "cell_type": "code",
   "execution_count": 4,
   "id": "88a3563c",
   "metadata": {},
   "outputs": [],
   "source": [
    "import numpy as np\n",
    "import pandas as pd\n",
    "from scipy.stats import pearsonr\n",
    "\n",
    "# If needed, convert X and y to DataFrame and Series\n",
    "if isinstance(X, np.ndarray):\n",
    "    X_df = pd.DataFrame(X, columns=[f\"Feature_{i}\" for i in range(X.shape[1])])\n",
    "else:\n",
    "    X_df = X\n",
    "\n",
    "if isinstance(y, np.ndarray):\n",
    "    y_series = pd.Series(y, name=\"Target\")\n",
    "else:\n",
    "    y_series = y\n",
    "\n",
    "# Target-related\n",
    "target_type = \"binary\" if y_series.nunique() == 2 else \"multiclass\"\n",
    "imbalance_ratio = y_series.value_counts(normalize=True).min()\n",
    "imbalance_flag = imbalance_ratio < 0.4\n",
    "imbalance_severity = \"high\" if imbalance_ratio < 0.2 else \"low\" if imbalance_ratio < 0.4 else \"balanced\"\n",
    "\n",
    "# Feature-related\n",
    "num_cols = X_df.select_dtypes(include=[\"number\"]).shape[1]\n",
    "cat_cols = X_df.select_dtypes(exclude=[\"number\"]).shape[1]\n",
    "feature_type = \"continuous\" if cat_cols == 0 else \"categorical\" if num_cols == 0 else \"mixed\"\n",
    "\n",
    "missing_pct = X_df.isna().mean().mean()\n",
    "outlier_flag = any(X_df.apply(lambda col: (col > col.mean() + 3 * col.std()) | (col < col.mean() - 3 * col.std())).sum() > 0)\n",
    "\n",
    "# Correlation level — only if continuous\n",
    "if feature_type == \"continuous\":\n",
    "    corr_matrix = X_df.corr().abs()\n",
    "    upper_tri = corr_matrix.where(np.triu(np.ones(corr_matrix.shape), k=1).astype(bool))\n",
    "    avg_corr = upper_tri.stack().mean()\n",
    "    corr_level = \"high\" if avg_corr > 0.7 else \"medium\" if avg_corr > 0.3 else \"low\"\n",
    "else:\n",
    "    corr_level = \"N/A\"\n",
    "\n",
    "# Final update\n",
    "data_characteristics.update({\n",
    "    \"target_variable\": {\n",
    "        \"type\": target_type,\n",
    "        \"imbalance\": imbalance_flag,\n",
    "        \"class_imbalance_severity\": imbalance_severity\n",
    "    },\n",
    "    \"features\": {\n",
    "        \"type\": feature_type,\n",
    "        \"correlation\": corr_level,\n",
    "        \"outliers\": outlier_flag,\n",
    "        \"missing_data\": f\"{missing_pct:.2%}\"\n",
    "    },\n",
    "    \"data_size\": X_df.shape,\n",
    "    \"linear_separability\": None\n",
    "})"
   ]
  },
  {
   "cell_type": "code",
   "execution_count": 5,
   "id": "69a50549",
   "metadata": {},
   "outputs": [
    {
     "name": "stdout",
     "output_type": "stream",
     "text": [
      "✅ Linear separability (2D PCA, Logistic F1): 0.74\n",
      "↪ Updated: linear_separability = False\n",
      "📌 Interpretation: Moderate linear separability — linear models may work with tuning.\n"
     ]
    }
   ],
   "source": [
    "from sklearn.decomposition import PCA\n",
    "from sklearn.linear_model import LogisticRegression\n",
    "from sklearn.model_selection import train_test_split\n",
    "from sklearn.metrics import f1_score\n",
    "\n",
    "# Infer positive class\n",
    "positive_class = y_series.unique()[1] if len(y_series.unique()) == 2 else 1\n",
    "\n",
    "# PCA to 2D\n",
    "pca = PCA(n_components=2, random_state=42)\n",
    "X_pca = pca.fit_transform(X_df)\n",
    "\n",
    "# Train/test split\n",
    "X_pca_train, X_pca_test, y_pca_train, y_pca_test = train_test_split(\n",
    "    X_pca, y_series, test_size=0.2, random_state=42, stratify=y_series\n",
    ")\n",
    "\n",
    "# Fit linear model\n",
    "clf = LogisticRegression()\n",
    "clf.fit(X_pca_train, y_pca_train)\n",
    "y_pred_pca = clf.predict(X_pca_test)\n",
    "\n",
    "# F1-based separability score\n",
    "f1_pca = f1_score(y_pca_test, y_pred_pca, pos_label=positive_class, zero_division=0)\n",
    "data_characteristics[\"linear_separability\"] = f1_pca > 0.75  # Adjustable threshold\n",
    "\n",
    "# Optional print\n",
    "print(f\"✅ Linear separability (2D PCA, Logistic F1): {f1_pca:.2f}\")\n",
    "print(f\"↪ Updated: linear_separability = {data_characteristics['linear_separability']}\")\n",
    "if f1_pca > 0.85:\n",
    "    interpretation = \"Strong linear separability in 2D — linear models likely to perform well.\"\n",
    "elif f1_pca > 0.7:\n",
    "    interpretation = \"Moderate linear separability — linear models may work with tuning.\"\n",
    "else:\n",
    "    interpretation = \"Poor linear separability — expect better results with non-linear models.\"\n",
    "\n",
    "print(f\"📌 Interpretation: {interpretation}\")"
   ]
  },
  {
   "cell_type": "code",
   "execution_count": 6,
   "id": "887307b9",
   "metadata": {},
   "outputs": [
    {
     "name": "stdout",
     "output_type": "stream",
     "text": [
      "{'data_size': (1000, 10),\n",
      " 'features': {'correlation': 'low',\n",
      "              'missing_data': '0.00%',\n",
      "              'outliers': True,\n",
      "              'type': 'continuous'},\n",
      " 'linear_separability': False,\n",
      " 'target_variable': {'class_imbalance_severity': 'low',\n",
      "                     'imbalance': True,\n",
      "                     'type': 'binary'}}\n"
     ]
    }
   ],
   "source": [
    "from pprint import pprint\n",
    "pprint(data_characteristics)"
   ]
  },
  {
   "cell_type": "markdown",
   "id": "7cb6d35c",
   "metadata": {},
   "source": [
    "<a id=\"feature-engineering\"></a>\n",
    "#### 🛠️ Feature Engineering\n",
    "\n",
    "- *Ommitted Here*"
   ]
  },
  {
   "cell_type": "markdown",
   "id": "28ffb3b8",
   "metadata": {},
   "source": [
    "<a id=\"preprocessing\"></a>\n",
    "#### 🧹 Preprocessing\n",
    "\n"
   ]
  },
  {
   "cell_type": "code",
   "execution_count": 7,
   "id": "953ec674",
   "metadata": {},
   "outputs": [
    {
     "name": "stdout",
     "output_type": "stream",
     "text": [
      "✅ Data split complete:\n",
      "Train size: 800, Test size: 200\n"
     ]
    }
   ],
   "source": [
    "from sklearn.model_selection import train_test_split\n",
    "\n",
    "# Define features and target\n",
    "X = df.drop(columns=target_col)\n",
    "y = df[target_col]\n",
    "\n",
    "# Train-test split\n",
    "X_train, X_test, y_train, y_test = train_test_split(\n",
    "    X, y, test_size=0.2, stratify=y, random_state=42\n",
    ")\n",
    "\n",
    "print(\"✅ Data split complete:\")\n",
    "print(f\"Train size: {len(X_train)}, Test size: {len(X_test)}\")\n"
   ]
  },
  {
   "cell_type": "markdown",
   "id": "77810fb9",
   "metadata": {},
   "source": [
    "[Back to the top](#table-of-contents)\n",
    "___\n",
    "\n"
   ]
  },
  {
   "cell_type": "markdown",
   "id": "4be293f5",
   "metadata": {},
   "source": [
    "<a id=\"baseline-model\"></a>\n",
    "# 🧪 Baseline Classifier Model"
   ]
  },
  {
   "cell_type": "markdown",
   "id": "f16d9e15",
   "metadata": {},
   "source": [
    "<details><summary><strong>📖 Click to Expand</strong></summary>\n",
    "\n",
    "<p>In this section, we define the <strong>baseline model</strong> for the classification task. The baseline model is typically a <strong>dummy model</strong> that can be used to compare against more sophisticated models. Here, we use the <strong>DummyClassifier</strong>, which predicts the majority class, to set a baseline performance.</p>\n",
    "\n",
    "<p>The baseline model will help us assess if more advanced models (e.g., Random Forest, SVM) are making meaningful improvements over a simple strategy.</p>\n",
    "\n",
    "</details>\n"
   ]
  },
  {
   "cell_type": "markdown",
   "id": "7a300365",
   "metadata": {},
   "source": [
    "🧠 Why Track `best_model_info`?\n",
    "\n",
    "In real-world pipelines, it's critical to:\n",
    "- Compare models not just by accuracy, but a full suite of metrics.\n",
    "- Store the actual model object, hyperparameters, and diagnostics in one place.\n",
    "- Ensure only the **best-performing** model (based on a chosen metric like F1 or AUC) is promoted forward."
   ]
  },
  {
   "cell_type": "code",
   "execution_count": 8,
   "id": "00e2a6aa",
   "metadata": {},
   "outputs": [],
   "source": [
    "# Initialize Central tracker dictionary to track best model details upon iterations\n",
    "best_model_info = {\n",
    "    \"name\": None,\n",
    "    \"model\": None,\n",
    "    \"metrics\": {\n",
    "        \"train\": {\n",
    "            \"accuracy\": -np.inf,\n",
    "            \"precision\": -np.inf,\n",
    "            \"recall\": -np.inf,\n",
    "            \"f1\": -np.inf,\n",
    "            \"roc_auc\": -np.inf\n",
    "            # Note: confusion_matrix and classification_report omitted for train\n",
    "            # because they're redundant and cluttered for internal training fit\n",
    "        },\n",
    "        \"test\": {\n",
    "            \"accuracy\": -np.inf,\n",
    "            \"precision\": -np.inf,\n",
    "            \"recall\": -np.inf,\n",
    "            \"f1\": -np.inf,\n",
    "            \"roc_auc\": -np.inf,\n",
    "            \"confusion_matrix\": None,\n",
    "            \"classification_report\": None\n",
    "        }\n",
    "    },\n",
    "    \"hyperparameters\": None\n",
    "}\n",
    "\n",
    "# Dictionary to store all model performance results for comparison\n",
    "model_results = {}"
   ]
  },
  {
   "cell_type": "code",
   "execution_count": 9,
   "id": "7ba76667",
   "metadata": {},
   "outputs": [],
   "source": [
    "# Metric to decide which model is \"best\"\n",
    "# Common choices (ranked by practical usage):\n",
    "# 1. \"f1\"        → balanced precision/recall (default choice, esp. with class imbalance)\n",
    "# 2. \"roc_auc\"   → good for imbalanced classes, uses probability scores\n",
    "# 3. \"accuracy\"  → only when classes are balanced and all errors are equal\n",
    "# 4. \"precision\" → when false positives are costly (e.g., spam detection)\n",
    "# 5. \"recall\"    → when false negatives are costly (e.g., fraud, cancer)\n",
    "\n",
    "# Success metric used to select the best model\n",
    "success_metric = \"f1\"  # or \"roc_auc\", depending on use case\n",
    "# success_split = \"test\"  # \"train\" or \"test\""
   ]
  },
  {
   "cell_type": "code",
   "execution_count": 10,
   "id": "82a6bcb4",
   "metadata": {},
   "outputs": [
    {
     "data": {
      "text/html": [
       "<style>#sk-container-id-1 {color: black;background-color: white;}#sk-container-id-1 pre{padding: 0;}#sk-container-id-1 div.sk-toggleable {background-color: white;}#sk-container-id-1 label.sk-toggleable__label {cursor: pointer;display: block;width: 100%;margin-bottom: 0;padding: 0.3em;box-sizing: border-box;text-align: center;}#sk-container-id-1 label.sk-toggleable__label-arrow:before {content: \"▸\";float: left;margin-right: 0.25em;color: #696969;}#sk-container-id-1 label.sk-toggleable__label-arrow:hover:before {color: black;}#sk-container-id-1 div.sk-estimator:hover label.sk-toggleable__label-arrow:before {color: black;}#sk-container-id-1 div.sk-toggleable__content {max-height: 0;max-width: 0;overflow: hidden;text-align: left;background-color: #f0f8ff;}#sk-container-id-1 div.sk-toggleable__content pre {margin: 0.2em;color: black;border-radius: 0.25em;background-color: #f0f8ff;}#sk-container-id-1 input.sk-toggleable__control:checked~div.sk-toggleable__content {max-height: 200px;max-width: 100%;overflow: auto;}#sk-container-id-1 input.sk-toggleable__control:checked~label.sk-toggleable__label-arrow:before {content: \"▾\";}#sk-container-id-1 div.sk-estimator input.sk-toggleable__control:checked~label.sk-toggleable__label {background-color: #d4ebff;}#sk-container-id-1 div.sk-label input.sk-toggleable__control:checked~label.sk-toggleable__label {background-color: #d4ebff;}#sk-container-id-1 input.sk-hidden--visually {border: 0;clip: rect(1px 1px 1px 1px);clip: rect(1px, 1px, 1px, 1px);height: 1px;margin: -1px;overflow: hidden;padding: 0;position: absolute;width: 1px;}#sk-container-id-1 div.sk-estimator {font-family: monospace;background-color: #f0f8ff;border: 1px dotted black;border-radius: 0.25em;box-sizing: border-box;margin-bottom: 0.5em;}#sk-container-id-1 div.sk-estimator:hover {background-color: #d4ebff;}#sk-container-id-1 div.sk-parallel-item::after {content: \"\";width: 100%;border-bottom: 1px solid gray;flex-grow: 1;}#sk-container-id-1 div.sk-label:hover label.sk-toggleable__label {background-color: #d4ebff;}#sk-container-id-1 div.sk-serial::before {content: \"\";position: absolute;border-left: 1px solid gray;box-sizing: border-box;top: 0;bottom: 0;left: 50%;z-index: 0;}#sk-container-id-1 div.sk-serial {display: flex;flex-direction: column;align-items: center;background-color: white;padding-right: 0.2em;padding-left: 0.2em;position: relative;}#sk-container-id-1 div.sk-item {position: relative;z-index: 1;}#sk-container-id-1 div.sk-parallel {display: flex;align-items: stretch;justify-content: center;background-color: white;position: relative;}#sk-container-id-1 div.sk-item::before, #sk-container-id-1 div.sk-parallel-item::before {content: \"\";position: absolute;border-left: 1px solid gray;box-sizing: border-box;top: 0;bottom: 0;left: 50%;z-index: -1;}#sk-container-id-1 div.sk-parallel-item {display: flex;flex-direction: column;z-index: 1;position: relative;background-color: white;}#sk-container-id-1 div.sk-parallel-item:first-child::after {align-self: flex-end;width: 50%;}#sk-container-id-1 div.sk-parallel-item:last-child::after {align-self: flex-start;width: 50%;}#sk-container-id-1 div.sk-parallel-item:only-child::after {width: 0;}#sk-container-id-1 div.sk-dashed-wrapped {border: 1px dashed gray;margin: 0 0.4em 0.5em 0.4em;box-sizing: border-box;padding-bottom: 0.4em;background-color: white;}#sk-container-id-1 div.sk-label label {font-family: monospace;font-weight: bold;display: inline-block;line-height: 1.2em;}#sk-container-id-1 div.sk-label-container {text-align: center;}#sk-container-id-1 div.sk-container {/* jupyter's `normalize.less` sets `[hidden] { display: none; }` but bootstrap.min.css set `[hidden] { display: none !important; }` so we also need the `!important` here to be able to override the default hidden behavior on the sphinx rendered scikit-learn.org. See: https://github.com/scikit-learn/scikit-learn/issues/21755 */display: inline-block !important;position: relative;}#sk-container-id-1 div.sk-text-repr-fallback {display: none;}</style><div id=\"sk-container-id-1\" class=\"sk-top-container\"><div class=\"sk-text-repr-fallback\"><pre>DummyClassifier(strategy=&#x27;most_frequent&#x27;)</pre><b>In a Jupyter environment, please rerun this cell to show the HTML representation or trust the notebook. <br />On GitHub, the HTML representation is unable to render, please try loading this page with nbviewer.org.</b></div><div class=\"sk-container\" hidden><div class=\"sk-item\"><div class=\"sk-estimator sk-toggleable\"><input class=\"sk-toggleable__control sk-hidden--visually\" id=\"sk-estimator-id-1\" type=\"checkbox\" checked><label for=\"sk-estimator-id-1\" class=\"sk-toggleable__label sk-toggleable__label-arrow\">DummyClassifier</label><div class=\"sk-toggleable__content\"><pre>DummyClassifier(strategy=&#x27;most_frequent&#x27;)</pre></div></div></div></div></div>"
      ],
      "text/plain": [
       "DummyClassifier(strategy='most_frequent')"
      ]
     },
     "execution_count": 10,
     "metadata": {},
     "output_type": "execute_result"
    }
   ],
   "source": [
    "from sklearn.dummy import DummyClassifier\n",
    "from sklearn.metrics import accuracy_score, precision_score, recall_score, f1_score, classification_report\n",
    "\n",
    "# Fit a dummy classifier as a baseline\n",
    "dummy_clf = DummyClassifier(strategy=\"most_frequent\")  # or try \"stratified\", \"uniform\"\n",
    "dummy_clf.fit(X_train, y_train)"
   ]
  },
  {
   "cell_type": "code",
   "execution_count": 11,
   "id": "47ea5a3e",
   "metadata": {},
   "outputs": [],
   "source": [
    "# Predict on both train and test\n",
    "y_train_pred = dummy_clf.predict(X_train)\n",
    "y_test_pred = dummy_clf.predict(X_test)"
   ]
  },
  {
   "cell_type": "markdown",
   "id": "c70fe3d2",
   "metadata": {},
   "source": [
    "<a id=\"evaluation-baseline\"></a>\n",
    "#### 📊 Model Evaluation"
   ]
  },
  {
   "cell_type": "markdown",
   "id": "c780d645",
   "metadata": {},
   "source": [
    "<details><summary><strong>📖 Click to Expand</strong></summary>\n",
    "\n",
    "<ul>\n",
    "  <li><strong>Accuracy</strong>: Overall correctness. Misleading when classes are imbalanced.</li>\n",
    "  <li><strong>Precision</strong>: Of predicted positives, how many are truly positive? Important when false positives are costly.</li>\n",
    "  <li><strong>Recall</strong>: Of actual positives, how many did we catch? Crucial when missing positives is expensive.</li>\n",
    "  <li><strong>F1 Score</strong>: Harmonic mean of precision and recall. Useful when you care about balance.</li>\n",
    "  <li><strong>ROC AUC</strong>: Probability a random positive ranks above a random negative. Good for probability-based classifiers.</li>\n",
    "</ul>\n",
    "\n",
    "</details>\n",
    "\n",
    "<details><summary><strong>📖 Click to Expand</strong></summary>\n",
    "\n",
    "<p><strong>Precision, Recall, and F1 Score</strong> are classification metrics that help us understand model performance beyond just accuracy:</p>\n",
    "\n",
    "<ul>\n",
    "  <li><strong>Precision</strong>: Of all predicted positives, how many were actually correct? (Low precision = many false alarms)</li>\n",
    "  <li><strong>Recall</strong>: Of all actual positives, how many did we catch? (Low recall = missed positives)</li>\n",
    "  <li><strong>F1 Score</strong>: Harmonic mean of precision and recall — useful when classes are imbalanced.</li>\n",
    "</ul>\n",
    "\n",
    "<p><strong>Business Perspective</strong>:</p>\n",
    "<ul>\n",
    "  <li>If false positives are costly (e.g., spam filters, fraud flags), precision matters more.</li>\n",
    "  <li>If missing positives is risky (e.g., cancer detection), recall is critical.</li>\n",
    "  <li>F1 balances both and gives a single, interpretable metric.</li>\n",
    "</ul>\n",
    "\n",
    "<p>These metrics are vital when accuracy is misleading — especially in skewed datasets.</p>\n",
    "\n",
    "</details>\n"
   ]
  },
  {
   "cell_type": "code",
   "execution_count": 12,
   "id": "3d488821",
   "metadata": {},
   "outputs": [
    {
     "name": "stdout",
     "output_type": "stream",
     "text": [
      "📉 Classification Report\n",
      "\n",
      "              precision    recall  f1-score   support\n",
      "\n",
      "           0       0.70      1.00      0.82       140\n",
      "           1       0.00      0.00      0.00        60\n",
      "\n",
      "    accuracy                           0.70       200\n",
      "   macro avg       0.35      0.50      0.41       200\n",
      "weighted avg       0.49      0.70      0.58       200\n",
      "\n"
     ]
    },
    {
     "name": "stderr",
     "output_type": "stream",
     "text": [
      "/Users/ashrithreddy/anaconda3/lib/python3.11/site-packages/sklearn/metrics/_classification.py:1344: UndefinedMetricWarning: Precision and F-score are ill-defined and being set to 0.0 in labels with no predicted samples. Use `zero_division` parameter to control this behavior.\n",
      "  _warn_prf(average, modifier, msg_start, len(result))\n",
      "/Users/ashrithreddy/anaconda3/lib/python3.11/site-packages/sklearn/metrics/_classification.py:1344: UndefinedMetricWarning: Precision and F-score are ill-defined and being set to 0.0 in labels with no predicted samples. Use `zero_division` parameter to control this behavior.\n",
      "  _warn_prf(average, modifier, msg_start, len(result))\n",
      "/Users/ashrithreddy/anaconda3/lib/python3.11/site-packages/sklearn/metrics/_classification.py:1344: UndefinedMetricWarning: Precision and F-score are ill-defined and being set to 0.0 in labels with no predicted samples. Use `zero_division` parameter to control this behavior.\n",
      "  _warn_prf(average, modifier, msg_start, len(result))\n"
     ]
    }
   ],
   "source": [
    "from sklearn.metrics import classification_report, accuracy_score, precision_score, recall_score, f1_score\n",
    "\n",
    "# Technical output\n",
    "print(\"📉 Classification Report\\n\")\n",
    "print(classification_report(y_test, y_test_pred))"
   ]
  },
  {
   "cell_type": "code",
   "execution_count": 13,
   "id": "d030f1fa",
   "metadata": {},
   "outputs": [
    {
     "name": "stdout",
     "output_type": "stream",
     "text": [
      "\n",
      "📊 Baseline Classifier — Performance Summary:\n",
      "- Accuracy  :  70.00% → Overall correctness.\n",
      "- Precision :   0.00% → Of predicted '1', how many were right.\n",
      "- Recall    :   0.00% → Of actual '1', how many we caught.\n",
      "- F1 Score  :   0.00% → Balance of precision & recall.\n",
      "\n",
      "📌 Interpretation:\n",
      "- High false positives → risky if false alarms are costly.\n",
      "- High false negatives → risky if missing positives is costly.\n",
      "- F1 Score shows overall tradeoff quality: 0.00\n"
     ]
    }
   ],
   "source": [
    "from sklearn.metrics import accuracy_score, precision_score, recall_score, f1_score\n",
    "\n",
    "# Determine positive class once\n",
    "positive_class = y_train.unique()[1] if len(y_train.unique()) == 2 else 1\n",
    "\n",
    "def evaluate_model(y_true, y_pred, label=\"Model\"):\n",
    "    acc  = accuracy_score(y_true, y_pred)\n",
    "    prec = precision_score(y_true, y_pred, pos_label=positive_class, average='binary', zero_division=0)\n",
    "    rec  = recall_score(y_true, y_pred, pos_label=positive_class, average='binary', zero_division=0)\n",
    "    f1   = f1_score(y_true, y_pred, pos_label=positive_class, average='binary', zero_division=0)\n",
    "\n",
    "    # Aligned core metrics\n",
    "    print(f\"\\n📊 {label} — Performance Summary:\")\n",
    "    print(f\"- Accuracy  : {acc :>7.2%} → Overall correctness.\")\n",
    "    print(f\"- Precision : {prec:>7.2%} → Of predicted '{positive_class}', how many were right.\")\n",
    "    print(f\"- Recall    : {rec :>7.2%} → Of actual '{positive_class}', how many we caught.\")\n",
    "    print(f\"- F1 Score  : {f1  :>7.2%} → Balance of precision & recall.\")\n",
    "\n",
    "    # Business interpretation\n",
    "    print(\"\\n📌 Interpretation:\")\n",
    "    if prec < 0.6:\n",
    "        print(\"- High false positives → risky if false alarms are costly.\")\n",
    "    else:\n",
    "        print(\"- Precision looks acceptable; false positives under control.\")\n",
    "\n",
    "    if rec < 0.6:\n",
    "        print(\"- High false negatives → risky if missing positives is costly.\")\n",
    "    else:\n",
    "        print(\"- Recall is strong; model is catching true cases well.\")\n",
    "\n",
    "    print(f\"- F1 Score shows overall tradeoff quality: {f1:.2f}\")\n",
    "\n",
    "# Example usage\n",
    "evaluate_model(y_test, y_test_pred, label=\"Baseline Classifier\")"
   ]
  },
  {
   "cell_type": "markdown",
   "id": "d72b6cba",
   "metadata": {},
   "source": [
    "<a id=\"confusion-matrix-baseline\"></a>\n",
    "#### 📉 Confusion Matrix\n"
   ]
  },
  {
   "cell_type": "markdown",
   "id": "8a1360e6",
   "metadata": {},
   "source": [
    "<details><summary><strong>📖 Click to Expand</strong></summary>\n",
    "\n",
    "<p>The confusion matrix is a NxN table that helps us visualize the performance of a classification model.</p>\n",
    "\n",
    "<p>📖 <strong>Confusion Matrix Terminology:</strong></p>\n",
    "<ul>\n",
    "  <li><strong>True Positive (TP)</strong>: Actual = Positive, Predicted = True-ly</li>\n",
    "  <li><strong>False Positive (FP)</strong>: Actual = Negative, Predicted = False-ly</li>\n",
    "  <li><strong>True Negative (TN)</strong>: Actual = Negative, Predicted = True-ly</li>\n",
    "  <li><strong>False Negative (FN)</strong>: Actual = Positive, Predicted = False-ly</li>\n",
    "</ul>\n",
    "\n",
    "<pre>\n",
    "                  Predicted\n",
    "                ┌───────────────┐\n",
    "                │     0   │   1 │\n",
    "         ┌──────┼─────────┼─────┤\n",
    "Actual   │  0   │   TN    │  FP │  ← Specificity = TN / (TN + FP) = True Negative Rate (TNR)\n",
    "         │  1   │   FN    │  TP │  ← Recall = TP / (TP + FN) = Sensitivity, TPR, Hit Rate\n",
    "         └──────┴─────────┴─────┘\n",
    "                              ↑\n",
    "                              └─ Precision = TP / (TP + FP) = Positive Predictive Value \n",
    "</pre>\n",
    "\n",
    "</details>\n"
   ]
  },
  {
   "cell_type": "code",
   "execution_count": 14,
   "id": "ae5dcd57",
   "metadata": {},
   "outputs": [
    {
     "data": {
      "image/png": "[encoded data removed]",
      "text/plain": [
       "<Figure size 300x200 with 2 Axes>"
      ]
     },
     "metadata": {},
     "output_type": "display_data"
    }
   ],
   "source": [
    "import numpy as np\n",
    "from sklearn.metrics import confusion_matrix\n",
    "import matplotlib.pyplot as plt\n",
    "import seaborn as sns\n",
    "\n",
    "def plot_confusion(y_true, y_pred, model_name=\"Model\"):\n",
    "    \"\"\"\n",
    "    Plot a confusion matrix with count and percentage annotations.\n",
    "    Warns if y_pred contains unseen labels not present in y_true.\n",
    "    \"\"\"\n",
    "    # Robust label set\n",
    "    labels = np.unique(np.concatenate([y_true, y_pred]))\n",
    "    \n",
    "    # Check for potential leakage or mismatch\n",
    "    unseen_preds = set(y_pred) - set(y_true)\n",
    "    if unseen_preds:\n",
    "        print(f\"\\033[91m⚠️ Warning: y_pred contains unseen class labels: {unseen_preds} — \"\n",
    "              f\"this may indicate leakage or label mismatch.\\033[0m\")\n",
    "\n",
    "    # Compute confusion matrix and percentages\n",
    "    cm = confusion_matrix(y_true, y_pred, labels=labels)\n",
    "    cm_sum = np.sum(cm)\n",
    "    cm_perc = cm / cm_sum * 100\n",
    "\n",
    "    # Annotate with count and %\n",
    "    annot = np.empty_like(cm).astype(str)\n",
    "    for i in range(cm.shape[0]):\n",
    "        for j in range(cm.shape[1]):\n",
    "            c = cm[i, j]\n",
    "            p = cm_perc[i, j]\n",
    "            annot[i, j] = f\"{c}\\n({p:.1f}%)\"\n",
    "\n",
    "    # Plot\n",
    "    plt.figure(figsize=(3, 2))\n",
    "    sns.heatmap(cm, annot=annot, fmt=\"\", cmap=\"Blues\", cbar=True,\n",
    "                xticklabels=labels, yticklabels=labels)\n",
    "    plt.xlabel(\"Predicted label\")\n",
    "    plt.ylabel(\"True label\")\n",
    "    plt.title(f\"Confusion Matrix ({model_name})\")\n",
    "    plt.tight_layout()\n",
    "    plt.show()\n",
    "\n",
    "plot_confusion(y_test, y_test_pred, model_name=\"Baseline Classifier\")\n"
   ]
  },
  {
   "cell_type": "markdown",
   "id": "0d9fd3c7",
   "metadata": {},
   "source": [
    "<a id=\"roc-auc-baseline\"></a>\n",
    "#### 📈 ROC Curve / AUC"
   ]
  },
  {
   "cell_type": "markdown",
   "id": "528ca9c4",
   "metadata": {},
   "source": [
    "<details><summary><strong>📖 Click to Expand</strong></summary>\n",
    "\n",
    "<p><strong>ROC Curve</strong> (Receiver Operating Characteristic) plots the True Positive Rate (TPR) vs False Positive Rate (FPR) across different threshold values.</p>\n",
    "\n",
    "<ul>\n",
    "  <li>A model that randomly guesses would fall along the diagonal (AUC = 0.5)</li>\n",
    "  <li>A perfect model hugs the top-left corner (AUC = 1.0)</li>\n",
    "</ul>\n",
    "\n",
    "<p><strong>AUC (Area Under the Curve)</strong> quantifies overall separability between the two classes:</p>\n",
    "<ul>\n",
    "  <li><strong>Technical Insight</strong>: Higher AUC means better discrimination between positive and negative cases.</li>\n",
    "  <li><strong>Business Relevance</strong>: Especially useful when false positives and false negatives have different costs — like fraud detection, churn prediction, etc.</li>\n",
    "</ul>\n",
    "\n",
    "<p>This plot lets stakeholders quickly gauge how good the model is — regardless of classification threshold.</p>\n",
    "\n",
    "</details>\n"
   ]
  },
  {
   "cell_type": "code",
   "execution_count": 15,
   "id": "7adf7ff8",
   "metadata": {},
   "outputs": [
    {
     "data": {
      "image/png": "[encoded data removed]",
      "text/plain": [
       "<Figure size 600x400 with 1 Axes>"
      ]
     },
     "metadata": {},
     "output_type": "display_data"
    },
    {
     "name": "stdout",
     "output_type": "stream",
     "text": [
      "🔹 ROC AUC Score for Baseline Classifier: 0.5000\n",
      "📌 Interpretation: Model performs at or near random. It cannot meaningfully separate classes.\n"
     ]
    }
   ],
   "source": [
    "from sklearn.metrics import roc_curve, roc_auc_score\n",
    "import matplotlib.pyplot as plt\n",
    "\n",
    "def plot_roc_auc(model, X_test, y_test, model_name=\"Model\"):\n",
    "    \"\"\"\n",
    "    Plot ROC curve, print AUC score, and give business-facing interpretation.\n",
    "    \"\"\"\n",
    "    if hasattr(model, \"predict_proba\"):\n",
    "        y_scores = model.predict_proba(X_test)[:, 1]\n",
    "    elif hasattr(model, \"decision_function\"):\n",
    "        y_scores = model.decision_function(X_test)\n",
    "    else:\n",
    "        raise ValueError(\"Model does not support probability estimates or decision function.\")\n",
    "    \n",
    "    fpr, tpr, _ = roc_curve(y_test, y_scores)\n",
    "    auc_score = roc_auc_score(y_test, y_scores)\n",
    "    \n",
    "    # Plot\n",
    "    plt.figure(figsize=(6, 4))\n",
    "    plt.plot(fpr, tpr, label=f\"AUC = {auc_score:.2f}\")\n",
    "    plt.plot([0, 1], [0, 1], \"k--\", label=\"Random Guess\")\n",
    "    plt.xlabel(\"False Positive Rate (1 - Specificity)\")\n",
    "    plt.ylabel(\"True Positive Rate (Recall / Sensitivity)\")\n",
    "    plt.title(f\"ROC Curve ({model_name})\")\n",
    "    plt.legend()\n",
    "    plt.tight_layout()\n",
    "    plt.show()\n",
    "    \n",
    "    # Output\n",
    "    print(f\"🔹 ROC AUC Score for {model_name}: {auc_score:.4f}\")\n",
    "    if auc_score <= 0.55:\n",
    "        print(\"📌 Interpretation: Model performs at or near random. It cannot meaningfully separate classes.\")\n",
    "    elif auc_score < 0.7:\n",
    "        print(\"📌 Interpretation: Some separability, but not reliable yet. Needs improvement.\")\n",
    "    else:\n",
    "        print(\"📌 Interpretation: Model is doing a good job distinguishing between classes.\")\n",
    "\n",
    "plot_roc_auc(dummy_clf, X_test, y_test, model_name=\"Baseline Classifier\")\n"
   ]
  },
  {
   "cell_type": "markdown",
   "id": "9b37bb5f",
   "metadata": {},
   "source": [
    "<a id=\"update-best-model\"></a>\n",
    "#### 🧮 Update Best Model Info\n"
   ]
  },
  {
   "cell_type": "code",
   "execution_count": 16,
   "id": "a75f4ce3",
   "metadata": {},
   "outputs": [],
   "source": [
    "from termcolor import colored\n",
    "from sklearn.metrics import (\n",
    "    accuracy_score, precision_score, recall_score, f1_score,\n",
    "    roc_auc_score, confusion_matrix, classification_report\n",
    ")\n",
    "\n",
    "def update_best_model(model_name, model_obj, y_train, y_test, y_train_pred, y_test_pred, hyperparameters=None):\n",
    "    \"\"\"\n",
    "    Computes metrics internally, updates best_model_info if model outperforms current best.\n",
    "    Also logs all model results.\n",
    "    \"\"\"\n",
    "    # Evaluate performance\n",
    "    metrics = {\n",
    "        \"train\": {\n",
    "            \"accuracy\": accuracy_score(y_train, y_train_pred),\n",
    "            \"precision\": precision_score(y_train, y_train_pred, pos_label=positive_class, zero_division=0),\n",
    "            \"recall\": recall_score(y_train, y_train_pred, pos_label=positive_class, zero_division=0),\n",
    "            \"f1\": f1_score(y_train, y_train_pred, pos_label=positive_class, zero_division=0),\n",
    "            \"roc_auc\": roc_auc_score(y_train, model_obj.predict_proba(X_train)[:, 1])\n",
    "        },\n",
    "        \"test\": {\n",
    "            \"accuracy\": accuracy_score(y_test, y_test_pred),\n",
    "            \"precision\": precision_score(y_test, y_test_pred, pos_label=positive_class, zero_division=0),\n",
    "            \"recall\": recall_score(y_test, y_test_pred, pos_label=positive_class, zero_division=0),\n",
    "            \"f1\": f1_score(y_test, y_test_pred, pos_label=positive_class, zero_division=0),\n",
    "            \"roc_auc\": roc_auc_score(y_test, model_obj.predict_proba(X_test)[:, 1]),\n",
    "            \"confusion_matrix\": confusion_matrix(y_test, y_test_pred),\n",
    "            \"classification_report\": classification_report(y_test, y_test_pred, output_dict=True)\n",
    "        }\n",
    "    }\n",
    "\n",
    "    # Compare with current best\n",
    "    current_score = metrics[\"test\"][success_metric]\n",
    "    best_score = best_model_info[\"metrics\"][\"test\"].get(success_metric, -1)\n",
    "    previous_best = best_model_info[\"name\"] or \"None\"\n",
    "\n",
    "    if current_score > best_score:\n",
    "        best_model_info.update({\n",
    "            \"name\": model_name,\n",
    "            \"model\": model_obj,\n",
    "            \"metrics\": metrics,\n",
    "            \"hyperparameters\": hyperparameters or {}\n",
    "        })\n",
    "        print(colored(\n",
    "            f\"✅ {model_name} just beat previous best ({previous_best}) → \"\n",
    "            f\"{success_metric}: {best_score:.4f} → {current_score:.4f}\", \"green\"))\n",
    "        # print(f\"📊 Current Test Performance:\")\n",
    "        # for metric in [\"accuracy\", \"precision\", \"recall\", \"f1\", \"roc_auc\"]:\n",
    "        #     val = metrics[\"test\"][metric]\n",
    "        #     print(f\"- {metric.capitalize():<9}: {val:.4f}\")\n",
    "\n",
    "    # Log all model results\n",
    "    model_results[model_name] = {\n",
    "        \"model\": model_obj,\n",
    "        \"metrics\": metrics,\n",
    "        \"hyperparameters\": hyperparameters or {}\n",
    "    }"
   ]
  },
  {
   "cell_type": "code",
   "execution_count": 17,
   "id": "20ec075a",
   "metadata": {},
   "outputs": [
    {
     "name": "stdout",
     "output_type": "stream",
     "text": [
      "\u001b[32m✅ DummyClassifier just beat previous best (None) → f1: -inf → 0.0000\u001b[0m\n"
     ]
    },
    {
     "name": "stderr",
     "output_type": "stream",
     "text": [
      "/Users/ashrithreddy/anaconda3/lib/python3.11/site-packages/sklearn/metrics/_classification.py:1344: UndefinedMetricWarning: Precision and F-score are ill-defined and being set to 0.0 in labels with no predicted samples. Use `zero_division` parameter to control this behavior.\n",
      "  _warn_prf(average, modifier, msg_start, len(result))\n",
      "/Users/ashrithreddy/anaconda3/lib/python3.11/site-packages/sklearn/metrics/_classification.py:1344: UndefinedMetricWarning: Precision and F-score are ill-defined and being set to 0.0 in labels with no predicted samples. Use `zero_division` parameter to control this behavior.\n",
      "  _warn_prf(average, modifier, msg_start, len(result))\n",
      "/Users/ashrithreddy/anaconda3/lib/python3.11/site-packages/sklearn/metrics/_classification.py:1344: UndefinedMetricWarning: Precision and F-score are ill-defined and being set to 0.0 in labels with no predicted samples. Use `zero_division` parameter to control this behavior.\n",
      "  _warn_prf(average, modifier, msg_start, len(result))\n"
     ]
    }
   ],
   "source": [
    "update_best_model(\n",
    "    model_name=\"DummyClassifier\",\n",
    "    model_obj=dummy_clf,\n",
    "    y_train=y_train,\n",
    "    y_test=y_test,\n",
    "    y_train_pred=y_train_pred,\n",
    "    y_test_pred=y_test_pred,\n",
    "    hyperparameters={\"strategy\": \"most_frequent\"}\n",
    ")"
   ]
  },
  {
   "cell_type": "code",
   "execution_count": 18,
   "id": "564f66bc",
   "metadata": {},
   "outputs": [],
   "source": [
    "# from pprint import pprint\n",
    "# pprint(best_model_info)\n",
    "# pprint(model_results)\n",
    "\n",
    "# import json\n",
    "# print(json.dumps(best_model_info, indent=2, default=str))\n",
    "# print(json.dumps(model_results, indent=2, default=str))"
   ]
  },
  {
   "cell_type": "markdown",
   "id": "ffd53b18",
   "metadata": {},
   "source": [
    "\n",
    "[Back to the top](#table-of-contents)\n",
    "___\n",
    "\n",
    "\n"
   ]
  },
  {
   "cell_type": "markdown",
   "id": "edb56812",
   "metadata": {},
   "source": [
    "<a id=\"models\"></a>\n",
    "# 🔍 Algorithms\n",
    "\n"
   ]
  },
  {
   "cell_type": "markdown",
   "id": "a9add930",
   "metadata": {},
   "source": [
    "<details><summary><strong>📖 Click to Expand</strong></summary>\n",
    "\n",
    "##### 🧠 Model Selection Table (Based on Data Characteristics)\n",
    "\n",
    "| Target Type | Linearly Separable | Correlation | Imbalance | Recommended Models                  | Notes                                                              |\n",
    "|-------------|---------------------|-------------|-----------|-------------------------------------|---------------------------------------------------------------------|\n",
    "| Binary      | ✅ True             | Low         | ✅ True   | XGBoost > Random Forest            | Use tree-based models with class weights or resampling.             |\n",
    "| Binary      | ✅ True             | Low         | ❌ False  | Logistic Regression > SVM          | Start with simple linear models. Use as benchmark.                 |\n",
    "| Binary      | ✅ True             | High        | ✅ True   | XGBoost > Random Forest            | Use tree-based models with class weights or resampling.             |\n",
    "| Binary      | ✅ True             | High        | ❌ False  | Logistic Regression > SVM          | Start with simple linear models. Use as benchmark.                 |\n",
    "| Binary      | ❌ False            | Low         | ✅ True   | XGBoost > Random Forest            | Boosting or RF with class weights to handle imbalance + complexity. |\n",
    "| Binary      | ❌ False            | Low         | ❌ False  | Random Forest > Decision Tree      | Simple non-linear trees likely sufficient. Avoid tuning-heavy models. |\n",
    "| Binary      | ❌ False            | High        | ✅ True   | XGBoost > Random Forest            | Boosting or RF with class weights to handle imbalance + complexity. |\n",
    "| Binary      | ❌ False            | High        | ❌ False  | Random Forest > Decision Tree      | Simple non-linear trees likely sufficient. Avoid tuning-heavy models. |\n",
    "| Multiclass  | ✅ True             | Low         | ✅ True   | XGBoost > Logistic Regression      | Use OvR strategy with LR/XGB. Watch for class separation.           |\n",
    "| Multiclass  | ✅ True             | Low         | ❌ False  | XGBoost > Logistic Regression      | Use OvR strategy with LR/XGB. Watch for class separation.           |\n",
    "| Multiclass  | ✅ True             | High        | ✅ True   | XGBoost > Logistic Regression      | Use OvR strategy with LR/XGB. Watch for class separation.           |\n",
    "| Multiclass  | ✅ True             | High        | ❌ False  | XGBoost > Logistic Regression      | Use OvR strategy with LR/XGB. Watch for class separation.           |\n",
    "| Multiclass  | ❌ False            | Low         | ✅ True   | Neural Network > KNN               | Use Neural Net or KNN. Prioritize decision boundary complexity.     |\n",
    "| Multiclass  | ❌ False            | Low         | ❌ False  | Neural Network > KNN               | Use Neural Net or KNN. Prioritize decision boundary complexity.     |\n",
    "| Multiclass  | ❌ False            | High        | ✅ True   | XGBoost > Random Forest            | Tree-based models preferred. Skip preprocessing of collinear features. |\n",
    "| Multiclass  | ❌ False            | High        | ❌ False  | XGBoost > Random Forest            | Tree-based models preferred. Skip preprocessing of collinear features. |\n",
    "</details>"
   ]
  },
  {
   "cell_type": "markdown",
   "id": "8de9fd49",
   "metadata": {},
   "source": [
    "<details><summary><strong>📖 Click to Expand</strong></summary>\n",
    "\n",
    "##### 🧠 Model Selection Flowchart (Based on Data Characteristics)\n",
    "\n",
    "```text\n",
    "🎯 Target Type = Binary?\n",
    "  ├── ✅ Yes\n",
    "  │   ├── 📈 Linearly Separable?\n",
    "  │   │   ├── ✅ Yes\n",
    "  │   │   │   ├── 🧬 Feature Type = Categorical?\n",
    "  │   │   │   │   ├── ✅ ------------------------------------------> 🌲 Random Forest > 🚀 XGBoost\n",
    "  │   │   │   │   └── ❌ → 📉 Correlation = High?\n",
    "  │   │   │   │         ├── ✅ ------------------------------------> 🚀 XGBoost > 🌲 Random Forest\n",
    "  │   │   │   │         └── ❌ → ⚠️ Missing Data?\n",
    "  │   │   │   │               ├── ✅ ------------------------------> 🚀 XGBoost > 🧠 Neural Network\n",
    "  │   │   │   │               └── ❌ ⚠️ Outliers Present?\n",
    "  │   │   │   │                     ├── ✅ → ⚖️ Imbalanced?\n",
    "  │   │   │   │                     │   ├── ✅ --------------------> 🚀 XGBoost > 🌲 Random Forest\n",
    "  │   │   │   │                     │   └── ❌ --------------------> 🌲 Random Forest > 🌳 Decision Tree\n",
    "  │   │   │   │                     └── ❌ ------------------------> 🌲 Random Forest > 🌳 Decision Tree\n",
    "  │   │   │   └── ❌ → 📉 Correlation = High?\n",
    "  │   │   │         ├── ✅ ----------------------------------------> 🚀 XGBoost > 🌲 Random Forest\n",
    "  │   │   │         └── ❌ → ⚠️ Missing Data?\n",
    "  │   │   │               ├── ✅ ----------------------------------> 🚀 XGBoost > 🧠 Neural Network\n",
    "  │   │   │               └── ❌ → ⚠️ Outliers Present?\n",
    "  │   │   │                     ├── ✅ → ⚖️ Imbalanced?\n",
    "  │   │   │                     │   ├── ✅ ------------------------> 🚀 XGBoost > 🌲 Random Forest\n",
    "  │   │   │                     │   └── ❌ ------------------------> 🌲 Random Forest > 🌳 Decision Tree\n",
    "  │   │   │                     └── ❌ ----------------------------> 🌲 Random Forest > 🌳 Decision Tree\n",
    "  │   │   └── ❌ → ⚠️ Missing Data?\n",
    "  │   │         ├── ✅ --------------------------------------------> 🚀 XGBoost > 🧠 Neural Network\n",
    "  │   │         └── ❌ → ⚠️ Outliers Present?\n",
    "  │   │               ├── ✅ → ⚖️ Imbalanced?\n",
    "  │   │               │   ├── ✅ ----------------------------------> 🚀 XGBoost > 🌲 Random Forest\n",
    "  │   │               │   └── ❌ ----------------------------------> 🌲 Random Forest > 🌳 Decision Tree\n",
    "  │   │               └── ❌ --------------------------------------> 🌲 Random Forest > 🌳 Decision Tree\n",
    "  │   └── ❌ No (Multiclass)\n",
    "  │         ├── 📈 Linearly Separable?\n",
    "  │         │   ├── ✅ Yes\n",
    "  │         │   │   ├── 🧬 Feature Type = Categorical?\n",
    "  │         │   │   │   ├── ✅ ------------------------------------> 🌲 Random Forest > 🚀 XGBoost\n",
    "  │         │   │   │   └── ❌ → 📉 Correlation = High?\n",
    "  │         │   │   │         ├── ✅ ------------------------------> 🚀 XGBoost > 🌲 Random Forest\n",
    "  │         │   │   │         └── ❌ → ⚠️ Missing Data?\n",
    "  │         │   │   │               ├── ✅ ------------------------> 🚀 XGBoost > 🧠 Neural Network\n",
    "  │         │   │   │               └── ❌ → ⚠️ Outliers Present?\n",
    "  │         │   │   │                     ├── ✅ → ⚖️ Imbalanced?\n",
    "  │         │   │   │                     │   ├── ✅ --------------> 🚀 XGBoost > 🌲 Random Forest\n",
    "  │         │   │   │                     │   └── ❌ --------------> 🌲 Random Forest > 🌳 Decision Tree\n",
    "  │         │   │   │                     └── ❌ ------------------> 🌲 Random Forest > 🌳 Decision Tree\n",
    "  │         │   │   └── ❌ → 📉 Correlation = High?\n",
    "  │         │   │         ├── ✅ ----------------------------------> 🚀 XGBoost > 🌲 Random Forest\n",
    "  │         │   │         └── ❌ → ⚠️ Missing Data?\n",
    "  │         │   │               ├── ✅ ----------------------------> 🚀 XGBoost > 🧠 Neural Network\n",
    "  │         │   │               └── ❌ → ⚠️ Outliers Present?\n",
    "  │         │   │                     ├── ✅ → ⚖️ Imbalanced?\n",
    "  │         │   │                     │   ├── ✅ ------------------> 🚀 XGBoost > 🌲 Random Forest\n",
    "  │         │   │                     │   └── ❌ ------------------> 🌲 Random Forest > 🌳 Decision Tree\n",
    "  │         │   │                     └── ❌ ----------------------> 🌲 Random Forest > 🌳 Decision Tree\n",
    "  │         │   └── ❌ → 📉 Correlation = High?\n",
    "  │         │         ├── ✅ → ------------------------------------> 🚀 XGBoost > 🌲 Random Forest\n",
    "  │         │         └── ❌ → ⚠️ Missing Data?\n",
    "  │         │               ├── ✅ --------------------------------> 🚀 XGBoost > 🧠 Neural Network\n",
    "  │         │               └── ❌ → ⚠️ Outliers Present?\n",
    "  │         │                     ├── ✅ → ⚖️ Imbalanced?\n",
    "  │         │                     │   ├── ✅ ----------------------> 🚀 XGBoost > 🌲 Random Forest\n",
    "  │         │                     │   └── ❌ ----------------------> 🌲 Random Forest > 🌳 Decision Tree\n",
    "  │         │                     └── ❌ --------------------------> 🌲 Random Forest > 🌳 Decision Tree\n",
    "  │         └── ❌ 🧬 Feature Type = Categorical?\n",
    "  │               ├── ✅ ------------------------------------------> 🌲 Random Forest > 🚀 XGBoost\n",
    "  │               └── ❌ → 📉 Correlation = High?\n",
    "  │                     ├── ✅ ------------------------------------> 🚀 XGBoost > 🌲 Random Forest\n",
    "  │                     └── ❌ → ⚠️ Missing Data?\n",
    "  │                           ├── ✅ ------------------------------> 🚀 XGBoost > 🧠 Neural Network\n",
    "  │                           └── ❌ → ⚠️ Outliers Present?\n",
    "  │                                 ├── ✅ → ⚖️ Imbalanced?\n",
    "  │                                 │   ├── ✅ --------------------> 🚀 XGBoost > 🌲 Random Forest\n",
    "  │                                 │   └── ❌ --------------------> 🌲 Random Forest > 🌳 Decision Tree\n",
    "  │                                 └── ❌ ------------------------> 🌲 Random Forest > 🌳 Decision Tree\n",
    "  └── End\n",
    "```\n",
    "\n",
    "\n",
    "</details>"
   ]
  },
  {
   "cell_type": "markdown",
   "id": "c5b01510",
   "metadata": {},
   "source": [
    "<a id=\"logistic-regression\"></a>\n",
    "#### 📊 Logistic Regression\n",
    "\n"
   ]
  },
  {
   "cell_type": "markdown",
   "id": "f96dcdb4",
   "metadata": {},
   "source": [
    "<details><summary><strong>📖 Click to Expand</strong></summary>\n",
    "\n",
    "<h5>🔍 What is Logistic Regression?</h5>\n",
    "\n",
    "<p>Despite the name, <strong>Logistic Regression</strong> is used for classification — not regression.<br>\n",
    "It predicts the <strong>probability</strong> that an observation belongs to a certain class (e.g., 0 or 1).<br>\n",
    "Under the hood, it fits a weighted formula to the input features, applies a sigmoid function, and outputs a value between 0 and 1.</p>\n",
    "\n",
    "<blockquote>\n",
    "  <p><strong>Example:</strong><br>\n",
    "  A model might say there's a <strong>78% chance</strong> this customer will churn.<br>\n",
    "  If that crosses a certain threshold (say, 50%), we classify it as “Yes.”</p>\n",
    "</blockquote>\n",
    "\n",
    "<h5>✅ Pros vs ❌ Cons</h5>\n",
    "\n",
    "<table>\n",
    "  <thead>\n",
    "    <tr>\n",
    "      <th>Pros</th>\n",
    "      <th>Cons</th>\n",
    "    </tr>\n",
    "  </thead>\n",
    "  <tbody>\n",
    "    <tr>\n",
    "      <td>Fast and efficient</td>\n",
    "      <td>Assumes linear relationship (log-odds)</td>\n",
    "    </tr>\n",
    "    <tr>\n",
    "      <td>Easy to interpret (feature weights)</td>\n",
    "      <td>Doesn’t handle complex patterns well</td>\n",
    "    </tr>\n",
    "    <tr>\n",
    "      <td>Works well with small datasets</td>\n",
    "      <td>Sensitive to multicollinearity</td>\n",
    "    </tr>\n",
    "    <tr>\n",
    "      <td>Outputs probabilities</td>\n",
    "      <td>May underperform on nonlinear data</td>\n",
    "    </tr>\n",
    "  </tbody>\n",
    "</table>\n",
    "\n",
    "<h5>🧠 When to Use</h5>\n",
    "\n",
    "<ul>\n",
    "  <li>You want a <strong>quick baseline</strong> with interpretable output</li>\n",
    "  <li>You care about <strong>probabilities</strong>, not just labels</li>\n",
    "  <li>Your data is fairly <strong>linearly separable</strong></li>\n",
    "  <li>The number of features is small to medium</li>\n",
    "</ul>\n",
    "\n",
    "<h5>⚠️ Pitfalls & Hacks</h5>\n",
    "\n",
    "<ul>\n",
    "  <li><strong>Pitfall</strong>: If features are highly correlated (multicollinearity), the model may become unstable. Use regularization (e.g., L2 penalty).</li>\n",
    "  <li><strong>Hack</strong>: For imbalanced datasets, adjust the threshold or use <code>class_weight='balanced'</code> to avoid bias toward the majority class.</li>\n",
    "  <li><strong>Tip</strong>: Standardize features before training, especially if using regularization.</li>\n",
    "</ul>\n",
    "\n",
    "</details>\n"
   ]
  },
  {
   "cell_type": "markdown",
   "id": "1680be07",
   "metadata": {},
   "source": [
    "<a id=\"naive-bayes\"></a>\n",
    "#### 🧮 Naive Bayes\n",
    "\n"
   ]
  },
  {
   "cell_type": "markdown",
   "id": "969c52f9",
   "metadata": {},
   "source": [
    "<details><summary><strong>📖 Click to Expand</strong></summary>\n",
    "\n",
    "<h5>🔍 What is Naive Bayes?</h5>\n",
    "\n",
    "<p>Naive Bayes is a family of <strong>probabilistic classifiers</strong> based on Bayes’ Theorem.<br>\n",
    "It assumes that all features are <strong>independent</strong> of each other — which is rarely true in practice, but the model still performs surprisingly well.</p>\n",
    "\n",
    "<p>It calculates the probability of each class given the input features and picks the class with the highest likelihood.</p>\n",
    "\n",
    "<blockquote>\n",
    "  <p><strong>Example:</strong><br>\n",
    "  “Given these symptoms, what’s the most probable disease?” — Naive Bayes is widely used in text classification, spam detection, and medical diagnosis.</p>\n",
    "</blockquote>\n",
    "\n",
    "<h5>✅ Pros vs ❌ Cons</h5>\n",
    "\n",
    "<table>\n",
    "  <thead>\n",
    "    <tr>\n",
    "      <th>Pros</th>\n",
    "      <th>Cons</th>\n",
    "    </tr>\n",
    "  </thead>\n",
    "  <tbody>\n",
    "    <tr>\n",
    "      <td>Very fast and scalable</td>\n",
    "      <td>Assumes feature independence (naive)</td>\n",
    "    </tr>\n",
    "    <tr>\n",
    "      <td>Handles high-dimensional data well</td>\n",
    "      <td>May underperform with correlated inputs</td>\n",
    "    </tr>\n",
    "    <tr>\n",
    "      <td>Simple and interpretable</td>\n",
    "      <td>Struggles with numeric feature scaling</td>\n",
    "    </tr>\n",
    "    <tr>\n",
    "      <td>Works well with text data</td>\n",
    "      <td>Outputs are often overconfident</td>\n",
    "    </tr>\n",
    "  </tbody>\n",
    "</table>\n",
    "\n",
    "<h5>🧠 When to Use</h5>\n",
    "\n",
    "<ul>\n",
    "  <li>You’re working with <strong>text</strong> (e.g., spam filters, sentiment)</li>\n",
    "  <li>You want a <strong>fast baseline</strong></li>\n",
    "  <li>You’re dealing with <strong>high-dimensional</strong>, sparse features (like TF-IDF)</li>\n",
    "  <li>You have clean categorical or binary features</li>\n",
    "</ul>\n",
    "\n",
    "<h5>⚠️ Pitfalls & Hacks</h5>\n",
    "\n",
    "<ul>\n",
    "  <li><strong>Pitfall</strong>: Doesn’t handle continuous features naturally — convert them to bins or use GaussianNB.</li>\n",
    "  <li><strong>Hack</strong>: Apply <strong>Laplace smoothing</strong> to handle zero probabilities in unseen combinations.</li>\n",
    "  <li><strong>Tip</strong>: Don’t expect high accuracy on raw numeric data — it shines in text-like scenarios.</li>\n",
    "</ul>\n",
    "\n",
    "</details>\n"
   ]
  },
  {
   "cell_type": "markdown",
   "id": "6a831589",
   "metadata": {},
   "source": [
    "<a id=\"decision-tree\"></a>\n",
    "#### 🌳 Decision Tree"
   ]
  },
  {
   "cell_type": "markdown",
   "id": "5279d386",
   "metadata": {},
   "source": [
    "<details><summary><strong>📖 Click to Expand</strong></summary>\n",
    "\n",
    "<h5>🔍 What is a Decision Tree?</h5>\n",
    "\n",
    "<p>A Decision Tree splits data into branches based on feature values, creating a flowchart-like structure.<br>\n",
    "Each split is chosen to maximize class separation (typically using Gini impurity or entropy).<br>\n",
    "The result is a set of human-readable rules — like:<br>\n",
    "“If age &lt; 30 and income &gt; 50K → likely to churn.”</p>\n",
    "\n",
    "<p>It’s intuitive and easy to explain, even to non-technical stakeholders.</p>\n",
    "\n",
    "<h5>✅ Pros vs ❌ Cons</h5>\n",
    "\n",
    "<table>\n",
    "  <thead>\n",
    "    <tr>\n",
    "      <th>Pros</th>\n",
    "      <th>Cons</th>\n",
    "    </tr>\n",
    "  </thead>\n",
    "  <tbody>\n",
    "    <tr>\n",
    "      <td>Easy to visualize and interpret</td>\n",
    "      <td>Prone to overfitting on noisy data</td>\n",
    "    </tr>\n",
    "    <tr>\n",
    "      <td>No need for feature scaling</td>\n",
    "      <td>Can create unstable splits</td>\n",
    "    </tr>\n",
    "    <tr>\n",
    "      <td>Captures non-linear relationships</td>\n",
    "      <td>Doesn’t generalize well on small data</td>\n",
    "    </tr>\n",
    "    <tr>\n",
    "      <td>Works for both numeric and categorical</td>\n",
    "      <td>Can be biased toward dominant features</td>\n",
    "    </tr>\n",
    "  </tbody>\n",
    "</table>\n",
    "\n",
    "<h5>🧠 When to Use</h5>\n",
    "\n",
    "<ul>\n",
    "  <li>You need a model that’s <strong>explainable</strong> (e.g., in regulated domains)</li>\n",
    "  <li>Your data has <strong>mixed types</strong> (numeric + categorical)</li>\n",
    "  <li>You want to <strong>prototype quickly</strong> and understand feature importance</li>\n",
    "  <li>You’re okay with less predictive power in favor of interpretability</li>\n",
    "</ul>\n",
    "\n",
    "<h5>⚠️ Pitfalls & Hacks</h5>\n",
    "\n",
    "<ul>\n",
    "  <li><strong>Pitfall</strong>: Deep trees can memorize the training data — always prune or set <code>max_depth</code>.</li>\n",
    "  <li><strong>Hack</strong>: Use as a weak learner inside ensembles (like Random Forest or XGBoost) to improve performance.</li>\n",
    "  <li><strong>Tip</strong>: Use feature importance from trees to guide feature selection for other models.</li>\n",
    "</ul>\n",
    "\n",
    "</details>\n"
   ]
  },
  {
   "cell_type": "markdown",
   "id": "ad987ee3",
   "metadata": {},
   "source": [
    "<a id=\"random-forest\"></a>\n",
    "#### 🌲 Random Forest"
   ]
  },
  {
   "cell_type": "markdown",
   "id": "5f5ca9ca",
   "metadata": {},
   "source": [
    "<details><summary><strong>📖 Click to Expand</strong></summary>\n",
    "\n",
    "<h5>🔍 What is a Random Forest?</h5>\n",
    "\n",
    "<p>Random Forest is an <strong>ensemble method</strong> that builds many decision trees and combines their outputs.<br>\n",
    "Each tree sees a random subset of the data and features, making the forest <strong>diverse and robust</strong>.</p>\n",
    "\n",
    "<p>It works by aggregating the predictions of multiple trees (majority vote for classification), reducing the overfitting risk of a single decision tree.</p>\n",
    "\n",
    "<blockquote>\n",
    "  <p>Think of it as a crowd of weak models working together to make better predictions.</p>\n",
    "</blockquote>\n",
    "\n",
    "<h5>✅ Pros vs ❌ Cons</h5>\n",
    "\n",
    "<table>\n",
    "  <thead>\n",
    "    <tr>\n",
    "      <th>Pros</th>\n",
    "      <th>Cons</th>\n",
    "    </tr>\n",
    "  </thead>\n",
    "  <tbody>\n",
    "    <tr>\n",
    "      <td>Strong performance out of the box</td>\n",
    "      <td>Less interpretable than a single tree</td>\n",
    "    </tr>\n",
    "    <tr>\n",
    "      <td>Handles non-linearities and interactions</td>\n",
    "      <td>Slower for real-time predictions</td>\n",
    "    </tr>\n",
    "    <tr>\n",
    "      <td>Resistant to overfitting</td>\n",
    "      <td>May require tuning to perform well</td>\n",
    "    </tr>\n",
    "    <tr>\n",
    "      <td>Works well with large feature spaces</td>\n",
    "      <td>Not ideal when interpretability is key</td>\n",
    "    </tr>\n",
    "  </tbody>\n",
    "</table>\n",
    "\n",
    "<h5>🧠 When to Use</h5>\n",
    "\n",
    "<ul>\n",
    "  <li>You need a <strong>reliable general-purpose model</strong> with minimal tuning</li>\n",
    "  <li>You want to <strong>improve stability</strong> over a single decision tree</li>\n",
    "  <li>Your data is <strong>tabular and structured</strong></li>\n",
    "  <li>You care more about <strong>performance</strong> than full interpretability</li>\n",
    "</ul>\n",
    "\n",
    "<h5>⚠️ Pitfalls & Hacks</h5>\n",
    "\n",
    "<ul>\n",
    "  <li><strong>Pitfall</strong>: May become large and slow — tune <code>n_estimators</code> and <code>max_depth</code> if needed</li>\n",
    "  <li><strong>Hack</strong>: Use <code>feature_importances_</code> to find influential variables</li>\n",
    "  <li><strong>Tip</strong>: Avoid one-hot encoding with high-cardinality features — use label encoding instead</li>\n",
    "</ul>\n",
    "\n",
    "</details>\n"
   ]
  },
  {
   "cell_type": "markdown",
   "id": "ea5a4b23",
   "metadata": {},
   "source": [
    "<a id=\"knn\"></a>\n",
    "#### 🎯 KNN (K-Nearest Neighbors)"
   ]
  },
  {
   "cell_type": "markdown",
   "id": "7c6e97a2",
   "metadata": {},
   "source": [
    "<details><summary><strong>📖 Click to Expand</strong></summary>\n",
    "\n",
    "<h5>🔍 What is K-Nearest Neighbors?</h5>\n",
    "\n",
    "<p>KNN is a <strong>non-parametric</strong>, instance-based learning method.<br>\n",
    "It doesn’t learn a model during training — instead, it stores the data.<br>\n",
    "At prediction time, it looks at the <strong>K most similar observations</strong> (neighbors) and assigns the class based on majority vote.</p>\n",
    "\n",
    "<p>Similarity is usually measured using <strong>Euclidean distance</strong> (or other distance metrics for different data types).</p>\n",
    "\n",
    "<blockquote>\n",
    "  <p><strong>Example:</strong><br>\n",
    "  “To predict a label for this point, look at its 5 closest data points and choose the most common class.”</p>\n",
    "</blockquote>\n",
    "\n",
    "<h5>✅ Pros vs ❌ Cons</h5>\n",
    "\n",
    "<table>\n",
    "  <thead>\n",
    "    <tr>\n",
    "      <th>Pros</th>\n",
    "      <th>Cons</th>\n",
    "    </tr>\n",
    "  </thead>\n",
    "  <tbody>\n",
    "    <tr>\n",
    "      <td>Simple and intuitive</td>\n",
    "      <td>Slow at prediction time (no training step)</td>\n",
    "    </tr>\n",
    "    <tr>\n",
    "      <td>No training required</td>\n",
    "      <td>Struggles with high-dimensional data</td>\n",
    "    </tr>\n",
    "    <tr>\n",
    "      <td>Captures local patterns</td>\n",
    "      <td>Requires feature scaling</td>\n",
    "    </tr>\n",
    "    <tr>\n",
    "      <td>Flexible distance metrics</td>\n",
    "      <td>Memory-intensive with large datasets</td>\n",
    "    </tr>\n",
    "  </tbody>\n",
    "</table>\n",
    "\n",
    "<h5>🧠 When to Use</h5>\n",
    "\n",
    "<ul>\n",
    "  <li>You have <strong>low-dimensional</strong>, clean data</li>\n",
    "  <li>You want to <strong>prototype quickly</strong> with minimal assumptions</li>\n",
    "  <li>You care about <strong>local behavior</strong> rather than global rules</li>\n",
    "  <li>Interpretability is less important than flexibility</li>\n",
    "</ul>\n",
    "\n",
    "<h5>⚠️ Pitfalls & Hacks</h5>\n",
    "\n",
    "<ul>\n",
    "  <li><strong>Pitfall</strong>: Distance metrics break down in high-dimensional space (curse of dimensionality)</li>\n",
    "  <li><strong>Hack</strong>: Use <code>StandardScaler</code> or <code>MinMaxScaler</code> to normalize features before fitting</li>\n",
    "  <li><strong>Tip</strong>: Tune <code>k</code> using cross-validation; odd numbers help avoid ties in binary classification</li>\n",
    "</ul>\n",
    "\n",
    "</details>\n"
   ]
  },
  {
   "cell_type": "markdown",
   "id": "2550a922",
   "metadata": {},
   "source": [
    "<a id=\"svm\"></a>\n",
    "#### 📈 SVM (Support Vector Machines)"
   ]
  },
  {
   "cell_type": "markdown",
   "id": "39fbd637",
   "metadata": {},
   "source": [
    "<details><summary><strong>📖 Click to Expand</strong></summary>\n",
    "\n",
    "<h5>🔍 What is SVM?</h5>\n",
    "\n",
    "<p>Support Vector Machines (SVM) are <strong>margin-based classifiers</strong> that try to find the best boundary (hyperplane) that separates classes.<br>\n",
    "SVM focuses on <strong>support vectors</strong> — the critical data points closest to the boundary — to maximize the margin between classes.</p>\n",
    "\n",
    "<p>It can handle <strong>non-linear patterns</strong> using kernel tricks (e.g., RBF kernel), making it flexible for complex data.</p>\n",
    "\n",
    "<blockquote>\n",
    "  <p>Think of it as drawing the widest possible gap between two classes while avoiding overlap.</p>\n",
    "</blockquote>\n",
    "\n",
    "<h5>✅ Pros vs ❌ Cons</h5>\n",
    "\n",
    "<table>\n",
    "  <thead>\n",
    "    <tr>\n",
    "      <th>Pros</th>\n",
    "      <th>Cons</th>\n",
    "    </tr>\n",
    "  </thead>\n",
    "  <tbody>\n",
    "    <tr>\n",
    "      <td>Works well in high-dimensional spaces</td>\n",
    "      <td>Slow on large datasets</td>\n",
    "    </tr>\n",
    "    <tr>\n",
    "      <td>Effective for non-linear boundaries</td>\n",
    "      <td>Requires careful parameter tuning</td>\n",
    "    </tr>\n",
    "    <tr>\n",
    "      <td>Robust to overfitting (with regularization)</td>\n",
    "      <td>Not intuitive to interpret</td>\n",
    "    </tr>\n",
    "    <tr>\n",
    "      <td>Supports different kernels</td>\n",
    "      <td>Doesn’t scale well with noisy data</td>\n",
    "    </tr>\n",
    "  </tbody>\n",
    "</table>\n",
    "\n",
    "<h5>🧠 When to Use</h5>\n",
    "\n",
    "<ul>\n",
    "  <li>Your data is <strong>high-dimensional</strong>, but you want a <strong>non-linear model</strong></li>\n",
    "  <li>You need a <strong>strong classifier</strong> and have time to tune hyperparameters</li>\n",
    "  <li>Dataset is <strong>moderate in size</strong> and reasonably clean</li>\n",
    "  <li>You care about maximizing <strong>margin of separation</strong></li>\n",
    "</ul>\n",
    "\n",
    "<h5>⚠️ Pitfalls & Hacks</h5>\n",
    "\n",
    "<ul>\n",
    "  <li><strong>Pitfall</strong>: Doesn't output probabilities by default — use <code>probability=True</code> in <code>SVC</code> if needed</li>\n",
    "  <li><strong>Hack</strong>: Use <strong>RBF kernel</strong> as a good starting point for non-linear problems</li>\n",
    "  <li><strong>Tip</strong>: Always standardize features — SVM is sensitive to feature scale</li>\n",
    "</ul>\n",
    "\n",
    "</details>\n"
   ]
  },
  {
   "cell_type": "markdown",
   "id": "7ffb6069",
   "metadata": {},
   "source": [
    "<a id=\"xgboost\"></a>\n",
    "#### 🚀 XGBoost\n",
    "\n"
   ]
  },
  {
   "cell_type": "markdown",
   "id": "57f2f79e",
   "metadata": {},
   "source": [
    "<details><summary><strong>📖 Click to Expand</strong></summary>\n",
    "\n",
    "<h5>🔍 What is XGBoost?</h5>\n",
    "\n",
    "<p>XGBoost (Extreme Gradient Boosting) is a powerful <strong>boosted tree ensemble</strong> method.<br>\n",
    "Unlike Random Forest (which builds trees in parallel), XGBoost builds trees <strong>sequentially</strong> — each new tree tries to fix the errors of the previous one.</p>\n",
    "\n",
    "<p>It uses <strong>gradient descent</strong> to minimize loss, with regularization to prevent overfitting.<br>\n",
    "XGBoost is known for its <strong>speed, accuracy, and efficiency</strong>, making it a go-to model in many Kaggle competitions and production systems.</p>\n",
    "\n",
    "<h5>✅ Pros vs ❌ Cons</h5>\n",
    "\n",
    "<table>\n",
    "  <thead>\n",
    "    <tr>\n",
    "      <th>Pros</th>\n",
    "      <th>Cons</th>\n",
    "    </tr>\n",
    "  </thead>\n",
    "  <tbody>\n",
    "    <tr>\n",
    "      <td>High predictive accuracy</td>\n",
    "      <td>Harder to interpret</td>\n",
    "    </tr>\n",
    "    <tr>\n",
    "      <td>Built-in regularization (less overfitting)</td>\n",
    "      <td>More complex than basic tree models</td>\n",
    "    </tr>\n",
    "    <tr>\n",
    "      <td>Fast and scalable</td>\n",
    "      <td>Requires tuning for best performance</td>\n",
    "    </tr>\n",
    "    <tr>\n",
    "      <td>Handles missing data automatically</td>\n",
    "      <td>May overfit small/noisy datasets</td>\n",
    "    </tr>\n",
    "  </tbody>\n",
    "</table>\n",
    "\n",
    "<h5>🧠 When to Use</h5>\n",
    "\n",
    "<ul>\n",
    "  <li>You need <strong>top-tier performance</strong> on structured/tabular data</li>\n",
    "  <li>You’re working with <strong>noisy or complex relationships</strong></li>\n",
    "  <li>You’re okay with a black-box model in exchange for results</li>\n",
    "  <li>You want built-in tools for <strong>feature importance</strong>, early stopping, etc.</li>\n",
    "</ul>\n",
    "\n",
    "<h5>⚠️ Pitfalls & Hacks</h5>\n",
    "\n",
    "<ul>\n",
    "  <li><strong>Pitfall</strong>: Easy to overfit if <code>n_estimators</code> is too high — always monitor with validation</li>\n",
    "  <li><strong>Hack</strong>: Use <code>early_stopping_rounds</code> during training to auto-pick optimal iteration</li>\n",
    "  <li><strong>Tip</strong>: Start with basic settings and use <code>GridSearchCV</code> or <code>Optuna</code> for tuning</li>\n",
    "</ul>\n",
    "\n",
    "</details>\n"
   ]
  },
  {
   "cell_type": "markdown",
   "id": "9089ef7a",
   "metadata": {},
   "source": [
    "<a id=\"neural-net\"></a>\n",
    "#### 🧠 Neural Network"
   ]
  },
  {
   "cell_type": "markdown",
   "id": "1fd5273e",
   "metadata": {},
   "source": [
    "<details><summary><strong>📖 Click to Expand</strong></summary>\n",
    "\n",
    "<h5>🔍 What is a Neural Network?</h5>\n",
    "\n",
    "<p>A Neural Network is a layered structure of interconnected \"neurons\" inspired by the human brain.<br>\n",
    "Each neuron applies a weighted transformation followed by a non-linear activation, allowing the model to learn <strong>complex, non-linear patterns</strong> in the data.</p>\n",
    "\n",
    "<p>Even a basic feedforward neural network (also called Multi-Layer Perceptron or MLP) can approximate intricate decision boundaries — making it powerful but harder to interpret.</p>\n",
    "\n",
    "<blockquote>\n",
    "  <p>Think of it as a flexible function builder that learns patterns layer by layer.</p>\n",
    "</blockquote>\n",
    "\n",
    "<h5>✅ Pros vs ❌ Cons</h5>\n",
    "\n",
    "<table>\n",
    "  <thead>\n",
    "    <tr>\n",
    "      <th>Pros</th>\n",
    "      <th>Cons</th>\n",
    "    </tr>\n",
    "  </thead>\n",
    "  <tbody>\n",
    "    <tr>\n",
    "      <td>Can model complex, non-linear relationships</td>\n",
    "      <td>Requires lots of data and tuning</td>\n",
    "    </tr>\n",
    "    <tr>\n",
    "      <td>Works well on both tabular and image/text data</td>\n",
    "      <td>Not interpretable out of the box</td>\n",
    "    </tr>\n",
    "    <tr>\n",
    "      <td>Scales with data and compute</td>\n",
    "      <td>Can overfit if not regularized</td>\n",
    "    </tr>\n",
    "    <tr>\n",
    "      <td>Highly customizable architectures</td>\n",
    "      <td>Slower to train, harder to debug</td>\n",
    "    </tr>\n",
    "  </tbody>\n",
    "</table>\n",
    "\n",
    "<h5>🧠 When to Use</h5>\n",
    "\n",
    "<ul>\n",
    "  <li>You have <strong>enough data</strong> and want to model <strong>complex interactions</strong></li>\n",
    "  <li>You're comfortable with longer training and tuning</li>\n",
    "  <li>You care more about <strong>predictive power</strong> than explainability</li>\n",
    "  <li>You're building pipelines that could benefit from <strong>deep learning extensions</strong> later</li>\n",
    "</ul>\n",
    "\n",
    "<h5>⚠️ Pitfalls & Hacks</h5>\n",
    "\n",
    "<ul>\n",
    "  <li><strong>Pitfall</strong>: Prone to overfitting — always use dropout, regularization, or early stopping</li>\n",
    "  <li><strong>Hack</strong>: Use a simple architecture (1–2 hidden layers) for structured/tabular data</li>\n",
    "  <li><strong>Tip</strong>: Standardize inputs and tune learning rate; training can otherwise stall or explode</li>\n",
    "</ul>\n",
    "\n",
    "</details>\n"
   ]
  },
  {
   "cell_type": "markdown",
   "id": "bd443df2",
   "metadata": {},
   "source": [
    "[Back to the top](#table-of-contents)\n",
    "___"
   ]
  },
  {
   "cell_type": "markdown",
   "id": "4db7550b",
   "metadata": {},
   "source": [
    "<a id=\"model-exploration\"></a>\n",
    "# 📊 Model Selection"
   ]
  },
  {
   "cell_type": "markdown",
   "id": "ee4d28cb",
   "metadata": {},
   "source": [
    "<details><summary><strong>📖 Click to Expand</strong></summary>\n",
    "\n",
    "</details>"
   ]
  },
  {
   "cell_type": "markdown",
   "id": "c22a1ca1",
   "metadata": {},
   "source": [
    "<details><summary><strong>📖 Click to Expand</strong></summary>\n",
    "\n",
    "Start\n",
    "  │\n",
    "  ├── 🎯 Target Type = Binary?\n",
    "  │     │\n",
    "  │     ├── ✅ Yes\n",
    "  │     │     ├── 📈 Linearly Separable?\n",
    "  │     │     │     ├── ✅ Yes\n",
    "  │     │     │     │     ├── 🧬 Feature Type = Categorical?\n",
    "  │     │     │     │     │     ├── ✅ ─────────────→ 🌲 Random Forest / 🚀 XGBoost\n",
    "  │     │     │     │     │     └── ❌\n",
    "  │     │     │     │     │           ├── 📉 Correlation = High?\n",
    "  │     │     │     │     │           │     ├── ✅ ─────────────→ ❌ Avoid NB / LR\n",
    "  │     │     │     │     │           │     └── ❌\n",
    "  │     │     │     │     │           │           ├── ⚠️ Missing Data?\n",
    "  │     │     │     │     │           │           │     ├── ✅ ─────────────→ 🚀 XGBoost / CatBoost\n",
    "  │     │     │     │     │           │           │     └── ❌\n",
    "  │     │     │     │     │           │           │           ├── ⚠️ Outliers?\n",
    "  │     │     │     │     │           │           │           │     ├── ✅ ─────────────→ 🚀 XGBoost / 🌲 Random Forest\n",
    "  │     │     │     │     │           │           │           │     └── ❌ ─────────────→ 🤖 Logistic Regression / 🧭 SVM\n",
    "  │     │     │     │     │           │           │           └── End\n",
    "  │     │     │     │     │           │           └── End\n",
    "  │     │     │     │     │           └── End\n",
    "  │     │     │     │     └── End\n",
    "  │     │     │     └── ❌ No\n",
    "  │     │     │           ├── 🧬 Feature Type = Categorical?\n",
    "  │     │     │           │     ├── ✅ ─────────────→ 🌲 Random Forest / 🚀 XGBoost\n",
    "  │     │     │           │     └── ❌\n",
    "  │     │     │           │           ├── 📉 Correlation = High?\n",
    "  │     │     │           │           │     ├── ✅ ─────────────→ ❌ Avoid NB / LR\n",
    "  │     │     │           │           │     └── ❌\n",
    "  │     │     │           │           │           ├── ⚠️ Missing Data?\n",
    "  │     │     │           │           │           │     ├── ✅ ─────────────→ 🚀 XGBoost / CatBoost\n",
    "  │     │     │           │           │           │     └── ❌\n",
    "  │     │     │           │           │           │           ├── ⚠️ Outliers?\n",
    "  │     │     │           │           │           │           │     ├── ✅ ─────────────→ 🚀 XGBoost / 🌲 Random Forest\n",
    "  │     │     │           │           │           │           │     └── ❌ ─────────────→ 🧠 Neural Network / 🎯 KNN\n",
    "  │     │     │           │           │           │           └── End\n",
    "  │     │     │           │           │           └── End\n",
    "  │     │     │           │           └── End\n",
    "  │     │     │           └── End\n",
    "  │     │     └── End\n",
    "  │     └── ❌ No (Multiclass)\n",
    "  │           ├── 📈 Linearly Separable?\n",
    "  │           │     ├── ✅ Yes\n",
    "  │           │     │     ├── 🧬 Feature Type = Categorical?\n",
    "  │           │     │     │     ├── ✅ ─────────────→ 🌲 Random Forest / 🚀 XGBoost\n",
    "  │           │     │     │     └── ❌\n",
    "  │           │     │     │           ├── 📉 Correlation = High?\n",
    "  │           │     │     │           │     ├── ✅ ─────────────→ ❌ Avoid NB / LR\n",
    "  │           │     │     │           │     └── ❌\n",
    "  │           │     │     │           │           ├── ⚠️ Missing Data?\n",
    "  │           │     │     │           │           │     ├── ✅ ─────────────→ 🚀 XGBoost / CatBoost\n",
    "  │           │     │     │           │           │     └── ❌\n",
    "  │           │     │     │           │           │           ├── ⚠️ Outliers?\n",
    "  │           │     │     │           │           │           │     ├── ✅ ─────────────→ 🚀 XGBoost / 🌲 Random Forest\n",
    "  │           │     │     │           │           │           │     └── ❌ ─────────────→ 🤖 Logistic Regression (OvR) / 🧭 SVM\n",
    "  │           │     │     │           │           │           └── End\n",
    "  │           │     │     │           │           └── End\n",
    "  │           │     │     │           └── End\n",
    "  │           │     │     └── End\n",
    "  │           │     └── ❌ No\n",
    "  │           │           ├── 🧬 Feature Type = Categorical?\n",
    "  │           │           │     ├── ✅ ─────────────→ 🌲 Random Forest / 🚀 XGBoost\n",
    "  │           │           │     └── ❌\n",
    "  │           │           │           ├── 📉 Correlation = High?\n",
    "  │           │           │           │     ├── ✅ ─────────────→ ❌ Avoid NB / LR\n",
    "  │           │           │           │     └── ❌\n",
    "  │           │           │           │           ├── ⚠️ Missing Data?\n",
    "  │           │           │           │           │     ├── ✅ ─────────────→ 🚀 XGBoost / CatBoost\n",
    "  │           │           │           │           │     └── ❌\n",
    "  │           │           │           │           │           ├── ⚠️ Outliers?\n",
    "  │           │           │           │           │           │     ├── ✅ ─────────────→ 🚀 XGBoost / 🌲 Random Forest\n",
    "  │           │           │           │           │           │     └── ❌ ─────────────→ 🧠 Neural Network / 🎯 KNN\n",
    "  │           │           │           │           │           └── End\n",
    "  │           │           │           │           └── End\n",
    "  │           │           │           └── End\n",
    "  │           │           └── End\n",
    "  │           └── End\n",
    "  └── 🧪 Evaluate Top 3 Recommended Models\n",
    "</details>\n"
   ]
  },
  {
   "cell_type": "markdown",
   "id": "20500d91",
   "metadata": {},
   "source": [
    "<a id=\"recommend-models\"></a>\n",
    "#### 🧠 Recommend Models\n"
   ]
  },
  {
   "cell_type": "code",
   "execution_count": 19,
   "id": "eb9724c8",
   "metadata": {},
   "outputs": [],
   "source": [
    "from sklearn.linear_model import LogisticRegression\n",
    "from sklearn.naive_bayes import GaussianNB\n",
    "from sklearn.tree import DecisionTreeClassifier\n",
    "from sklearn.ensemble import RandomForestClassifier\n",
    "from sklearn.neighbors import KNeighborsClassifier\n",
    "from sklearn.svm import SVC\n",
    "from sklearn.neural_network import MLPClassifier\n",
    "import xgboost as xgb\n",
    "\n",
    "model_registry = {\n",
    "    \"Logistic Regression\": LogisticRegression(max_iter=1000),\n",
    "    \"Naive Bayes\": GaussianNB(),\n",
    "    \"Decision Tree\": DecisionTreeClassifier(),\n",
    "    \"Random Forest\": RandomForestClassifier(),\n",
    "    \"KNN\": KNeighborsClassifier(),\n",
    "    \"SVM\": SVC(probability=True),  # needed for ROC AUC\n",
    "    \"XGBoost\": xgb.XGBClassifier(use_label_encoder=False, eval_metric='logloss'),\n",
    "    \"Neural Network\": MLPClassifier(max_iter=1000)\n",
    "}\n"
   ]
  },
  {
   "cell_type": "code",
   "execution_count": 20,
   "id": "4f451d9d",
   "metadata": {},
   "outputs": [],
   "source": [
    "def recommend_models(data_characteristics, verbose=True):\n",
    "    \"\"\"\n",
    "    Scores and ranks models based on data characteristics.\n",
    "    Prints the recommended order and rationales.\n",
    "    \"\"\"\n",
    "    from termcolor import colored\n",
    "\n",
    "    score = {}\n",
    "    rationale = {}\n",
    "    \n",
    "    # Extract characteristics\n",
    "    target_info = data_characteristics.get(\"target_variable\", {})\n",
    "    feature_info = data_characteristics.get(\"features\", {})\n",
    "    is_linear = data_characteristics.get(\"linear_separability\", False)\n",
    "\n",
    "    imbalance = target_info.get(\"imbalance\", False)\n",
    "    imbalance_severity = target_info.get(\"class_imbalance_severity\", \"\")\n",
    "    feature_type = feature_info.get(\"type\", \"\")\n",
    "    corr = feature_info.get(\"correlation\", \"\")\n",
    "    outliers = feature_info.get(\"outliers\", False)\n",
    "\n",
    "    # --- Logistic Regression ---\n",
    "    score[\"Logistic Regression\"] = 2\n",
    "    rationale[\"Logistic Regression\"] = [\"Good for linearly separable, numeric data\"]\n",
    "    if is_linear:\n",
    "        score[\"Logistic Regression\"] += 3\n",
    "        rationale[\"Logistic Regression\"].append(\"Linear separability is True\")\n",
    "    if feature_type == \"continuous\":\n",
    "        score[\"Logistic Regression\"] += 1\n",
    "        rationale[\"Logistic Regression\"].append(\"Features are continuous\")\n",
    "    if outliers:\n",
    "        score[\"Logistic Regression\"] -= 1\n",
    "        rationale[\"Logistic Regression\"].append(\"Sensitive to outliers\")\n",
    "\n",
    "    # --- Naive Bayes ---\n",
    "    score[\"Naive Bayes\"] = 1\n",
    "    rationale[\"Naive Bayes\"] = [\"Good for categorical, independent features\"]\n",
    "    if feature_type == \"categorical\":\n",
    "        score[\"Naive Bayes\"] += 2\n",
    "        rationale[\"Naive Bayes\"].append(\"Features are categorical\")\n",
    "    if corr == \"low\":\n",
    "        score[\"Naive Bayes\"] += 1\n",
    "        rationale[\"Naive Bayes\"].append(\"Feature correlation is low\")\n",
    "    if corr == \"high\":\n",
    "        score[\"Naive Bayes\"] -= 2\n",
    "        rationale[\"Naive Bayes\"].append(\"Correlation is high → violates independence\")\n",
    "\n",
    "    # --- Decision Tree ---\n",
    "    score[\"Decision Tree\"] = 2\n",
    "    rationale[\"Decision Tree\"] = [\"Fast, flexible, handles most data types\"]\n",
    "    if corr == \"high\":\n",
    "        score[\"Decision Tree\"] += 1\n",
    "        rationale[\"Decision Tree\"].append(\"Can exploit feature redundancy\")\n",
    "    if outliers:\n",
    "        score[\"Decision Tree\"] += 1\n",
    "        rationale[\"Decision Tree\"].append(\"Robust to outliers\")\n",
    "\n",
    "    # --- Random Forest ---\n",
    "    score[\"Random Forest\"] = 3\n",
    "    rationale[\"Random Forest\"] = [\"Strong baseline, handles imbalance + outliers\"]\n",
    "    if outliers:\n",
    "        score[\"Random Forest\"] += 1\n",
    "        rationale[\"Random Forest\"].append(\"Handles outliers well\")\n",
    "    if imbalance:\n",
    "        score[\"Random Forest\"] += 1\n",
    "        rationale[\"Random Forest\"].append(\"Bootstrap helps with imbalance\")\n",
    "\n",
    "    # --- KNN ---\n",
    "    score[\"KNN\"] = 1\n",
    "    rationale[\"KNN\"] = [\"Simple, distance-based\"]\n",
    "    if feature_type == \"continuous\":\n",
    "        score[\"KNN\"] += 1\n",
    "        rationale[\"KNN\"].append(\"Distance-based → works better on continuous features\")\n",
    "    if outliers:\n",
    "        score[\"KNN\"] -= 2\n",
    "        rationale[\"KNN\"].append(\"Very sensitive to outliers\")\n",
    "    if imbalance:\n",
    "        score[\"KNN\"] -= 1\n",
    "        rationale[\"KNN\"].append(\"Imbalance skews neighbors\")\n",
    "\n",
    "    # --- SVM ---\n",
    "    score[\"SVM\"] = 2\n",
    "    rationale[\"SVM\"] = [\"Margin-based model\"]\n",
    "    if is_linear:\n",
    "        score[\"SVM\"] += 2\n",
    "        rationale[\"SVM\"].append(\"Linear separability is True\")\n",
    "    if imbalance:\n",
    "        score[\"SVM\"] -= 1\n",
    "        rationale[\"SVM\"].append(\"Needs tuning to handle imbalance\")\n",
    "    if feature_type == \"continuous\":\n",
    "        score[\"SVM\"] += 1\n",
    "        rationale[\"SVM\"].append(\"Requires numeric features\")\n",
    "\n",
    "    # --- Neural Network ---\n",
    "    score[\"Neural Network\"] = 2\n",
    "    rationale[\"Neural Network\"] = [\"Flexible but sensitive\"]\n",
    "    if imbalance_severity == \"high\":\n",
    "        score[\"Neural Network\"] += 1\n",
    "        rationale[\"Neural Network\"].append(\"Can learn from imbalance if tuned\")\n",
    "    if outliers:\n",
    "        score[\"Neural Network\"] -= 1\n",
    "        rationale[\"Neural Network\"].append(\"Can be unstable with outliers\")\n",
    "\n",
    "    # --- XGBoost ---\n",
    "    score[\"XGBoost\"] = 4\n",
    "    rationale[\"XGBoost\"] = [\"Strong general-purpose model\"]\n",
    "    if outliers:\n",
    "        score[\"XGBoost\"] += 1\n",
    "        rationale[\"XGBoost\"].append(\"Robust to outliers\")\n",
    "    if imbalance:\n",
    "        score[\"XGBoost\"] += 1\n",
    "        rationale[\"XGBoost\"].append(\"scale_pos_weight helps with imbalance\")\n",
    "    if corr == \"high\":\n",
    "        score[\"XGBoost\"] += 1\n",
    "        rationale[\"XGBoost\"].append(\"Handles redundant features well\")\n",
    "\n",
    "    # Sort by descending score\n",
    "    ranked_models = sorted(score.items(), key=lambda x: x[1], reverse=True)\n",
    "    ranked_model_names = [model for model, _ in ranked_models]\n",
    "\n",
    "    # Filter and reorder model_registry\n",
    "    ranked_registry = {name: model_registry[name] for name in ranked_model_names if name in model_registry}\n",
    "\n",
    "    if verbose:\n",
    "        print(\"🧠 Recommended Model Evaluation Order:\\n\")\n",
    "        for i, name in enumerate(ranked_model_names, 1):\n",
    "            if name in model_registry:\n",
    "                prefix = colored(f\"{i}. {name} (Score: {score[name]})\", \"green\") if i <= 3 else f\"{i}. {name} (Score: {score[name]})\"\n",
    "                print(prefix)\n",
    "                for reason in rationale[name]:\n",
    "                    print(f\"   ↪ {reason}\")\n",
    "        print()\n",
    "\n",
    "    return ranked_model_names, ranked_registry\n"
   ]
  },
  {
   "cell_type": "code",
   "execution_count": 21,
   "id": "95a00071",
   "metadata": {},
   "outputs": [
    {
     "name": "stdout",
     "output_type": "stream",
     "text": [
      "🧠 Recommended Model Evaluation Order:\n",
      "\n",
      "\u001b[32m1. XGBoost (Score: 6)\u001b[0m\n",
      "   ↪ Strong general-purpose model\n",
      "   ↪ Robust to outliers\n",
      "   ↪ scale_pos_weight helps with imbalance\n",
      "\u001b[32m2. Random Forest (Score: 5)\u001b[0m\n",
      "   ↪ Strong baseline, handles imbalance + outliers\n",
      "   ↪ Handles outliers well\n",
      "   ↪ Bootstrap helps with imbalance\n",
      "\u001b[32m3. Decision Tree (Score: 3)\u001b[0m\n",
      "   ↪ Fast, flexible, handles most data types\n",
      "   ↪ Robust to outliers\n",
      "4. Logistic Regression (Score: 2)\n",
      "   ↪ Good for linearly separable, numeric data\n",
      "   ↪ Features are continuous\n",
      "   ↪ Sensitive to outliers\n",
      "5. Naive Bayes (Score: 2)\n",
      "   ↪ Good for categorical, independent features\n",
      "   ↪ Feature correlation is low\n",
      "6. SVM (Score: 2)\n",
      "   ↪ Margin-based model\n",
      "   ↪ Needs tuning to handle imbalance\n",
      "   ↪ Requires numeric features\n",
      "7. Neural Network (Score: 1)\n",
      "   ↪ Flexible but sensitive\n",
      "   ↪ Can be unstable with outliers\n",
      "8. KNN (Score: -1)\n",
      "   ↪ Simple, distance-based\n",
      "   ↪ Distance-based → works better on continuous features\n",
      "   ↪ Very sensitive to outliers\n",
      "   ↪ Imbalance skews neighbors\n",
      "\n"
     ]
    }
   ],
   "source": [
    "_, model_registry = recommend_models(data_characteristics, model_registry)\n",
    "\n",
    "# model_registry"
   ]
  },
  {
   "cell_type": "markdown",
   "id": "8c41656b",
   "metadata": {},
   "source": [
    "<a id=\"model-comparison\"></a>\n",
    "#### 📈 Model Comparison"
   ]
  },
  {
   "cell_type": "code",
   "execution_count": 22,
   "id": "20950ead",
   "metadata": {},
   "outputs": [
    {
     "name": "stdout",
     "output_type": "stream",
     "text": [
      "\n",
      "🔧 Training: XGBoost\n",
      "\n",
      "📊 XGBoost — Performance Summary:\n",
      "- Accuracy  :  93.00% → Overall correctness.\n",
      "- Precision :  89.66% → Of predicted '1', how many were right.\n",
      "- Recall    :  86.67% → Of actual '1', how many we caught.\n",
      "- F1 Score  :  88.14% → Balance of precision & recall.\n",
      "\n",
      "📌 Interpretation:\n",
      "- Precision looks acceptable; false positives under control.\n",
      "- Recall is strong; model is catching true cases well.\n",
      "- F1 Score shows overall tradeoff quality: 0.88\n"
     ]
    },
    {
     "data": {
      "image/png": "[encoded data removed]",
      "text/plain": [
       "<Figure size 300x200 with 2 Axes>"
      ]
     },
     "metadata": {},
     "output_type": "display_data"
    },
    {
     "data": {
      "image/png": "[encoded data removed]",
      "text/plain": [
       "<Figure size 600x400 with 1 Axes>"
      ]
     },
     "metadata": {},
     "output_type": "display_data"
    },
    {
     "name": "stdout",
     "output_type": "stream",
     "text": [
      "🔹 ROC AUC Score for XGBoost: 0.9554\n",
      "📌 Interpretation: Model is doing a good job distinguishing between classes.\n",
      "\u001b[32m✅ XGBoost just beat previous best (DummyClassifier) → f1: 0.0000 → 0.8814\u001b[0m\n",
      "————————————————————————————————————————————————————————————————————————————————\n",
      "\n",
      "🔧 Training: Random Forest\n",
      "\n",
      "📊 Random Forest — Performance Summary:\n",
      "- Accuracy  :  91.00% → Overall correctness.\n",
      "- Precision :  88.89% → Of predicted '1', how many were right.\n",
      "- Recall    :  80.00% → Of actual '1', how many we caught.\n",
      "- F1 Score  :  84.21% → Balance of precision & recall.\n",
      "\n",
      "📌 Interpretation:\n",
      "- Precision looks acceptable; false positives under control.\n",
      "- Recall is strong; model is catching true cases well.\n",
      "- F1 Score shows overall tradeoff quality: 0.84\n"
     ]
    },
    {
     "data": {
      "image/png": "[encoded data removed]",
      "text/plain": [
       "<Figure size 300x200 with 2 Axes>"
      ]
     },
     "metadata": {},
     "output_type": "display_data"
    },
    {
     "data": {
      "image/png": "[encoded data removed]",
      "text/plain": [
       "<Figure size 600x400 with 1 Axes>"
      ]
     },
     "metadata": {},
     "output_type": "display_data"
    },
    {
     "name": "stdout",
     "output_type": "stream",
     "text": [
      "🔹 ROC AUC Score for Random Forest: 0.9631\n",
      "📌 Interpretation: Model is doing a good job distinguishing between classes.\n",
      "————————————————————————————————————————————————————————————————————————————————\n",
      "\n",
      "🔧 Training: Decision Tree\n",
      "\n",
      "📊 Decision Tree — Performance Summary:\n",
      "- Accuracy  :  85.00% → Overall correctness.\n",
      "- Precision :  69.23% → Of predicted '1', how many were right.\n",
      "- Recall    :  90.00% → Of actual '1', how many we caught.\n",
      "- F1 Score  :  78.26% → Balance of precision & recall.\n",
      "\n",
      "📌 Interpretation:\n",
      "- Precision looks acceptable; false positives under control.\n",
      "- Recall is strong; model is catching true cases well.\n",
      "- F1 Score shows overall tradeoff quality: 0.78\n"
     ]
    },
    {
     "data": {
      "image/png": "[encoded data removed]",
      "text/plain": [
       "<Figure size 300x200 with 2 Axes>"
      ]
     },
     "metadata": {},
     "output_type": "display_data"
    },
    {
     "data": {
      "image/png": "[encoded data removed]",
      "text/plain": [
       "<Figure size 600x400 with 1 Axes>"
      ]
     },
     "metadata": {},
     "output_type": "display_data"
    },
    {
     "name": "stdout",
     "output_type": "stream",
     "text": [
      "🔹 ROC AUC Score for Decision Tree: 0.8643\n",
      "📌 Interpretation: Model is doing a good job distinguishing between classes.\n",
      "————————————————————————————————————————————————————————————————————————————————\n"
     ]
    }
   ],
   "source": [
    "from sklearn.metrics import (\n",
    "    precision_score, recall_score, f1_score,\n",
    "    accuracy_score, roc_auc_score, confusion_matrix, log_loss\n",
    ")\n",
    "\n",
    "top_k = 3\n",
    "for name in list(model_registry.keys())[:top_k]:\n",
    "    # We evaluate only the top 3 recommended models (ranked earlier) for focused comparison.\n",
    "    print(f\"\\n🔧 Training: {name}\")\n",
    "\n",
    "    # Fit and predict\n",
    "    model = model_registry[name]\n",
    "    model.fit(X_train, y_train)\n",
    "    y_train_pred = model.predict(X_train)\n",
    "    y_test_pred = model.predict(X_test)\n",
    "\n",
    "    # Evaluation summary\n",
    "    evaluate_model(y_test, y_test_pred, label=name)\n",
    "    plot_confusion(y_test, y_test_pred, model_name=name)\n",
    "    plot_roc_auc(model, X_test, y_test, model_name=name)\n",
    "\n",
    "    # Track and log best model\n",
    "    update_best_model(\n",
    "        model_name=name,\n",
    "        model_obj=model,\n",
    "        y_train=y_train,\n",
    "        y_test=y_test,\n",
    "        y_train_pred=y_train_pred,\n",
    "        y_test_pred=y_test_pred\n",
    "    )\n",
    "\n",
    "    print(\"—\" * 80)  # horizontal line\n"
   ]
  },
  {
   "cell_type": "code",
   "execution_count": 23,
   "id": "609e8b25",
   "metadata": {},
   "outputs": [],
   "source": [
    "# from pprint import pprint\n",
    "# pprint(best_model_info)\n",
    "# pprint(model_results)"
   ]
  },
  {
   "cell_type": "code",
   "execution_count": 24,
   "id": "820fdbcb",
   "metadata": {},
   "outputs": [
    {
     "name": "stdout",
     "output_type": "stream",
     "text": [
      "\n",
      "🏆 Best model so far: XGBoost (F1 = 0.8814)\n",
      "\n",
      "📊 Model Ranking by F1:\n",
      "\n",
      "1. XGBoost              f1: 0.8814\n",
      "2. Random Forest        f1: 0.8421\n",
      "3. Decision Tree        f1: 0.7826\n",
      "4. DummyClassifier      f1: 0.0000\n"
     ]
    }
   ],
   "source": [
    "# Print current best model based on success_metric\n",
    "print(f\"\\n🏆 Best model so far: {best_model_info['name']} \"\n",
    "      f\"({success_metric.upper()} = {best_model_info['metrics']['test'][success_metric]:.4f})\")\n",
    "\n",
    "print(f\"\\n📊 Model Ranking by {success_metric.upper()}:\\n\")\n",
    "ranked = sorted(\n",
    "    model_results.items(),\n",
    "    key=lambda x: x[1][\"metrics\"][\"test\"][success_metric],\n",
    "    reverse=True\n",
    ")\n",
    "\n",
    "for i, (name, result) in enumerate(ranked, 1):\n",
    "    score = result[\"metrics\"][\"test\"][success_metric]\n",
    "    print(f\"{i}. {name:<20} {success_metric}: {score:.4f}\")\n"
   ]
  },
  {
   "cell_type": "code",
   "execution_count": 25,
   "id": "a2fd2314",
   "metadata": {},
   "outputs": [
    {
     "data": {
      "application/vnd.plotly.v1+json": {
       "config": {
        "plotlyServerURL": "https://plot.ly"
       },
       "data": [
        {
         "name": "accuracy",
         "text": [
          0.7,
          0.93,
          0.91,
          0.85
         ],
         "textposition": "auto",
         "type": "bar",
         "x": [
          "DummyClassifier",
          "XGBoost",
          "Random Forest",
          "Decision Tree"
         ],
         "xaxis": "x",
         "y": [
          0.7,
          0.93,
          0.91,
          0.85
         ],
         "yaxis": "y"
        },
        {
         "name": "precision",
         "text": [
          0,
          0.897,
          0.889,
          0.692
         ],
         "textposition": "auto",
         "type": "bar",
         "x": [
          "DummyClassifier",
          "XGBoost",
          "Random Forest",
          "Decision Tree"
         ],
         "xaxis": "x2",
         "y": [
          0,
          0.896551724137931,
          0.8888888888888888,
          0.6923076923076923
         ],
         "yaxis": "y2"
        },
        {
         "name": "recall",
         "text": [
          0,
          0.867,
          0.8,
          0.9
         ],
         "textposition": "auto",
         "type": "bar",
         "x": [
          "DummyClassifier",
          "XGBoost",
          "Random Forest",
          "Decision Tree"
         ],
         "xaxis": "x3",
         "y": [
          0,
          0.8666666666666667,
          0.8,
          0.9
         ],
         "yaxis": "y3"
        },
        {
         "name": "f1",
         "text": [
          0,
          0.881,
          0.842,
          0.783
         ],
         "textposition": "auto",
         "type": "bar",
         "x": [
          "DummyClassifier",
          "XGBoost",
          "Random Forest",
          "Decision Tree"
         ],
         "xaxis": "x4",
         "y": [
          0,
          0.8813559322033899,
          0.8421052631578948,
          0.7826086956521738
         ],
         "yaxis": "y4"
        },
        {
         "name": "roc_auc",
         "text": [
          0.5,
          0.955,
          0.963,
          0.864
         ],
         "textposition": "auto",
         "type": "bar",
         "x": [
          "DummyClassifier",
          "XGBoost",
          "Random Forest",
          "Decision Tree"
         ],
         "xaxis": "x5",
         "y": [
          0.5,
          0.9553571428571429,
          0.9630952380952381,
          0.8642857142857142
         ],
         "yaxis": "y5"
        }
       ],
       "layout": {
        "annotations": [
         {
          "font": {
           "size": 16
          },
          "showarrow": false,
          "text": "ACCURACY",
          "x": 0.225,
          "xanchor": "center",
          "xref": "paper",
          "y": 1,
          "yanchor": "bottom",
          "yref": "paper"
         },
         {
          "font": {
           "size": 16
          },
          "showarrow": false,
          "text": "PRECISION",
          "x": 0.775,
          "xanchor": "center",
          "xref": "paper",
          "y": 1,
          "yanchor": "bottom",
          "yref": "paper"
         },
         {
          "font": {
           "size": 16
          },
          "showarrow": false,
          "text": "RECALL",
          "x": 0.225,
          "xanchor": "center",
          "xref": "paper",
          "y": 0.6111111111111112,
          "yanchor": "bottom",
          "yref": "paper"
         },
         {
          "font": {
           "size": 16
          },
          "showarrow": false,
          "text": "F1",
          "x": 0.775,
          "xanchor": "center",
          "xref": "paper",
          "y": 0.6111111111111112,
          "yanchor": "bottom",
          "yref": "paper"
         },
         {
          "font": {
           "size": 16
          },
          "showarrow": false,
          "text": "ROC_AUC",
          "x": 0.225,
          "xanchor": "center",
          "xref": "paper",
          "y": 0.22222222222222224,
          "yanchor": "bottom",
          "yref": "paper"
         }
        ],
        "height": 900,
        "showlegend": false,
        "template": {
         "data": {
          "bar": [
           {
            "error_x": {
             "color": "#2a3f5f"
            },
            "error_y": {
             "color": "#2a3f5f"
            },
            "marker": {
             "line": {
              "color": "#E5ECF6",
              "width": 0.5
             },
             "pattern": {
              "fillmode": "overlay",
              "size": 10,
              "solidity": 0.2
             }
            },
            "type": "bar"
           }
          ],
          "barpolar": [
           {
            "marker": {
             "line": {
              "color": "#E5ECF6",
              "width": 0.5
             },
             "pattern": {
              "fillmode": "overlay",
              "size": 10,
              "solidity": 0.2
             }
            },
            "type": "barpolar"
           }
          ],
          "carpet": [
           {
            "aaxis": {
             "endlinecolor": "#2a3f5f",
             "gridcolor": "white",
             "linecolor": "white",
             "minorgridcolor": "white",
             "startlinecolor": "#2a3f5f"
            },
            "baxis": {
             "endlinecolor": "#2a3f5f",
             "gridcolor": "white",
             "linecolor": "white",
             "minorgridcolor": "white",
             "startlinecolor": "#2a3f5f"
            },
            "type": "carpet"
           }
          ],
          "choropleth": [
           {
            "colorbar": {
             "outlinewidth": 0,
             "ticks": ""
            },
            "type": "choropleth"
           }
          ],
          "contour": [
           {
            "colorbar": {
             "outlinewidth": 0,
             "ticks": ""
            },
            "colorscale": [
             [
              0,
              "#0d0887"
             ],
             [
              0.1111111111111111,
              "#46039f"
             ],
             [
              0.2222222222222222,
              "#7201a8"
             ],
             [
              0.3333333333333333,
              "#9c179e"
             ],
             [
              0.4444444444444444,
              "#bd3786"
             ],
             [
              0.5555555555555556,
              "#d8576b"
             ],
             [
              0.6666666666666666,
              "#ed7953"
             ],
             [
              0.7777777777777778,
              "#fb9f3a"
             ],
             [
              0.8888888888888888,
              "#fdca26"
             ],
             [
              1,
              "#f0f921"
             ]
            ],
            "type": "contour"
           }
          ],
          "contourcarpet": [
           {
            "colorbar": {
             "outlinewidth": 0,
             "ticks": ""
            },
            "type": "contourcarpet"
           }
          ],
          "heatmap": [
           {
            "colorbar": {
             "outlinewidth": 0,
             "ticks": ""
            },
            "colorscale": [
             [
              0,
              "#0d0887"
             ],
             [
              0.1111111111111111,
              "#46039f"
             ],
             [
              0.2222222222222222,
              "#7201a8"
             ],
             [
              0.3333333333333333,
              "#9c179e"
             ],
             [
              0.4444444444444444,
              "#bd3786"
             ],
             [
              0.5555555555555556,
              "#d8576b"
             ],
             [
              0.6666666666666666,
              "#ed7953"
             ],
             [
              0.7777777777777778,
              "#fb9f3a"
             ],
             [
              0.8888888888888888,
              "#fdca26"
             ],
             [
              1,
              "#f0f921"
             ]
            ],
            "type": "heatmap"
           }
          ],
          "heatmapgl": [
           {
            "colorbar": {
             "outlinewidth": 0,
             "ticks": ""
            },
            "colorscale": [
             [
              0,
              "#0d0887"
             ],
             [
              0.1111111111111111,
              "#46039f"
             ],
             [
              0.2222222222222222,
              "#7201a8"
             ],
             [
              0.3333333333333333,
              "#9c179e"
             ],
             [
              0.4444444444444444,
              "#bd3786"
             ],
             [
              0.5555555555555556,
              "#d8576b"
             ],
             [
              0.6666666666666666,
              "#ed7953"
             ],
             [
              0.7777777777777778,
              "#fb9f3a"
             ],
             [
              0.8888888888888888,
              "#fdca26"
             ],
             [
              1,
              "#f0f921"
             ]
            ],
            "type": "heatmapgl"
           }
          ],
          "histogram": [
           {
            "marker": {
             "pattern": {
              "fillmode": "overlay",
              "size": 10,
              "solidity": 0.2
             }
            },
            "type": "histogram"
           }
          ],
          "histogram2d": [
           {
            "colorbar": {
             "outlinewidth": 0,
             "ticks": ""
            },
            "colorscale": [
             [
              0,
              "#0d0887"
             ],
             [
              0.1111111111111111,
              "#46039f"
             ],
             [
              0.2222222222222222,
              "#7201a8"
             ],
             [
              0.3333333333333333,
              "#9c179e"
             ],
             [
              0.4444444444444444,
              "#bd3786"
             ],
             [
              0.5555555555555556,
              "#d8576b"
             ],
             [
              0.6666666666666666,
              "#ed7953"
             ],
             [
              0.7777777777777778,
              "#fb9f3a"
             ],
             [
              0.8888888888888888,
              "#fdca26"
             ],
             [
              1,
              "#f0f921"
             ]
            ],
            "type": "histogram2d"
           }
          ],
          "histogram2dcontour": [
           {
            "colorbar": {
             "outlinewidth": 0,
             "ticks": ""
            },
            "colorscale": [
             [
              0,
              "#0d0887"
             ],
             [
              0.1111111111111111,
              "#46039f"
             ],
             [
              0.2222222222222222,
              "#7201a8"
             ],
             [
              0.3333333333333333,
              "#9c179e"
             ],
             [
              0.4444444444444444,
              "#bd3786"
             ],
             [
              0.5555555555555556,
              "#d8576b"
             ],
             [
              0.6666666666666666,
              "#ed7953"
             ],
             [
              0.7777777777777778,
              "#fb9f3a"
             ],
             [
              0.8888888888888888,
              "#fdca26"
             ],
             [
              1,
              "#f0f921"
             ]
            ],
            "type": "histogram2dcontour"
           }
          ],
          "mesh3d": [
           {
            "colorbar": {
             "outlinewidth": 0,
             "ticks": ""
            },
            "type": "mesh3d"
           }
          ],
          "parcoords": [
           {
            "line": {
             "colorbar": {
              "outlinewidth": 0,
              "ticks": ""
             }
            },
            "type": "parcoords"
           }
          ],
          "pie": [
           {
            "automargin": true,
            "type": "pie"
           }
          ],
          "scatter": [
           {
            "fillpattern": {
             "fillmode": "overlay",
             "size": 10,
             "solidity": 0.2
            },
            "type": "scatter"
           }
          ],
          "scatter3d": [
           {
            "line": {
             "colorbar": {
              "outlinewidth": 0,
              "ticks": ""
             }
            },
            "marker": {
             "colorbar": {
              "outlinewidth": 0,
              "ticks": ""
             }
            },
            "type": "scatter3d"
           }
          ],
          "scattercarpet": [
           {
            "marker": {
             "colorbar": {
              "outlinewidth": 0,
              "ticks": ""
             }
            },
            "type": "scattercarpet"
           }
          ],
          "scattergeo": [
           {
            "marker": {
             "colorbar": {
              "outlinewidth": 0,
              "ticks": ""
             }
            },
            "type": "scattergeo"
           }
          ],
          "scattergl": [
           {
            "marker": {
             "colorbar": {
              "outlinewidth": 0,
              "ticks": ""
             }
            },
            "type": "scattergl"
           }
          ],
          "scattermapbox": [
           {
            "marker": {
             "colorbar": {
              "outlinewidth": 0,
              "ticks": ""
             }
            },
            "type": "scattermapbox"
           }
          ],
          "scatterpolar": [
           {
            "marker": {
             "colorbar": {
              "outlinewidth": 0,
              "ticks": ""
             }
            },
            "type": "scatterpolar"
           }
          ],
          "scatterpolargl": [
           {
            "marker": {
             "colorbar": {
              "outlinewidth": 0,
              "ticks": ""
             }
            },
            "type": "scatterpolargl"
           }
          ],
          "scatterternary": [
           {
            "marker": {
             "colorbar": {
              "outlinewidth": 0,
              "ticks": ""
             }
            },
            "type": "scatterternary"
           }
          ],
          "surface": [
           {
            "colorbar": {
             "outlinewidth": 0,
             "ticks": ""
            },
            "colorscale": [
             [
              0,
              "#0d0887"
             ],
             [
              0.1111111111111111,
              "#46039f"
             ],
             [
              0.2222222222222222,
              "#7201a8"
             ],
             [
              0.3333333333333333,
              "#9c179e"
             ],
             [
              0.4444444444444444,
              "#bd3786"
             ],
             [
              0.5555555555555556,
              "#d8576b"
             ],
             [
              0.6666666666666666,
              "#ed7953"
             ],
             [
              0.7777777777777778,
              "#fb9f3a"
             ],
             [
              0.8888888888888888,
              "#fdca26"
             ],
             [
              1,
              "#f0f921"
             ]
            ],
            "type": "surface"
           }
          ],
          "table": [
           {
            "cells": {
             "fill": {
              "color": "#EBF0F8"
             },
             "line": {
              "color": "white"
             }
            },
            "header": {
             "fill": {
              "color": "#C8D4E3"
             },
             "line": {
              "color": "white"
             }
            },
            "type": "table"
           }
          ]
         },
         "layout": {
          "annotationdefaults": {
           "arrowcolor": "#2a3f5f",
           "arrowhead": 0,
           "arrowwidth": 1
          },
          "autotypenumbers": "strict",
          "coloraxis": {
           "colorbar": {
            "outlinewidth": 0,
            "ticks": ""
           }
          },
          "colorscale": {
           "diverging": [
            [
             0,
             "#8e0152"
            ],
            [
             0.1,
             "#c51b7d"
            ],
            [
             0.2,
             "#de77ae"
            ],
            [
             0.3,
             "#f1b6da"
            ],
            [
             0.4,
             "#fde0ef"
            ],
            [
             0.5,
             "#f7f7f7"
            ],
            [
             0.6,
             "#e6f5d0"
            ],
            [
             0.7,
             "#b8e186"
            ],
            [
             0.8,
             "#7fbc41"
            ],
            [
             0.9,
             "#4d9221"
            ],
            [
             1,
             "#276419"
            ]
           ],
           "sequential": [
            [
             0,
             "#0d0887"
            ],
            [
             0.1111111111111111,
             "#46039f"
            ],
            [
             0.2222222222222222,
             "#7201a8"
            ],
            [
             0.3333333333333333,
             "#9c179e"
            ],
            [
             0.4444444444444444,
             "#bd3786"
            ],
            [
             0.5555555555555556,
             "#d8576b"
            ],
            [
             0.6666666666666666,
             "#ed7953"
            ],
            [
             0.7777777777777778,
             "#fb9f3a"
            ],
            [
             0.8888888888888888,
             "#fdca26"
            ],
            [
             1,
             "#f0f921"
            ]
           ],
           "sequentialminus": [
            [
             0,
             "#0d0887"
            ],
            [
             0.1111111111111111,
             "#46039f"
            ],
            [
             0.2222222222222222,
             "#7201a8"
            ],
            [
             0.3333333333333333,
             "#9c179e"
            ],
            [
             0.4444444444444444,
             "#bd3786"
            ],
            [
             0.5555555555555556,
             "#d8576b"
            ],
            [
             0.6666666666666666,
             "#ed7953"
            ],
            [
             0.7777777777777778,
             "#fb9f3a"
            ],
            [
             0.8888888888888888,
             "#fdca26"
            ],
            [
             1,
             "#f0f921"
            ]
           ]
          },
          "colorway": [
           "#636efa",
           "#EF553B",
           "#00cc96",
           "#ab63fa",
           "#FFA15A",
           "#19d3f3",
           "#FF6692",
           "#B6E880",
           "#FF97FF",
           "#FECB52"
          ],
          "font": {
           "color": "#2a3f5f"
          },
          "geo": {
           "bgcolor": "white",
           "lakecolor": "white",
           "landcolor": "#E5ECF6",
           "showlakes": true,
           "showland": true,
           "subunitcolor": "white"
          },
          "hoverlabel": {
           "align": "left"
          },
          "hovermode": "closest",
          "mapbox": {
           "style": "light"
          },
          "paper_bgcolor": "white",
          "plot_bgcolor": "#E5ECF6",
          "polar": {
           "angularaxis": {
            "gridcolor": "white",
            "linecolor": "white",
            "ticks": ""
           },
           "bgcolor": "#E5ECF6",
           "radialaxis": {
            "gridcolor": "white",
            "linecolor": "white",
            "ticks": ""
           }
          },
          "scene": {
           "xaxis": {
            "backgroundcolor": "#E5ECF6",
            "gridcolor": "white",
            "gridwidth": 2,
            "linecolor": "white",
            "showbackground": true,
            "ticks": "",
            "zerolinecolor": "white"
           },
           "yaxis": {
            "backgroundcolor": "#E5ECF6",
            "gridcolor": "white",
            "gridwidth": 2,
            "linecolor": "white",
            "showbackground": true,
            "ticks": "",
            "zerolinecolor": "white"
           },
           "zaxis": {
            "backgroundcolor": "#E5ECF6",
            "gridcolor": "white",
            "gridwidth": 2,
            "linecolor": "white",
            "showbackground": true,
            "ticks": "",
            "zerolinecolor": "white"
           }
          },
          "shapedefaults": {
           "line": {
            "color": "#2a3f5f"
           }
          },
          "ternary": {
           "aaxis": {
            "gridcolor": "white",
            "linecolor": "white",
            "ticks": ""
           },
           "baxis": {
            "gridcolor": "white",
            "linecolor": "white",
            "ticks": ""
           },
           "bgcolor": "#E5ECF6",
           "caxis": {
            "gridcolor": "white",
            "linecolor": "white",
            "ticks": ""
           }
          },
          "title": {
           "x": 0.05
          },
          "xaxis": {
           "automargin": true,
           "gridcolor": "white",
           "linecolor": "white",
           "ticks": "",
           "title": {
            "standoff": 15
           },
           "zerolinecolor": "white",
           "zerolinewidth": 2
          },
          "yaxis": {
           "automargin": true,
           "gridcolor": "white",
           "linecolor": "white",
           "ticks": "",
           "title": {
            "standoff": 15
           },
           "zerolinecolor": "white",
           "zerolinewidth": 2
          }
         }
        },
        "title": {
         "text": "Model Comparison by Metric"
        },
        "width": 1000,
        "xaxis": {
         "anchor": "y",
         "domain": [
          0,
          0.45
         ]
        },
        "xaxis2": {
         "anchor": "y2",
         "domain": [
          0.55,
          1
         ]
        },
        "xaxis3": {
         "anchor": "y3",
         "domain": [
          0,
          0.45
         ]
        },
        "xaxis4": {
         "anchor": "y4",
         "domain": [
          0.55,
          1
         ]
        },
        "xaxis5": {
         "anchor": "y5",
         "domain": [
          0,
          0.45
         ]
        },
        "xaxis6": {
         "anchor": "y6",
         "domain": [
          0.55,
          1
         ]
        },
        "yaxis": {
         "anchor": "x",
         "domain": [
          0.7777777777777778,
          1
         ]
        },
        "yaxis2": {
         "anchor": "x2",
         "domain": [
          0.7777777777777778,
          1
         ]
        },
        "yaxis3": {
         "anchor": "x3",
         "domain": [
          0.3888888888888889,
          0.6111111111111112
         ]
        },
        "yaxis4": {
         "anchor": "x4",
         "domain": [
          0.3888888888888889,
          0.6111111111111112
         ]
        },
        "yaxis5": {
         "anchor": "x5",
         "domain": [
          0,
          0.22222222222222224
         ]
        },
        "yaxis6": {
         "anchor": "x6",
         "domain": [
          0,
          0.22222222222222224
         ]
        }
       }
      }
     },
     "metadata": {},
     "output_type": "display_data"
    }
   ],
   "source": [
    "import plotly.graph_objects as go\n",
    "import plotly.subplots as sp\n",
    "import pandas as pd\n",
    "\n",
    "# Extract test metrics\n",
    "df_results = pd.DataFrame({\n",
    "    model_name: data[\"metrics\"][\"test\"]\n",
    "    for model_name, data in model_results.items()\n",
    "}).T\n",
    "\n",
    "# Original metrics you'd like to plot\n",
    "desired_metrics = ['accuracy', 'precision', 'recall', 'f1', 'roc_auc', 'specificity']\n",
    "\n",
    "# Filter only those that exist in df_results\n",
    "metrics = [m for m in desired_metrics if m in df_results.columns]\n",
    "\n",
    "# Create subplot layout\n",
    "rows = (len(metrics) + 1) // 2\n",
    "fig = sp.make_subplots(rows=rows, cols=2, subplot_titles=[m.upper() for m in metrics])\n",
    "\n",
    "# Plot each available metric\n",
    "for i, metric in enumerate(metrics):\n",
    "    row, col = divmod(i, 2)\n",
    "    fig.add_trace(\n",
    "        go.Bar(\n",
    "            x=df_results.index,\n",
    "            y=df_results[metric],\n",
    "            name=metric,\n",
    "            text=pd.to_numeric(df_results[metric], errors=\"coerce\").round(3),\n",
    "            textposition=\"auto\"\n",
    "        ),\n",
    "        row=row+1, col=col+1\n",
    "    )\n",
    "\n",
    "fig.update_layout(\n",
    "    height=300 * rows,\n",
    "    width=1000,\n",
    "    title_text=\"Model Comparison by Metric\",\n",
    "    showlegend=False\n",
    ")\n",
    "\n",
    "fig.show()\n"
   ]
  },
  {
   "cell_type": "markdown",
   "id": "0fdddf6c",
   "metadata": {},
   "source": [
    "<a id=\"feature-importance\"></a>\n",
    "<h4>📊 Feature Importance</h4>\n",
    "\n",
    "<details><summary><strong>📖 Click to Expand</strong></summary>\n",
    "\n",
    "<p>Feature importance tells us <strong>which variables the model relied on most</strong> to make predictions.<br>\n",
    "It’s like asking, “What factors influenced the decision the most?”</p>\n",
    "\n",
    "<p>In tree-based models like Random Forest or XGBoost, it’s calculated based on how often and how effectively a feature was used to split the data.</p>\n",
    "\n",
    "<p>This is useful for:</p>\n",
    "<ul>\n",
    "  <li>Understanding the model’s decision logic</li>\n",
    "  <li>Identifying key business drivers</li>\n",
    "  <li>Eliminating irrelevant features</li>\n",
    "</ul>\n",
    "\n",
    "</details>\n"
   ]
  },
  {
   "cell_type": "code",
   "execution_count": 26,
   "id": "a516765b",
   "metadata": {},
   "outputs": [],
   "source": [
    "# best_model_info"
   ]
  },
  {
   "cell_type": "code",
   "execution_count": 27,
   "id": "27549e39",
   "metadata": {},
   "outputs": [
    {
     "data": {
      "image/png": "[encoded data removed]",
      "text/plain": [
       "<Figure size 800x500 with 1 Axes>"
      ]
     },
     "metadata": {},
     "output_type": "display_data"
    }
   ],
   "source": [
    "import pandas as pd\n",
    "import matplotlib.pyplot as plt\n",
    "\n",
    "def plot_feature_importance(model=None, feature_names=None, top_n=10, model_name=None):\n",
    "    \"\"\"\n",
    "    Plots top N feature importances.\n",
    "    Defaults to best_model_info['model'] unless overridden.\n",
    "    Optionally takes a model_name for the plot title.\n",
    "    \"\"\"\n",
    "    if model is None:\n",
    "        model = best_model_info[\"model\"]\n",
    "        model_name = best_model_info.get(\"name\", \"Best Model\") if model_name is None else model_name\n",
    "    else:\n",
    "        model_name = model_name or \"Selected Model\"\n",
    "\n",
    "    if feature_names is None:\n",
    "        feature_names = X_train.columns\n",
    "\n",
    "    if not hasattr(model, \"feature_importances_\"):\n",
    "        raise ValueError(\"Model does not support feature_importances_\")\n",
    "\n",
    "    importance_df = pd.DataFrame({\n",
    "        \"Feature\": feature_names,\n",
    "        \"Importance\": model.feature_importances_\n",
    "    }).sort_values(by=\"Importance\", ascending=False).head(top_n)\n",
    "\n",
    "    plt.figure(figsize=(8, 5))\n",
    "    plt.barh(importance_df[\"Feature\"][::-1], importance_df[\"Importance\"][::-1])\n",
    "    for i, (feature, importance) in enumerate(zip(importance_df[\"Feature\"][::-1], importance_df[\"Importance\"][::-1])):\n",
    "        plt.text(importance + 0.005, i, f\"{importance:.3f}\", va='center')\n",
    "    plt.title(f\"Top Feature Importances ({model_name})\")\n",
    "    plt.xlabel(\"Importance Score\")\n",
    "    plt.tight_layout()\n",
    "    plt.show()\n",
    "\n",
    "    return list(importance_df[\"Feature\"])\n",
    "\n",
    "# ✅ Default: plot for best model\n",
    "imp_ranked = plot_feature_importance()\n",
    "\n",
    "# 🛠️ Optional: override model + title\n",
    "# alt_model = model_results[\"Random Forest\"][\"model\"]\n",
    "# imp_ranked = plot_feature_importance(model=alt_model, model_name=\"Random Forest\")\n"
   ]
  },
  {
   "cell_type": "markdown",
   "id": "e1d2fc97",
   "metadata": {},
   "source": [
    "<a id=\"shap-values\"></a>\n",
    "<h4>🧬 SHAP Values</h4>\n",
    "\n",
    "<details><summary><strong>📖 Click to Expand</strong></summary>\n",
    "\n",
    "<p>SHAP (SHapley Additive exPlanations) values explain <strong>how much each feature contributed</strong> to a specific prediction — positively or negatively.</p>\n",
    "\n",
    "<p>It’s like breaking down a credit score:<br>\n",
    "<em>“Age added +12 points, income removed -5 points…”</em></p>\n",
    "\n",
    "<p>SHAP is model-agnostic and gives <strong>local explanations</strong> (for individual predictions) and <strong>global insights</strong> (feature impact across all predictions).</p>\n",
    "\n",
    "<p>Useful for:</p>\n",
    "<ul>\n",
    "  <li>Auditing high-stakes predictions</li>\n",
    "  <li>Building trust with stakeholders</li>\n",
    "  <li>Diagnosing model behavior case-by-case</li>\n",
    "</ul>\n",
    "\n",
    "</details>\n"
   ]
  },
  {
   "cell_type": "code",
   "execution_count": 28,
   "id": "fdb6b02e",
   "metadata": {},
   "outputs": [
    {
     "name": "stderr",
     "output_type": "stream",
     "text": [
      "[22:12:53] WARNING: /Users/runner/work/xgboost/xgboost/src/c_api/c_api.cc:1240: Saving into deprecated binary model format, please consider using `json` or `ubj`. Model format will default to JSON in XGBoost 2.2 if not specified.\n"
     ]
    },
    {
     "data": {
      "image/png": "[encoded data removed]",
      "text/plain": [
       "<Figure size 800x550 with 2 Axes>"
      ]
     },
     "metadata": {},
     "output_type": "display_data"
    },
    {
     "name": "stdout",
     "output_type": "stream",
     "text": [
      "\n",
      "📌 SHAP Summary for XGBoost:\n",
      "- Each bar shows how much that feature influences the model’s decision.\n",
      "- Features at the top are the most impactful across all predictions.\n",
      "- Blue/red indicate direction: does the feature push prediction up or down?\n",
      "- Helps us understand *why* the model is confident — not just *what* it predicts.\n"
     ]
    }
   ],
   "source": [
    "import shap\n",
    "\n",
    "def plot_shap_summary_tree(model=None, X=None, model_name=None):\n",
    "    \"\"\"\n",
    "    Plot SHAP summary for tree-based models (RandomForest, XGBoost).\n",
    "    Defaults to best_model_info['model'] and X_test.\n",
    "    \"\"\"\n",
    "    if model is None:\n",
    "        model = best_model_info[\"model\"]\n",
    "        model_name = model_name or best_model_info.get(\"name\", \"Best Model\")\n",
    "    else:\n",
    "        model_name = model_name or \"Selected Model\"\n",
    "\n",
    "    if X is None:\n",
    "        X = X_test\n",
    "\n",
    "    explainer = shap.TreeExplainer(model)\n",
    "    shap_values = explainer.shap_values(X)\n",
    "\n",
    "    # For binary classification, use shap_values[1]\n",
    "    if isinstance(shap_values, list) and len(shap_values) == 2:\n",
    "        shap_values = shap_values[1]\n",
    "\n",
    "    shap.summary_plot(shap_values, X)\n",
    "\n",
    "    print(f\"\\n📌 SHAP Summary for {model_name}:\")\n",
    "    print(\"- Each bar shows how much that feature influences the model’s decision.\")\n",
    "    print(\"- Features at the top are the most impactful across all predictions.\")\n",
    "    print(\"- Blue/red indicate direction: does the feature push prediction up or down?\")\n",
    "    print(\"- Helps us understand *why* the model is confident — not just *what* it predicts.\")\n",
    "\n",
    "    shap_df = pd.DataFrame(np.abs(shap_values), columns=X.columns).mean().sort_values(ascending=False)\n",
    "    return list(shap_df.index)\n",
    "\n",
    "# ✅ Default: SHAP for best model\n",
    "shap_ranked = plot_shap_summary_tree()\n",
    "\n",
    "# 🛠️ Optional: SHAP for any other model\n",
    "# alt_model = model_results[\"Random Forest\"][\"model\"]\n",
    "# shap_ranked = plot_shap_summary_tree(model=alt_model, model_name=\"Random Forest\")"
   ]
  },
  {
   "cell_type": "markdown",
   "id": "a11ee97d",
   "metadata": {},
   "source": [
    "[Back to the top](#table-of-contents)\n",
    "___"
   ]
  },
  {
   "cell_type": "markdown",
   "id": "0c72dd1f",
   "metadata": {},
   "source": [
    "<a id=\"tuning\"></a>\n",
    "# 🛠️ Fine-Tune"
   ]
  },
  {
   "cell_type": "markdown",
   "id": "291f9333",
   "metadata": {},
   "source": [
    "<details><summary><strong>📖 Click to Expand</strong></summary>\n",
    "\n",
    "<ul>\n",
    "  <li>Fine-tuning helps unlock the model’s full potential by finding better hyperparameter values.</li>\n",
    "  <li>It improves accuracy, recall, and other metrics without changing the model type.</li>\n",
    "  <li>We typically tune the best-performing model from the baseline round (Random Forest in our case).</li>\n",
    "  <li>Two common methods: Grid Search (exhaustive) and Randomized Search (faster, approximate).</li>\n",
    "</ul>\n",
    "\n",
    "</details>\n"
   ]
  },
  {
   "cell_type": "markdown",
   "id": "5c3483bd",
   "metadata": {},
   "source": [
    "<a id=\"feature-selection-rfe\"></a>\n",
    "#### 🧪 Feature Selection – RFE"
   ]
  },
  {
   "cell_type": "code",
   "execution_count": 29,
   "id": "ce8ea3f8",
   "metadata": {},
   "outputs": [],
   "source": [
    "if False:\n",
    "    from sklearn.feature_selection import RFE\n",
    "\n",
    "    # Use full X_train\n",
    "    X_full = X_train.copy()\n",
    "    model = best_model_info[\"model\"]\n",
    "\n",
    "    # Choose how many features to keep (optional: all, top 50%, or fixed)\n",
    "    n_to_select = max(1, X_full.shape[1] // 2)  # or change to any value\n",
    "\n",
    "    # Run RFE\n",
    "    selector = RFE(estimator=model, n_features_to_select=n_to_select, step=1)\n",
    "    selector.fit(X_full, y_train)\n",
    "\n",
    "    # Final selected features\n",
    "    selected_features = list(X_full.columns[selector.support_])\n",
    "    print(f\"✅ RFE selected features (no filtering): {selected_features}\")\n"
   ]
  },
  {
   "cell_type": "markdown",
   "id": "b04baa59",
   "metadata": {},
   "source": [
    "<a id=\"feature-selection-rfe-shap\"></a>\n",
    "#### 🧪 Feature Selection – RFE + SHAP"
   ]
  },
  {
   "cell_type": "code",
   "execution_count": 30,
   "id": "d7cf87c2",
   "metadata": {},
   "outputs": [],
   "source": [
    "from sklearn.base import clone\n",
    "from sklearn.metrics import f1_score, accuracy_score, precision_score, recall_score, roc_auc_score\n",
    "import shap\n",
    "import numpy as np\n",
    "\n",
    "def shap_guided_backward_elimination(\n",
    "    model, X, y,\n",
    "    shap_ranked=None,\n",
    "    metric_name=None,\n",
    "    drop_threshold=0.005,\n",
    "    min_features=1,\n",
    "    verbose=True\n",
    "):\n",
    "    \"\"\"\n",
    "    SHAP-guided backward elimination with early stopping.\n",
    "    Drops features by SHAP rank until performance drops significantly or hits min_features.\n",
    "    \"\"\"\n",
    "    model_base = clone(model)\n",
    "    X_curr = X.copy()\n",
    "\n",
    "    # Determine metric\n",
    "    metric_name = metric_name or success_metric\n",
    "    metric_func = {\n",
    "        \"f1\": f1_score,\n",
    "        \"accuracy\": accuracy_score,\n",
    "        \"precision\": precision_score,\n",
    "        \"recall\": recall_score,\n",
    "        \"roc_auc\": roc_auc_score\n",
    "    }.get(metric_name)\n",
    "\n",
    "    if metric_func is None:\n",
    "        raise ValueError(f\"Unsupported metric: {metric_name}\")\n",
    "\n",
    "    # Get SHAP-ranked features if not provided\n",
    "    if shap_ranked is None:\n",
    "        explainer = shap.TreeExplainer(model_base.fit(X_curr, y))\n",
    "        shap_values = explainer.shap_values(X_curr)\n",
    "        if isinstance(shap_values, list) and len(shap_values) == 2:\n",
    "            shap_values = shap_values[1]\n",
    "        shap_importance = np.abs(shap_values).mean(axis=0)\n",
    "        shap_ranked = X_curr.columns[np.argsort(shap_importance)[::-1]].tolist()\n",
    "    else:\n",
    "        shap_ranked = shap_ranked.copy()\n",
    "\n",
    "    # Initialize tracking\n",
    "    score_history = []\n",
    "    previous_score = None\n",
    "\n",
    "    while len(shap_ranked) >= min_features:\n",
    "        model = clone(model_base)\n",
    "        model.fit(X_curr[shap_ranked], y)\n",
    "        y_pred = model.predict(X_curr[shap_ranked])\n",
    "        score = metric_func(y, y_pred, zero_division=0)\n",
    "        score_history.append((len(shap_ranked), score, shap_ranked.copy()))\n",
    "\n",
    "        if verbose:\n",
    "            feat_list = \", \".join(shap_ranked)\n",
    "            print(f\"✅ {len(shap_ranked)} features → {metric_name}: {score:.4f} → [{feat_list}]\")\n",
    "\n",
    "        # Early stop if score drops significantly\n",
    "        if previous_score is not None and (previous_score - score) > drop_threshold:\n",
    "            if verbose:\n",
    "                print(f\"🛑 Stopping early: {metric_name} dropped from {previous_score:.4f} to {score:.4f}\")\n",
    "            break\n",
    "\n",
    "        previous_score = score\n",
    "        shap_ranked.pop()  # Drop lowest-ranked SHAP feature\n",
    "\n",
    "    if not score_history:\n",
    "        raise ValueError(\"No elimination steps executed — shap_ranked too short or invalid inputs.\")\n",
    "\n",
    "    # Best configuration\n",
    "    tolerance = 0.01  # Accept within 1% drop of best score\n",
    "    best_score = max(score_history, key=lambda x: x[1])[1]\n",
    "    # Keep all configs that are within tolerance\n",
    "    candidates = [cfg for cfg in score_history if (best_score - cfg[1]) <= tolerance]\n",
    "    # Pick one with the fewest features\n",
    "    best_config = min(candidates, key=lambda x: x[0])\n",
    "    print(f\"\\n🎯 Best config: {len(best_config[2])} features → {metric_name}: {best_config[1]:.4f}\")\n",
    "    return best_config[2], score_history\n"
   ]
  },
  {
   "cell_type": "code",
   "execution_count": 31,
   "id": "bd7eef39",
   "metadata": {},
   "outputs": [
    {
     "name": "stdout",
     "output_type": "stream",
     "text": [
      "✅ 10 features → f1: 1.0000 → [Feature_7, Feature_9, Feature_6, Feature_2, Feature_5, Feature_8, Feature_10, Feature_1, Feature_3, Feature_4]\n",
      "✅ 9 features → f1: 1.0000 → [Feature_7, Feature_9, Feature_6, Feature_2, Feature_5, Feature_8, Feature_10, Feature_1, Feature_3]\n",
      "✅ 8 features → f1: 1.0000 → [Feature_7, Feature_9, Feature_6, Feature_2, Feature_5, Feature_8, Feature_10, Feature_1]\n",
      "✅ 7 features → f1: 1.0000 → [Feature_7, Feature_9, Feature_6, Feature_2, Feature_5, Feature_8, Feature_10]\n",
      "✅ 6 features → f1: 1.0000 → [Feature_7, Feature_9, Feature_6, Feature_2, Feature_5, Feature_8]\n",
      "✅ 5 features → f1: 1.0000 → [Feature_7, Feature_9, Feature_6, Feature_2, Feature_5]\n",
      "✅ 4 features → f1: 1.0000 → [Feature_7, Feature_9, Feature_6, Feature_2]\n",
      "✅ 3 features → f1: 1.0000 → [Feature_7, Feature_9, Feature_6]\n",
      "✅ 2 features → f1: 0.9896 → [Feature_7, Feature_9]\n",
      "🛑 Stopping early: f1 dropped from 1.0000 to 0.9896\n",
      "\n",
      "🎯 Best config: 3 features → f1: 1.0000\n"
     ]
    }
   ],
   "source": [
    "final_features, history = shap_guided_backward_elimination(\n",
    "    model=best_model_info[\"model\"],\n",
    "    X=X_train,\n",
    "    y=y_train,\n",
    "    shap_ranked=shap_ranked\n",
    ")\n",
    "final_features\n",
    "\n",
    "X_train_full = X_train.copy() # retaining copies for future reference\n",
    "X_test_full = X_test.copy() # retaining copies for future reference\n",
    "X_train = X_train[final_features]\n",
    "X_test  = X_test[final_features]\n"
   ]
  },
  {
   "cell_type": "markdown",
   "id": "bf020370",
   "metadata": {},
   "source": [
    "<a id=\"grid-search\"></a>\n",
    "#### 🔎 Grid Search\n",
    "\n"
   ]
  },
  {
   "cell_type": "markdown",
   "id": "7bec9b38",
   "metadata": {},
   "source": [
    "<details><summary><strong>📖 Click to Expand</strong></summary>\n",
    "\n",
    "<h5>🔍 What is Grid Search?</h5>\n",
    "\n",
    "<p>Grid Search tests <strong>all possible combinations</strong> of hyperparameters across a fixed grid.<br>\n",
    "It’s exhaustive, simple, and works best when the number of hyperparameters is small.</p>\n",
    "\n",
    "<ul>\n",
    "  <li><strong>Pros</strong>: Comprehensive, easy to understand</li>\n",
    "  <li><strong>Cons</strong>: Very slow when search space is large</li>\n",
    "</ul>\n",
    "\n",
    "</details>\n"
   ]
  },
  {
   "cell_type": "code",
   "execution_count": 32,
   "id": "52eb1470",
   "metadata": {},
   "outputs": [],
   "source": [
    "from sklearn.model_selection import GridSearchCV\n",
    "from xgboost import XGBClassifier\n",
    "\n",
    "# 🔧 Complete and default-aware param grid\n",
    "param_grids = {\n",
    "    \"RandomForestClassifier\": {\n",
    "        \"n_estimators\": [100, 200],              # default: 100\n",
    "        \"max_depth\": [None, 5, 10],              # default: None\n",
    "        \"min_samples_split\": [2, 5],             # default: 2\n",
    "        \"min_samples_leaf\": [1, 2],              # default: 1\n",
    "        \"max_features\": [\"sqrt\", \"log2\"]         # default: \"sqrt\"\n",
    "    },\n",
    "    \"DecisionTreeClassifier\": {\n",
    "        \"max_depth\": [None, 5, 10],              # default: None\n",
    "        \"min_samples_split\": [2, 5],             # default: 2\n",
    "        \"min_samples_leaf\": [1, 2],              # default: 1\n",
    "        \"criterion\": [\"gini\", \"entropy\"]         # default: \"gini\"\n",
    "    },\n",
    "    \"GaussianNB\": {\n",
    "        # Note: Naive Bayes (GaussianNB) has limited tunable parameters — only var_smoothing is exposed\n",
    "        \"var_smoothing\": [1e-9, 1e-8, 1e-7]      # default: 1e-9\n",
    "    },\n",
    "    \"LogisticRegression\": {\n",
    "        \"C\": [0.01, 0.1, 1, 10],                 # default: 1\n",
    "        \"penalty\": [\"l2\"],                       # default: \"l2\"\n",
    "        \"solver\": [\"lbfgs\"],                     # default: \"lbfgs\"\n",
    "        \"max_iter\": [100, 500]                   # default: 100\n",
    "    },\n",
    "    \"SVC\": {\n",
    "        \"C\": [0.1, 1, 10],                       # default: 1\n",
    "        \"kernel\": [\"linear\", \"rbf\"],             # default: \"rbf\"\n",
    "        \"gamma\": [\"scale\", \"auto\"],              # default: \"scale\"\n",
    "        \"probability\": [True]                    # default: False (forced True for AUC)\n",
    "    },\n",
    "    \"KNeighborsClassifier\": {\n",
    "        \"n_neighbors\": [3, 5, 7],                # default: 5\n",
    "        \"weights\": [\"uniform\", \"distance\"],      # default: \"uniform\"\n",
    "        \"metric\": [\"euclidean\", \"manhattan\", \"minkowski\"]  # default: \"minkowski\"\n",
    "    },\n",
    "    \"MLPClassifier\": {\n",
    "        \"hidden_layer_sizes\": [(50,), (100,)],  # default: (100,)\n",
    "        \"activation\": [\"relu\", \"tanh\"],          # default: \"relu\"\n",
    "        \"alpha\": [0.0001, 0.001],                # default: 0.0001\n",
    "        \"learning_rate\": [\"constant\", \"adaptive\"],  # default: \"constant\"\n",
    "        \"max_iter\": [200, 500]                   # default: 200\n",
    "    },\n",
    "    \"XGBClassifier\": {\n",
    "        \"n_estimators\": [100, 200],\n",
    "        \"max_depth\": [3, 5, 7],\n",
    "        \"learning_rate\": [0.01, 0.1],\n",
    "        \"subsample\": [0.8, 1.0],\n",
    "        \"colsample_bytree\": [0.8, 1.0],\n",
    "        \"scale_pos_weight\": [1, 2]  # useful for class imbalance\n",
    "    }\n",
    "}"
   ]
  },
  {
   "cell_type": "code",
   "execution_count": 33,
   "id": "a26dae20",
   "metadata": {},
   "outputs": [
    {
     "name": "stdout",
     "output_type": "stream",
     "text": [
      "\n",
      "🔧 Running Grid Search for: XGBClassifier\n",
      "Fitting 5 folds for each of 96 candidates, totalling 480 fits\n",
      "✅ Best Parameters Found:\n",
      "{'colsample_bytree': 1.0, 'learning_rate': 0.01, 'max_depth': 5, 'n_estimators': 200, 'scale_pos_weight': 1, 'subsample': 0.8}\n",
      "\n",
      "📊 DummyClassifier — Performance Summary:\n",
      "- Accuracy  :  93.00% → Overall correctness.\n",
      "- Precision :  94.23% → Of predicted '1', how many were right.\n",
      "- Recall    :  81.67% → Of actual '1', how many we caught.\n",
      "- F1 Score  :  87.50% → Balance of precision & recall.\n",
      "\n",
      "📌 Interpretation:\n",
      "- Precision looks acceptable; false positives under control.\n",
      "- Recall is strong; model is catching true cases well.\n",
      "- F1 Score shows overall tradeoff quality: 0.87\n"
     ]
    },
    {
     "data": {
      "image/png": "[encoded data removed]",
      "text/plain": [
       "<Figure size 300x200 with 2 Axes>"
      ]
     },
     "metadata": {},
     "output_type": "display_data"
    },
    {
     "data": {
      "image/png": "[encoded data removed]",
      "text/plain": [
       "<Figure size 600x400 with 1 Axes>"
      ]
     },
     "metadata": {},
     "output_type": "display_data"
    },
    {
     "name": "stdout",
     "output_type": "stream",
     "text": [
      "🔹 ROC AUC Score for XGBClassifier (Tuned): 0.9700\n",
      "📌 Interpretation: Model is doing a good job distinguishing between classes.\n"
     ]
    }
   ],
   "source": [
    "from sklearn.model_selection import GridSearchCV\n",
    "from sklearn.metrics import (\n",
    "    precision_score, recall_score, f1_score, accuracy_score,\n",
    "    roc_auc_score, confusion_matrix, log_loss\n",
    ")\n",
    "\n",
    "# ⚙️ Resolve model name and corresponding grid\n",
    "model_name = best_model_info[\"model\"].__class__.__name__  # ✅ fixed here\n",
    "param_grid = param_grids.get(model_name)\n",
    "\n",
    "if param_grid is None:\n",
    "    raise ValueError(f\"No param grid defined for model: {model_name}\")\n",
    "\n",
    "print(f\"\\n🔧 Running Grid Search for: {model_name}\")\n",
    "\n",
    "# 🧪 Run Grid Search\n",
    "model_instance = best_model_info[\"model\"].__class__()\n",
    "\n",
    "grid_search = GridSearchCV(\n",
    "    estimator=model_instance,\n",
    "    param_grid=param_grid,\n",
    "    scoring=\"f1\",\n",
    "    cv=5,\n",
    "    n_jobs=-1,\n",
    "    verbose=1\n",
    ")\n",
    "\n",
    "grid_search.fit(X_train, y_train)\n",
    "best_tuned_model = grid_search.best_estimator_\n",
    "\n",
    "print(\"✅ Best Parameters Found:\")\n",
    "print(grid_search.best_params_)\n",
    "\n",
    "# 📈 Evaluate tuned model\n",
    "y_test_pred = best_tuned_model.predict(X_test)\n",
    "\n",
    "if hasattr(best_tuned_model, \"predict_proba\"):\n",
    "    y_scores = best_tuned_model.predict_proba(X_test)[:, 1]\n",
    "elif hasattr(best_tuned_model, \"decision_function\"):\n",
    "    y_scores = best_tuned_model.decision_function(X_test)\n",
    "else:\n",
    "    y_scores = y_test_pred\n",
    "\n",
    "cm = confusion_matrix(y_test, y_test_pred)\n",
    "tn, fp, fn, tp = cm.ravel()\n",
    "\n",
    "# Metrics\n",
    "precision = precision_score(y_test, y_test_pred, zero_division=0)\n",
    "recall = recall_score(y_test, y_test_pred, zero_division=0)\n",
    "f1 = f1_score(y_test, y_test_pred, zero_division=0)\n",
    "accuracy = accuracy_score(y_test, y_test_pred)\n",
    "auc = roc_auc_score(y_test, y_scores)\n",
    "specificity = tn / (tn + fp)\n",
    "logloss = log_loss(y_test, y_scores)\n",
    "\n",
    "# Add to model_results with a new key\n",
    "model_results[f\"{model_name} (Tuned)\"] = {\n",
    "    \"model\": best_tuned_model,\n",
    "    \"accuracy\": accuracy,\n",
    "    \"precision\": precision,\n",
    "    \"recall\": recall,\n",
    "    \"f1\": f1,\n",
    "    \"auc\": auc,\n",
    "    \"specificity\": specificity,\n",
    "    \"log_loss\": logloss\n",
    "}\n",
    "\n",
    "# Evaluation summary\n",
    "evaluate_model(y_test, y_test_pred, label=name)\n",
    "plot_confusion(y_test, y_test_pred, model_name=f\"{model_name} (Tuned)\")\n",
    "plot_roc_auc(best_tuned_model, X_test, y_test, model_name=f\"{model_name} (Tuned)\")\n"
   ]
  },
  {
   "cell_type": "code",
   "execution_count": 34,
   "id": "5d7bb7a0",
   "metadata": {},
   "outputs": [],
   "source": [
    "# best_model_info"
   ]
  },
  {
   "cell_type": "markdown",
   "id": "b9543027",
   "metadata": {},
   "source": [
    "<a id=\"random-search\"></a>\n",
    "#### 🎲 Randomized Search\n"
   ]
  },
  {
   "cell_type": "markdown",
   "id": "1b7778ad",
   "metadata": {},
   "source": [
    "<details><summary><strong>📖 Click to Expand</strong></summary>\n",
    "\n",
    "<h5>🔍 What is Randomized Search?</h5>\n",
    "\n",
    "<p>Randomized Search selects a <strong>random subset of combinations</strong> to test, rather than all of them.<br>\n",
    "It’s faster and often just as effective — especially when only a few hyperparameters really matter.</p>\n",
    "\n",
    "<ul>\n",
    "  <li><strong>Pros</strong>: Much faster than grid search, good for large spaces</li>\n",
    "  <li><strong>Cons</strong>: May miss optimal combo if unlucky</li>\n",
    "</ul>\n",
    "\n",
    "</details>\n"
   ]
  },
  {
   "cell_type": "code",
   "execution_count": 35,
   "id": "e3f07e85",
   "metadata": {},
   "outputs": [
    {
     "name": "stdout",
     "output_type": "stream",
     "text": [
      "\n",
      "🎲 Running Randomized Search for: XGBClassifier\n",
      "Fitting 5 folds for each of 15 candidates, totalling 75 fits\n",
      "✅ Best Parameters Found:\n",
      "{'subsample': 0.8, 'scale_pos_weight': 1, 'n_estimators': 100, 'max_depth': 5, 'learning_rate': 0.1, 'colsample_bytree': 1.0}\n",
      "\n",
      "📊 XGBClassifier (RandomSearch) — Performance Summary:\n",
      "- Accuracy  :  92.00% → Overall correctness.\n",
      "- Precision :  89.29% → Of predicted '1', how many were right.\n",
      "- Recall    :  83.33% → Of actual '1', how many we caught.\n",
      "- F1 Score  :  86.21% → Balance of precision & recall.\n",
      "\n",
      "📌 Interpretation:\n",
      "- Precision looks acceptable; false positives under control.\n",
      "- Recall is strong; model is catching true cases well.\n",
      "- F1 Score shows overall tradeoff quality: 0.86\n"
     ]
    },
    {
     "data": {
      "image/png": "[encoded data removed]",
      "text/plain": [
       "<Figure size 300x200 with 2 Axes>"
      ]
     },
     "metadata": {},
     "output_type": "display_data"
    },
    {
     "data": {
      "image/png": "[encoded data removed]",
      "text/plain": [
       "<Figure size 600x400 with 1 Axes>"
      ]
     },
     "metadata": {},
     "output_type": "display_data"
    },
    {
     "name": "stdout",
     "output_type": "stream",
     "text": [
      "🔹 ROC AUC Score for XGBClassifier (RandomSearch): 0.9594\n",
      "📌 Interpretation: Model is doing a good job distinguishing between classes.\n"
     ]
    }
   ],
   "source": [
    "from sklearn.model_selection import RandomizedSearchCV\n",
    "from scipy.stats import randint, uniform\n",
    "from sklearn.metrics import (\n",
    "    precision_score, recall_score, f1_score, accuracy_score,\n",
    "    roc_auc_score, confusion_matrix, log_loss\n",
    ")\n",
    "\n",
    "# 🔁 Use same param grid as defined earlier\n",
    "model_name = best_model_info[\"model\"].__class__.__name__\n",
    "param_dist = param_grids.get(model_name)\n",
    "\n",
    "if param_dist is None:\n",
    "    raise ValueError(f\"No param distribution defined for model: {model_name}\")\n",
    "\n",
    "print(f\"\\n🎲 Running Randomized Search for: {model_name}\")\n",
    "\n",
    "# Create a new instance of the model\n",
    "model_instance = best_model_info[\"model\"].__class__()\n",
    "\n",
    "# 🔍 Run randomized search\n",
    "random_search = RandomizedSearchCV(\n",
    "    estimator=model_instance,\n",
    "    param_distributions=param_dist,\n",
    "    n_iter=15,\n",
    "    scoring=\"f1\",\n",
    "    cv=5,\n",
    "    n_jobs=-1,\n",
    "    verbose=1,\n",
    "    random_state=42\n",
    ")\n",
    "\n",
    "random_search.fit(X_train, y_train)\n",
    "best_random_model = random_search.best_estimator_\n",
    "\n",
    "print(\"✅ Best Parameters Found:\")\n",
    "print(random_search.best_params_)\n",
    "\n",
    "# 🔎 Evaluate tuned model\n",
    "y_test_pred = best_random_model.predict(X_test)\n",
    "\n",
    "if hasattr(best_random_model, \"predict_proba\"):\n",
    "    y_scores = best_random_model.predict_proba(X_test)[:, 1]\n",
    "elif hasattr(best_random_model, \"decision_function\"):\n",
    "    y_scores = best_random_model.decision_function(X_test)\n",
    "else:\n",
    "    y_scores = y_test_pred\n",
    "\n",
    "cm = confusion_matrix(y_test, y_test_pred)\n",
    "tn, fp, fn, tp = cm.ravel()\n",
    "\n",
    "# Metrics\n",
    "precision = precision_score(y_test, y_test_pred, zero_division=0)\n",
    "recall = recall_score(y_test, y_test_pred, zero_division=0)\n",
    "f1 = f1_score(y_test, y_test_pred, zero_division=0)\n",
    "accuracy = accuracy_score(y_test, y_test_pred)\n",
    "auc = roc_auc_score(y_test, y_scores)\n",
    "specificity = tn / (tn + fp)\n",
    "logloss = log_loss(y_test, y_scores)\n",
    "\n",
    "# Store results\n",
    "model_results[f\"{model_name} (RandomSearch)\"] = {\n",
    "    \"model\": best_random_model,\n",
    "    \"accuracy\": accuracy,\n",
    "    \"precision\": precision,\n",
    "    \"recall\": recall,\n",
    "    \"f1\": f1,\n",
    "    \"auc\": auc,\n",
    "    \"specificity\": specificity,\n",
    "    \"log_loss\": logloss\n",
    "}\n",
    "\n",
    "# Visual eval\n",
    "evaluate_model(y_test, y_test_pred, label=f\"{model_name} (RandomSearch)\")\n",
    "plot_confusion(y_test, y_test_pred, model_name=f\"{model_name} (RandomSearch)\")\n",
    "plot_roc_auc(best_random_model, X_test, y_test, model_name=f\"{model_name} (RandomSearch)\")\n"
   ]
  },
  {
   "cell_type": "markdown",
   "id": "c8dba105",
   "metadata": {},
   "source": [
    "[Back to the top](#table-of-contents)\n",
    "___"
   ]
  },
  {
   "cell_type": "markdown",
   "id": "9874c422",
   "metadata": {},
   "source": [
    "<a id=\"ensemble\"></a>\n",
    "# 🔀 Ensemble Methods (Templates)"
   ]
  },
  {
   "cell_type": "markdown",
   "id": "25ed90e9",
   "metadata": {},
   "source": [
    "<details><summary><strong>📖 Click to Expand</strong></summary>\n",
    "\n",
    "<h5>🔀 When Should You Use Ensemble Methods?</h5>\n",
    "\n",
    "<p>Ensembles are useful when:</p>\n",
    "<ul>\n",
    "  <li><strong>Single models plateau</strong> and can’t capture all patterns</li>\n",
    "  <li>You want to <strong>boost performance</strong> by combining strengths of multiple models</li>\n",
    "  <li>You observe <strong>inconsistent results</strong> across base models (e.g., one is good at recall, another at precision)</li>\n",
    "  <li>You need more <strong>robust and stable</strong> predictions across different datasets</li>\n",
    "</ul>\n",
    "\n",
    "<p>Use ensembles <strong>after benchmarking individual models</strong> — they add complexity but often yield better generalization.</p>\n",
    "\n",
    "</details>\n"
   ]
  },
  {
   "cell_type": "markdown",
   "id": "baf2b878",
   "metadata": {},
   "source": [
    "<a id=\"voting-ensemble\"></a>\n",
    "#### 🗳️ Voting Classifier"
   ]
  },
  {
   "cell_type": "markdown",
   "id": "2ed2ed11",
   "metadata": {},
   "source": [
    "<details><summary><strong>📖 Click to Expand</strong></summary>\n",
    "\n",
    "<h5>🗳️ What is a Voting Classifier?</h5>\n",
    "\n",
    "<p>A Voting Classifier combines predictions from multiple different models and makes a final decision based on <strong>majority vote</strong> (for classification) or <strong>average prediction</strong> (for regression).</p>\n",
    "\n",
    "<p>There are two main types:</p>\n",
    "<ul>\n",
    "  <li><strong>Hard Voting</strong>: Chooses the class predicted by the most models.</li>\n",
    "  <li><strong>Soft Voting</strong>: Averages predicted probabilities and chooses the most likely class.</li>\n",
    "</ul>\n",
    "\n",
    "<p>It’s like consulting multiple doctors and going with the consensus.</p>\n",
    "\n",
    "</details>\n"
   ]
  },
  {
   "cell_type": "code",
   "execution_count": 36,
   "id": "58a6d42a",
   "metadata": {},
   "outputs": [
    {
     "name": "stdout",
     "output_type": "stream",
     "text": [
      "🔧 Training: Voting Classifier (hard)\n"
     ]
    },
    {
     "data": {
      "image/png": "[encoded data removed]",
      "text/plain": [
       "<Figure size 300x200 with 2 Axes>"
      ]
     },
     "metadata": {},
     "output_type": "display_data"
    },
    {
     "name": "stdout",
     "output_type": "stream",
     "text": [
      "\n",
      "📊 Voting Classifier (hard) — Performance Summary:\n",
      "- Accuracy  :  88.00% → Overall correctness.\n",
      "- Precision :  90.91% → Of predicted '1', how many were right.\n",
      "- Recall    :  66.67% → Of actual '1', how many we caught.\n",
      "- F1 Score  :  76.92% → Balance of precision & recall.\n",
      "\n",
      "📌 Interpretation:\n",
      "- Precision looks acceptable; false positives under control.\n",
      "- Recall is strong; model is catching true cases well.\n",
      "- F1 Score shows overall tradeoff quality: 0.77\n"
     ]
    }
   ],
   "source": [
    "from sklearn.ensemble import VotingClassifier\n",
    "from sklearn.linear_model import LogisticRegression\n",
    "from sklearn.tree import DecisionTreeClassifier\n",
    "from sklearn.naive_bayes import GaussianNB\n",
    "\n",
    "# Define voting type: 'hard' or 'soft'\n",
    "voting_type = 'hard'  # change to 'hard' if you want majority voting\n",
    "\n",
    "# Define the ensemble\n",
    "voting_clf = VotingClassifier(\n",
    "    estimators=[\n",
    "        ('lr', LogisticRegression(max_iter=1000)),\n",
    "        ('dt', DecisionTreeClassifier()),\n",
    "        ('nb', GaussianNB())\n",
    "    ],\n",
    "    voting=voting_type\n",
    ")\n",
    "\n",
    "# Train the ensemble\n",
    "print(f\"🔧 Training: Voting Classifier ({voting_type})\")\n",
    "voting_clf.fit(X_train, y_train)\n",
    "\n",
    "# Predict labels\n",
    "y_pred_voting = voting_clf.predict(X_test)\n",
    "\n",
    "# Evaluate\n",
    "plot_confusion(y_test, y_pred_voting, model_name=f\"Voting Classifier ({voting_type})\")\n",
    "\n",
    "# Only plot ROC if model supports probability estimates\n",
    "if voting_type == 'soft':\n",
    "    plot_roc_auc(voting_clf, X_test, y_test, model_name=f\"Voting Classifier ({voting_type})\")\n",
    "\n",
    "evaluate_model(y_test, y_pred_voting, label=f\"Voting Classifier ({voting_type})\")"
   ]
  },
  {
   "cell_type": "markdown",
   "id": "3fd1b7f7",
   "metadata": {},
   "source": [
    "<a id=\"stacking-ensemble\"></a>\n",
    "#### 🧬 Stacking Classifier\n"
   ]
  },
  {
   "cell_type": "markdown",
   "id": "99c54d41",
   "metadata": {},
   "source": [
    "<details><summary><strong>📖 Click to Expand</strong></summary>\n",
    "\n",
    "<h5>🧬 What is Stacking?</h5>\n",
    "\n",
    "<p>Stacking involves training multiple models (called base models), and then using a <strong>meta-model</strong> to learn how to best combine their outputs.</p>\n",
    "\n",
    "<p><strong>Example:</strong></p>\n",
    "<ul>\n",
    "  <li>Base models: logistic regression, decision tree, SVM</li>\n",
    "  <li>Meta-model: another model that learns which base model to trust more for each kind of input</li>\n",
    "</ul>\n",
    "\n",
    "<p>It’s like having specialists give their opinions, and then a generalist makes the final call based on their inputs.</p>\n",
    "\n",
    "</details>\n"
   ]
  },
  {
   "cell_type": "code",
   "execution_count": 37,
   "id": "b80f3324",
   "metadata": {},
   "outputs": [
    {
     "name": "stdout",
     "output_type": "stream",
     "text": [
      "🔧 Training: Stacking Classifier\n"
     ]
    },
    {
     "data": {
      "image/png": "[encoded data removed]",
      "text/plain": [
       "<Figure size 300x200 with 2 Axes>"
      ]
     },
     "metadata": {},
     "output_type": "display_data"
    },
    {
     "data": {
      "image/png": "[encoded data removed]",
      "text/plain": [
       "<Figure size 600x400 with 1 Axes>"
      ]
     },
     "metadata": {},
     "output_type": "display_data"
    },
    {
     "name": "stdout",
     "output_type": "stream",
     "text": [
      "🔹 ROC AUC Score for Stacking Classifier: 0.9404\n",
      "📌 Interpretation: Model is doing a good job distinguishing between classes.\n",
      "\n",
      "📊 Stacking Classifier — Performance Summary:\n",
      "- Accuracy  :  93.00% → Overall correctness.\n",
      "- Precision :  89.66% → Of predicted '1', how many were right.\n",
      "- Recall    :  86.67% → Of actual '1', how many we caught.\n",
      "- F1 Score  :  88.14% → Balance of precision & recall.\n",
      "\n",
      "📌 Interpretation:\n",
      "- Precision looks acceptable; false positives under control.\n",
      "- Recall is strong; model is catching true cases well.\n",
      "- F1 Score shows overall tradeoff quality: 0.88\n"
     ]
    }
   ],
   "source": [
    "from sklearn.ensemble import StackingClassifier\n",
    "from sklearn.linear_model import LogisticRegression\n",
    "from sklearn.tree import DecisionTreeClassifier\n",
    "from sklearn.naive_bayes import GaussianNB\n",
    "\n",
    "# Define base models\n",
    "base_estimators = [\n",
    "    ('lr', LogisticRegression(max_iter=1000)),\n",
    "    ('dt', DecisionTreeClassifier()),\n",
    "    ('nb', GaussianNB())\n",
    "]\n",
    "\n",
    "# Define meta-model (final estimator)\n",
    "meta_model = LogisticRegression()\n",
    "\n",
    "# Build stacking classifier\n",
    "stacking_clf = StackingClassifier(\n",
    "    estimators=base_estimators,\n",
    "    final_estimator=meta_model,\n",
    "    passthrough=False,  # set to True if you want raw features included in meta-model input\n",
    "    cv=5                # internal cross-validation\n",
    ")\n",
    "\n",
    "# Train the ensemble\n",
    "print(\"🔧 Training: Stacking Classifier\")\n",
    "stacking_clf.fit(X_train, y_train)\n",
    "\n",
    "# Predict labels\n",
    "y_pred_stack = stacking_clf.predict(X_test)\n",
    "\n",
    "# Evaluate\n",
    "plot_confusion(y_test, y_pred_stack, model_name=\"Stacking Classifier\")\n",
    "plot_roc_auc(stacking_clf, X_test, y_test, model_name=\"Stacking Classifier\")\n",
    "evaluate_model(y_test, y_pred_stack, label=\"Stacking Classifier\")\n"
   ]
  },
  {
   "cell_type": "markdown",
   "id": "a5430113",
   "metadata": {},
   "source": [
    "<a id=\"bagging\"></a>\n",
    "#### 🪵 Bagging\n"
   ]
  },
  {
   "cell_type": "markdown",
   "id": "b12dc29f",
   "metadata": {},
   "source": [
    "<details><summary><strong>📖 Click to Expand</strong></summary>\n",
    "\n",
    "<h5>🪵 What is Bagging?</h5>\n",
    "\n",
    "<p><strong>Bagging</strong> (Bootstrap Aggregating) builds multiple versions of the same model (e.g., decision trees), each trained on a different random sample of the data.</p>\n",
    "\n",
    "<p>Then it combines their outputs (usually by voting or averaging) to reduce overfitting and variance.</p>\n",
    "\n",
    "<p><strong>Random Forest</strong> is a popular example of bagging.</p>\n",
    "\n",
    "<p>It’s like asking the same expert multiple times under different conditions and averaging their answers.</p>\n",
    "\n",
    "</details>\n"
   ]
  },
  {
   "cell_type": "code",
   "execution_count": 38,
   "id": "7f616b4e",
   "metadata": {},
   "outputs": [
    {
     "name": "stdout",
     "output_type": "stream",
     "text": [
      "🔧 Training: Bagging Classifier\n"
     ]
    },
    {
     "name": "stderr",
     "output_type": "stream",
     "text": [
      "`base_estimator` was renamed to `estimator` in version 1.2 and will be removed in 1.4.\n"
     ]
    },
    {
     "data": {
      "image/png": "[encoded data removed]",
      "text/plain": [
       "<Figure size 300x200 with 2 Axes>"
      ]
     },
     "metadata": {},
     "output_type": "display_data"
    },
    {
     "data": {
      "image/png": "[encoded data removed]",
      "text/plain": [
       "<Figure size 600x400 with 1 Axes>"
      ]
     },
     "metadata": {},
     "output_type": "display_data"
    },
    {
     "name": "stdout",
     "output_type": "stream",
     "text": [
      "🔹 ROC AUC Score for Bagging Classifier: 0.9685\n",
      "📌 Interpretation: Model is doing a good job distinguishing between classes.\n",
      "\n",
      "📊 Bagging Classifier — Performance Summary:\n",
      "- Accuracy  :  92.00% → Overall correctness.\n",
      "- Precision :  87.93% → Of predicted '1', how many were right.\n",
      "- Recall    :  85.00% → Of actual '1', how many we caught.\n",
      "- F1 Score  :  86.44% → Balance of precision & recall.\n",
      "\n",
      "📌 Interpretation:\n",
      "- Precision looks acceptable; false positives under control.\n",
      "- Recall is strong; model is catching true cases well.\n",
      "- F1 Score shows overall tradeoff quality: 0.86\n"
     ]
    }
   ],
   "source": [
    "from sklearn.ensemble import BaggingClassifier\n",
    "from sklearn.tree import DecisionTreeClassifier            # fast, default\n",
    "from sklearn.linear_model import LogisticRegression        # works well with linear patterns\n",
    "from sklearn.neighbors import KNeighborsClassifier         # unstable, benefits a lot from bagging\n",
    "from sklearn.svm import SVC                                # slow with bagging, use carefully\n",
    "from sklearn.naive_bayes import GaussianNB                 # rare with bagging (already stable)\n",
    "from sklearn.ensemble import RandomForestClassifier        # not recommended — it's already bagged\n",
    "\n",
    "# Example usage:\n",
    "# base_estimator = LogisticRegression(max_iter=1000)\n",
    "# base_estimator = KNeighborsClassifier()\n",
    "# base_estimator = SVC(probability=True)\n",
    "# base_estimator = GaussianNB()\n",
    "\n",
    "# Define bagging classifier with decision trees\n",
    "bagging_clf = BaggingClassifier(\n",
    "    base_estimator=DecisionTreeClassifier(),\n",
    "    n_estimators=50,              # number of trees\n",
    "    max_samples=0.8,              # bootstrap sample size\n",
    "    max_features=1.0,             # use all features\n",
    "    random_state=42,\n",
    "    n_jobs=-1                     # parallel processing\n",
    ")\n",
    "\n",
    "# Train the ensemble\n",
    "print(\"🔧 Training: Bagging Classifier\")\n",
    "bagging_clf.fit(X_train, y_train)\n",
    "\n",
    "# Predict\n",
    "y_pred_bag = bagging_clf.predict(X_test)\n",
    "\n",
    "# Evaluate\n",
    "plot_confusion(y_test, y_pred_bag, model_name=\"Bagging Classifier\")\n",
    "plot_roc_auc(bagging_clf, X_test, y_test, model_name=\"Bagging Classifier\")\n",
    "evaluate_model(y_test, y_pred_bag, label=\"Bagging Classifier\")"
   ]
  },
  {
   "cell_type": "markdown",
   "id": "cbda65f4",
   "metadata": {},
   "source": [
    "<a id=\"boosting\"></a>\n",
    "#### 🚀 Boosting"
   ]
  },
  {
   "cell_type": "markdown",
   "id": "cfe09515",
   "metadata": {},
   "source": [
    "<details><summary><strong>📖 Click to Expand</strong></summary>\n",
    "\n",
    "<h5>🚀 What is Boosting?</h5>\n",
    "\n",
    "<p><strong>Boosting</strong> trains models <strong>sequentially</strong> — each new model focuses on correcting the mistakes of the previous one.</p>\n",
    "\n",
    "<p>It gives more weight to errors and slowly builds a strong overall model by combining many weak ones.</p>\n",
    "\n",
    "<p>Popular examples: <strong>XGBoost</strong>, <strong>AdaBoost</strong>, <strong>Gradient Boosting</strong></p>\n",
    "\n",
    "<p>Think of it as building knowledge step by step, learning from past failures to get better over time.</p>\n",
    "\n",
    "</details>\n"
   ]
  },
  {
   "cell_type": "code",
   "execution_count": 39,
   "id": "2de5cc2e",
   "metadata": {},
   "outputs": [
    {
     "name": "stdout",
     "output_type": "stream",
     "text": [
      "🔧 Training: Boosting Classifier\n"
     ]
    },
    {
     "data": {
      "image/png": "[encoded data removed]",
      "text/plain": [
       "<Figure size 300x200 with 2 Axes>"
      ]
     },
     "metadata": {},
     "output_type": "display_data"
    },
    {
     "data": {
      "image/png": "[encoded data removed]",
      "text/plain": [
       "<Figure size 600x400 with 1 Axes>"
      ]
     },
     "metadata": {},
     "output_type": "display_data"
    },
    {
     "name": "stdout",
     "output_type": "stream",
     "text": [
      "🔹 ROC AUC Score for Boosting Classifier: 0.9738\n",
      "📌 Interpretation: Model is doing a good job distinguishing between classes.\n",
      "\n",
      "📊 Boosting Classifier — Performance Summary:\n",
      "- Accuracy  :  95.00% → Overall correctness.\n",
      "- Precision :  93.10% → Of predicted '1', how many were right.\n",
      "- Recall    :  90.00% → Of actual '1', how many we caught.\n",
      "- F1 Score  :  91.53% → Balance of precision & recall.\n",
      "\n",
      "📌 Interpretation:\n",
      "- Precision looks acceptable; false positives under control.\n",
      "- Recall is strong; model is catching true cases well.\n",
      "- F1 Score shows overall tradeoff quality: 0.92\n"
     ]
    }
   ],
   "source": [
    "from sklearn.ensemble import GradientBoostingClassifier\n",
    "from xgboost import XGBClassifier\n",
    "from lightgbm import LGBMClassifier\n",
    "from catboost import CatBoostClassifier \n",
    "\n",
    "# Define the boosting classifier\n",
    "boosting_clf = GradientBoostingClassifier(\n",
    "    n_estimators=100,        # number of boosting rounds\n",
    "    learning_rate=0.1,       # step size shrinkage\n",
    "    max_depth=3,             # depth of each weak learner\n",
    "    subsample=1.0,           # can be <1.0 for stochastic gradient boosting\n",
    "    random_state=42\n",
    ")\n",
    "\n",
    "# Train the ensemble\n",
    "print(\"🔧 Training: Boosting Classifier\")\n",
    "boosting_clf.fit(X_train, y_train)\n",
    "\n",
    "# Predict\n",
    "y_pred_boost = boosting_clf.predict(X_test)\n",
    "\n",
    "# Evaluate\n",
    "plot_confusion(y_test, y_pred_boost, model_name=\"Boosting Classifier\")\n",
    "plot_roc_auc(boosting_clf, X_test, y_test, model_name=\"Boosting Classifier\")\n",
    "evaluate_model(y_test, y_pred_boost, label=\"Boosting Classifier\")"
   ]
  },
  {
   "cell_type": "markdown",
   "id": "a8f7ad90",
   "metadata": {},
   "source": [
    "[Back to the top](#table-of-contents)\n",
    "___"
   ]
  },
  {
   "cell_type": "markdown",
   "id": "d43ffe3f",
   "metadata": {},
   "source": [
    "<a id=\"export-deploy\"></a>\n",
    "# 📦 Export & Deployment (Optional)\n"
   ]
  },
  {
   "cell_type": "markdown",
   "id": "172574e5",
   "metadata": {},
   "source": [
    "<details><summary><strong>📖 Click to Expand</strong></summary>\n",
    "\n",
    "<ul>\n",
    "  <li>Save the final trained model to disk (e.g., <code>.pkl</code>, <code>.joblib</code>)</li>\n",
    "  <li>Export final evaluation metrics (e.g., to <code>.json</code> or <code>.csv</code>)</li>\n",
    "  <li>Package preprocessing steps if applicable (e.g., scalers, encoders)</li>\n",
    "  <li>Useful for handing off, sharing, or production integration</li>\n",
    "</ul>\n",
    "\n",
    "</details>"
   ]
  },
  {
   "cell_type": "markdown",
   "id": "06e98464",
   "metadata": {},
   "source": [
    "<a id=\"pickling\"></a>\n",
    "#### 🧊 Pickling (Model Export)\n"
   ]
  },
  {
   "cell_type": "code",
   "execution_count": 40,
   "id": "fed13494",
   "metadata": {},
   "outputs": [],
   "source": [
    "import joblib\n",
    "import json\n",
    "import os\n",
    "\n",
    "export=False\n",
    "if export:\n",
    "    # 📦 Create export folder if it doesn't exist\n",
    "    os.makedirs(\"export\", exist_ok=True)\n",
    "\n",
    "    # 💾 Save the best model\n",
    "    joblib.dump(best_model, \"export/best_model.joblib\")\n",
    "\n",
    "    # 🧮 Prepare and save the evaluation metrics (exclude the model object)\n",
    "    metrics_copy = {k: v for k, v in model_results[best_model_name].items() if k != \"model\"}\n",
    "    with open(\"export/metrics.json\", \"w\") as f:\n",
    "        json.dump(metrics_copy, f, indent=2)\n",
    "\n",
    "    print(\"✅ Model and metrics exported to /export/\")\n"
   ]
  },
  {
   "cell_type": "markdown",
   "id": "334bb067",
   "metadata": {},
   "source": [
    "<a id=\"monitoring-hooks\"></a>\n",
    "#### 📊 Monitoring Hooks (Production Logging)"
   ]
  },
  {
   "cell_type": "markdown",
   "id": "f8fc9178",
   "metadata": {},
   "source": [
    "<details><summary><strong>📖 Click to Expand</strong></summary>\n",
    "\n",
    "<p>In real-world deployments, it’s crucial to track how your model behaves once it’s live.</p>\n",
    "\n",
    "<p><strong>What to log in production:</strong></p>\n",
    "<ul>\n",
    "  <li>✅ Number of predictions served</li>\n",
    "  <li>✅ Confidence scores / prediction probabilities</li>\n",
    "  <li>✅ Class distribution over time</li>\n",
    "  <li>✅ Drift in input features</li>\n",
    "  <li>✅ Model response latency</li>\n",
    "  <li>❌ Ground truth (usually delayed or unavailable)</li>\n",
    "</ul>\n",
    "\n",
    "<p>You can integrate this with tools like:</p>\n",
    "<ul>\n",
    "  <li>Prometheus + Grafana</li>\n",
    "  <li>AWS CloudWatch</li>\n",
    "  <li>Datadog</li>\n",
    "  <li>MLflow, EvidentlyAI, or WhyLabs</li>\n",
    "</ul>\n",
    "\n",
    "</details>\n"
   ]
  },
  {
   "cell_type": "markdown",
   "id": "b5296004",
   "metadata": {},
   "source": [
    "[Back to the top](#table-of-contents)\n",
    "___"
   ]
  }
 ],
 "metadata": {
  "kernelspec": {
   "display_name": "base",
   "language": "python",
   "name": "python3"
  },
  "language_info": {
   "codemirror_mode": {
    "name": "ipython",
    "version": 3
   },
   "file_extension": ".py",
   "mimetype": "text/x-python",
   "name": "python",
   "nbconvert_exporter": "python",
   "pygments_lexer": "ipython3",
   "version": "3.11.3"
  }
 },
 "nbformat": 4,
 "nbformat_minor": 5
}
