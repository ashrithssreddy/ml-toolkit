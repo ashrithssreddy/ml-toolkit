{
 "cells": [
  {
   "cell_type": "markdown",
   "metadata": {},
   "source": [
    "<a id=\"table-of-contents\"></a>\n",
    "# 📖 Table of Contents\n",
    "\n",
    "[📉 Dimensionality Reduction Overview](#dimensionality-reduction)  \n",
    "- [🚧 Key Challenges in High Dimensions](#key-challenges)\n",
    "\n",
    "[🗂️ Data Setup](#data-setup)  \n",
    "- [🧾 Sample Data](#sample-data)\n",
    "\n",
    "[📊 Principal Component Analysis (PCA)](#pca)  \n",
    "- [⚙️ How PCA Works](#how-pca-works)  \n",
    "- [📈 Scree Plot / Explained Variance](#explained-variance)  \n",
    "- [🧭 Business Use Cases](#pca-business-use)\n",
    "\n",
    "[🌌 t-SNE (t-Distributed Stochastic Neighbor Embedding)](#tsne)  \n",
    "- [🔍 Intuition](#tsne-intuition)  \n",
    "- [⚙️ How It Works](#how-tsne-works)  \n",
    "- [🚫 Limitations](#tsne-limitations)  \n",
    "- [🎯 When to Use](#when-to-use-tsne)  \n",
    "- [📊 Visualizations](#tsne-visuals)\n",
    "\n",
    "[🌐 UMAP (Uniform Manifold Approximation & Projection)](#umap)  \n",
    "- [🔬 Intuition vs t-SNE](#umap-intuition)  \n",
    "- [📈 Plot Interpretation](#umap-visuals)\n",
    "\n",
    "[📐 Linear Discriminant Analysis (LDA)](#lda)  \n",
    "- [🔢 How LDA Works](#how-lda-works)  \n",
    "- [🧮 Step-by-Step Breakdown](#lda-steps)  \n",
    "- [📉 Dimensionality Constraint](#lda-constraint)\n",
    "\n",
    "<!-- [📌 Final Summary](#final-summary) -->\n",
    "\n",
    "<!-- [❓ FAQ / Notes](#faq)  \n",
    "- [🧠 When to Use What](#when-to-use-what)  \n",
    "- [📏 Unsupervised vs Supervised Methods](#unsup-vs-sup)\n",
    " -->\n",
    "<!-- <hr style=\"border: none; height: 1px; background-color: #ddd;\" /> -->\n",
    "[Back to the top](#table-of-contents)\n",
    "___\n",
    "\n"
   ]
  },
  {
   "cell_type": "markdown",
   "metadata": {},
   "source": [
    "<a id=\"dimensionality-reduction\"></a>\n",
    "# 📉 Dimensionality Reduction Overview"
   ]
  },
  {
   "cell_type": "markdown",
   "metadata": {},
   "source": [
    "<details><summary><strong>📖 Explanation (Click to Expand) </strong></summary>\n",
    "Dimensionality reduction refers to techniques that transform high-dimensional data into a lower-dimensional space — while preserving as much **useful structure or signal** as possible.\n",
    "\n",
    "These methods are valuable across both modeling and business contexts:\n",
    "\n",
    "- 🔄 **Simplifying data** for faster computation and easier storage  \n",
    "- 📉 **Reducing overfitting** by eliminating noise or redundant features  \n",
    "- 👀 **Visualizing hidden structure** in 2D or 3D  \n",
    "- 📊 **Improving model interpretability** by focusing on key components\n",
    "\n",
    "This notebook covers several popular approaches — PCA, t-SNE, UMAP, and LDA — each with distinct goals, assumptions, and business use cases.\n",
    "</details>"
   ]
  },
  {
   "cell_type": "markdown",
   "metadata": {},
   "source": [
    "<a id=\"key-challenges\"></a>\n",
    "#### 🚧 Key Challenges in High Dimensions\n",
    "\n",
    "<details><summary><strong>📖 Explanation (Click to Expand) </strong></summary>\n",
    "High-dimensional datasets (e.g., 100+ features) often seem rich, but pose several practical issues:\n",
    "\n",
    "##### ❌ Curse of Dimensionality\n",
    "- Distance metrics (like Euclidean) lose meaning\n",
    "- Feature space becomes sparse — hard to model effectively\n",
    "- Models require exponentially more data to generalize\n",
    "\n",
    "##### 💻 Computational Overhead\n",
    "- More dimensions = higher training time\n",
    "- Resource-intensive for models like clustering or k-NN\n",
    "\n",
    "##### 👁️ Visualization Limitations\n",
    "- Human intuition maxes out at 3D — we need projection techniques to reveal structure\n",
    "\n",
    "Dimensionality reduction helps address these problems by transforming the data to **lower, information-rich representations** — enabling both insight and performance.\n",
    "</details>\n"
   ]
  },
  {
   "cell_type": "code",
   "execution_count": null,
   "metadata": {},
   "outputs": [],
   "source": []
  },
  {
   "cell_type": "markdown",
   "metadata": {},
   "source": [
    "[Back to the top](#table-of-contents)\n",
    "___\n",
    "\n"
   ]
  },
  {
   "cell_type": "markdown",
   "metadata": {},
   "source": [
    "<a id=\"data-setup\"></a>\n",
    "# 🗂️ Data Setup"
   ]
  },
  {
   "cell_type": "markdown",
   "metadata": {},
   "source": [
    "<a id=\"sample-data\"></a>\n",
    "#### 🧾 Sample data\n",
    "<details><summary><strong>📖 Explanation (Click to Expand) </strong></summary>\n",
    "\n",
    "We'll simulate a retail scenario where each row represents a customer, and each column captures a behavioral signal — such as purchase frequency, monetary value, or product interaction features.\n",
    "\n",
    "The goal is to apply dimensionality reduction techniques to:\n",
    "- Identify underlying **customer personas**\n",
    "- Compress features for **modeling efficiency**\n",
    "- Enable **2D/3D visualization** of customer segments or churn patterns\n",
    "</details>\n"
   ]
  },
  {
   "cell_type": "code",
   "execution_count": 42,
   "metadata": {},
   "outputs": [],
   "source": [
    "from sklearn.datasets import load_digits\n",
    "import pandas as pd\n",
    "import numpy as np\n",
    "import matplotlib.pyplot as plt\n",
    "import seaborn as sns\n"
   ]
  },
  {
   "cell_type": "code",
   "execution_count": 53,
   "metadata": {},
   "outputs": [
    {
     "name": "stdout",
     "output_type": "stream",
     "text": [
      "Shape of dataset: (3000, 11)\n"
     ]
    },
    {
     "data": {
      "text/html": [
       "<div>\n",
       "<style scoped>\n",
       "    .dataframe tbody tr th:only-of-type {\n",
       "        vertical-align: middle;\n",
       "    }\n",
       "\n",
       "    .dataframe tbody tr th {\n",
       "        vertical-align: top;\n",
       "    }\n",
       "\n",
       "    .dataframe thead th {\n",
       "        text-align: right;\n",
       "    }\n",
       "</style>\n",
       "<table border=\"1\" class=\"dataframe\">\n",
       "  <thead>\n",
       "    <tr style=\"text-align: right;\">\n",
       "      <th></th>\n",
       "      <th>recency</th>\n",
       "      <th>frequency</th>\n",
       "      <th>monetary</th>\n",
       "      <th>cart_additions</th>\n",
       "      <th>wishlist_items</th>\n",
       "      <th>page_views</th>\n",
       "      <th>returns</th>\n",
       "      <th>promo_clicks</th>\n",
       "      <th>avg_discount</th>\n",
       "      <th>days_since_last_visit</th>\n",
       "      <th>segment</th>\n",
       "    </tr>\n",
       "  </thead>\n",
       "  <tbody>\n",
       "    <tr>\n",
       "      <th>0</th>\n",
       "      <td>4.692681</td>\n",
       "      <td>4</td>\n",
       "      <td>79.537238</td>\n",
       "      <td>8</td>\n",
       "      <td>1</td>\n",
       "      <td>4.777712</td>\n",
       "      <td>0</td>\n",
       "      <td>2</td>\n",
       "      <td>0.318244</td>\n",
       "      <td>1.624589</td>\n",
       "      <td>Mid-Tier</td>\n",
       "    </tr>\n",
       "    <tr>\n",
       "      <th>1</th>\n",
       "      <td>30.101214</td>\n",
       "      <td>2</td>\n",
       "      <td>508.446431</td>\n",
       "      <td>7</td>\n",
       "      <td>1</td>\n",
       "      <td>14.631486</td>\n",
       "      <td>0</td>\n",
       "      <td>3</td>\n",
       "      <td>0.479756</td>\n",
       "      <td>38.088446</td>\n",
       "      <td>Mid-Tier</td>\n",
       "    </tr>\n",
       "    <tr>\n",
       "      <th>2</th>\n",
       "      <td>13.167457</td>\n",
       "      <td>1</td>\n",
       "      <td>124.469273</td>\n",
       "      <td>3</td>\n",
       "      <td>1</td>\n",
       "      <td>13.715482</td>\n",
       "      <td>0</td>\n",
       "      <td>4</td>\n",
       "      <td>0.324193</td>\n",
       "      <td>0.520162</td>\n",
       "      <td>Mid-Tier</td>\n",
       "    </tr>\n",
       "    <tr>\n",
       "      <th>3</th>\n",
       "      <td>9.129426</td>\n",
       "      <td>2</td>\n",
       "      <td>48.842151</td>\n",
       "      <td>2</td>\n",
       "      <td>3</td>\n",
       "      <td>7.340231</td>\n",
       "      <td>1</td>\n",
       "      <td>2</td>\n",
       "      <td>0.478197</td>\n",
       "      <td>54.146812</td>\n",
       "      <td>Mid-Tier</td>\n",
       "    </tr>\n",
       "    <tr>\n",
       "      <th>4</th>\n",
       "      <td>1.696249</td>\n",
       "      <td>4</td>\n",
       "      <td>244.763028</td>\n",
       "      <td>5</td>\n",
       "      <td>1</td>\n",
       "      <td>7.365324</td>\n",
       "      <td>0</td>\n",
       "      <td>3</td>\n",
       "      <td>0.152290</td>\n",
       "      <td>5.704107</td>\n",
       "      <td>Mid-Tier</td>\n",
       "    </tr>\n",
       "  </tbody>\n",
       "</table>\n",
       "</div>"
      ],
      "text/plain": [
       "     recency  frequency    monetary  cart_additions  wishlist_items  \\\n",
       "0   4.692681          4   79.537238               8               1   \n",
       "1  30.101214          2  508.446431               7               1   \n",
       "2  13.167457          1  124.469273               3               1   \n",
       "3   9.129426          2   48.842151               2               3   \n",
       "4   1.696249          4  244.763028               5               1   \n",
       "\n",
       "   page_views  returns  promo_clicks  avg_discount  days_since_last_visit  \\\n",
       "0    4.777712        0             2      0.318244               1.624589   \n",
       "1   14.631486        0             3      0.479756              38.088446   \n",
       "2   13.715482        0             4      0.324193               0.520162   \n",
       "3    7.340231        1             2      0.478197              54.146812   \n",
       "4    7.365324        0             3      0.152290               5.704107   \n",
       "\n",
       "    segment  \n",
       "0  Mid-Tier  \n",
       "1  Mid-Tier  \n",
       "2  Mid-Tier  \n",
       "3  Mid-Tier  \n",
       "4  Mid-Tier  "
      ]
     },
     "execution_count": 53,
     "metadata": {},
     "output_type": "execute_result"
    }
   ],
   "source": [
    "import numpy as np\n",
    "import pandas as pd\n",
    "\n",
    "np.random.seed(42)\n",
    "\n",
    "# Number of synthetic customers\n",
    "n_customers = 3000\n",
    "\n",
    "# Base RFM-like features\n",
    "recency = np.random.exponential(scale=10, size=n_customers)\n",
    "frequency = np.random.poisson(lam=3, size=n_customers)\n",
    "monetary = np.random.gamma(shape=2, scale=100, size=n_customers)\n",
    "\n",
    "# Additional customer behavior features\n",
    "cart_additions = np.random.poisson(5, n_customers)\n",
    "wishlist_items = np.random.poisson(2, n_customers)\n",
    "page_views = np.random.normal(loc=10, scale=3, size=n_customers).clip(min=1)\n",
    "returns = np.random.binomial(n=1, p=0.2, size=n_customers)\n",
    "promo_clicks = np.random.poisson(2, n_customers)\n",
    "avg_discount = np.random.uniform(0, 0.5, n_customers)\n",
    "days_since_last_visit = np.random.exponential(scale=15, size=n_customers)\n",
    "\n",
    "# Create DataFrame\n",
    "df = pd.DataFrame({\n",
    "    'recency': recency,\n",
    "    'frequency': frequency,\n",
    "    'monetary': monetary,\n",
    "    'cart_additions': cart_additions,\n",
    "    'wishlist_items': wishlist_items,\n",
    "    'page_views': page_views,\n",
    "    'returns': returns,\n",
    "    'promo_clicks': promo_clicks,\n",
    "    'avg_discount': avg_discount,\n",
    "    'days_since_last_visit': days_since_last_visit\n",
    "})\n",
    "\n",
    "# Optional: simulate segment labels (for LDA later)\n",
    "df['segment'] = np.select(\n",
    "    [\n",
    "        (df['monetary'] > 200) & (df['frequency'] > 4),\n",
    "        (df['monetary'] < 80) & (df['recency'] > 15),\n",
    "    ],\n",
    "    ['High-Value', 'Churn-Risk'],\n",
    "    default='Mid-Tier'\n",
    ")\n",
    "\n",
    "# Summary\n",
    "print(f\"Shape of dataset: {df.shape}\")\n",
    "df.head()\n"
   ]
  },
  {
   "cell_type": "markdown",
   "metadata": {},
   "source": [
    "[Back to the top](#table-of-contents)\n",
    "___\n"
   ]
  },
  {
   "cell_type": "markdown",
   "metadata": {},
   "source": [
    "<a id=\"pca\"></a>\n",
    "# 📊 Principal Component Analysis (PCA)\n",
    "<details><summary><strong>📖 Explanation (Click to Expand) </strong></summary>\n",
    "Principal Component Analysis (PCA) is a linear dimensionality reduction technique that transforms high-dimensional data into a smaller set of uncorrelated variables called **principal components** — while retaining as much variability (information) as possible.\n",
    "\n",
    "It is widely used for:\n",
    "- 📉 **Feature compression** without losing signal\n",
    "- 📊 **Data visualization** in 2D/3D\n",
    "- 🧹 **Noise reduction** and decorrelation\n",
    "- 📦 **Preprocessing step** for clustering or modeling\n",
    "\n",
    "</details>\n"
   ]
  },
  {
   "cell_type": "markdown",
   "metadata": {},
   "source": [
    "<a id=\"how-pca-works\"></a>\n",
    "#### ⚙️ How PCA Works\n",
    "\n",
    "<details><summary><strong>📖 Explanation (Click to Expand) </strong></summary>\n",
    "##### Step-by-step breakdown:\n",
    "1. **Standardize the data**  \n",
    "   Features are scaled to ensure no variable dominates due to its unit or magnitude.\n",
    "\n",
    "2. **Compute the covariance matrix**  \n",
    "   This captures how features vary together.\n",
    "\n",
    "3. **Extract eigenvectors and eigenvalues**  \n",
    "   Eigenvectors define new axes (principal components).  \n",
    "   Eigenvalues tell how much variance each axis explains.\n",
    "\n",
    "4. **Rank and select top components**  \n",
    "   Keep components that explain the most variance — e.g., 95%.\n",
    "\n",
    "5. **Project data**  \n",
    "   The original data is rotated and projected onto this new set of axes.\n",
    "\n",
    "PCA finds **directions of maximum variance**, not necessarily the most “important” features. It’s unsupervised and doesn’t consider class labels or outcomes.\n",
    "</details>\n",
    "\n"
   ]
  },
  {
   "cell_type": "code",
   "execution_count": null,
   "metadata": {},
   "outputs": [],
   "source": []
  },
  {
   "cell_type": "code",
   "execution_count": null,
   "metadata": {},
   "outputs": [],
   "source": []
  },
  {
   "cell_type": "markdown",
   "metadata": {},
   "source": [
    "<a id=\"explained-variance\"></a>\n",
    "#### 📈 Scree Plot / Explained Variance\n",
    "\n",
    "<details><summary><strong>📖 Explanation (Click to Expand) </strong></summary>\n",
    "\n",
    "A key part of PCA interpretation is deciding **how many components to keep**. This is usually done using the **explained variance ratio**:\n",
    "\n",
    "- The **first few components** typically explain most of the variability.\n",
    "- A **scree plot** shows the contribution of each component.\n",
    "- A **cumulative plot** helps identify the point of diminishing returns.\n",
    "\n",
    "Business intuition:\n",
    "> “How many latent customer behaviors do we need to explain 90–95% of everything we see?”\n",
    "\n",
    "We’ll visualize this using the scree and cumulative variance plots.\n",
    "\n",
    "</details>\n"
   ]
  },
  {
   "cell_type": "code",
   "execution_count": null,
   "metadata": {},
   "outputs": [],
   "source": []
  },
  {
   "cell_type": "markdown",
   "metadata": {},
   "source": [
    "<a id=\"pca-business-use\"></a>\n",
    "#### 🧭 Business Use Cases\n"
   ]
  },
  {
   "cell_type": "markdown",
   "metadata": {},
   "source": [
    "[Back to the top](#table-of-contents)\n",
    "___\n",
    "\n"
   ]
  },
  {
   "cell_type": "markdown",
   "metadata": {},
   "source": [
    "<a id=\"tsne\"></a>\n",
    "# 🌌 t-SNE (t-Distributed Stochastic Neighbor Embedding)\n",
    "\n"
   ]
  },
  {
   "cell_type": "markdown",
   "metadata": {},
   "source": [
    "<a id=\"tsne-intuition\"></a>\n",
    "#### 🔍 Intuition\n",
    "\n"
   ]
  },
  {
   "cell_type": "markdown",
   "metadata": {},
   "source": [
    "<a id=\"how-tsne-works\"></a>\n",
    "#### ⚙️ How It Works\n",
    "\n"
   ]
  },
  {
   "cell_type": "markdown",
   "metadata": {},
   "source": [
    "<a id=\"tsne-limitations\"></a>\n",
    "#### 🚫 Limitations\n",
    "\n"
   ]
  },
  {
   "cell_type": "markdown",
   "metadata": {},
   "source": [
    "<a id=\"when-to-use-tsne\"></a>\n",
    "#### 🎯 When to Use\n",
    "\n"
   ]
  },
  {
   "cell_type": "markdown",
   "metadata": {},
   "source": [
    "<a id=\"tsne-visuals\"></a>\n",
    "#### 📊 Visualizations\n",
    "\n"
   ]
  },
  {
   "cell_type": "markdown",
   "metadata": {},
   "source": [
    "[Back to the top](#table-of-contents)\n",
    "___\n",
    "\n"
   ]
  },
  {
   "cell_type": "markdown",
   "metadata": {},
   "source": [
    "<a id=\"umap\"></a>\n",
    "# 🌐 UMAP (Uniform Manifold Approximation & Projection)\n",
    "\n"
   ]
  },
  {
   "cell_type": "markdown",
   "metadata": {},
   "source": [
    "<a id=\"umap-intuition\"></a>\n",
    "#### 🔬 Intuition vs t-SNE\n",
    "\n"
   ]
  },
  {
   "cell_type": "markdown",
   "metadata": {},
   "source": [
    "<a id=\"umap-visuals\"></a>\n",
    "#### 📈 Plot Interpretation\n",
    "\n"
   ]
  },
  {
   "cell_type": "markdown",
   "metadata": {},
   "source": [
    "[Back to the top](#table-of-contents)\n",
    "___\n",
    "\n"
   ]
  },
  {
   "cell_type": "markdown",
   "metadata": {},
   "source": [
    "<a id=\"lda\"></a>\n",
    "# 📐 Linear Discriminant Analysis (LDA)\n",
    "\n"
   ]
  },
  {
   "cell_type": "markdown",
   "metadata": {},
   "source": [
    "<a id=\"how-lda-works\"></a>\n",
    "#### 🔢 How LDA Works\n",
    "\n"
   ]
  },
  {
   "cell_type": "markdown",
   "metadata": {},
   "source": [
    "<a id=\"lda-steps\"></a>\n",
    "#### 🧮 Step-by-Step Breakdown\n",
    "\n"
   ]
  },
  {
   "cell_type": "markdown",
   "metadata": {},
   "source": [
    "<a id=\"lda-constraint\"></a>\n",
    "#### 📉 Dimensionality Constraint\n",
    "\n"
   ]
  },
  {
   "cell_type": "markdown",
   "metadata": {},
   "source": [
    "[Back to the top](#table-of-contents)\n",
    "___\n",
    "\n"
   ]
  },
  {
   "cell_type": "markdown",
   "metadata": {},
   "source": [
    "<!-- <a id=\"final-summary\"></a>\n",
    "# 📌 Final Summary\n",
    "\n",
    " -->"
   ]
  },
  {
   "cell_type": "markdown",
   "metadata": {},
   "source": [
    "<!-- [Back to the top](#table-of-contents)\n",
    "___\n",
    "\n",
    " -->"
   ]
  },
  {
   "cell_type": "markdown",
   "metadata": {},
   "source": [
    "[🔗 Canonical Correlation Analysis (CCA)](#cca)  \n",
    "- [🧬 When It’s Useful](#when-to-use-cca)  \n",
    "- [🔄 Intuition: PCA for Two Views](#cca-intuition)  \n",
    "- [📉 Dimensionality Reduction via Correlation](#cca-dim-reduction)\n"
   ]
  },
  {
   "cell_type": "markdown",
   "metadata": {},
   "source": [
    "<!-- <a id=\"faq\"></a>\n",
    "# ❓ FAQ / Notes\n",
    "\n",
    " -->"
   ]
  },
  {
   "cell_type": "markdown",
   "metadata": {},
   "source": [
    "<!-- <a id=\"when-to-use-what\"></a>\n",
    "#### 🧠 When to Use What\n",
    "\n",
    " -->"
   ]
  },
  {
   "cell_type": "markdown",
   "metadata": {},
   "source": [
    "<!-- <a id=\"unsup-vs-sup\"></a>\n",
    "#### 📏 Unsupervised vs Supervised Methods\n",
    " -->"
   ]
  },
  {
   "cell_type": "markdown",
   "metadata": {},
   "source": [
    "<!-- [Back to the top](#table-of-contents)\n",
    "___\n",
    "\n",
    " -->"
   ]
  },
  {
   "cell_type": "code",
   "execution_count": null,
   "metadata": {},
   "outputs": [],
   "source": []
  }
 ],
 "metadata": {
  "kernelspec": {
   "display_name": "Python 3 (ipykernel)",
   "language": "python",
   "name": "python3"
  },
  "language_info": {
   "codemirror_mode": {
    "name": "ipython",
    "version": 3
   },
   "file_extension": ".py",
   "mimetype": "text/x-python",
   "name": "python",
   "nbconvert_exporter": "python",
   "pygments_lexer": "ipython3",
   "version": "3.12.7"
  }
 },
 "nbformat": 4,
 "nbformat_minor": 4
}
