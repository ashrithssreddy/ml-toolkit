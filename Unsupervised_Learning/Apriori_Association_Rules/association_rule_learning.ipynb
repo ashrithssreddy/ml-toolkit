{
 "cells": [
  {
   "cell_type": "markdown",
   "metadata": {},
   "source": [
    "<a id=\"table-of-contents\"></a>\n",
    "# 📖 Table of Contents\n",
    "\n",
    "[🧭 Objective](#objective)  \n",
    "- [🛒 What is Association Rule Mining?](#what-is-arm)  \n",
    "- [📌 Use Cases](#use-cases)\n",
    "\n",
    "[📦 Data Setup](#data-setup)  \n",
    "- [🧾 Load Dataset](#load-dataset)  \n",
    "- [🧹 Preprocessing / Transaction Formatting](#preprocessing)  \n",
    "- [🧮 Frequency Encoding (Optional)](#frequency-encoding)\n",
    "\n",
    "[📊 Exploratory Data Analysis](#eda)  \n",
    "- [📈 Item Frequency Plot](#item-frequency-plot)  \n",
    "- [📉 Itemset Statistics](#itemset-stats)\n",
    "\n",
    "[🧰 Apriori Algorithm](#apriori)  \n",
    "- [⚙️ Setup Parameters](#apriori-params)  \n",
    "- [📜 Generate Frequent Itemsets](#frequent-itemsets)  \n",
    "- [🔗 Build Association Rules](#build-rules)\n",
    "\n",
    "[🧪 Rule Evaluation](#rule-eval)  \n",
    "- [📏 Support, Confidence, Lift](#basic-metrics)  \n",
    "- [📐 Conviction, Leverage (Bonus)](#bonus-metrics)  \n",
    "- [📋 Top Rules by Metric](#top-rules)\n",
    "\n",
    "[🧠 Interpretation](#interpretation)  \n",
    "- [🧭 Business Context for Rules](#business-context)  \n",
    "- [📉 Redundant Rules / Filtering](#rule-filtering)\n",
    "\n",
    "[📊 Visualizations](#visualizations)  \n",
    "- [🧱 Heatmaps, Matrix](#heatmap)  \n",
    "- [🕸 Network Graphs](#network-graph)  \n",
    "- [📊 Bar Chart of Top Rules](#rule-barplot)\n",
    "\n",
    "[📌 Final Summary](#final-summary)  \n",
    "- [✅ Key Learnings](#key-learnings)  \n",
    "- [💼 Implications for Stakeholders](#stakeholder-insights)\n",
    "\n",
    "[❓ FAQ / Notes](#faq)  \n",
    "- [🧯 Pitfalls in Rule Mining](#pitfalls)  \n",
    "- [🧬 When to use Apriori vs ECLAT / FP-Growth](#algo-choice)\n",
    "\n",
    "___"
   ]
  },
  {
   "cell_type": "markdown",
   "metadata": {},
   "source": [
    "<a id=\"objective\"></a>\n",
    "# 🧭 Objective"
   ]
  },
  {
   "cell_type": "markdown",
   "metadata": {},
   "source": [
    "<a id=\"what-is-arm\"></a>\n",
    "#### 🛒 What is Association Rule Mining?"
   ]
  },
  {
   "cell_type": "markdown",
   "metadata": {},
   "source": [
    "<a id=\"use-cases\"></a>\n",
    "#### 📌 Use Cases"
   ]
  },
  {
   "cell_type": "markdown",
   "metadata": {},
   "source": [
    "[Back to the top](#Contents)\n",
    "___"
   ]
  },
  {
   "cell_type": "markdown",
   "metadata": {},
   "source": [
    "<a id=\"data-setup\"></a>\n",
    "# 📦 Data Setup"
   ]
  },
  {
   "cell_type": "markdown",
   "metadata": {},
   "source": [
    "<a id=\"load-dataset\"></a>\n",
    "#### 🧾 Load Dataset"
   ]
  },
  {
   "cell_type": "markdown",
   "metadata": {},
   "source": [
    "<a id=\"preprocessing\"></a>\n",
    "#### 🧹 Preprocessing / Transaction Formatting"
   ]
  },
  {
   "cell_type": "markdown",
   "metadata": {},
   "source": [
    "<a id=\"frequency-encoding\"></a>\n",
    "#### 🧮 Frequency Encoding (Optional)"
   ]
  },
  {
   "cell_type": "markdown",
   "metadata": {},
   "source": [
    "[Back to the top](#Contents)\n",
    "___"
   ]
  },
  {
   "cell_type": "markdown",
   "metadata": {},
   "source": [
    "<a id=\"eda\"></a>\n",
    "# 📊 Exploratory Data Analysis"
   ]
  },
  {
   "cell_type": "markdown",
   "metadata": {},
   "source": [
    "<a id=\"item-frequency-plot\"></a>\n",
    "#### 📈 Item Frequency Plot"
   ]
  },
  {
   "cell_type": "markdown",
   "metadata": {},
   "source": [
    "<a id=\"itemset-stats\"></a>\n",
    "#### 📉 Itemset Statistics"
   ]
  },
  {
   "cell_type": "markdown",
   "metadata": {},
   "source": [
    "[Back to the top](#Contents)\n",
    "___"
   ]
  },
  {
   "cell_type": "markdown",
   "metadata": {},
   "source": [
    "<a id=\"apriori\"></a>\n",
    "# 🧰 Apriori Algorithm\n",
    "\n"
   ]
  },
  {
   "cell_type": "markdown",
   "metadata": {},
   "source": [
    "<a id=\"apriori-params\"></a>\n",
    "#### ⚙️ Setup Parameters\n",
    "\n"
   ]
  },
  {
   "cell_type": "markdown",
   "metadata": {},
   "source": [
    "<a id=\"frequent-itemsets\"></a>\n",
    "#### 📜 Generate Frequent Itemsets\n",
    "\n"
   ]
  },
  {
   "cell_type": "markdown",
   "metadata": {},
   "source": [
    "<a id=\"build-rules\"></a>\n",
    "#### 🔗 Build Association Rules\n",
    "\n"
   ]
  },
  {
   "cell_type": "markdown",
   "metadata": {},
   "source": [
    "[Back to the top](#Contents)\n",
    "___"
   ]
  },
  {
   "cell_type": "markdown",
   "metadata": {},
   "source": [
    "<a id=\"rule-eval\"></a>\n",
    "# 🧪 Rule Evaluation\n",
    "\n"
   ]
  },
  {
   "cell_type": "markdown",
   "metadata": {},
   "source": [
    "<a id=\"basic-metrics\"></a>\n",
    "#### 📏 Support, Confidence, Lift\n",
    "\n"
   ]
  },
  {
   "cell_type": "markdown",
   "metadata": {},
   "source": [
    "<a id=\"bonus-metrics\"></a>\n",
    "#### 📐 Conviction, Leverage (Bonus)\n",
    "\n"
   ]
  },
  {
   "cell_type": "markdown",
   "metadata": {},
   "source": [
    "<a id=\"top-rules\"></a>\n",
    "#### 📋 Top Rules by Metric\n",
    "\n"
   ]
  },
  {
   "cell_type": "markdown",
   "metadata": {},
   "source": [
    "[Back to the top](#Contents)\n",
    "___"
   ]
  },
  {
   "cell_type": "markdown",
   "metadata": {},
   "source": [
    "<a id=\"interpretation\"></a>\n",
    "# 🧠 Interpretation\n",
    "\n"
   ]
  },
  {
   "cell_type": "markdown",
   "metadata": {},
   "source": [
    "<a id=\"business-context\"></a>\n",
    "#### 🧭 Business Context for Rules\n",
    "\n"
   ]
  },
  {
   "cell_type": "markdown",
   "metadata": {},
   "source": [
    "<a id=\"rule-filtering\"></a>\n",
    "#### 📉 Redundant Rules / Filtering\n",
    "\n"
   ]
  },
  {
   "cell_type": "markdown",
   "metadata": {},
   "source": [
    "[Back to the top](#Contents)\n",
    "___"
   ]
  },
  {
   "cell_type": "markdown",
   "metadata": {},
   "source": [
    "<a id=\"visualizations\"></a>\n",
    "# 📊 Visualizations\n",
    "\n"
   ]
  },
  {
   "cell_type": "markdown",
   "metadata": {},
   "source": [
    "<a id=\"heatmap\"></a>\n",
    "#### 🧱 Heatmaps, Matrix\n",
    "\n"
   ]
  },
  {
   "cell_type": "markdown",
   "metadata": {},
   "source": [
    "<a id=\"network-graph\"></a>\n",
    "#### 🕸 Network Graphs\n",
    "\n"
   ]
  },
  {
   "cell_type": "markdown",
   "metadata": {},
   "source": [
    "<a id=\"rule-barplot\"></a>\n",
    "#### 📊 Bar Chart of Top Rules\n",
    "\n"
   ]
  },
  {
   "cell_type": "markdown",
   "metadata": {},
   "source": [
    "[Back to the top](#Contents)\n",
    "___"
   ]
  },
  {
   "cell_type": "markdown",
   "metadata": {},
   "source": [
    "<a id=\"final-summary\"></a>\n",
    "# 📌 Final Summary\n",
    "\n"
   ]
  },
  {
   "cell_type": "markdown",
   "metadata": {},
   "source": [
    "<a id=\"key-learnings\"></a>\n",
    "#### ✅ Key Learnings\n",
    "\n"
   ]
  },
  {
   "cell_type": "markdown",
   "metadata": {},
   "source": [
    "<a id=\"stakeholder-insights\"></a>\n",
    "#### 💼 Implications for Stakeholders\n",
    "\n"
   ]
  },
  {
   "cell_type": "markdown",
   "metadata": {},
   "source": [
    "[Back to the top](#Contents)\n",
    "___"
   ]
  },
  {
   "cell_type": "markdown",
   "metadata": {},
   "source": [
    "<a id=\"faq\"></a>\n",
    "# ❓ FAQ / Notes\n",
    "\n"
   ]
  },
  {
   "cell_type": "markdown",
   "metadata": {},
   "source": [
    "<a id=\"pitfalls\"></a>\n",
    "#### 🧯 Pitfalls in Rule Mining\n",
    "\n"
   ]
  },
  {
   "cell_type": "markdown",
   "metadata": {},
   "source": [
    "<a id=\"algo-choice\"></a>\n",
    "#### 🧬 When to use Apriori vs ECLAT / FP-Growth\n"
   ]
  },
  {
   "cell_type": "markdown",
   "metadata": {},
   "source": [
    "[Back to the top](#Contents)\n",
    "___"
   ]
  }
 ],
 "metadata": {
  "language_info": {
   "name": "python"
  }
 },
 "nbformat": 4,
 "nbformat_minor": 2
}
