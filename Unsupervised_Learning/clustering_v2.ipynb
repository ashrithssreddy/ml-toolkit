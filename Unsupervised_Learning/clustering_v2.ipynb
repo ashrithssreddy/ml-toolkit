{
 "cells": [
  {
   "cell_type": "markdown",
   "metadata": {},
   "source": [
    "![Python](https://img.shields.io/badge/python-3.9-blue)\n",
    "![Status: Pending Migration](https://img.shields.io/badge/status-pending%20migration-orange)\n",
    "\n",
    "<a id=\"table-of-contents\"></a>\n",
    "# 📖 Table of Contents\n",
    "\n",
    "[🧭 Objective](#objective)  \n",
    "- [🧠 What is Clustering?](#what-is-clustering)  \n",
    "- [📌 When is Clustering Useful?](#clustering-use-cases)  \n",
    "- [📏 Evaluation Challenges](#evaluation-challenges)\n",
    "\n",
    "[📦 Data Setup](#data-setup)  \n",
    "- [📥 Load Dataset](#load-dataset)  \n",
    "- [🧹 Preprocessing](#preprocessing)\n",
    "\n",
    "[📊 Clustering Algorithms](#clustering-algos)\n",
    "\n",
    "[📈 KMeans](#kmeans)  \n",
    "- [⚙️ Core Logic](#kmeans-logic)  \n",
    "- [📉 Elbow + Silhouette Method](#kmeans-eval)  \n",
    "- [📊 Visual Output](#kmeans-visuals)\n",
    "\n",
    "[🧱 Hierarchical Clustering](#hierarchical)  \n",
    "- [🌳 Dendrograms](#dendrograms)  \n",
    "- [📏 Linkage Types](#linkage)  \n",
    "- [📊 Cluster Cuts](#cluster-cuts)\n",
    "\n",
    "[🌐 DBSCAN](#dbscan)  \n",
    "- [🔍 Intuition](#dbscan-intuition)  \n",
    "- [⚙️ Epsilon, MinPts](#dbscan-params)  \n",
    "- [📊 Visual Output](#dbscan-visuals)\n",
    "\n",
    "[🎲 Gaussian Mixture Models (GMM)](#gmm)  \n",
    "- [🧠 Soft Clustering](#soft-clustering)  \n",
    "- [📈 BIC / AIC for Model Selection](#gmm-eval)\n",
    "\n",
    "[📍 Mean Shift](#meanshift)  \n",
    "- [📏 Bandwidth Selection](#bandwidth)\n",
    "\n",
    "[🎼 Spectral Clustering](#spectral)  \n",
    "- [🔗 Graph Representation](#spectral-graph)  \n",
    "- [📊 Laplacian & Eigenvectors](#spectral-laplacian)\n",
    "\n",
    "[📡 OPTICS](#optics)  \n",
    "- [🪜 Reachability Plot](#reachability)\n",
    "\n",
    "[🌲 BIRCH](#birch)\n",
    "\n",
    "[🔥 HDBSCAN](#hdbscan)\n",
    "\n",
    "[🧬 Other Methods](#other-methods)  \n",
    "- [🧿 Affinity Propagation](#affinity-prop)  \n",
    "- [🧊 Ward’s Method](#ward)\n",
    "\n",
    "[📌 Summary Table](#summary-table)  \n",
    "- [📋 Comparison Across Methods](#method-comparison)  \n",
    "- [🧭 Practical Recommendations](#recommendations)\n",
    "\n",
    "[❓ FAQ / Notes](#faq)  \n",
    "- [📏 Choosing Number of Clusters](#choose-k)  \n",
    "- [📊 Distance Metrics](#distance-metrics)  \n",
    "- [⚠️ Common Pitfalls](#pitfalls)\n",
    "\n",
    "___"
   ]
  },
  {
   "cell_type": "markdown",
   "metadata": {},
   "source": [
    "<a id=\"objective\"></a>\n",
    "# 🧭 Objective"
   ]
  },
  {
   "cell_type": "markdown",
   "metadata": {},
   "source": [
    "<a id=\"what-is-clustering\"></a>\n",
    "#### 🧠 What is Clustering?"
   ]
  },
  {
   "cell_type": "markdown",
   "metadata": {},
   "source": [
    "<details><summary><strong>📖 Click to Expand</strong></summary>\n",
    "\n",
    "##### 🧠 What is Clustering?\n",
    "\n",
    "Clustering is an unsupervised learning technique that groups similar data points together without predefined labels.\n",
    "\n",
    "- The goal is to **identify natural groupings** in data based on similarity or distance\n",
    "- Each group is called a **cluster**, and the points within a cluster are more similar to each other than to points in other clusters\n",
    "- Used to uncover structure in data when no labels are available\n",
    "\n",
    "##### Types of Clustering\n",
    "\n",
    "- **Hard Clustering**: Each point belongs to one cluster (e.g., KMeans)\n",
    "- **Soft Clustering**: Points can belong to multiple clusters with probabilities (e.g., GMM)\n",
    "- **Hierarchical Clustering**: Builds a tree-like structure of nested clusters\n",
    "- **Density-Based Clustering**: Forms clusters based on dense regions (e.g., DBSCAN)\n",
    "\n",
    "</details>\n"
   ]
  },
  {
   "cell_type": "markdown",
   "metadata": {},
   "source": [
    "<a id=\"clustering-use-cases\"></a>\n",
    "#### 📌 When is Clustering Useful?"
   ]
  },
  {
   "cell_type": "markdown",
   "metadata": {},
   "source": [
    "<details><summary><strong>📖 Click to Expand</strong></summary>\n",
    "\n",
    "##### 📌 When is Clustering Useful?\n",
    "\n",
    "Clustering is helpful when you want to discover structure or patterns in unlabeled data.\n",
    "\n",
    "##### Common Applications\n",
    "\n",
    "- **Customer Segmentation**: Group users based on behavior or demographics\n",
    "- **Market Research**: Identify distinct buyer personas\n",
    "- **Anomaly Detection**: Spot outliers as points that don’t belong to any cluster\n",
    "- **Recommender Systems**: Group similar items or users\n",
    "- **Document Clustering**: Group similar news articles, reports, etc.\n",
    "- **Genetics & Bioinformatics**: Group similar gene expressions or cell types\n",
    "\n",
    "##### Key Benefit\n",
    "\n",
    "Clustering helps reduce complexity by summarizing large datasets into **meaningful groups**, even when labels are unavailable.\n",
    "\n",
    "</details>\n"
   ]
  },
  {
   "cell_type": "markdown",
   "metadata": {},
   "source": [
    "<a id=\"evaluation-challenges\"></a>\n",
    "#### 📏 Evaluation Challenges"
   ]
  },
  {
   "cell_type": "markdown",
   "metadata": {},
   "source": [
    "<details><summary><strong>📖 Click to Expand</strong></summary>\n",
    "\n",
    "##### 📏 Evaluation Challenges\n",
    "\n",
    "Clustering is difficult to evaluate because it’s unsupervised — there’s no ground truth.\n",
    "\n",
    "##### Internal Evaluation\n",
    "\n",
    "- **Silhouette Score**: Measures how well a point fits within its cluster vs. others\n",
    "- **Davies-Bouldin Index**: Lower values = better cluster separation\n",
    "- **Calinski-Harabasz Index**: Ratio of between- to within-cluster dispersion\n",
    "\n",
    "##### External Evaluation (when ground truth is available)\n",
    "\n",
    "- **Adjusted Rand Index (ARI)**: Measures similarity to true labels\n",
    "- **Normalized Mutual Information (NMI)**: Captures mutual information between assignments and labels\n",
    "\n",
    "##### Other Challenges\n",
    "\n",
    "- **Choosing the Number of Clusters** (K)\n",
    "- **Handling High-Dimensionality**: PCA/t-SNE often needed\n",
    "- **Scale Sensitivity**: Many algorithms need feature normalization\n",
    "- **Irregular Cluster Shapes**: Some methods fail on non-spherical clusters\n",
    "\n",
    "</details>\n"
   ]
  },
  {
   "cell_type": "markdown",
   "metadata": {},
   "source": [
    "[Back to the top](#table-of-contents)\n",
    "___\n",
    "\n"
   ]
  },
  {
   "cell_type": "markdown",
   "metadata": {},
   "source": [
    "<a id=\"data-setup\"></a>\n",
    "# 📦 Data Setup"
   ]
  },
  {
   "cell_type": "markdown",
   "metadata": {},
   "source": [
    "<a id=\"load-dataset\"></a>\n",
    "#### 📥 Load Dataset"
   ]
  },
  {
   "cell_type": "code",
   "execution_count": 2,
   "metadata": {},
   "outputs": [
    {
     "data": {
      "image/png": "[encoded data removed]",
      "text/plain": [
       "<Figure size 600x400 with 1 Axes>"
      ]
     },
     "metadata": {},
     "output_type": "display_data"
    }
   ],
   "source": [
    "from sklearn.datasets import make_blobs\n",
    "import pandas as pd\n",
    "import numpy as np\n",
    "import matplotlib.pyplot as plt\n",
    "import seaborn as sns\n",
    "\n",
    "# Generate synthetic clusterable data\n",
    "X, y = make_blobs(n_samples=500, centers=4, cluster_std=1.2, random_state=42)\n",
    "df = pd.DataFrame(X, columns=[\"feature_1\", \"feature_2\"])\n",
    "\n",
    "# Plot raw input\n",
    "plt.figure(figsize=(6, 4))\n",
    "sns.scatterplot(data=df, x=\"feature_1\", y=\"feature_2\")\n",
    "plt.title(\"Unlabeled Input Data\")\n",
    "plt.show()"
   ]
  },
  {
   "cell_type": "markdown",
   "metadata": {},
   "source": [
    "<a id=\"preprocessing\"></a>\n",
    "#### 🧹 Preprocessing"
   ]
  },
  {
   "cell_type": "markdown",
   "metadata": {},
   "source": [
    "<details><summary><strong>📖 Click to Expand</strong></summary>\n",
    "\n",
    "##### 🧹 Preprocessing\n",
    "\n",
    "Clustering algorithms like KMeans, DBSCAN, and GMM are sensitive to feature scale.\n",
    "\n",
    "- We apply **StandardScaler** to normalize all features to zero mean and unit variance\n",
    "- This ensures that distance-based calculations treat each feature equally\n",
    "- Additional steps like missing value imputation or encoding are skipped here as all features are numeric and clean\n",
    "\n",
    "</details>\n"
   ]
  },
  {
   "cell_type": "code",
   "execution_count": 4,
   "metadata": {},
   "outputs": [
    {
     "data": {
      "text/html": [
       "<div>\n",
       "<style scoped>\n",
       "    .dataframe tbody tr th:only-of-type {\n",
       "        vertical-align: middle;\n",
       "    }\n",
       "\n",
       "    .dataframe tbody tr th {\n",
       "        vertical-align: top;\n",
       "    }\n",
       "\n",
       "    .dataframe thead th {\n",
       "        text-align: right;\n",
       "    }\n",
       "</style>\n",
       "<table border=\"1\" class=\"dataframe\">\n",
       "  <thead>\n",
       "    <tr style=\"text-align: right;\">\n",
       "      <th></th>\n",
       "      <th>feature_1</th>\n",
       "      <th>feature_2</th>\n",
       "    </tr>\n",
       "  </thead>\n",
       "  <tbody>\n",
       "    <tr>\n",
       "      <th>0</th>\n",
       "      <td>-0.766161</td>\n",
       "      <td>0.562117</td>\n",
       "    </tr>\n",
       "    <tr>\n",
       "      <th>1</th>\n",
       "      <td>-1.266310</td>\n",
       "      <td>-1.545187</td>\n",
       "    </tr>\n",
       "    <tr>\n",
       "      <th>2</th>\n",
       "      <td>2.006315</td>\n",
       "      <td>-0.297524</td>\n",
       "    </tr>\n",
       "    <tr>\n",
       "      <th>3</th>\n",
       "      <td>0.077145</td>\n",
       "      <td>0.684294</td>\n",
       "    </tr>\n",
       "    <tr>\n",
       "      <th>4</th>\n",
       "      <td>-0.385682</td>\n",
       "      <td>-1.611826</td>\n",
       "    </tr>\n",
       "  </tbody>\n",
       "</table>\n",
       "</div>"
      ],
      "text/plain": [
       "   feature_1  feature_2\n",
       "0  -0.766161   0.562117\n",
       "1  -1.266310  -1.545187\n",
       "2   2.006315  -0.297524\n",
       "3   0.077145   0.684294\n",
       "4  -0.385682  -1.611826"
      ]
     },
     "execution_count": 4,
     "metadata": {},
     "output_type": "execute_result"
    }
   ],
   "source": [
    "from sklearn.preprocessing import StandardScaler\n",
    "\n",
    "# Scale data\n",
    "scaler = StandardScaler()\n",
    "df_scaled = pd.DataFrame(scaler.fit_transform(df), columns=df.columns)\n",
    "\n",
    "# Preview\n",
    "df_scaled.head()\n"
   ]
  },
  {
   "cell_type": "markdown",
   "metadata": {},
   "source": [
    "[Back to the top](#table-of-contents)\n",
    "___\n",
    "\n"
   ]
  },
  {
   "cell_type": "markdown",
   "metadata": {},
   "source": [
    "<a id=\"clustering-algos\"></a>\n",
    "# 📊 Clustering Algorithms"
   ]
  },
  {
   "cell_type": "markdown",
   "metadata": {},
   "source": [
    "##### 📊 Comparison\n",
    "\n",
    "| Algorithm           | Works Well For               | Assumes Shape       | Needs Scaling | Handles Outliers | Notes |\n",
    "|---------------------|------------------------------|----------------------|---------------|------------------|-------|\n",
    "| **KMeans**          | Spherical, equal-size blobs  | Spherical            | ✅ Yes         | ❌ No             | Fast, interpretable |\n",
    "| **Hierarchical**    | Any size, low dims           | Flexible (linkage)   | 🟡 Sometimes   | ❌ No             | Good for visualizing nested groups |\n",
    "| **DBSCAN**          | Irregular, density-based     | Arbitrary            | ✅ Yes         | ✅ Yes            | Needs `eps` tuning |\n",
    "| **GMM**             | Elliptical, probabilistic    | Gaussian blobs       | ✅ Yes         | ❌ No             | Soft assignments |\n",
    "| **Mean Shift**      | Smooth cluster shapes        | Arbitrary            | ✅ Yes         | ❌ No             | Bandwidth sensitive |\n",
    "| **Spectral**        | Graph-connected data         | Graph-based          | ✅ Yes         | ❌ No             | Slow for large N |\n",
    "| **OPTICS**          | Nested, variable density     | Arbitrary            | 🟡 Sometimes   | ✅ Yes            | Better than DBSCAN for chaining |\n",
    "| **BIRCH**           | Large data, streaming        | Spherical-ish        | 🟡 Sometimes   | ❌ No             | Memory-efficient |\n",
    "| **HDBSCAN**         | Hierarchical + density       | Arbitrary            | 🟡 Sometimes   | ✅ Yes            | Adaptive to density |\n",
    "| **Affinity Prop.**  | Message-passing structure    | N/A (similarity)     | ✅ Yes         | ❌ No             | No need to set K |\n",
    "\n",
    "##### 🖼️ Visual Comparison\n",
    "\n",
    "This image from scikit-learn shows how different algorithms behave on varied shapes and densities:\n",
    "<img src=\"https://scikit-learn.org/stable/_images/sphx_glr_plot_cluster_comparison_001.png\" alt=\"clustering comparison\" width=\"900\"/>"
   ]
  },
  {
   "cell_type": "markdown",
   "metadata": {},
   "source": [
    "[Back to the top](#table-of-contents)\n",
    "___\n",
    "\n"
   ]
  },
  {
   "cell_type": "markdown",
   "metadata": {},
   "source": [
    "<a id=\"kmeans\"></a>\n",
    "# 📈 KMeans"
   ]
  },
  {
   "cell_type": "markdown",
   "metadata": {},
   "source": [
    "<details><summary><strong>📖 Click to Expand</strong></summary>\n",
    "\n",
    "##### 📈 What is KMeans?\n",
    "\n",
    "KMeans is a **partitioning-based clustering algorithm** that groups data into `K` clusters by minimizing the **sum of squared distances (inertia)** within clusters.\n",
    "\n",
    "##### ⚙️ How It Works\n",
    "\n",
    "1. **Initialize** `K` centroids (randomly or via KMeans++)  \n",
    "2. **Assign** each point to the nearest centroid  \n",
    "3. **Update** centroids as the mean of all assigned points  \n",
    "4. **Repeat** steps 2–3 until convergence\n",
    "\n",
    "##### ✅ When to Use\n",
    "\n",
    "- Clusters are **compact, well-separated**, and roughly spherical\n",
    "- **Scalability** matters — KMeans is fast and efficient\n",
    "- Applications like customer segmentation, image compression, etc.\n",
    "\n",
    "##### ⚠️ Limitations\n",
    "\n",
    "- Requires choosing `K` in advance  \n",
    "- Sensitive to **initial centroids**, **outliers**, and **feature scaling**  \n",
    "- Assumes clusters are **convex and isotropic**\n",
    "\n",
    "##### 🧠 Variants\n",
    "\n",
    "- **KMeans++**: Better centroid initialization  \n",
    "- **MiniBatch KMeans**: Faster for large datasets  \n",
    "- **Fuzzy C-Means**: Soft assignment to multiple clusters\n",
    "\n",
    "</details>\n"
   ]
  },
  {
   "cell_type": "markdown",
   "metadata": {},
   "source": [
    "<a id=\"kmeans-logic\"></a>\n",
    "#### ⚙️ Core Logic"
   ]
  },
  {
   "cell_type": "markdown",
   "metadata": {},
   "source": [
    "<a id=\"kmeans-eval\"></a>\n",
    "#### 📉 Elbow + Silhouette Method"
   ]
  },
  {
   "cell_type": "markdown",
   "metadata": {},
   "source": [
    "<a id=\"kmeans-visuals\"></a>\n",
    "#### 📊 Visual Output"
   ]
  },
  {
   "cell_type": "markdown",
   "metadata": {},
   "source": [
    "[Back to the top](#table-of-contents)\n",
    "___\n",
    "\n"
   ]
  },
  {
   "cell_type": "markdown",
   "metadata": {},
   "source": [
    "<a id=\"hierarchical\"></a>\n",
    "# 🧱 Hierarchical Clustering"
   ]
  },
  {
   "cell_type": "markdown",
   "metadata": {},
   "source": [
    "<a id=\"dendrograms\"></a>\n",
    "#### 🌳 Dendrograms"
   ]
  },
  {
   "cell_type": "markdown",
   "metadata": {},
   "source": [
    "<a id=\"linkage\"></a>\n",
    "#### 📏 Linkage Types"
   ]
  },
  {
   "cell_type": "markdown",
   "metadata": {},
   "source": [
    "<a id=\"cluster-cuts\"></a>\n",
    "#### 📊 Cluster Cuts"
   ]
  },
  {
   "cell_type": "markdown",
   "metadata": {},
   "source": [
    "[Back to the top](#table-of-contents)\n",
    "___\n",
    "\n"
   ]
  },
  {
   "cell_type": "markdown",
   "metadata": {},
   "source": [
    "<a id=\"dbscan\"></a>\n",
    "# 🌐 DBSCAN"
   ]
  },
  {
   "cell_type": "markdown",
   "metadata": {},
   "source": [
    "<a id=\"dbscan-intuition\"></a>\n",
    "#### 🔍 Intuition"
   ]
  },
  {
   "cell_type": "markdown",
   "metadata": {},
   "source": [
    "<a id=\"dbscan-params\"></a>\n",
    "#### ⚙️ Epsilon, MinPts"
   ]
  },
  {
   "cell_type": "markdown",
   "metadata": {},
   "source": [
    "<a id=\"dbscan-visuals\"></a>\n",
    "#### 📊 Visual Output"
   ]
  },
  {
   "cell_type": "markdown",
   "metadata": {},
   "source": [
    "[Back to the top](#table-of-contents)\n",
    "___\n",
    "\n"
   ]
  },
  {
   "cell_type": "markdown",
   "metadata": {},
   "source": [
    "<a id=\"gmm\"></a>\n",
    "# 🎲 Gaussian Mixture Models (GMM)"
   ]
  },
  {
   "cell_type": "markdown",
   "metadata": {},
   "source": [
    "<a id=\"soft-clustering\"></a>\n",
    "#### 🧠 Soft Clustering"
   ]
  },
  {
   "cell_type": "markdown",
   "metadata": {},
   "source": [
    "<a id=\"gmm-eval\"></a>\n",
    "#### 📈 BIC / AIC for Model Selection"
   ]
  },
  {
   "cell_type": "markdown",
   "metadata": {},
   "source": [
    "[Back to the top](#table-of-contents)\n",
    "___\n",
    "\n"
   ]
  },
  {
   "cell_type": "markdown",
   "metadata": {},
   "source": [
    "<a id=\"meanshift\"></a>\n",
    "# 📍 Mean Shift"
   ]
  },
  {
   "cell_type": "markdown",
   "metadata": {},
   "source": [
    "<a id=\"bandwidth\"></a>\n",
    "#### 📏 Bandwidth Selection"
   ]
  },
  {
   "cell_type": "markdown",
   "metadata": {},
   "source": [
    "[Back to the top](#table-of-contents)\n",
    "___\n",
    "\n"
   ]
  },
  {
   "cell_type": "markdown",
   "metadata": {},
   "source": [
    "<a id=\"spectral\"></a>\n",
    "# 🎼 Spectral Clustering"
   ]
  },
  {
   "cell_type": "markdown",
   "metadata": {},
   "source": [
    "<a id=\"spectral-graph\"></a>\n",
    "#### 🔗 Graph Representation"
   ]
  },
  {
   "cell_type": "markdown",
   "metadata": {},
   "source": [
    "<a id=\"spectral-laplacian\"></a>\n",
    "#### 📊 Laplacian & Eigenvectors"
   ]
  },
  {
   "cell_type": "markdown",
   "metadata": {},
   "source": [
    "[Back to the top](#table-of-contents)\n",
    "___\n",
    "\n"
   ]
  },
  {
   "cell_type": "markdown",
   "metadata": {},
   "source": [
    "<a id=\"optics\"></a>\n",
    "# 📡 OPTICS"
   ]
  },
  {
   "cell_type": "markdown",
   "metadata": {},
   "source": [
    "<a id=\"reachability\"></a>\n",
    "#### 🪜 Reachability Plot"
   ]
  },
  {
   "cell_type": "markdown",
   "metadata": {},
   "source": [
    "[Back to the top](#table-of-contents)\n",
    "___\n",
    "\n"
   ]
  },
  {
   "cell_type": "markdown",
   "metadata": {},
   "source": [
    "<a id=\"birch\"></a>\n",
    "# 🌲 BIRCH"
   ]
  },
  {
   "cell_type": "markdown",
   "metadata": {},
   "source": [
    "[Back to the top](#table-of-contents)\n",
    "___\n",
    "\n"
   ]
  },
  {
   "cell_type": "markdown",
   "metadata": {},
   "source": [
    "<a id=\"hdbscan\"></a>\n",
    "# 🔥 HDBSCAN"
   ]
  },
  {
   "cell_type": "markdown",
   "metadata": {},
   "source": [
    "[Back to the top](#table-of-contents)\n",
    "___\n",
    "\n"
   ]
  },
  {
   "cell_type": "markdown",
   "metadata": {},
   "source": [
    "<a id=\"other-methods\"></a>\n",
    "# 🧬 Other Methods"
   ]
  },
  {
   "cell_type": "markdown",
   "metadata": {},
   "source": [
    "<a id=\"affinity-prop\"></a>\n",
    "#### 🧿 Affinity Propagation"
   ]
  },
  {
   "cell_type": "markdown",
   "metadata": {},
   "source": [
    "<a id=\"ward\"></a>\n",
    "#### 🧊 Ward’s Method"
   ]
  },
  {
   "cell_type": "markdown",
   "metadata": {},
   "source": [
    "[Back to the top](#table-of-contents)\n",
    "___\n",
    "\n"
   ]
  },
  {
   "cell_type": "markdown",
   "metadata": {},
   "source": [
    "<a id=\"summary-table\"></a>\n",
    "# 📌 Summary Table"
   ]
  },
  {
   "cell_type": "markdown",
   "metadata": {},
   "source": [
    "<a id=\"method-comparison\"></a>\n",
    "#### 📋 Comparison Across Methods"
   ]
  },
  {
   "cell_type": "markdown",
   "metadata": {},
   "source": [
    "<a id=\"recommendations\"></a>\n",
    "#### 🧭 Practical Recommendations"
   ]
  },
  {
   "cell_type": "markdown",
   "metadata": {},
   "source": [
    "[Back to the top](#table-of-contents)\n",
    "___\n",
    "\n"
   ]
  },
  {
   "cell_type": "markdown",
   "metadata": {},
   "source": [
    "<a id=\"faq\"></a>\n",
    "# ❓ FAQ / Notes"
   ]
  },
  {
   "cell_type": "markdown",
   "metadata": {},
   "source": [
    "<a id=\"choose-k\"></a>\n",
    "#### 📏 Choosing Number of Clusters"
   ]
  },
  {
   "cell_type": "markdown",
   "metadata": {},
   "source": [
    "<a id=\"distance-metrics\"></a>\n",
    "#### 📊 Distance Metrics"
   ]
  },
  {
   "cell_type": "markdown",
   "metadata": {},
   "source": [
    "<a id=\"pitfalls\"></a>\n",
    "#### ⚠️ Common Pitfalls"
   ]
  },
  {
   "cell_type": "markdown",
   "metadata": {},
   "source": [
    "[Back to the top](#table-of-contents)\n",
    "___\n",
    "\n"
   ]
  },
  {
   "cell_type": "markdown",
   "metadata": {},
   "source": []
  }
 ],
 "metadata": {
  "kernelspec": {
   "display_name": "base",
   "language": "python",
   "name": "python3"
  },
  "language_info": {
   "codemirror_mode": {
    "name": "ipython",
    "version": 3
   },
   "file_extension": ".py",
   "mimetype": "text/x-python",
   "name": "python",
   "nbconvert_exporter": "python",
   "pygments_lexer": "ipython3",
   "version": "3.11.3"
  }
 },
 "nbformat": 4,
 "nbformat_minor": 4
}
