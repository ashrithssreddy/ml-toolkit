{
 "cells": [
  {
   "cell_type": "markdown",
   "metadata": {},
   "source": [
    "![Python](https://img.shields.io/badge/python-3.9-blue)\n",
    "![Status: Pending Migration](https://img.shields.io/badge/status-pending%20migration-orange)\n",
    "\n",
    "<a id=\"table-of-contents\"></a>\n",
    "# 📖 Table of Contents\n",
    "\n",
    "[🧭 Objective](#objective)  \n",
    "- [🧠 What is Clustering?](#what-is-clustering)  \n",
    "- [📌 When is Clustering Useful?](#clustering-use-cases)  \n",
    "- [📏 Evaluation Challenges](#evaluation-challenges)\n",
    "\n",
    "[📦 Data Setup](#data-setup)  \n",
    "- [📥 Load Dataset](#load-dataset)  \n",
    "- [🧹 Preprocessing](#preprocessing)\n",
    "\n",
    "[📊 Clustering Algorithms](#clustering-algos)\n",
    "\n",
    "[📈 KMeans](#kmeans)  \n",
    "- [⚙️ Core Logic](#kmeans-logic)  \n",
    "- [📉 Elbow + Silhouette Method](#kmeans-eval)  \n",
    "- [📊 Visual Output](#kmeans-visuals)\n",
    "\n",
    "[🧱 Hierarchical Clustering](#hierarchical)  \n",
    "- [🌳 Dendrograms](#dendrograms)  \n",
    "- [📏 Linkage Types](#linkage)  \n",
    "- [📊 Cluster Cuts](#cluster-cuts)\n",
    "\n",
    "[🌐 DBSCAN](#dbscan)  \n",
    "- [🔍 Intuition](#dbscan-intuition)  \n",
    "- [⚙️ Epsilon, MinPts](#dbscan-params)  \n",
    "- [📊 Visual Output](#dbscan-visuals)\n",
    "\n",
    "[🎲 Gaussian Mixture Models (GMM)](#gmm)  \n",
    "- [🧠 Soft Clustering](#soft-clustering)  \n",
    "- [📈 BIC / AIC for Model Selection](#gmm-eval)\n",
    "\n",
    "[📍 Mean Shift](#meanshift)  \n",
    "- [📏 Bandwidth Selection](#bandwidth)\n",
    "\n",
    "[🎼 Spectral Clustering](#spectral)  \n",
    "- [🔗 Graph Representation](#spectral-graph)  \n",
    "- [📊 Laplacian & Eigenvectors](#spectral-laplacian)\n",
    "\n",
    "[📡 OPTICS](#optics)  \n",
    "- [🪜 Reachability Plot](#reachability)\n",
    "\n",
    "[🌲 BIRCH](#birch)\n",
    "\n",
    "[🔥 HDBSCAN](#hdbscan)\n",
    "\n",
    "[🧬 Other Methods](#other-methods)  \n",
    "- [🧿 Affinity Propagation](#affinity-prop)  \n",
    "- [🧊 Ward’s Method](#ward)\n",
    "\n",
    "[📌 Summary Table](#summary-table)  \n",
    "- [📋 Comparison Across Methods](#method-comparison)  \n",
    "- [🧭 Practical Recommendations](#recommendations)\n",
    "\n",
    "[❓ FAQ / Notes](#faq)  \n",
    "- [📏 Choosing Number of Clusters](#choose-k)  \n",
    "- [📊 Distance Metrics](#distance-metrics)  \n",
    "- [⚠️ Common Pitfalls](#pitfalls)\n",
    "\n",
    "___"
   ]
  },
  {
   "cell_type": "markdown",
   "metadata": {},
   "source": [
    "<a id=\"objective\"></a>\n",
    "# 🧭 Objective"
   ]
  },
  {
   "cell_type": "markdown",
   "metadata": {},
   "source": [
    "<a id=\"what-is-clustering\"></a>\n",
    "#### 🧠 What is Clustering?"
   ]
  },
  {
   "cell_type": "markdown",
   "metadata": {},
   "source": [
    "<a id=\"clustering-use-cases\"></a>\n",
    "#### 📌 When is Clustering Useful?"
   ]
  },
  {
   "cell_type": "markdown",
   "metadata": {},
   "source": [
    "<a id=\"evaluation-challenges\"></a>\n",
    "#### 📏 Evaluation Challenges"
   ]
  },
  {
   "cell_type": "markdown",
   "metadata": {},
   "source": [
    "[Back to the top](#table-of-contents)\n",
    "___\n",
    "\n"
   ]
  },
  {
   "cell_type": "markdown",
   "metadata": {},
   "source": [
    "<a id=\"data-setup\"></a>\n",
    "# 📦 Data Setup"
   ]
  },
  {
   "cell_type": "markdown",
   "metadata": {},
   "source": [
    "<a id=\"load-dataset\"></a>\n",
    "#### 📥 Load Dataset"
   ]
  },
  {
   "cell_type": "markdown",
   "metadata": {},
   "source": [
    "<a id=\"preprocessing\"></a>\n",
    "#### 🧹 Preprocessing"
   ]
  },
  {
   "cell_type": "markdown",
   "metadata": {},
   "source": [
    "[Back to the top](#table-of-contents)\n",
    "___\n",
    "\n"
   ]
  },
  {
   "cell_type": "markdown",
   "metadata": {},
   "source": [
    "<a id=\"clustering-algos\"></a>\n",
    "# 📊 Clustering Algorithms"
   ]
  },
  {
   "cell_type": "markdown",
   "metadata": {},
   "source": [
    "[Back to the top](#table-of-contents)\n",
    "___\n",
    "\n"
   ]
  },
  {
   "cell_type": "markdown",
   "metadata": {},
   "source": [
    "<a id=\"kmeans\"></a>\n",
    "# 📈 KMeans"
   ]
  },
  {
   "cell_type": "markdown",
   "metadata": {},
   "source": [
    "<a id=\"kmeans-logic\"></a>\n",
    "#### ⚙️ Core Logic"
   ]
  },
  {
   "cell_type": "markdown",
   "metadata": {},
   "source": [
    "<a id=\"kmeans-eval\"></a>\n",
    "#### 📉 Elbow + Silhouette Method"
   ]
  },
  {
   "cell_type": "markdown",
   "metadata": {},
   "source": [
    "<a id=\"kmeans-visuals\"></a>\n",
    "#### 📊 Visual Output"
   ]
  },
  {
   "cell_type": "markdown",
   "metadata": {},
   "source": [
    "[Back to the top](#table-of-contents)\n",
    "___\n",
    "\n"
   ]
  },
  {
   "cell_type": "markdown",
   "metadata": {},
   "source": [
    "<a id=\"hierarchical\"></a>\n",
    "# 🧱 Hierarchical Clustering"
   ]
  },
  {
   "cell_type": "markdown",
   "metadata": {},
   "source": [
    "<a id=\"dendrograms\"></a>\n",
    "#### 🌳 Dendrograms"
   ]
  },
  {
   "cell_type": "markdown",
   "metadata": {},
   "source": [
    "<a id=\"linkage\"></a>\n",
    "#### 📏 Linkage Types"
   ]
  },
  {
   "cell_type": "markdown",
   "metadata": {},
   "source": [
    "<a id=\"cluster-cuts\"></a>\n",
    "#### 📊 Cluster Cuts"
   ]
  },
  {
   "cell_type": "markdown",
   "metadata": {},
   "source": [
    "[Back to the top](#table-of-contents)\n",
    "___\n",
    "\n"
   ]
  },
  {
   "cell_type": "markdown",
   "metadata": {},
   "source": [
    "<a id=\"dbscan\"></a>\n",
    "# 🌐 DBSCAN"
   ]
  },
  {
   "cell_type": "markdown",
   "metadata": {},
   "source": [
    "<a id=\"dbscan-intuition\"></a>\n",
    "#### 🔍 Intuition"
   ]
  },
  {
   "cell_type": "markdown",
   "metadata": {},
   "source": [
    "<a id=\"dbscan-params\"></a>\n",
    "#### ⚙️ Epsilon, MinPts"
   ]
  },
  {
   "cell_type": "markdown",
   "metadata": {},
   "source": [
    "<a id=\"dbscan-visuals\"></a>\n",
    "#### 📊 Visual Output"
   ]
  },
  {
   "cell_type": "markdown",
   "metadata": {},
   "source": [
    "[Back to the top](#table-of-contents)\n",
    "___\n",
    "\n"
   ]
  },
  {
   "cell_type": "markdown",
   "metadata": {},
   "source": [
    "<a id=\"gmm\"></a>\n",
    "# 🎲 Gaussian Mixture Models (GMM)"
   ]
  },
  {
   "cell_type": "markdown",
   "metadata": {},
   "source": [
    "<a id=\"soft-clustering\"></a>\n",
    "#### 🧠 Soft Clustering"
   ]
  },
  {
   "cell_type": "markdown",
   "metadata": {},
   "source": [
    "<a id=\"gmm-eval\"></a>\n",
    "#### 📈 BIC / AIC for Model Selection"
   ]
  },
  {
   "cell_type": "markdown",
   "metadata": {},
   "source": [
    "[Back to the top](#table-of-contents)\n",
    "___\n",
    "\n"
   ]
  },
  {
   "cell_type": "markdown",
   "metadata": {},
   "source": [
    "<a id=\"meanshift\"></a>\n",
    "# 📍 Mean Shift"
   ]
  },
  {
   "cell_type": "markdown",
   "metadata": {},
   "source": [
    "<a id=\"bandwidth\"></a>\n",
    "#### 📏 Bandwidth Selection"
   ]
  },
  {
   "cell_type": "markdown",
   "metadata": {},
   "source": [
    "[Back to the top](#table-of-contents)\n",
    "___\n",
    "\n"
   ]
  },
  {
   "cell_type": "markdown",
   "metadata": {},
   "source": [
    "<a id=\"spectral\"></a>\n",
    "# 🎼 Spectral Clustering"
   ]
  },
  {
   "cell_type": "markdown",
   "metadata": {},
   "source": [
    "<a id=\"spectral-graph\"></a>\n",
    "#### 🔗 Graph Representation"
   ]
  },
  {
   "cell_type": "markdown",
   "metadata": {},
   "source": [
    "<a id=\"spectral-laplacian\"></a>\n",
    "#### 📊 Laplacian & Eigenvectors"
   ]
  },
  {
   "cell_type": "markdown",
   "metadata": {},
   "source": [
    "[Back to the top](#table-of-contents)\n",
    "___\n",
    "\n"
   ]
  },
  {
   "cell_type": "markdown",
   "metadata": {},
   "source": [
    "<a id=\"optics\"></a>\n",
    "# 📡 OPTICS"
   ]
  },
  {
   "cell_type": "markdown",
   "metadata": {},
   "source": [
    "<a id=\"reachability\"></a>\n",
    "#### 🪜 Reachability Plot"
   ]
  },
  {
   "cell_type": "markdown",
   "metadata": {},
   "source": [
    "[Back to the top](#table-of-contents)\n",
    "___\n",
    "\n"
   ]
  },
  {
   "cell_type": "markdown",
   "metadata": {},
   "source": [
    "<a id=\"birch\"></a>\n",
    "# 🌲 BIRCH"
   ]
  },
  {
   "cell_type": "markdown",
   "metadata": {},
   "source": [
    "[Back to the top](#table-of-contents)\n",
    "___\n",
    "\n"
   ]
  },
  {
   "cell_type": "markdown",
   "metadata": {},
   "source": [
    "<a id=\"hdbscan\"></a>\n",
    "# 🔥 HDBSCAN"
   ]
  },
  {
   "cell_type": "markdown",
   "metadata": {},
   "source": [
    "[Back to the top](#table-of-contents)\n",
    "___\n",
    "\n"
   ]
  },
  {
   "cell_type": "markdown",
   "metadata": {},
   "source": [
    "<a id=\"other-methods\"></a>\n",
    "# 🧬 Other Methods"
   ]
  },
  {
   "cell_type": "markdown",
   "metadata": {},
   "source": [
    "<a id=\"affinity-prop\"></a>\n",
    "#### 🧿 Affinity Propagation"
   ]
  },
  {
   "cell_type": "markdown",
   "metadata": {},
   "source": [
    "<a id=\"ward\"></a>\n",
    "#### 🧊 Ward’s Method"
   ]
  },
  {
   "cell_type": "markdown",
   "metadata": {},
   "source": [
    "[Back to the top](#table-of-contents)\n",
    "___\n",
    "\n"
   ]
  },
  {
   "cell_type": "markdown",
   "metadata": {},
   "source": [
    "<a id=\"summary-table\"></a>\n",
    "# 📌 Summary Table"
   ]
  },
  {
   "cell_type": "markdown",
   "metadata": {},
   "source": [
    "<a id=\"method-comparison\"></a>\n",
    "#### 📋 Comparison Across Methods"
   ]
  },
  {
   "cell_type": "markdown",
   "metadata": {},
   "source": [
    "<a id=\"recommendations\"></a>\n",
    "#### 🧭 Practical Recommendations"
   ]
  },
  {
   "cell_type": "markdown",
   "metadata": {},
   "source": [
    "[Back to the top](#table-of-contents)\n",
    "___\n",
    "\n"
   ]
  },
  {
   "cell_type": "markdown",
   "metadata": {},
   "source": [
    "<a id=\"faq\"></a>\n",
    "# ❓ FAQ / Notes"
   ]
  },
  {
   "cell_type": "markdown",
   "metadata": {},
   "source": [
    "<a id=\"choose-k\"></a>\n",
    "#### 📏 Choosing Number of Clusters"
   ]
  },
  {
   "cell_type": "markdown",
   "metadata": {},
   "source": [
    "<a id=\"distance-metrics\"></a>\n",
    "#### 📊 Distance Metrics"
   ]
  },
  {
   "cell_type": "markdown",
   "metadata": {},
   "source": [
    "<a id=\"pitfalls\"></a>\n",
    "#### ⚠️ Common Pitfalls"
   ]
  },
  {
   "cell_type": "markdown",
   "metadata": {},
   "source": [
    "[Back to the top](#table-of-contents)\n",
    "___\n",
    "\n"
   ]
  },
  {
   "cell_type": "markdown",
   "metadata": {},
   "source": []
  }
 ],
 "metadata": {
  "kernelspec": {
   "display_name": "Python [conda env:base]",
   "language": "python",
   "name": "conda-base-py"
  },
  "language_info": {
   "codemirror_mode": {
    "name": "ipython",
    "version": 3
   },
   "file_extension": ".py",
   "mimetype": "text/x-python",
   "name": "python",
   "nbconvert_exporter": "python",
   "pygments_lexer": "ipython3",
   "version": "3.12.7"
  }
 },
 "nbformat": 4,
 "nbformat_minor": 4
}
