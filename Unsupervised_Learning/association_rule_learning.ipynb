{
 "cells": [
  {
   "cell_type": "markdown",
   "metadata": {},
   "source": [
    "<a id=\"table-of-contents\"></a>\n",
    "# 📖 Associative Rule Mining\n",
    "\n",
    "[🧭 Objective](#objective)  \n",
    "- [🛒 What is Association Rule Mining?](#what-is-arm)  \n",
    "- [📌 Use Cases](#use-cases)\n",
    "\n",
    "[📦 Data Setup](#data-setup)  \n",
    "- [🧾 Load Dataset](#load-dataset)  \n",
    "- [🧹 Preprocessing / Transaction Formatting](#preprocessing)  \n",
    "- [🧮 Frequency Encoding (Optional)](#frequency-encoding)\n",
    "\n",
    "[📊 Exploratory Data Analysis](#eda)  \n",
    "- [📈 Item Frequency Plot](#item-frequency-plot)  \n",
    "- [📉 Itemset Statistics](#itemset-stats)\n",
    "\n",
    "[🧰 Apriori Algorithm](#apriori)  \n",
    "- [⚙️ Setup Parameters](#apriori-params)  \n",
    "- [📜 Generate Frequent Itemsets](#frequent-itemsets)  \n",
    "- [🔗 Build Association Rules](#build-rules)\n",
    "\n",
    "[🧪 Rule Evaluation](#rule-eval)  \n",
    "- [📏 Support, Confidence, Lift](#basic-metrics)  \n",
    "- [📐 Conviction, Leverage (Bonus)](#bonus-metrics)  \n",
    "- [📋 Top Rules by Metric](#top-rules)\n",
    "\n",
    "[🧠 Interpretation](#interpretation)  \n",
    "- [🧭 Business Context for Rules](#business-context)  \n",
    "- [📉 Redundant Rules / Filtering](#rule-filtering)\n",
    "\n",
    "[📊 Visualizations](#visualizations)  \n",
    "- [🧱 Heatmaps, Matrix](#heatmap)  \n",
    "- [🕸 Network Graphs](#network-graph)  \n",
    "- [📊 Bar Chart of Top Rules](#rule-barplot)\n",
    "___"
   ]
  },
  {
   "cell_type": "markdown",
   "metadata": {},
   "source": [
    "<a id=\"objective\"></a>\n",
    "# 🧭 Objective"
   ]
  },
  {
   "cell_type": "markdown",
   "metadata": {},
   "source": [
    "<a id=\"what-is-arm\"></a>\n",
    "#### 🛒 What is Association Rule Mining?"
   ]
  },
  {
   "cell_type": "markdown",
   "metadata": {},
   "source": [
    "<details><summary><strong>📖 Click to Expand</strong></summary>\n",
    "\n",
    "##### 🛒 What is Association Rule Mining?\n",
    "\n",
    "Association Rule Mining helps you **discover what items are often bought together**.  \n",
    "It looks through customer transactions to find patterns like:\n",
    "\n",
    "- \"People who buy bread and butter also tend to buy jam\"\n",
    "- \"If a user buys a phone, they often buy a screen protector too\"\n",
    "\n",
    "This technique is **unsupervised** — there's no target variable.  \n",
    "You're just uncovering **co-occurrence** patterns from raw data.\n",
    "\n",
    "##### 🧠 Breakdown\n",
    "\n",
    "An association rule is written as:  \n",
    "**A → B**  \n",
    "...which means “if A was bought, then B is likely to be bought too.”\n",
    "\n",
    "You can control how strong or interesting a rule is using:\n",
    "- **Support**: How common is this combo?\n",
    "- **Confidence**: If A happens, how often does B follow?\n",
    "- **Lift**: Is this combo better than random chance?\n",
    "\n",
    "</details>\n"
   ]
  },
  {
   "cell_type": "markdown",
   "metadata": {},
   "source": [
    "<a id=\"use-cases\"></a>\n",
    "#### 📌 Use Cases"
   ]
  },
  {
   "cell_type": "markdown",
   "metadata": {},
   "source": [
    "<details><summary><strong>📖 Click to Expand</strong></summary>\n",
    "\n",
    "##### 📌 Real-World Use Cases of Association Rules\n",
    "\n",
    "These are not just grocery store tricks. They show up everywhere:\n",
    "\n",
    "- 🛒 **Retail**: Suggest product bundles (\"Customers who bought this also bought...\")\n",
    "- 📩 **Email Marketing**: Find item combos for targeted promotions\n",
    "- 💳 **Banking**: Detect if certain services (e.g., savings + insurance) are linked\n",
    "- 🏥 **Healthcare**: Identify symptom-diagnosis patterns across patients\n",
    "- 🌐 **E-commerce**: Power recommendation engines for cross-sells\n",
    "\n",
    "The goal:  \n",
    "Find **co-occurrence relationships** that help you **act smarter** — whether you're selling, diagnosing, or personalizing.\n",
    "\n",
    "</details>\n"
   ]
  },
  {
   "cell_type": "markdown",
   "metadata": {},
   "source": [
    "[Back to the top](#Contents)\n",
    "___"
   ]
  },
  {
   "cell_type": "markdown",
   "metadata": {},
   "source": [
    "<a id=\"data-setup\"></a>\n",
    "# 📦 Data Setup"
   ]
  },
  {
   "cell_type": "markdown",
   "metadata": {},
   "source": [
    "<a id=\"load-dataset\"></a>\n",
    "#### 🧾 Load Dataset"
   ]
  },
  {
   "cell_type": "code",
   "execution_count": 1,
   "metadata": {},
   "outputs": [
    {
     "data": {
      "text/html": [
       "<div>\n",
       "<style scoped>\n",
       "    .dataframe tbody tr th:only-of-type {\n",
       "        vertical-align: middle;\n",
       "    }\n",
       "\n",
       "    .dataframe tbody tr th {\n",
       "        vertical-align: top;\n",
       "    }\n",
       "\n",
       "    .dataframe thead th {\n",
       "        text-align: right;\n",
       "    }\n",
       "</style>\n",
       "<table border=\"1\" class=\"dataframe\">\n",
       "  <thead>\n",
       "    <tr style=\"text-align: right;\">\n",
       "      <th></th>\n",
       "      <th>OrderID</th>\n",
       "      <th>Item</th>\n",
       "    </tr>\n",
       "  </thead>\n",
       "  <tbody>\n",
       "    <tr>\n",
       "      <th>0</th>\n",
       "      <td>1001</td>\n",
       "      <td>Apples</td>\n",
       "    </tr>\n",
       "    <tr>\n",
       "      <th>1</th>\n",
       "      <td>1001</td>\n",
       "      <td>Milk</td>\n",
       "    </tr>\n",
       "    <tr>\n",
       "      <th>2</th>\n",
       "      <td>1001</td>\n",
       "      <td>Yogurt</td>\n",
       "    </tr>\n",
       "    <tr>\n",
       "      <th>3</th>\n",
       "      <td>1001</td>\n",
       "      <td>Bananas</td>\n",
       "    </tr>\n",
       "    <tr>\n",
       "      <th>4</th>\n",
       "      <td>1002</td>\n",
       "      <td>Milk</td>\n",
       "    </tr>\n",
       "    <tr>\n",
       "      <th>5</th>\n",
       "      <td>1002</td>\n",
       "      <td>Bananas</td>\n",
       "    </tr>\n",
       "    <tr>\n",
       "      <th>6</th>\n",
       "      <td>1002</td>\n",
       "      <td>Cereal</td>\n",
       "    </tr>\n",
       "    <tr>\n",
       "      <th>7</th>\n",
       "      <td>1002</td>\n",
       "      <td>Bread</td>\n",
       "    </tr>\n",
       "    <tr>\n",
       "      <th>8</th>\n",
       "      <td>1002</td>\n",
       "      <td>Yogurt</td>\n",
       "    </tr>\n",
       "    <tr>\n",
       "      <th>9</th>\n",
       "      <td>1003</td>\n",
       "      <td>Bananas</td>\n",
       "    </tr>\n",
       "  </tbody>\n",
       "</table>\n",
       "</div>"
      ],
      "text/plain": [
       "   OrderID     Item\n",
       "0     1001   Apples\n",
       "1     1001     Milk\n",
       "2     1001   Yogurt\n",
       "3     1001  Bananas\n",
       "4     1002     Milk\n",
       "5     1002  Bananas\n",
       "6     1002   Cereal\n",
       "7     1002    Bread\n",
       "8     1002   Yogurt\n",
       "9     1003  Bananas"
      ]
     },
     "execution_count": 1,
     "metadata": {},
     "output_type": "execute_result"
    }
   ],
   "source": [
    "# Create a more sophisticated, larger synthetic transaction dataset\n",
    "import pandas as pd\n",
    "import numpy as np\n",
    "\n",
    "np.random.seed(42)\n",
    "\n",
    "# Define a pool of items and simulate 50 orders\n",
    "items = ['Milk', 'Bread', 'Butter', 'Eggs', 'Cheese', 'Apples', 'Bananas', 'Juice', 'Cereal', 'Yogurt']\n",
    "n_orders = 50\n",
    "\n",
    "# Generate synthetic transactions\n",
    "transactions = []\n",
    "for order_id in range(1001, 1001 + n_orders):\n",
    "    basket_size = np.random.randint(2, 6)  # each order has 2–5 items\n",
    "    selected_items = np.random.choice(items, size=basket_size, replace=False)\n",
    "    for item in selected_items:\n",
    "        transactions.append({'OrderID': order_id, 'Item': item})\n",
    "\n",
    "df = pd.DataFrame(transactions)\n",
    "df.head(10)\n"
   ]
  },
  {
   "cell_type": "markdown",
   "metadata": {},
   "source": [
    "<a id=\"preprocessing\"></a>\n",
    "#### 🧹 Preprocessing / Transaction Formatting"
   ]
  },
  {
   "cell_type": "code",
   "execution_count": 2,
   "metadata": {},
   "outputs": [
    {
     "data": {
      "text/html": [
       "<div>\n",
       "<style scoped>\n",
       "    .dataframe tbody tr th:only-of-type {\n",
       "        vertical-align: middle;\n",
       "    }\n",
       "\n",
       "    .dataframe tbody tr th {\n",
       "        vertical-align: top;\n",
       "    }\n",
       "\n",
       "    .dataframe thead th {\n",
       "        text-align: right;\n",
       "    }\n",
       "</style>\n",
       "<table border=\"1\" class=\"dataframe\">\n",
       "  <thead>\n",
       "    <tr style=\"text-align: right;\">\n",
       "      <th>Item</th>\n",
       "      <th>Apples</th>\n",
       "      <th>Bananas</th>\n",
       "      <th>Bread</th>\n",
       "      <th>Butter</th>\n",
       "      <th>Cereal</th>\n",
       "      <th>Cheese</th>\n",
       "      <th>Eggs</th>\n",
       "      <th>Juice</th>\n",
       "      <th>Milk</th>\n",
       "      <th>Yogurt</th>\n",
       "    </tr>\n",
       "    <tr>\n",
       "      <th>OrderID</th>\n",
       "      <th></th>\n",
       "      <th></th>\n",
       "      <th></th>\n",
       "      <th></th>\n",
       "      <th></th>\n",
       "      <th></th>\n",
       "      <th></th>\n",
       "      <th></th>\n",
       "      <th></th>\n",
       "      <th></th>\n",
       "    </tr>\n",
       "  </thead>\n",
       "  <tbody>\n",
       "    <tr>\n",
       "      <th>1001</th>\n",
       "      <td>1</td>\n",
       "      <td>1</td>\n",
       "      <td>0</td>\n",
       "      <td>0</td>\n",
       "      <td>0</td>\n",
       "      <td>0</td>\n",
       "      <td>0</td>\n",
       "      <td>0</td>\n",
       "      <td>1</td>\n",
       "      <td>1</td>\n",
       "    </tr>\n",
       "    <tr>\n",
       "      <th>1002</th>\n",
       "      <td>0</td>\n",
       "      <td>1</td>\n",
       "      <td>1</td>\n",
       "      <td>0</td>\n",
       "      <td>1</td>\n",
       "      <td>0</td>\n",
       "      <td>0</td>\n",
       "      <td>0</td>\n",
       "      <td>1</td>\n",
       "      <td>1</td>\n",
       "    </tr>\n",
       "    <tr>\n",
       "      <th>1003</th>\n",
       "      <td>0</td>\n",
       "      <td>1</td>\n",
       "      <td>0</td>\n",
       "      <td>1</td>\n",
       "      <td>1</td>\n",
       "      <td>0</td>\n",
       "      <td>0</td>\n",
       "      <td>0</td>\n",
       "      <td>0</td>\n",
       "      <td>0</td>\n",
       "    </tr>\n",
       "    <tr>\n",
       "      <th>1004</th>\n",
       "      <td>1</td>\n",
       "      <td>0</td>\n",
       "      <td>1</td>\n",
       "      <td>0</td>\n",
       "      <td>1</td>\n",
       "      <td>1</td>\n",
       "      <td>0</td>\n",
       "      <td>0</td>\n",
       "      <td>0</td>\n",
       "      <td>0</td>\n",
       "    </tr>\n",
       "    <tr>\n",
       "      <th>1005</th>\n",
       "      <td>1</td>\n",
       "      <td>0</td>\n",
       "      <td>0</td>\n",
       "      <td>1</td>\n",
       "      <td>0</td>\n",
       "      <td>0</td>\n",
       "      <td>0</td>\n",
       "      <td>1</td>\n",
       "      <td>0</td>\n",
       "      <td>1</td>\n",
       "    </tr>\n",
       "    <tr>\n",
       "      <th>1006</th>\n",
       "      <td>0</td>\n",
       "      <td>0</td>\n",
       "      <td>0</td>\n",
       "      <td>0</td>\n",
       "      <td>0</td>\n",
       "      <td>0</td>\n",
       "      <td>0</td>\n",
       "      <td>1</td>\n",
       "      <td>1</td>\n",
       "      <td>1</td>\n",
       "    </tr>\n",
       "    <tr>\n",
       "      <th>1007</th>\n",
       "      <td>1</td>\n",
       "      <td>0</td>\n",
       "      <td>0</td>\n",
       "      <td>0</td>\n",
       "      <td>1</td>\n",
       "      <td>1</td>\n",
       "      <td>0</td>\n",
       "      <td>0</td>\n",
       "      <td>0</td>\n",
       "      <td>1</td>\n",
       "    </tr>\n",
       "    <tr>\n",
       "      <th>1008</th>\n",
       "      <td>0</td>\n",
       "      <td>0</td>\n",
       "      <td>0</td>\n",
       "      <td>1</td>\n",
       "      <td>0</td>\n",
       "      <td>0</td>\n",
       "      <td>0</td>\n",
       "      <td>1</td>\n",
       "      <td>1</td>\n",
       "      <td>0</td>\n",
       "    </tr>\n",
       "    <tr>\n",
       "      <th>1009</th>\n",
       "      <td>0</td>\n",
       "      <td>0</td>\n",
       "      <td>0</td>\n",
       "      <td>1</td>\n",
       "      <td>1</td>\n",
       "      <td>1</td>\n",
       "      <td>0</td>\n",
       "      <td>0</td>\n",
       "      <td>0</td>\n",
       "      <td>0</td>\n",
       "    </tr>\n",
       "    <tr>\n",
       "      <th>1010</th>\n",
       "      <td>0</td>\n",
       "      <td>1</td>\n",
       "      <td>0</td>\n",
       "      <td>1</td>\n",
       "      <td>0</td>\n",
       "      <td>0</td>\n",
       "      <td>0</td>\n",
       "      <td>0</td>\n",
       "      <td>0</td>\n",
       "      <td>0</td>\n",
       "    </tr>\n",
       "  </tbody>\n",
       "</table>\n",
       "</div>"
      ],
      "text/plain": [
       "Item     Apples  Bananas  Bread  Butter  Cereal  Cheese  Eggs  Juice  Milk  \\\n",
       "OrderID                                                                      \n",
       "1001          1        1      0       0       0       0     0      0     1   \n",
       "1002          0        1      1       0       1       0     0      0     1   \n",
       "1003          0        1      0       1       1       0     0      0     0   \n",
       "1004          1        0      1       0       1       1     0      0     0   \n",
       "1005          1        0      0       1       0       0     0      1     0   \n",
       "1006          0        0      0       0       0       0     0      1     1   \n",
       "1007          1        0      0       0       1       1     0      0     0   \n",
       "1008          0        0      0       1       0       0     0      1     1   \n",
       "1009          0        0      0       1       1       1     0      0     0   \n",
       "1010          0        1      0       1       0       0     0      0     0   \n",
       "\n",
       "Item     Yogurt  \n",
       "OrderID          \n",
       "1001          1  \n",
       "1002          1  \n",
       "1003          0  \n",
       "1004          0  \n",
       "1005          1  \n",
       "1006          1  \n",
       "1007          1  \n",
       "1008          0  \n",
       "1009          0  \n",
       "1010          0  "
      ]
     },
     "execution_count": 2,
     "metadata": {},
     "output_type": "execute_result"
    }
   ],
   "source": [
    "# Convert transaction data to basket-format binary matrix\n",
    "basket = df.groupby(['OrderID', 'Item']).size().unstack(fill_value=0)\n",
    "\n",
    "# Binarize: any count > 0 becomes 1 (transactional presence)\n",
    "basket = basket.applymap(lambda x: 1 if x > 0 else 0)\n",
    "basket.head(10)\n"
   ]
  },
  {
   "cell_type": "markdown",
   "metadata": {},
   "source": [
    "<a id=\"frequency-encoding\"></a>\n",
    "#### 🧮 Frequency Encoding (Optional)"
   ]
  },
  {
   "cell_type": "markdown",
   "metadata": {},
   "source": [
    "<details><summary><strong>📖 Click to Expand</strong></summary>\n",
    "\n",
    "Sometimes it's helpful to **analyze item frequency** — how often each product is purchased — before mining rules.  \n",
    "This helps you:\n",
    "\n",
    "- Spot dominant or underrepresented products\n",
    "- Filter rare items (e.g., items bought < 2 times)\n",
    "- Tune support thresholds more intelligently\n",
    "\n",
    "</details>\n"
   ]
  },
  {
   "cell_type": "markdown",
   "metadata": {},
   "source": [
    "[Back to the top](#Contents)\n",
    "___"
   ]
  },
  {
   "cell_type": "markdown",
   "metadata": {},
   "source": [
    "<a id=\"eda\"></a>\n",
    "# 📊 Exploratory Data Analysis"
   ]
  },
  {
   "cell_type": "markdown",
   "metadata": {},
   "source": [
    "<a id=\"item-frequency-plot\"></a>\n",
    "#### 📈 Item Frequency Plot"
   ]
  },
  {
   "cell_type": "code",
   "execution_count": 3,
   "metadata": {},
   "outputs": [
    {
     "name": "stderr",
     "output_type": "stream",
     "text": [
      "/var/folders/dg/01ppfw3n6_jbnx4xdx0vdmj40000gn/T/ipykernel_3266/1315152232.py:12: UserWarning: Glyph 128200 (\\N{CHART WITH UPWARDS TREND}) missing from current font.\n",
      "  plt.tight_layout()\n",
      "/Users/ashrithreddy/anaconda3/lib/python3.11/site-packages/IPython/core/pylabtools.py:152: UserWarning: Glyph 128200 (\\N{CHART WITH UPWARDS TREND}) missing from current font.\n",
      "  fig.canvas.print_figure(bytes_io, **kw)\n"
     ]
    },
    {
     "data": {
      "image/png": "[encoded data removed]",
      "text/plain": [
       "<Figure size 1000x400 with 1 Axes>"
      ]
     },
     "metadata": {},
     "output_type": "display_data"
    }
   ],
   "source": [
    "import matplotlib.pyplot as plt\n",
    "\n",
    "# Frequency of each item across all orders\n",
    "item_freq = basket.sum().sort_values(ascending=False)\n",
    "\n",
    "plt.figure(figsize=(10, 4))\n",
    "item_freq.plot(kind='bar', color='skyblue')\n",
    "plt.title(\"📈 Item Frequency Across Transactions\")\n",
    "plt.ylabel(\"Count\")\n",
    "plt.xticks(rotation=45, ha='right')\n",
    "plt.grid(axis='y', linestyle='--', alpha=0.6)\n",
    "plt.tight_layout()\n",
    "plt.show()\n"
   ]
  },
  {
   "cell_type": "markdown",
   "metadata": {},
   "source": [
    "<a id=\"itemset-stats\"></a>\n",
    "#### 📉 Itemset Statistics"
   ]
  },
  {
   "cell_type": "markdown",
   "metadata": {},
   "source": [
    "<details><summary><strong>📖 Click to Expand</strong></summary>\n",
    "\n",
    "This gives you a sense of **basket richness** — how many items customers typically buy per transaction.  \n",
    "Use this to evaluate if the data is too sparse or too dense before rule mining.\n",
    "\n",
    "</details>\n"
   ]
  },
  {
   "cell_type": "code",
   "execution_count": 4,
   "metadata": {},
   "outputs": [
    {
     "name": "stdout",
     "output_type": "stream",
     "text": [
      "🧺 Average basket size: 3.48 items\n",
      "📉 Smallest basket: 2 items\n",
      "📈 Largest basket: 5 items\n"
     ]
    }
   ],
   "source": [
    "# basket['BasketSize'] = \n",
    "# basket['BasketSize'].describe()\n",
    "\n",
    "mean_basket = basket.sum(axis=1).mean()\n",
    "min_basket = basket.sum(axis=1).min()\n",
    "max_basket = basket.sum(axis=1).max()\n",
    "\n",
    "print(f\"🧺 Average basket size: {mean_basket:.2f} items\")\n",
    "print(f\"📉 Smallest basket: {min_basket} items\")\n",
    "print(f\"📈 Largest basket: {max_basket} items\")"
   ]
  },
  {
   "cell_type": "markdown",
   "metadata": {},
   "source": [
    "[Back to the top](#Contents)\n",
    "___"
   ]
  },
  {
   "cell_type": "markdown",
   "metadata": {},
   "source": [
    "<a id=\"apriori\"></a>\n",
    "# 🧰 Apriori Algorithm\n",
    "\n"
   ]
  },
  {
   "cell_type": "markdown",
   "metadata": {},
   "source": [
    "<details><summary><strong>📖 Click to Expand</strong></summary>\n",
    "\n",
    "Apriori is a classic algorithm that helps you **find product combinations that occur frequently** in customer orders.\n",
    "\n",
    "The core idea:\n",
    "> \"If smaller combos are rare, bigger combos with those items will also be rare.\"\n",
    "\n",
    "Apriori starts with individual items, then builds up to larger combinations **only if smaller ones are frequent**.  \n",
    "This keeps the search fast and focused.\n",
    "\n",
    "You'll use Apriori to:\n",
    "- Extract common itemsets\n",
    "- Feed those into a rule builder\n",
    "- Surface patterns like “If A is bought, B follows”\n",
    "\n",
    "</details>\n"
   ]
  },
  {
   "cell_type": "markdown",
   "metadata": {},
   "source": [
    "<a id=\"apriori-params\"></a>\n",
    "#### ⚙️ Setup Parameters\n",
    "\n"
   ]
  },
  {
   "cell_type": "markdown",
   "metadata": {},
   "source": [
    "<details><summary><strong>📖 Click to Expand</strong></summary>\n",
    "\n",
    "Apriori requires setting three thresholds to control what gets mined:\n",
    "\n",
    "- **min_support**: How often a product combo occurs  \n",
    "  → \"Only show me combos bought in at least 10% of orders\"\n",
    "\n",
    "- **min_confidence**: How reliable a rule is  \n",
    "  → \"If people buy A, how often do they also buy B?\"\n",
    "\n",
    "- **min_lift**: Does the combo actually matter or is it random?  \n",
    "  → Lift > 1 = better than chance\n",
    "\n",
    "You’ll usually:\n",
    "- Use support to filter volume\n",
    "- Use confidence to filter risk\n",
    "- Use lift to filter noise\n",
    "\n",
    "</details>\n"
   ]
  },
  {
   "cell_type": "code",
   "execution_count": 5,
   "metadata": {},
   "outputs": [],
   "source": [
    "# Set thresholds for rule mining\n",
    "min_support = 0.1       # Appears in at least 10% of orders\n",
    "min_confidence = 0.5    # At least 50% confidence in the rule\n",
    "min_lift = 1.2          # Must be better than chance\n"
   ]
  },
  {
   "cell_type": "markdown",
   "metadata": {},
   "source": [
    "<a id=\"frequent-itemsets\"></a>\n",
    "#### 📜 Generate Frequent Itemsets\n",
    "\n"
   ]
  },
  {
   "cell_type": "markdown",
   "metadata": {},
   "source": [
    "<details><summary><strong>📖 Click to Expand</strong></summary>\n",
    "\n",
    "Frequent itemsets are **combinations of products** that occur together more than the minimum support.\n",
    "\n",
    "For example:  \n",
    "{Bread, Butter} → Support = 0.18 → means it appeared in 18% of all orders\n",
    "\n",
    "These are the **building blocks** for generating association rules.\n",
    "\n",
    "</details>\n"
   ]
  },
  {
   "cell_type": "code",
   "execution_count": 6,
   "metadata": {},
   "outputs": [
    {
     "name": "stderr",
     "output_type": "stream",
     "text": [
      "/Users/ashrithreddy/anaconda3/lib/python3.11/site-packages/mlxtend/frequent_patterns/fpcommon.py:109: DeprecationWarning: DataFrames with non-bool types result in worse computationalperformance and their support might be discontinued in the future.Please use a DataFrame with bool type\n",
      "  warnings.warn(\n"
     ]
    },
    {
     "data": {
      "text/html": [
       "<div>\n",
       "<style scoped>\n",
       "    .dataframe tbody tr th:only-of-type {\n",
       "        vertical-align: middle;\n",
       "    }\n",
       "\n",
       "    .dataframe tbody tr th {\n",
       "        vertical-align: top;\n",
       "    }\n",
       "\n",
       "    .dataframe thead th {\n",
       "        text-align: right;\n",
       "    }\n",
       "</style>\n",
       "<table border=\"1\" class=\"dataframe\">\n",
       "  <thead>\n",
       "    <tr style=\"text-align: right;\">\n",
       "      <th></th>\n",
       "      <th>support</th>\n",
       "      <th>itemsets</th>\n",
       "    </tr>\n",
       "  </thead>\n",
       "  <tbody>\n",
       "    <tr>\n",
       "      <th>4</th>\n",
       "      <td>0.46</td>\n",
       "      <td>(Cereal)</td>\n",
       "    </tr>\n",
       "    <tr>\n",
       "      <th>2</th>\n",
       "      <td>0.44</td>\n",
       "      <td>(Bread)</td>\n",
       "    </tr>\n",
       "    <tr>\n",
       "      <th>9</th>\n",
       "      <td>0.42</td>\n",
       "      <td>(Yogurt)</td>\n",
       "    </tr>\n",
       "    <tr>\n",
       "      <th>5</th>\n",
       "      <td>0.36</td>\n",
       "      <td>(Cheese)</td>\n",
       "    </tr>\n",
       "    <tr>\n",
       "      <th>0</th>\n",
       "      <td>0.34</td>\n",
       "      <td>(Apples)</td>\n",
       "    </tr>\n",
       "  </tbody>\n",
       "</table>\n",
       "</div>"
      ],
      "text/plain": [
       "   support  itemsets\n",
       "4     0.46  (Cereal)\n",
       "2     0.44   (Bread)\n",
       "9     0.42  (Yogurt)\n",
       "5     0.36  (Cheese)\n",
       "0     0.34  (Apples)"
      ]
     },
     "execution_count": 6,
     "metadata": {},
     "output_type": "execute_result"
    }
   ],
   "source": [
    "from mlxtend.frequent_patterns import apriori\n",
    "\n",
    "# Generate frequent itemsets\n",
    "frequent_itemsets = apriori(basket, # .drop(columns='BasketSize') \n",
    "                            min_support=min_support, \n",
    "                            use_colnames=True)\n",
    "\n",
    "# Sort by support to show top combos\n",
    "frequent_itemsets.sort_values(by='support', ascending=False).head()\n"
   ]
  },
  {
   "cell_type": "markdown",
   "metadata": {},
   "source": [
    "<a id=\"build-rules\"></a>\n",
    "#### 🔗 Build Association Rules\n",
    "\n"
   ]
  },
  {
   "cell_type": "markdown",
   "metadata": {},
   "source": [
    "<details><summary><strong>📖 Click to Expand</strong></summary>\n",
    "\n",
    "Once you have frequent itemsets, you can build **association rules** like:\n",
    "\n",
    "> If A is bought → B is also likely  \n",
    "> Example: {Bread} → {Butter}\n",
    "\n",
    "Each rule is scored using:\n",
    "\n",
    "- **Support**: How often this combo appears\n",
    "- **Confidence**: How reliable this rule is\n",
    "- **Lift**: How much stronger this rule is compared to random chance\n",
    "\n",
    "You can filter rules to focus on high-impact patterns.\n",
    "\n",
    "</details>\n"
   ]
  },
  {
   "cell_type": "code",
   "execution_count": 7,
   "metadata": {},
   "outputs": [
    {
     "data": {
      "text/html": [
       "<div>\n",
       "<style scoped>\n",
       "    .dataframe tbody tr th:only-of-type {\n",
       "        vertical-align: middle;\n",
       "    }\n",
       "\n",
       "    .dataframe tbody tr th {\n",
       "        vertical-align: top;\n",
       "    }\n",
       "\n",
       "    .dataframe thead th {\n",
       "        text-align: right;\n",
       "    }\n",
       "</style>\n",
       "<table border=\"1\" class=\"dataframe\">\n",
       "  <thead>\n",
       "    <tr style=\"text-align: right;\">\n",
       "      <th></th>\n",
       "      <th>antecedents</th>\n",
       "      <th>consequents</th>\n",
       "      <th>support</th>\n",
       "      <th>confidence</th>\n",
       "      <th>lift</th>\n",
       "    </tr>\n",
       "  </thead>\n",
       "  <tbody>\n",
       "    <tr>\n",
       "      <th>8</th>\n",
       "      <td>(Cereal, Apples)</td>\n",
       "      <td>(Cheese)</td>\n",
       "      <td>0.12</td>\n",
       "      <td>0.857143</td>\n",
       "      <td>2.380952</td>\n",
       "    </tr>\n",
       "    <tr>\n",
       "      <th>5</th>\n",
       "      <td>(Eggs)</td>\n",
       "      <td>(Yogurt)</td>\n",
       "      <td>0.14</td>\n",
       "      <td>0.777778</td>\n",
       "      <td>1.851852</td>\n",
       "    </tr>\n",
       "    <tr>\n",
       "      <th>6</th>\n",
       "      <td>(Cheese, Cereal)</td>\n",
       "      <td>(Apples)</td>\n",
       "      <td>0.12</td>\n",
       "      <td>0.600000</td>\n",
       "      <td>1.764706</td>\n",
       "    </tr>\n",
       "    <tr>\n",
       "      <th>7</th>\n",
       "      <td>(Cheese, Apples)</td>\n",
       "      <td>(Cereal)</td>\n",
       "      <td>0.12</td>\n",
       "      <td>0.750000</td>\n",
       "      <td>1.630435</td>\n",
       "    </tr>\n",
       "    <tr>\n",
       "      <th>2</th>\n",
       "      <td>(Cheese)</td>\n",
       "      <td>(Cereal)</td>\n",
       "      <td>0.20</td>\n",
       "      <td>0.555556</td>\n",
       "      <td>1.207729</td>\n",
       "    </tr>\n",
       "  </tbody>\n",
       "</table>\n",
       "</div>"
      ],
      "text/plain": [
       "        antecedents consequents  support  confidence      lift\n",
       "8  (Cereal, Apples)    (Cheese)     0.12    0.857143  2.380952\n",
       "5            (Eggs)    (Yogurt)     0.14    0.777778  1.851852\n",
       "6  (Cheese, Cereal)    (Apples)     0.12    0.600000  1.764706\n",
       "7  (Cheese, Apples)    (Cereal)     0.12    0.750000  1.630435\n",
       "2          (Cheese)    (Cereal)     0.20    0.555556  1.207729"
      ]
     },
     "execution_count": 7,
     "metadata": {},
     "output_type": "execute_result"
    }
   ],
   "source": [
    "from mlxtend.frequent_patterns import association_rules\n",
    "\n",
    "# Build rules from itemsets\n",
    "rules = association_rules(frequent_itemsets, \n",
    "                          metric=\"lift\", \n",
    "                          min_threshold=min_lift)\n",
    "\n",
    "# Filter by confidence\n",
    "rules = rules[rules['confidence'] >= min_confidence]\n",
    "\n",
    "# Show top rules\n",
    "rules[['antecedents', 'consequents', 'support', 'confidence', 'lift']] \\\n",
    "    .sort_values(by='lift', ascending=False).head()\n"
   ]
  },
  {
   "cell_type": "markdown",
   "metadata": {},
   "source": [
    "[Back to the top](#Contents)\n",
    "___"
   ]
  },
  {
   "cell_type": "markdown",
   "metadata": {},
   "source": [
    "<a id=\"rule-eval\"></a>\n",
    "# 🧪 Rule Evaluation\n",
    "\n"
   ]
  },
  {
   "cell_type": "markdown",
   "metadata": {},
   "source": [
    "<a id=\"basic-metrics\"></a>\n",
    "#### 📏 Support, Confidence, Lift\n",
    "\n"
   ]
  },
  {
   "cell_type": "markdown",
   "metadata": {},
   "source": [
    "<details><summary><strong>📖 Click to Expand</strong></summary>\n",
    "\n",
    "These are the **core metrics** used to evaluate association rules:\n",
    "\n",
    "- **Support** = % of total orders that contain both A and B  \n",
    "  → \"How common is this combo?\"\n",
    "\n",
    "- **Confidence** = % of orders with A that also have B  \n",
    "  → \"If a customer buys A, how often do they buy B too?\"\n",
    "\n",
    "- **Lift** = How much more likely B is, given A, compared to random  \n",
    "  → Lift > 1 = meaningful; Lift < 1 = suppressive\n",
    "\n",
    "You’ll use these to filter **useful rules** from noise.\n",
    "\n",
    "</details>\n"
   ]
  },
  {
   "cell_type": "code",
   "execution_count": 8,
   "metadata": {},
   "outputs": [
    {
     "data": {
      "text/html": [
       "<div>\n",
       "<style scoped>\n",
       "    .dataframe tbody tr th:only-of-type {\n",
       "        vertical-align: middle;\n",
       "    }\n",
       "\n",
       "    .dataframe tbody tr th {\n",
       "        vertical-align: top;\n",
       "    }\n",
       "\n",
       "    .dataframe thead th {\n",
       "        text-align: right;\n",
       "    }\n",
       "</style>\n",
       "<table border=\"1\" class=\"dataframe\">\n",
       "  <thead>\n",
       "    <tr style=\"text-align: right;\">\n",
       "      <th></th>\n",
       "      <th>support</th>\n",
       "      <th>confidence</th>\n",
       "      <th>lift</th>\n",
       "    </tr>\n",
       "  </thead>\n",
       "  <tbody>\n",
       "    <tr>\n",
       "      <th>count</th>\n",
       "      <td>6.000000</td>\n",
       "      <td>6.000000</td>\n",
       "      <td>6.000000</td>\n",
       "    </tr>\n",
       "    <tr>\n",
       "      <th>mean</th>\n",
       "      <td>0.133333</td>\n",
       "      <td>0.682672</td>\n",
       "      <td>1.673901</td>\n",
       "    </tr>\n",
       "    <tr>\n",
       "      <th>std</th>\n",
       "      <td>0.035024</td>\n",
       "      <td>0.128973</td>\n",
       "      <td>0.441895</td>\n",
       "    </tr>\n",
       "    <tr>\n",
       "      <th>min</th>\n",
       "      <td>0.100000</td>\n",
       "      <td>0.555556</td>\n",
       "      <td>1.207729</td>\n",
       "    </tr>\n",
       "    <tr>\n",
       "      <th>25%</th>\n",
       "      <td>0.120000</td>\n",
       "      <td>0.566667</td>\n",
       "      <td>1.313406</td>\n",
       "    </tr>\n",
       "    <tr>\n",
       "      <th>50%</th>\n",
       "      <td>0.120000</td>\n",
       "      <td>0.675000</td>\n",
       "      <td>1.697570</td>\n",
       "    </tr>\n",
       "    <tr>\n",
       "      <th>75%</th>\n",
       "      <td>0.135000</td>\n",
       "      <td>0.770833</td>\n",
       "      <td>1.830065</td>\n",
       "    </tr>\n",
       "    <tr>\n",
       "      <th>max</th>\n",
       "      <td>0.200000</td>\n",
       "      <td>0.857143</td>\n",
       "      <td>2.380952</td>\n",
       "    </tr>\n",
       "  </tbody>\n",
       "</table>\n",
       "</div>"
      ],
      "text/plain": [
       "        support  confidence      lift\n",
       "count  6.000000    6.000000  6.000000\n",
       "mean   0.133333    0.682672  1.673901\n",
       "std    0.035024    0.128973  0.441895\n",
       "min    0.100000    0.555556  1.207729\n",
       "25%    0.120000    0.566667  1.313406\n",
       "50%    0.120000    0.675000  1.697570\n",
       "75%    0.135000    0.770833  1.830065\n",
       "max    0.200000    0.857143  2.380952"
      ]
     },
     "execution_count": 8,
     "metadata": {},
     "output_type": "execute_result"
    }
   ],
   "source": [
    "rules[['support', 'confidence', 'lift']].describe()"
   ]
  },
  {
   "cell_type": "markdown",
   "metadata": {},
   "source": [
    "<a id=\"bonus-metrics\"></a>\n",
    "#### 📐 Conviction, Leverage (Bonus)\n",
    "\n"
   ]
  },
  {
   "cell_type": "markdown",
   "metadata": {},
   "source": [
    "<details><summary><strong>📖 Click to Expand</strong></summary>\n",
    "\n",
    "These are **bonus metrics** that add nuance:\n",
    "\n",
    "- **Leverage** = How far the observed support is from expected support (under independence)  \n",
    "  → Bigger = more surprising\n",
    "\n",
    "- **Conviction** = How likely A leads to B, compared to B not happening  \n",
    "  → Conviction of 1 = no info; higher = stronger rule\n",
    "\n",
    "Most people stick to Support–Confidence–Lift, but these help in **fine-tuning or ranking** rules.\n",
    "\n",
    "</details>\n"
   ]
  },
  {
   "cell_type": "code",
   "execution_count": 9,
   "metadata": {},
   "outputs": [
    {
     "data": {
      "text/html": [
       "<div>\n",
       "<style scoped>\n",
       "    .dataframe tbody tr th:only-of-type {\n",
       "        vertical-align: middle;\n",
       "    }\n",
       "\n",
       "    .dataframe tbody tr th {\n",
       "        vertical-align: top;\n",
       "    }\n",
       "\n",
       "    .dataframe thead th {\n",
       "        text-align: right;\n",
       "    }\n",
       "</style>\n",
       "<table border=\"1\" class=\"dataframe\">\n",
       "  <thead>\n",
       "    <tr style=\"text-align: right;\">\n",
       "      <th></th>\n",
       "      <th>leverage</th>\n",
       "      <th>conviction</th>\n",
       "    </tr>\n",
       "  </thead>\n",
       "  <tbody>\n",
       "    <tr>\n",
       "      <th>count</th>\n",
       "      <td>6.000000</td>\n",
       "      <td>6.000000</td>\n",
       "    </tr>\n",
       "    <tr>\n",
       "      <th>mean</th>\n",
       "      <td>0.047333</td>\n",
       "      <td>2.221667</td>\n",
       "    </tr>\n",
       "    <tr>\n",
       "      <th>std</th>\n",
       "      <td>0.019417</td>\n",
       "      <td>1.233550</td>\n",
       "    </tr>\n",
       "    <tr>\n",
       "      <th>min</th>\n",
       "      <td>0.017200</td>\n",
       "      <td>1.215000</td>\n",
       "    </tr>\n",
       "    <tr>\n",
       "      <th>25%</th>\n",
       "      <td>0.037400</td>\n",
       "      <td>1.323750</td>\n",
       "    </tr>\n",
       "    <tr>\n",
       "      <th>50%</th>\n",
       "      <td>0.049200</td>\n",
       "      <td>1.905000</td>\n",
       "    </tr>\n",
       "    <tr>\n",
       "      <th>75%</th>\n",
       "      <td>0.061300</td>\n",
       "      <td>2.497500</td>\n",
       "    </tr>\n",
       "    <tr>\n",
       "      <th>max</th>\n",
       "      <td>0.069600</td>\n",
       "      <td>4.480000</td>\n",
       "    </tr>\n",
       "  </tbody>\n",
       "</table>\n",
       "</div>"
      ],
      "text/plain": [
       "       leverage  conviction\n",
       "count  6.000000    6.000000\n",
       "mean   0.047333    2.221667\n",
       "std    0.019417    1.233550\n",
       "min    0.017200    1.215000\n",
       "25%    0.037400    1.323750\n",
       "50%    0.049200    1.905000\n",
       "75%    0.061300    2.497500\n",
       "max    0.069600    4.480000"
      ]
     },
     "execution_count": 9,
     "metadata": {},
     "output_type": "execute_result"
    }
   ],
   "source": [
    "rules[['leverage', 'conviction']].describe()\n"
   ]
  },
  {
   "cell_type": "markdown",
   "metadata": {},
   "source": [
    "<a id=\"top-rules\"></a>\n",
    "#### 📋 Top Rules by Metric\n",
    "\n"
   ]
  },
  {
   "cell_type": "markdown",
   "metadata": {},
   "source": [
    "<details><summary><strong>📖 Click to Expand</strong></summary>\n",
    "\n",
    "Let’s pull out the **most interesting rules** based on each metric:\n",
    "\n",
    "- High **lift**: Strongest associations (most meaningful)\n",
    "- High **confidence**: Most reliable predictors\n",
    "- High **leverage**: Most unexpected combos\n",
    "\n",
    "This helps shortlist rules for action.\n",
    "\n",
    "</details>\n"
   ]
  },
  {
   "cell_type": "code",
   "execution_count": 10,
   "metadata": {},
   "outputs": [
    {
     "name": "stdout",
     "output_type": "stream",
     "text": [
      "\n",
      "📌 Top 5 Rules by lift\n",
      "\n",
      "📌 Top 5 Rules by confidence\n",
      "\n",
      "📌 Top 5 Rules by leverage\n"
     ]
    },
    {
     "data": {
      "text/html": [
       "<div>\n",
       "<style scoped>\n",
       "    .dataframe tbody tr th:only-of-type {\n",
       "        vertical-align: middle;\n",
       "    }\n",
       "\n",
       "    .dataframe tbody tr th {\n",
       "        vertical-align: top;\n",
       "    }\n",
       "\n",
       "    .dataframe thead th {\n",
       "        text-align: right;\n",
       "    }\n",
       "</style>\n",
       "<table border=\"1\" class=\"dataframe\">\n",
       "  <thead>\n",
       "    <tr style=\"text-align: right;\">\n",
       "      <th></th>\n",
       "      <th>antecedents</th>\n",
       "      <th>consequents</th>\n",
       "      <th>support</th>\n",
       "      <th>confidence</th>\n",
       "      <th>lift</th>\n",
       "      <th>leverage</th>\n",
       "    </tr>\n",
       "  </thead>\n",
       "  <tbody>\n",
       "    <tr>\n",
       "      <th>8</th>\n",
       "      <td>(Cereal, Apples)</td>\n",
       "      <td>(Cheese)</td>\n",
       "      <td>0.12</td>\n",
       "      <td>0.857143</td>\n",
       "      <td>2.380952</td>\n",
       "      <td>0.0696</td>\n",
       "    </tr>\n",
       "    <tr>\n",
       "      <th>5</th>\n",
       "      <td>(Eggs)</td>\n",
       "      <td>(Yogurt)</td>\n",
       "      <td>0.14</td>\n",
       "      <td>0.777778</td>\n",
       "      <td>1.851852</td>\n",
       "      <td>0.0644</td>\n",
       "    </tr>\n",
       "    <tr>\n",
       "      <th>6</th>\n",
       "      <td>(Cheese, Cereal)</td>\n",
       "      <td>(Apples)</td>\n",
       "      <td>0.12</td>\n",
       "      <td>0.600000</td>\n",
       "      <td>1.764706</td>\n",
       "      <td>0.0520</td>\n",
       "    </tr>\n",
       "    <tr>\n",
       "      <th>7</th>\n",
       "      <td>(Cheese, Apples)</td>\n",
       "      <td>(Cereal)</td>\n",
       "      <td>0.12</td>\n",
       "      <td>0.750000</td>\n",
       "      <td>1.630435</td>\n",
       "      <td>0.0464</td>\n",
       "    </tr>\n",
       "    <tr>\n",
       "      <th>2</th>\n",
       "      <td>(Cheese)</td>\n",
       "      <td>(Cereal)</td>\n",
       "      <td>0.20</td>\n",
       "      <td>0.555556</td>\n",
       "      <td>1.207729</td>\n",
       "      <td>0.0344</td>\n",
       "    </tr>\n",
       "  </tbody>\n",
       "</table>\n",
       "</div>"
      ],
      "text/plain": [
       "        antecedents consequents  support  confidence      lift  leverage\n",
       "8  (Cereal, Apples)    (Cheese)     0.12    0.857143  2.380952    0.0696\n",
       "5            (Eggs)    (Yogurt)     0.14    0.777778  1.851852    0.0644\n",
       "6  (Cheese, Cereal)    (Apples)     0.12    0.600000  1.764706    0.0520\n",
       "7  (Cheese, Apples)    (Cereal)     0.12    0.750000  1.630435    0.0464\n",
       "2          (Cheese)    (Cereal)     0.20    0.555556  1.207729    0.0344"
      ]
     },
     "execution_count": 10,
     "metadata": {},
     "output_type": "execute_result"
    }
   ],
   "source": [
    "def display_top_rules(rules, metric, n=5):\n",
    "    print(f\"\\n📌 Top {n} Rules by {metric}\")\n",
    "    return rules.sort_values(by=metric, ascending=False)[\n",
    "        ['antecedents', 'consequents', 'support', 'confidence', 'lift', metric]\n",
    "    ].head(n)\n",
    "\n",
    "display_top_rules(rules, 'lift')\n",
    "display_top_rules(rules, 'confidence')\n",
    "display_top_rules(rules, 'leverage')"
   ]
  },
  {
   "cell_type": "markdown",
   "metadata": {},
   "source": [
    "[Back to the top](#Contents)\n",
    "___"
   ]
  },
  {
   "cell_type": "markdown",
   "metadata": {},
   "source": [
    "<a id=\"interpretation\"></a>\n",
    "# 🧠 Interpretation\n",
    "\n"
   ]
  },
  {
   "cell_type": "markdown",
   "metadata": {},
   "source": [
    "<a id=\"business-context\"></a>\n",
    "#### 🧭 Business Context for Rules\n",
    "\n"
   ]
  },
  {
   "cell_type": "markdown",
   "metadata": {},
   "source": [
    "<details><summary><strong>📖 Click to Expand</strong></summary>\n",
    "\n",
    "A rule like `{Bread} → {Butter}` is just math — until you **attach meaning**.\n",
    "\n",
    "Here's how to read it in a business context:\n",
    "\n",
    "- **Support = 0.18** → This combo shows up in 18% of orders. That’s fairly common.\n",
    "- **Confidence = 0.6** → If someone buys Bread, they buy Butter 60% of the time.\n",
    "- **Lift = 2.0** → This is **twice as likely** as random chance. That’s a strong relationship.\n",
    "\n",
    "🔍 Now ask:\n",
    "- Should you **bundle** these items in promotions?\n",
    "- Is it worth adding **cross-sell nudges** in your UI?\n",
    "- Do these combos vary by **store, channel, or segment**?\n",
    "\n",
    "Raw rules are just the start — context makes them useful.\n",
    "\n",
    "</details>\n"
   ]
  },
  {
   "cell_type": "code",
   "execution_count": 11,
   "metadata": {},
   "outputs": [
    {
     "name": "stdout",
     "output_type": "stream",
     "text": [
      "🧠 If a customer buys Cereal, Apples, there's a 86% chance they'll also buy Cheese (Lift: 2.38, Support: 12%)\n",
      "🧠 If a customer buys Eggs, there's a 78% chance they'll also buy Yogurt (Lift: 1.85, Support: 14%)\n",
      "🧠 If a customer buys Cheese, Cereal, there's a 60% chance they'll also buy Apples (Lift: 1.76, Support: 12%)\n",
      "🧠 If a customer buys Cheese, Apples, there's a 75% chance they'll also buy Cereal (Lift: 1.63, Support: 12%)\n",
      "🧠 If a customer buys Cheese, there's a 56% chance they'll also buy Cereal (Lift: 1.21, Support: 20%)\n"
     ]
    }
   ],
   "source": [
    "def explain_rules(rules_df, n=5):\n",
    "    top = rules_df.sort_values(by='lift', ascending=False).head(n)\n",
    "    summaries = []\n",
    "\n",
    "    for _, row in top.iterrows():\n",
    "        ant = ', '.join(list(row['antecedents']))\n",
    "        con = ', '.join(list(row['consequents']))\n",
    "        support = row['support']\n",
    "        confidence = row['confidence']\n",
    "        lift = row['lift']\n",
    "\n",
    "        sentence = (f\"If a customer buys {ant}, there's a {confidence:.0%} chance they'll also buy {con} \"\n",
    "                    f\"(Lift: {lift:.2f}, Support: {support:.0%})\")\n",
    "\n",
    "        summaries.append(sentence)\n",
    "\n",
    "    for s in summaries:\n",
    "        print(\"🧠\", s)\n",
    "\n",
    "# Call the function to generate plain-English summaries for top 5 rules\n",
    "explain_rules(rules)"
   ]
  },
  {
   "cell_type": "markdown",
   "metadata": {},
   "source": [
    "<a id=\"rule-filtering\"></a>\n",
    "#### 📉 Redundant Rules / Filtering\n",
    "\n"
   ]
  },
  {
   "cell_type": "markdown",
   "metadata": {},
   "source": [
    "<details><summary><strong>📖 Click to Expand</strong></summary>\n",
    "\n",
    "Many rules **repeat the same signal** in longer forms. For example:\n",
    "\n",
    "- {Bread} → {Butter}  \n",
    "- {Bread, Milk} → {Butter}\n",
    "\n",
    "The second one isn't telling you much more than the first — it’s **redundant**.\n",
    "\n",
    "You can clean up noise by:\n",
    "- Filtering to rules with **unique antecedents**\n",
    "- Removing rules **nested inside others** (subset/superset logic)\n",
    "- Using metrics like **conviction** or **leverage** to prioritize surprise\n",
    "\n",
    "This improves signal quality — especially when presenting to non-technical teams.\n",
    "\n",
    "</details>\n"
   ]
  },
  {
   "cell_type": "code",
   "execution_count": 12,
   "metadata": {},
   "outputs": [
    {
     "name": "stdout",
     "output_type": "stream",
     "text": [
      "🧹 Final set: 6 rules after removing long/duplicated patterns\n"
     ]
    },
    {
     "data": {
      "text/html": [
       "<div>\n",
       "<style scoped>\n",
       "    .dataframe tbody tr th:only-of-type {\n",
       "        vertical-align: middle;\n",
       "    }\n",
       "\n",
       "    .dataframe tbody tr th {\n",
       "        vertical-align: top;\n",
       "    }\n",
       "\n",
       "    .dataframe thead th {\n",
       "        text-align: right;\n",
       "    }\n",
       "</style>\n",
       "<table border=\"1\" class=\"dataframe\">\n",
       "  <thead>\n",
       "    <tr style=\"text-align: right;\">\n",
       "      <th></th>\n",
       "      <th>antecedents</th>\n",
       "      <th>consequents</th>\n",
       "      <th>support</th>\n",
       "      <th>confidence</th>\n",
       "      <th>lift</th>\n",
       "    </tr>\n",
       "  </thead>\n",
       "  <tbody>\n",
       "    <tr>\n",
       "      <th>2</th>\n",
       "      <td>(Cheese)</td>\n",
       "      <td>(Cereal)</td>\n",
       "      <td>0.20</td>\n",
       "      <td>0.555556</td>\n",
       "      <td>1.207729</td>\n",
       "    </tr>\n",
       "    <tr>\n",
       "      <th>5</th>\n",
       "      <td>(Eggs)</td>\n",
       "      <td>(Yogurt)</td>\n",
       "      <td>0.14</td>\n",
       "      <td>0.777778</td>\n",
       "      <td>1.851852</td>\n",
       "    </tr>\n",
       "    <tr>\n",
       "      <th>6</th>\n",
       "      <td>(Cheese, Cereal)</td>\n",
       "      <td>(Apples)</td>\n",
       "      <td>0.12</td>\n",
       "      <td>0.600000</td>\n",
       "      <td>1.764706</td>\n",
       "    </tr>\n",
       "    <tr>\n",
       "      <th>7</th>\n",
       "      <td>(Cheese, Apples)</td>\n",
       "      <td>(Cereal)</td>\n",
       "      <td>0.12</td>\n",
       "      <td>0.750000</td>\n",
       "      <td>1.630435</td>\n",
       "    </tr>\n",
       "    <tr>\n",
       "      <th>8</th>\n",
       "      <td>(Cereal, Apples)</td>\n",
       "      <td>(Cheese)</td>\n",
       "      <td>0.12</td>\n",
       "      <td>0.857143</td>\n",
       "      <td>2.380952</td>\n",
       "    </tr>\n",
       "  </tbody>\n",
       "</table>\n",
       "</div>"
      ],
      "text/plain": [
       "        antecedents consequents  support  confidence      lift\n",
       "2          (Cheese)    (Cereal)     0.20    0.555556  1.207729\n",
       "5            (Eggs)    (Yogurt)     0.14    0.777778  1.851852\n",
       "6  (Cheese, Cereal)    (Apples)     0.12    0.600000  1.764706\n",
       "7  (Cheese, Apples)    (Cereal)     0.12    0.750000  1.630435\n",
       "8  (Cereal, Apples)    (Cheese)     0.12    0.857143  2.380952"
      ]
     },
     "execution_count": 12,
     "metadata": {},
     "output_type": "execute_result"
    }
   ],
   "source": [
    "# Filter: keep only rules with small antecedents (e.g. 1–2 items)\n",
    "rules_filtered = rules[rules['antecedents'].apply(lambda x: len(x) <= 2)]\n",
    "\n",
    "# Optional: drop rules that are subsets of others (basic deduplication)\n",
    "unique_rules = rules_filtered.drop_duplicates(subset=['antecedents', 'consequents'])\n",
    "\n",
    "print(f\"🧹 Final set: {len(unique_rules)} rules after removing long/duplicated patterns\")\n",
    "unique_rules[['antecedents', 'consequents', 'support', 'confidence', 'lift']].head()\n"
   ]
  },
  {
   "cell_type": "markdown",
   "metadata": {},
   "source": [
    "[Back to the top](#Contents)\n",
    "___"
   ]
  },
  {
   "cell_type": "markdown",
   "metadata": {},
   "source": [
    "<a id=\"visualizations\"></a>\n",
    "# 📊 Visualizations\n",
    "\n"
   ]
  },
  {
   "cell_type": "markdown",
   "metadata": {},
   "source": [
    "<a id=\"heatmap\"></a>\n",
    "#### 🧱 Heatmaps, Matrix\n",
    "\n"
   ]
  },
  {
   "cell_type": "code",
   "execution_count": 13,
   "metadata": {},
   "outputs": [
    {
     "name": "stderr",
     "output_type": "stream",
     "text": [
      "/var/folders/dg/01ppfw3n6_jbnx4xdx0vdmj40000gn/T/ipykernel_3266/1560166304.py:9: UserWarning: Glyph 129521 (\\N{BRICK}) missing from current font.\n",
      "  plt.tight_layout()\n",
      "/Users/ashrithreddy/anaconda3/lib/python3.11/site-packages/IPython/core/pylabtools.py:152: UserWarning: Glyph 129521 (\\N{BRICK}) missing from current font.\n",
      "  fig.canvas.print_figure(bytes_io, **kw)\n"
     ]
    },
    {
     "data": {
      "image/png": "[encoded data removed]",
      "text/plain": [
       "<Figure size 800x600 with 2 Axes>"
      ]
     },
     "metadata": {},
     "output_type": "display_data"
    }
   ],
   "source": [
    "import seaborn as sns\n",
    "import matplotlib.pyplot as plt\n",
    "\n",
    "co_matrix = basket.T @ basket # .drop(columns='BasketSize'), .drop(columns='BasketSize')\n",
    "plt.figure(figsize=(8, 6))\n",
    "sns.heatmap(co_matrix, cmap=\"Blues\", annot=False)\n",
    "plt.title(\"🧱 Item Co-Occurrence Matrix\")\n",
    "plt.xticks(rotation=45, ha='right')\n",
    "plt.tight_layout()\n",
    "plt.show()\n"
   ]
  },
  {
   "cell_type": "markdown",
   "metadata": {},
   "source": [
    "<a id=\"network-graph\"></a>\n",
    "#### 🕸 Network Graphs\n"
   ]
  },
  {
   "cell_type": "markdown",
   "metadata": {},
   "source": [
    "<details><summary><strong>📖 Click to Expand</strong></summary>\n",
    "\n",
    "This network graph visualizes association rules as **nodes and edges**:\n",
    "\n",
    "- Nodes = items\n",
    "- Edges = directional rule from A to B\n",
    "\n",
    "Stronger rules = thicker or darker edges.\n",
    "\n",
    "</details>\n"
   ]
  },
  {
   "cell_type": "code",
   "execution_count": 14,
   "metadata": {},
   "outputs": [
    {
     "name": "stderr",
     "output_type": "stream",
     "text": [
      "/var/folders/dg/01ppfw3n6_jbnx4xdx0vdmj40000gn/T/ipykernel_3266/3258460624.py:25: UserWarning: Glyph 128376 (\\N{SPIDER WEB}) missing from current font.\n",
      "  plt.tight_layout()\n",
      "/Users/ashrithreddy/anaconda3/lib/python3.11/site-packages/IPython/core/pylabtools.py:152: UserWarning: Glyph 128376 (\\N{SPIDER WEB}) missing from current font.\n",
      "  fig.canvas.print_figure(bytes_io, **kw)\n"
     ]
    },
    {
     "data": {
      "image/png": "[encoded data removed]",
      "text/plain": [
       "<Figure size 800x600 with 1 Axes>"
      ]
     },
     "metadata": {},
     "output_type": "display_data"
    }
   ],
   "source": [
    "import networkx as nx\n",
    "\n",
    "G = nx.DiGraph()\n",
    "\n",
    "for _, row in rules.head(10).iterrows():\n",
    "    for antecedent in row['antecedents']:\n",
    "        for consequent in row['consequents']:\n",
    "            G.add_edge(antecedent, consequent, weight=row['lift'])\n",
    "\n",
    "plt.figure(figsize=(8, 6))\n",
    "pos = nx.spring_layout(G, k=0.5, seed=42)\n",
    "\n",
    "edges = G.edges(data=True)\n",
    "weights = [d['weight'] for _, _, d in edges]\n",
    "\n",
    "nx.draw_networkx(G, pos,\n",
    "    with_labels=True,\n",
    "    node_color='lightblue',\n",
    "    edge_color=weights,\n",
    "    edge_cmap=plt.cm.Blues,\n",
    "    width=2.0\n",
    ")\n",
    "\n",
    "plt.title(\"🕸 Association Rule Network\")\n",
    "plt.tight_layout()\n",
    "plt.show()\n"
   ]
  },
  {
   "cell_type": "markdown",
   "metadata": {},
   "source": [
    "<a id=\"rule-barplot\"></a>\n",
    "#### 📊 Bar Chart of Top Rules\n",
    "\n"
   ]
  },
  {
   "cell_type": "code",
   "execution_count": 15,
   "metadata": {},
   "outputs": [
    {
     "name": "stderr",
     "output_type": "stream",
     "text": [
      "/var/folders/dg/01ppfw3n6_jbnx4xdx0vdmj40000gn/T/ipykernel_3266/212789155.py:10: UserWarning: Glyph 128202 (\\N{BAR CHART}) missing from current font.\n",
      "  plt.tight_layout()\n",
      "/Users/ashrithreddy/anaconda3/lib/python3.11/site-packages/IPython/core/pylabtools.py:152: UserWarning: Glyph 128202 (\\N{BAR CHART}) missing from current font.\n",
      "  fig.canvas.print_figure(bytes_io, **kw)\n"
     ]
    },
    {
     "data": {
      "image/png": "[encoded data removed]",
      "text/plain": [
       "<Figure size 1000x400 with 1 Axes>"
      ]
     },
     "metadata": {},
     "output_type": "display_data"
    }
   ],
   "source": [
    "top_rules = rules.sort_values(by='lift', ascending=False).head(10)\n",
    "labels = [f\"{', '.join(ant)} → {', '.join(con)}\" \n",
    "          for ant, con in zip(top_rules['antecedents'], top_rules['consequents'])]\n",
    "\n",
    "plt.figure(figsize=(10, 4))\n",
    "plt.barh(labels, top_rules['lift'], color='purple')\n",
    "plt.xlabel(\"Lift\")\n",
    "plt.title(\"📊 Top 10 Rules by Lift\")\n",
    "plt.gca().invert_yaxis()\n",
    "plt.tight_layout()\n",
    "plt.show()\n"
   ]
  },
  {
   "cell_type": "markdown",
   "metadata": {},
   "source": [
    "[Back to the top](#Contents)\n",
    "___"
   ]
  }
 ],
 "metadata": {
  "kernelspec": {
   "display_name": "base",
   "language": "python",
   "name": "python3"
  },
  "language_info": {
   "codemirror_mode": {
    "name": "ipython",
    "version": 3
   },
   "file_extension": ".py",
   "mimetype": "text/x-python",
   "name": "python",
   "nbconvert_exporter": "python",
   "pygments_lexer": "ipython3",
   "version": "3.11.3"
  }
 },
 "nbformat": 4,
 "nbformat_minor": 4
}
