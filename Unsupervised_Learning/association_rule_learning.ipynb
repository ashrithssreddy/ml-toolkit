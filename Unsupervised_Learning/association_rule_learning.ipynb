{
 "cells": [
  {
   "cell_type": "markdown",
   "metadata": {},
   "source": [
    "![Python](https://img.shields.io/badge/python-3.9-blue)\n",
    "![Status: Pending Migration](https://img.shields.io/badge/status-pending%20migration-orange)\n",
    "\n",
    "<a id=\"table-of-contents\"></a>\n",
    "# 📖 Table of Contents\n",
    "\n",
    "[🧭 Objective](#objective)  \n",
    "- [🛒 What is Association Rule Mining?](#what-is-arm)  \n",
    "- [📌 Use Cases](#use-cases)\n",
    "\n",
    "[📦 Data Setup](#data-setup)  \n",
    "- [🧾 Load Dataset](#load-dataset)  \n",
    "- [🧹 Preprocessing / Transaction Formatting](#preprocessing)  \n",
    "- [🧮 Frequency Encoding (Optional)](#frequency-encoding)\n",
    "\n",
    "[📊 Exploratory Data Analysis](#eda)  \n",
    "- [📈 Item Frequency Plot](#item-frequency-plot)  \n",
    "- [📉 Itemset Statistics](#itemset-stats)\n",
    "\n",
    "[🧰 Apriori Algorithm](#apriori)  \n",
    "- [⚙️ Setup Parameters](#apriori-params)  \n",
    "- [📜 Generate Frequent Itemsets](#frequent-itemsets)  \n",
    "- [🔗 Build Association Rules](#build-rules)\n",
    "\n",
    "[🧪 Rule Evaluation](#rule-eval)  \n",
    "- [📏 Support, Confidence, Lift](#basic-metrics)  \n",
    "- [📐 Conviction, Leverage (Bonus)](#bonus-metrics)  \n",
    "- [📋 Top Rules by Metric](#top-rules)\n",
    "\n",
    "[🧠 Interpretation](#interpretation)  \n",
    "- [🧭 Business Context for Rules](#business-context)  \n",
    "- [📉 Redundant Rules / Filtering](#rule-filtering)\n",
    "\n",
    "[📊 Visualizations](#visualizations)  \n",
    "- [🧱 Heatmaps, Matrix](#heatmap)  \n",
    "- [🕸 Network Graphs](#network-graph)  \n",
    "- [📊 Bar Chart of Top Rules](#rule-barplot)\n",
    "\n",
    "[📌 Final Summary](#final-summary)  \n",
    "- [✅ Key Learnings](#key-learnings)  \n",
    "- [💼 Implications for Stakeholders](#stakeholder-insights)\n",
    "\n",
    "[❓ FAQ / Notes](#faq)  \n",
    "- [🧯 Pitfalls in Rule Mining](#pitfalls)  \n",
    "- [🧬 When to use Apriori vs ECLAT / FP-Growth](#algo-choice)\n",
    "\n",
    "___"
   ]
  },
  {
   "cell_type": "markdown",
   "metadata": {},
   "source": [
    "<a id=\"objective\"></a>\n",
    "# 🧭 Objective"
   ]
  },
  {
   "cell_type": "markdown",
   "metadata": {},
   "source": [
    "<a id=\"what-is-arm\"></a>\n",
    "#### 🛒 What is Association Rule Mining?"
   ]
  },
  {
   "cell_type": "markdown",
   "metadata": {},
   "source": [
    "<details><summary><strong>📖 Click to Expand</strong></summary>\n",
    "\n",
    "##### 🛒 What is Association Rule Mining?\n",
    "\n",
    "Association Rule Mining helps you **discover what items are often bought together**.  \n",
    "It looks through customer transactions to find patterns like:\n",
    "\n",
    "- \"People who buy bread and butter also tend to buy jam\"\n",
    "- \"If a user buys a phone, they often buy a screen protector too\"\n",
    "\n",
    "This technique is **unsupervised** — there's no target variable.  \n",
    "You're just uncovering **co-occurrence** patterns from raw data.\n",
    "\n",
    "##### 🧠 Breakdown\n",
    "\n",
    "An association rule is written as:  \n",
    "**A → B**  \n",
    "...which means “if A was bought, then B is likely to be bought too.”\n",
    "\n",
    "You can control how strong or interesting a rule is using:\n",
    "- **Support**: How common is this combo?\n",
    "- **Confidence**: If A happens, how often does B follow?\n",
    "- **Lift**: Is this combo better than random chance?\n",
    "\n",
    "</details>\n"
   ]
  },
  {
   "cell_type": "markdown",
   "metadata": {},
   "source": [
    "<a id=\"use-cases\"></a>\n",
    "#### 📌 Use Cases"
   ]
  },
  {
   "cell_type": "markdown",
   "metadata": {},
   "source": [
    "<details><summary><strong>📖 Click to Expand</strong></summary>\n",
    "\n",
    "##### 📌 Real-World Use Cases of Association Rules\n",
    "\n",
    "These are not just grocery store tricks. They show up everywhere:\n",
    "\n",
    "- 🛒 **Retail**: Suggest product bundles (\"Customers who bought this also bought...\")\n",
    "- 📩 **Email Marketing**: Find item combos for targeted promotions\n",
    "- 💳 **Banking**: Detect if certain services (e.g., savings + insurance) are linked\n",
    "- 🏥 **Healthcare**: Identify symptom-diagnosis patterns across patients\n",
    "- 🌐 **E-commerce**: Power recommendation engines for cross-sells\n",
    "\n",
    "The goal:  \n",
    "Find **co-occurrence relationships** that help you **act smarter** — whether you're selling, diagnosing, or personalizing.\n",
    "\n",
    "</details>\n"
   ]
  },
  {
   "cell_type": "markdown",
   "metadata": {},
   "source": [
    "[Back to the top](#Contents)\n",
    "___"
   ]
  },
  {
   "cell_type": "markdown",
   "metadata": {},
   "source": [
    "<a id=\"data-setup\"></a>\n",
    "# 📦 Data Setup"
   ]
  },
  {
   "cell_type": "markdown",
   "metadata": {},
   "source": [
    "<a id=\"load-dataset\"></a>\n",
    "#### 🧾 Load Dataset"
   ]
  },
  {
   "cell_type": "code",
   "execution_count": 2,
   "metadata": {},
   "outputs": [
    {
     "data": {
      "text/html": [
       "<div>\n",
       "<style scoped>\n",
       "    .dataframe tbody tr th:only-of-type {\n",
       "        vertical-align: middle;\n",
       "    }\n",
       "\n",
       "    .dataframe tbody tr th {\n",
       "        vertical-align: top;\n",
       "    }\n",
       "\n",
       "    .dataframe thead th {\n",
       "        text-align: right;\n",
       "    }\n",
       "</style>\n",
       "<table border=\"1\" class=\"dataframe\">\n",
       "  <thead>\n",
       "    <tr style=\"text-align: right;\">\n",
       "      <th></th>\n",
       "      <th>OrderID</th>\n",
       "      <th>Item</th>\n",
       "    </tr>\n",
       "  </thead>\n",
       "  <tbody>\n",
       "    <tr>\n",
       "      <th>0</th>\n",
       "      <td>1001</td>\n",
       "      <td>Apples</td>\n",
       "    </tr>\n",
       "    <tr>\n",
       "      <th>1</th>\n",
       "      <td>1001</td>\n",
       "      <td>Milk</td>\n",
       "    </tr>\n",
       "    <tr>\n",
       "      <th>2</th>\n",
       "      <td>1001</td>\n",
       "      <td>Yogurt</td>\n",
       "    </tr>\n",
       "    <tr>\n",
       "      <th>3</th>\n",
       "      <td>1001</td>\n",
       "      <td>Bananas</td>\n",
       "    </tr>\n",
       "    <tr>\n",
       "      <th>4</th>\n",
       "      <td>1002</td>\n",
       "      <td>Milk</td>\n",
       "    </tr>\n",
       "    <tr>\n",
       "      <th>5</th>\n",
       "      <td>1002</td>\n",
       "      <td>Bananas</td>\n",
       "    </tr>\n",
       "    <tr>\n",
       "      <th>6</th>\n",
       "      <td>1002</td>\n",
       "      <td>Cereal</td>\n",
       "    </tr>\n",
       "    <tr>\n",
       "      <th>7</th>\n",
       "      <td>1002</td>\n",
       "      <td>Bread</td>\n",
       "    </tr>\n",
       "    <tr>\n",
       "      <th>8</th>\n",
       "      <td>1002</td>\n",
       "      <td>Yogurt</td>\n",
       "    </tr>\n",
       "    <tr>\n",
       "      <th>9</th>\n",
       "      <td>1003</td>\n",
       "      <td>Bananas</td>\n",
       "    </tr>\n",
       "  </tbody>\n",
       "</table>\n",
       "</div>"
      ],
      "text/plain": [
       "   OrderID     Item\n",
       "0     1001   Apples\n",
       "1     1001     Milk\n",
       "2     1001   Yogurt\n",
       "3     1001  Bananas\n",
       "4     1002     Milk\n",
       "5     1002  Bananas\n",
       "6     1002   Cereal\n",
       "7     1002    Bread\n",
       "8     1002   Yogurt\n",
       "9     1003  Bananas"
      ]
     },
     "execution_count": 2,
     "metadata": {},
     "output_type": "execute_result"
    }
   ],
   "source": [
    "# Create a more sophisticated, larger synthetic transaction dataset\n",
    "import pandas as pd\n",
    "import numpy as np\n",
    "\n",
    "np.random.seed(42)\n",
    "\n",
    "# Define a pool of items and simulate 50 orders\n",
    "items = ['Milk', 'Bread', 'Butter', 'Eggs', 'Cheese', 'Apples', 'Bananas', 'Juice', 'Cereal', 'Yogurt']\n",
    "n_orders = 50\n",
    "\n",
    "# Generate synthetic transactions\n",
    "transactions = []\n",
    "for order_id in range(1001, 1001 + n_orders):\n",
    "    basket_size = np.random.randint(2, 6)  # each order has 2–5 items\n",
    "    selected_items = np.random.choice(items, size=basket_size, replace=False)\n",
    "    for item in selected_items:\n",
    "        transactions.append({'OrderID': order_id, 'Item': item})\n",
    "\n",
    "df = pd.DataFrame(transactions)\n",
    "df.head(10)\n"
   ]
  },
  {
   "cell_type": "markdown",
   "metadata": {},
   "source": [
    "<a id=\"preprocessing\"></a>\n",
    "#### 🧹 Preprocessing / Transaction Formatting"
   ]
  },
  {
   "cell_type": "code",
   "execution_count": 3,
   "metadata": {},
   "outputs": [
    {
     "data": {
      "text/html": [
       "<div>\n",
       "<style scoped>\n",
       "    .dataframe tbody tr th:only-of-type {\n",
       "        vertical-align: middle;\n",
       "    }\n",
       "\n",
       "    .dataframe tbody tr th {\n",
       "        vertical-align: top;\n",
       "    }\n",
       "\n",
       "    .dataframe thead th {\n",
       "        text-align: right;\n",
       "    }\n",
       "</style>\n",
       "<table border=\"1\" class=\"dataframe\">\n",
       "  <thead>\n",
       "    <tr style=\"text-align: right;\">\n",
       "      <th>Item</th>\n",
       "      <th>Apples</th>\n",
       "      <th>Bananas</th>\n",
       "      <th>Bread</th>\n",
       "      <th>Butter</th>\n",
       "      <th>Cereal</th>\n",
       "      <th>Cheese</th>\n",
       "      <th>Eggs</th>\n",
       "      <th>Juice</th>\n",
       "      <th>Milk</th>\n",
       "      <th>Yogurt</th>\n",
       "    </tr>\n",
       "    <tr>\n",
       "      <th>OrderID</th>\n",
       "      <th></th>\n",
       "      <th></th>\n",
       "      <th></th>\n",
       "      <th></th>\n",
       "      <th></th>\n",
       "      <th></th>\n",
       "      <th></th>\n",
       "      <th></th>\n",
       "      <th></th>\n",
       "      <th></th>\n",
       "    </tr>\n",
       "  </thead>\n",
       "  <tbody>\n",
       "    <tr>\n",
       "      <th>1001</th>\n",
       "      <td>1</td>\n",
       "      <td>1</td>\n",
       "      <td>0</td>\n",
       "      <td>0</td>\n",
       "      <td>0</td>\n",
       "      <td>0</td>\n",
       "      <td>0</td>\n",
       "      <td>0</td>\n",
       "      <td>1</td>\n",
       "      <td>1</td>\n",
       "    </tr>\n",
       "    <tr>\n",
       "      <th>1002</th>\n",
       "      <td>0</td>\n",
       "      <td>1</td>\n",
       "      <td>1</td>\n",
       "      <td>0</td>\n",
       "      <td>1</td>\n",
       "      <td>0</td>\n",
       "      <td>0</td>\n",
       "      <td>0</td>\n",
       "      <td>1</td>\n",
       "      <td>1</td>\n",
       "    </tr>\n",
       "    <tr>\n",
       "      <th>1003</th>\n",
       "      <td>0</td>\n",
       "      <td>1</td>\n",
       "      <td>0</td>\n",
       "      <td>1</td>\n",
       "      <td>1</td>\n",
       "      <td>0</td>\n",
       "      <td>0</td>\n",
       "      <td>0</td>\n",
       "      <td>0</td>\n",
       "      <td>0</td>\n",
       "    </tr>\n",
       "    <tr>\n",
       "      <th>1004</th>\n",
       "      <td>1</td>\n",
       "      <td>0</td>\n",
       "      <td>1</td>\n",
       "      <td>0</td>\n",
       "      <td>1</td>\n",
       "      <td>1</td>\n",
       "      <td>0</td>\n",
       "      <td>0</td>\n",
       "      <td>0</td>\n",
       "      <td>0</td>\n",
       "    </tr>\n",
       "    <tr>\n",
       "      <th>1005</th>\n",
       "      <td>1</td>\n",
       "      <td>0</td>\n",
       "      <td>0</td>\n",
       "      <td>1</td>\n",
       "      <td>0</td>\n",
       "      <td>0</td>\n",
       "      <td>0</td>\n",
       "      <td>1</td>\n",
       "      <td>0</td>\n",
       "      <td>1</td>\n",
       "    </tr>\n",
       "    <tr>\n",
       "      <th>1006</th>\n",
       "      <td>0</td>\n",
       "      <td>0</td>\n",
       "      <td>0</td>\n",
       "      <td>0</td>\n",
       "      <td>0</td>\n",
       "      <td>0</td>\n",
       "      <td>0</td>\n",
       "      <td>1</td>\n",
       "      <td>1</td>\n",
       "      <td>1</td>\n",
       "    </tr>\n",
       "    <tr>\n",
       "      <th>1007</th>\n",
       "      <td>1</td>\n",
       "      <td>0</td>\n",
       "      <td>0</td>\n",
       "      <td>0</td>\n",
       "      <td>1</td>\n",
       "      <td>1</td>\n",
       "      <td>0</td>\n",
       "      <td>0</td>\n",
       "      <td>0</td>\n",
       "      <td>1</td>\n",
       "    </tr>\n",
       "    <tr>\n",
       "      <th>1008</th>\n",
       "      <td>0</td>\n",
       "      <td>0</td>\n",
       "      <td>0</td>\n",
       "      <td>1</td>\n",
       "      <td>0</td>\n",
       "      <td>0</td>\n",
       "      <td>0</td>\n",
       "      <td>1</td>\n",
       "      <td>1</td>\n",
       "      <td>0</td>\n",
       "    </tr>\n",
       "    <tr>\n",
       "      <th>1009</th>\n",
       "      <td>0</td>\n",
       "      <td>0</td>\n",
       "      <td>0</td>\n",
       "      <td>1</td>\n",
       "      <td>1</td>\n",
       "      <td>1</td>\n",
       "      <td>0</td>\n",
       "      <td>0</td>\n",
       "      <td>0</td>\n",
       "      <td>0</td>\n",
       "    </tr>\n",
       "    <tr>\n",
       "      <th>1010</th>\n",
       "      <td>0</td>\n",
       "      <td>1</td>\n",
       "      <td>0</td>\n",
       "      <td>1</td>\n",
       "      <td>0</td>\n",
       "      <td>0</td>\n",
       "      <td>0</td>\n",
       "      <td>0</td>\n",
       "      <td>0</td>\n",
       "      <td>0</td>\n",
       "    </tr>\n",
       "  </tbody>\n",
       "</table>\n",
       "</div>"
      ],
      "text/plain": [
       "Item     Apples  Bananas  Bread  Butter  Cereal  Cheese  Eggs  Juice  Milk  \\\n",
       "OrderID                                                                      \n",
       "1001          1        1      0       0       0       0     0      0     1   \n",
       "1002          0        1      1       0       1       0     0      0     1   \n",
       "1003          0        1      0       1       1       0     0      0     0   \n",
       "1004          1        0      1       0       1       1     0      0     0   \n",
       "1005          1        0      0       1       0       0     0      1     0   \n",
       "1006          0        0      0       0       0       0     0      1     1   \n",
       "1007          1        0      0       0       1       1     0      0     0   \n",
       "1008          0        0      0       1       0       0     0      1     1   \n",
       "1009          0        0      0       1       1       1     0      0     0   \n",
       "1010          0        1      0       1       0       0     0      0     0   \n",
       "\n",
       "Item     Yogurt  \n",
       "OrderID          \n",
       "1001          1  \n",
       "1002          1  \n",
       "1003          0  \n",
       "1004          0  \n",
       "1005          1  \n",
       "1006          1  \n",
       "1007          1  \n",
       "1008          0  \n",
       "1009          0  \n",
       "1010          0  "
      ]
     },
     "execution_count": 3,
     "metadata": {},
     "output_type": "execute_result"
    }
   ],
   "source": [
    "# Convert transaction data to basket-format binary matrix\n",
    "basket = df.groupby(['OrderID', 'Item']).size().unstack(fill_value=0)\n",
    "\n",
    "# Binarize: any count > 0 becomes 1 (transactional presence)\n",
    "basket = basket.applymap(lambda x: 1 if x > 0 else 0)\n",
    "basket.head(10)\n"
   ]
  },
  {
   "cell_type": "markdown",
   "metadata": {},
   "source": [
    "<a id=\"frequency-encoding\"></a>\n",
    "#### 🧮 Frequency Encoding (Optional)"
   ]
  },
  {
   "cell_type": "markdown",
   "metadata": {},
   "source": [
    "<details><summary><strong>📖 Click to Expand</strong></summary>\n",
    "\n",
    "Sometimes it's helpful to **analyze item frequency** — how often each product is purchased — before mining rules.  \n",
    "This helps you:\n",
    "\n",
    "- Spot dominant or underrepresented products\n",
    "- Filter rare items (e.g., items bought < 2 times)\n",
    "- Tune support thresholds more intelligently\n",
    "\n",
    "</details>\n"
   ]
  },
  {
   "cell_type": "markdown",
   "metadata": {},
   "source": [
    "[Back to the top](#Contents)\n",
    "___"
   ]
  },
  {
   "cell_type": "markdown",
   "metadata": {},
   "source": [
    "<a id=\"eda\"></a>\n",
    "# 📊 Exploratory Data Analysis"
   ]
  },
  {
   "cell_type": "markdown",
   "metadata": {},
   "source": [
    "<a id=\"item-frequency-plot\"></a>\n",
    "#### 📈 Item Frequency Plot"
   ]
  },
  {
   "cell_type": "code",
   "execution_count": 4,
   "metadata": {},
   "outputs": [
    {
     "name": "stderr",
     "output_type": "stream",
     "text": [
      "/var/folders/dg/01ppfw3n6_jbnx4xdx0vdmj40000gn/T/ipykernel_2656/1315152232.py:12: UserWarning: Glyph 128200 (\\N{CHART WITH UPWARDS TREND}) missing from current font.\n",
      "  plt.tight_layout()\n",
      "/Users/ashrithreddy/anaconda3/lib/python3.11/site-packages/IPython/core/pylabtools.py:152: UserWarning: Glyph 128200 (\\N{CHART WITH UPWARDS TREND}) missing from current font.\n",
      "  fig.canvas.print_figure(bytes_io, **kw)\n"
     ]
    },
    {
     "data": {
      "image/png": "[encoded data removed]",
      "text/plain": [
       "<Figure size 1000x400 with 1 Axes>"
      ]
     },
     "metadata": {},
     "output_type": "display_data"
    }
   ],
   "source": [
    "import matplotlib.pyplot as plt\n",
    "\n",
    "# Frequency of each item across all orders\n",
    "item_freq = basket.sum().sort_values(ascending=False)\n",
    "\n",
    "plt.figure(figsize=(10, 4))\n",
    "item_freq.plot(kind='bar', color='skyblue')\n",
    "plt.title(\"📈 Item Frequency Across Transactions\")\n",
    "plt.ylabel(\"Count\")\n",
    "plt.xticks(rotation=45, ha='right')\n",
    "plt.grid(axis='y', linestyle='--', alpha=0.6)\n",
    "plt.tight_layout()\n",
    "plt.show()\n"
   ]
  },
  {
   "cell_type": "markdown",
   "metadata": {},
   "source": [
    "<a id=\"itemset-stats\"></a>\n",
    "#### 📉 Itemset Statistics"
   ]
  },
  {
   "cell_type": "markdown",
   "metadata": {},
   "source": [
    "<details><summary><strong>📖 Click to Expand</strong></summary>\n",
    "\n",
    "This gives you a sense of **basket richness** — how many items customers typically buy per transaction.  \n",
    "Use this to evaluate if the data is too sparse or too dense before rule mining.\n",
    "\n",
    "</details>\n"
   ]
  },
  {
   "cell_type": "code",
   "execution_count": null,
   "metadata": {},
   "outputs": [
    {
     "name": "stdout",
     "output_type": "stream",
     "text": [
      "🧺 Average basket size: 3.48 items\n",
      "📉 Smallest basket: 2 items\n",
      "📈 Largest basket: 5 items\n"
     ]
    }
   ],
   "source": [
    "basket['BasketSize'].describe()\n",
    "\n",
    "mean_basket = basket['BasketSize'].mean()\n",
    "min_basket = basket['BasketSize'].min()\n",
    "max_basket = basket['BasketSize'].max()\n",
    "\n",
    "print(f\"🧺 Average basket size: {mean_basket:.2f} items\")\n",
    "print(f\"📉 Smallest basket: {min_basket} items\")\n",
    "print(f\"📈 Largest basket: {max_basket} items\")"
   ]
  },
  {
   "cell_type": "markdown",
   "metadata": {},
   "source": [
    "[Back to the top](#Contents)\n",
    "___"
   ]
  },
  {
   "cell_type": "markdown",
   "metadata": {},
   "source": [
    "<a id=\"apriori\"></a>\n",
    "# 🧰 Apriori Algorithm\n",
    "\n"
   ]
  },
  {
   "cell_type": "markdown",
   "metadata": {},
   "source": [
    "<details><summary><strong>📖 Click to Expand</strong></summary>\n",
    "\n",
    "Apriori is a classic algorithm that helps you **find product combinations that occur frequently** in customer orders.\n",
    "\n",
    "The core idea:\n",
    "> \"If smaller combos are rare, bigger combos with those items will also be rare.\"\n",
    "\n",
    "Apriori starts with individual items, then builds up to larger combinations **only if smaller ones are frequent**.  \n",
    "This keeps the search fast and focused.\n",
    "\n",
    "You'll use Apriori to:\n",
    "- Extract common itemsets\n",
    "- Feed those into a rule builder\n",
    "- Surface patterns like “If A is bought, B follows”\n",
    "\n",
    "</details>\n"
   ]
  },
  {
   "cell_type": "markdown",
   "metadata": {},
   "source": [
    "<a id=\"apriori-params\"></a>\n",
    "#### ⚙️ Setup Parameters\n",
    "\n"
   ]
  },
  {
   "cell_type": "markdown",
   "metadata": {},
   "source": [
    "<details><summary><strong>📖 Click to Expand</strong></summary>\n",
    "\n",
    "Apriori requires setting three thresholds to control what gets mined:\n",
    "\n",
    "- **min_support**: How often a product combo occurs  \n",
    "  → \"Only show me combos bought in at least 10% of orders\"\n",
    "\n",
    "- **min_confidence**: How reliable a rule is  \n",
    "  → \"If people buy A, how often do they also buy B?\"\n",
    "\n",
    "- **min_lift**: Does the combo actually matter or is it random?  \n",
    "  → Lift > 1 = better than chance\n",
    "\n",
    "You’ll usually:\n",
    "- Use support to filter volume\n",
    "- Use confidence to filter risk\n",
    "- Use lift to filter noise\n",
    "\n",
    "</details>\n"
   ]
  },
  {
   "cell_type": "code",
   "execution_count": 8,
   "metadata": {},
   "outputs": [],
   "source": [
    "# Set thresholds for rule mining\n",
    "min_support = 0.1       # Appears in at least 10% of orders\n",
    "min_confidence = 0.5    # At least 50% confidence in the rule\n",
    "min_lift = 1.2          # Must be better than chance\n"
   ]
  },
  {
   "cell_type": "markdown",
   "metadata": {},
   "source": [
    "<a id=\"frequent-itemsets\"></a>\n",
    "#### 📜 Generate Frequent Itemsets\n",
    "\n"
   ]
  },
  {
   "cell_type": "markdown",
   "metadata": {},
   "source": [
    "<details><summary><strong>📖 Click to Expand</strong></summary>\n",
    "\n",
    "Frequent itemsets are **combinations of products** that occur together more than the minimum support.\n",
    "\n",
    "For example:  \n",
    "{Bread, Butter} → Support = 0.18 → means it appeared in 18% of all orders\n",
    "\n",
    "These are the **building blocks** for generating association rules.\n",
    "\n",
    "</details>\n"
   ]
  },
  {
   "cell_type": "code",
   "execution_count": 9,
   "metadata": {},
   "outputs": [
    {
     "name": "stderr",
     "output_type": "stream",
     "text": [
      "/Users/ashrithreddy/anaconda3/lib/python3.11/site-packages/mlxtend/frequent_patterns/fpcommon.py:109: DeprecationWarning: DataFrames with non-bool types result in worse computationalperformance and their support might be discontinued in the future.Please use a DataFrame with bool type\n",
      "  warnings.warn(\n"
     ]
    },
    {
     "data": {
      "text/html": [
       "<div>\n",
       "<style scoped>\n",
       "    .dataframe tbody tr th:only-of-type {\n",
       "        vertical-align: middle;\n",
       "    }\n",
       "\n",
       "    .dataframe tbody tr th {\n",
       "        vertical-align: top;\n",
       "    }\n",
       "\n",
       "    .dataframe thead th {\n",
       "        text-align: right;\n",
       "    }\n",
       "</style>\n",
       "<table border=\"1\" class=\"dataframe\">\n",
       "  <thead>\n",
       "    <tr style=\"text-align: right;\">\n",
       "      <th></th>\n",
       "      <th>support</th>\n",
       "      <th>itemsets</th>\n",
       "    </tr>\n",
       "  </thead>\n",
       "  <tbody>\n",
       "    <tr>\n",
       "      <th>4</th>\n",
       "      <td>0.46</td>\n",
       "      <td>(Cereal)</td>\n",
       "    </tr>\n",
       "    <tr>\n",
       "      <th>2</th>\n",
       "      <td>0.44</td>\n",
       "      <td>(Bread)</td>\n",
       "    </tr>\n",
       "    <tr>\n",
       "      <th>9</th>\n",
       "      <td>0.42</td>\n",
       "      <td>(Yogurt)</td>\n",
       "    </tr>\n",
       "    <tr>\n",
       "      <th>5</th>\n",
       "      <td>0.36</td>\n",
       "      <td>(Cheese)</td>\n",
       "    </tr>\n",
       "    <tr>\n",
       "      <th>0</th>\n",
       "      <td>0.34</td>\n",
       "      <td>(Apples)</td>\n",
       "    </tr>\n",
       "  </tbody>\n",
       "</table>\n",
       "</div>"
      ],
      "text/plain": [
       "   support  itemsets\n",
       "4     0.46  (Cereal)\n",
       "2     0.44   (Bread)\n",
       "9     0.42  (Yogurt)\n",
       "5     0.36  (Cheese)\n",
       "0     0.34  (Apples)"
      ]
     },
     "execution_count": 9,
     "metadata": {},
     "output_type": "execute_result"
    }
   ],
   "source": [
    "from mlxtend.frequent_patterns import apriori\n",
    "\n",
    "# Generate frequent itemsets\n",
    "frequent_itemsets = apriori(basket.drop(columns='BasketSize'), \n",
    "                            min_support=min_support, \n",
    "                            use_colnames=True)\n",
    "\n",
    "# Sort by support to show top combos\n",
    "frequent_itemsets.sort_values(by='support', ascending=False).head()\n"
   ]
  },
  {
   "cell_type": "markdown",
   "metadata": {},
   "source": [
    "<a id=\"build-rules\"></a>\n",
    "#### 🔗 Build Association Rules\n",
    "\n"
   ]
  },
  {
   "cell_type": "markdown",
   "metadata": {},
   "source": [
    "<details><summary><strong>📖 Click to Expand</strong></summary>\n",
    "\n",
    "Once you have frequent itemsets, you can build **association rules** like:\n",
    "\n",
    "> If A is bought → B is also likely  \n",
    "> Example: {Bread} → {Butter}\n",
    "\n",
    "Each rule is scored using:\n",
    "\n",
    "- **Support**: How often this combo appears\n",
    "- **Confidence**: How reliable this rule is\n",
    "- **Lift**: How much stronger this rule is compared to random chance\n",
    "\n",
    "You can filter rules to focus on high-impact patterns.\n",
    "\n",
    "</details>\n"
   ]
  },
  {
   "cell_type": "code",
   "execution_count": 10,
   "metadata": {},
   "outputs": [
    {
     "data": {
      "text/html": [
       "<div>\n",
       "<style scoped>\n",
       "    .dataframe tbody tr th:only-of-type {\n",
       "        vertical-align: middle;\n",
       "    }\n",
       "\n",
       "    .dataframe tbody tr th {\n",
       "        vertical-align: top;\n",
       "    }\n",
       "\n",
       "    .dataframe thead th {\n",
       "        text-align: right;\n",
       "    }\n",
       "</style>\n",
       "<table border=\"1\" class=\"dataframe\">\n",
       "  <thead>\n",
       "    <tr style=\"text-align: right;\">\n",
       "      <th></th>\n",
       "      <th>antecedents</th>\n",
       "      <th>consequents</th>\n",
       "      <th>support</th>\n",
       "      <th>confidence</th>\n",
       "      <th>lift</th>\n",
       "    </tr>\n",
       "  </thead>\n",
       "  <tbody>\n",
       "    <tr>\n",
       "      <th>6</th>\n",
       "      <td>(Cereal, Apples)</td>\n",
       "      <td>(Cheese)</td>\n",
       "      <td>0.12</td>\n",
       "      <td>0.857143</td>\n",
       "      <td>2.380952</td>\n",
       "    </tr>\n",
       "    <tr>\n",
       "      <th>4</th>\n",
       "      <td>(Eggs)</td>\n",
       "      <td>(Yogurt)</td>\n",
       "      <td>0.14</td>\n",
       "      <td>0.777778</td>\n",
       "      <td>1.851852</td>\n",
       "    </tr>\n",
       "    <tr>\n",
       "      <th>7</th>\n",
       "      <td>(Cereal, Cheese)</td>\n",
       "      <td>(Apples)</td>\n",
       "      <td>0.12</td>\n",
       "      <td>0.600000</td>\n",
       "      <td>1.764706</td>\n",
       "    </tr>\n",
       "    <tr>\n",
       "      <th>8</th>\n",
       "      <td>(Apples, Cheese)</td>\n",
       "      <td>(Cereal)</td>\n",
       "      <td>0.12</td>\n",
       "      <td>0.750000</td>\n",
       "      <td>1.630435</td>\n",
       "    </tr>\n",
       "    <tr>\n",
       "      <th>3</th>\n",
       "      <td>(Cheese)</td>\n",
       "      <td>(Cereal)</td>\n",
       "      <td>0.20</td>\n",
       "      <td>0.555556</td>\n",
       "      <td>1.207729</td>\n",
       "    </tr>\n",
       "  </tbody>\n",
       "</table>\n",
       "</div>"
      ],
      "text/plain": [
       "        antecedents consequents  support  confidence      lift\n",
       "6  (Cereal, Apples)    (Cheese)     0.12    0.857143  2.380952\n",
       "4            (Eggs)    (Yogurt)     0.14    0.777778  1.851852\n",
       "7  (Cereal, Cheese)    (Apples)     0.12    0.600000  1.764706\n",
       "8  (Apples, Cheese)    (Cereal)     0.12    0.750000  1.630435\n",
       "3          (Cheese)    (Cereal)     0.20    0.555556  1.207729"
      ]
     },
     "execution_count": 10,
     "metadata": {},
     "output_type": "execute_result"
    }
   ],
   "source": [
    "from mlxtend.frequent_patterns import association_rules\n",
    "\n",
    "# Build rules from itemsets\n",
    "rules = association_rules(frequent_itemsets, \n",
    "                          metric=\"lift\", \n",
    "                          min_threshold=min_lift)\n",
    "\n",
    "# Filter by confidence\n",
    "rules = rules[rules['confidence'] >= min_confidence]\n",
    "\n",
    "# Show top rules\n",
    "rules[['antecedents', 'consequents', 'support', 'confidence', 'lift']] \\\n",
    "    .sort_values(by='lift', ascending=False).head()\n"
   ]
  },
  {
   "cell_type": "markdown",
   "metadata": {},
   "source": [
    "[Back to the top](#Contents)\n",
    "___"
   ]
  },
  {
   "cell_type": "markdown",
   "metadata": {},
   "source": [
    "<a id=\"rule-eval\"></a>\n",
    "# 🧪 Rule Evaluation\n",
    "\n"
   ]
  },
  {
   "cell_type": "markdown",
   "metadata": {},
   "source": [
    "<a id=\"basic-metrics\"></a>\n",
    "#### 📏 Support, Confidence, Lift\n",
    "\n"
   ]
  },
  {
   "cell_type": "markdown",
   "metadata": {},
   "source": [
    "<a id=\"bonus-metrics\"></a>\n",
    "#### 📐 Conviction, Leverage (Bonus)\n",
    "\n"
   ]
  },
  {
   "cell_type": "markdown",
   "metadata": {},
   "source": [
    "<a id=\"top-rules\"></a>\n",
    "#### 📋 Top Rules by Metric\n",
    "\n"
   ]
  },
  {
   "cell_type": "markdown",
   "metadata": {},
   "source": [
    "[Back to the top](#Contents)\n",
    "___"
   ]
  },
  {
   "cell_type": "markdown",
   "metadata": {},
   "source": [
    "<a id=\"interpretation\"></a>\n",
    "# 🧠 Interpretation\n",
    "\n"
   ]
  },
  {
   "cell_type": "markdown",
   "metadata": {},
   "source": [
    "<a id=\"business-context\"></a>\n",
    "#### 🧭 Business Context for Rules\n",
    "\n"
   ]
  },
  {
   "cell_type": "markdown",
   "metadata": {},
   "source": [
    "<a id=\"rule-filtering\"></a>\n",
    "#### 📉 Redundant Rules / Filtering\n",
    "\n"
   ]
  },
  {
   "cell_type": "markdown",
   "metadata": {},
   "source": [
    "[Back to the top](#Contents)\n",
    "___"
   ]
  },
  {
   "cell_type": "markdown",
   "metadata": {},
   "source": [
    "<a id=\"visualizations\"></a>\n",
    "# 📊 Visualizations\n",
    "\n"
   ]
  },
  {
   "cell_type": "markdown",
   "metadata": {},
   "source": [
    "<a id=\"heatmap\"></a>\n",
    "#### 🧱 Heatmaps, Matrix\n",
    "\n"
   ]
  },
  {
   "cell_type": "markdown",
   "metadata": {},
   "source": [
    "<a id=\"network-graph\"></a>\n",
    "#### 🕸 Network Graphs\n",
    "\n"
   ]
  },
  {
   "cell_type": "markdown",
   "metadata": {},
   "source": [
    "<a id=\"rule-barplot\"></a>\n",
    "#### 📊 Bar Chart of Top Rules\n",
    "\n"
   ]
  },
  {
   "cell_type": "markdown",
   "metadata": {},
   "source": [
    "[Back to the top](#Contents)\n",
    "___"
   ]
  },
  {
   "cell_type": "markdown",
   "metadata": {},
   "source": [
    "<a id=\"final-summary\"></a>\n",
    "# 📌 Final Summary\n",
    "\n"
   ]
  },
  {
   "cell_type": "markdown",
   "metadata": {},
   "source": [
    "<a id=\"key-learnings\"></a>\n",
    "#### ✅ Key Learnings\n",
    "\n"
   ]
  },
  {
   "cell_type": "markdown",
   "metadata": {},
   "source": [
    "<a id=\"stakeholder-insights\"></a>\n",
    "#### 💼 Implications for Stakeholders\n",
    "\n"
   ]
  },
  {
   "cell_type": "markdown",
   "metadata": {},
   "source": [
    "[Back to the top](#Contents)\n",
    "___"
   ]
  },
  {
   "cell_type": "markdown",
   "metadata": {},
   "source": [
    "<a id=\"faq\"></a>\n",
    "# ❓ FAQ / Notes\n",
    "\n"
   ]
  },
  {
   "cell_type": "markdown",
   "metadata": {},
   "source": [
    "<a id=\"pitfalls\"></a>\n",
    "#### 🧯 Pitfalls in Rule Mining\n",
    "\n"
   ]
  },
  {
   "cell_type": "markdown",
   "metadata": {},
   "source": [
    "<a id=\"algo-choice\"></a>\n",
    "#### 🧬 When to use Apriori vs ECLAT / FP-Growth\n"
   ]
  },
  {
   "cell_type": "markdown",
   "metadata": {},
   "source": [
    "[Back to the top](#Contents)\n",
    "___"
   ]
  }
 ],
 "metadata": {
  "kernelspec": {
   "display_name": "base",
   "language": "python",
   "name": "python3"
  },
  "language_info": {
   "codemirror_mode": {
    "name": "ipython",
    "version": 3
   },
   "file_extension": ".py",
   "mimetype": "text/x-python",
   "name": "python",
   "nbconvert_exporter": "python",
   "pygments_lexer": "ipython3",
   "version": "3.11.3"
  }
 },
 "nbformat": 4,
 "nbformat_minor": 4
}
