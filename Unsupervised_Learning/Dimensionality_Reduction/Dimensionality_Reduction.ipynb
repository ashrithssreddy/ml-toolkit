{
 "cells": [
  {
   "cell_type": "markdown",
   "metadata": {},
   "source": [
    "<a id=\"table-of-contents\"></a>\n",
    "# 📖 Table of Contents\n",
    "\n",
    "[📉 Dimensionality Reduction Overview](#dimensionality-reduction)  \n",
    "- [🚧 Key Challenges in High Dimensions](#key-challenges)\n",
    "\n",
    "[📊 Principal Component Analysis (PCA)](#pca)  \n",
    "- [⚙️ How PCA Works](#how-pca-works)  \n",
    "- [📈 Scree Plot / Explained Variance](#explained-variance)  \n",
    "- [🧭 Business Use Cases](#pca-business-use)\n",
    "\n",
    "[🌌 t-SNE (t-Distributed Stochastic Neighbor Embedding)](#tsne)  \n",
    "- [🔍 Intuition](#tsne-intuition)  \n",
    "- [⚙️ How It Works](#how-tsne-works)  \n",
    "- [🚫 Limitations](#tsne-limitations)  \n",
    "- [🎯 When to Use](#when-to-use-tsne)  \n",
    "- [📊 Visualizations](#tsne-visuals)\n",
    "\n",
    "[🌐 UMAP (Uniform Manifold Approximation & Projection)](#umap)  \n",
    "- [🔬 Intuition vs t-SNE](#umap-intuition)  \n",
    "- [📈 Plot Interpretation](#umap-visuals)\n",
    "\n",
    "[📐 Linear Discriminant Analysis (LDA)](#lda)  \n",
    "- [🔢 How LDA Works](#how-lda-works)  \n",
    "- [🧮 Step-by-Step Breakdown](#lda-steps)  \n",
    "- [📉 Dimensionality Constraint](#lda-constraint)\n",
    "\n",
    "[📌 Final Summary](#final-summary)m\n",
    "\n",
    "[❓ FAQ / Notes](#faq)  \n",
    "- [🧠 When to Use What](#when-to-use-what)  \n",
    "- [📏 Unsupervised vs Supervised Methods](#unsup-vs-sup)\n",
    "\n",
    "<!-- <hr style=\"border: none; height: 1px; background-color: #ddd;\" /> -->\n",
    "[Back to the top](#table-of-contents)\n",
    "___\n",
    "\n"
   ]
  },
  {
   "cell_type": "markdown",
   "metadata": {},
   "source": [
    "<a id=\"dimensionality-reduction\"></a>\n",
    "# 📉 Dimensionality Reduction Overview\n",
    "\n"
   ]
  },
  {
   "cell_type": "markdown",
   "metadata": {},
   "source": [
    "<a id=\"key-challenges\"></a>\n",
    "#### 🚧 Key Challenges in High Dimensions\n",
    "\n"
   ]
  },
  {
   "cell_type": "markdown",
   "metadata": {},
   "source": [
    "[Back to the top](#table-of-contents)\n",
    "___\n",
    "\n"
   ]
  },
  {
   "cell_type": "markdown",
   "metadata": {},
   "source": [
    "<a id=\"pca\"></a>\n",
    "# 📊 Principal Component Analysis (PCA)\n",
    "\n"
   ]
  },
  {
   "cell_type": "markdown",
   "metadata": {},
   "source": [
    "<a id=\"how-pca-works\"></a>\n",
    "#### ⚙️ How PCA Works\n",
    "\n"
   ]
  },
  {
   "cell_type": "markdown",
   "metadata": {},
   "source": [
    "<a id=\"explained-variance\"></a>\n",
    "#### 📈 Scree Plot / Explained Variance\n",
    "\n",
    "\n"
   ]
  },
  {
   "cell_type": "markdown",
   "metadata": {},
   "source": [
    "<a id=\"pca-business-use\"></a>\n",
    "#### 🧭 Business Use Cases\n"
   ]
  },
  {
   "cell_type": "markdown",
   "metadata": {},
   "source": [
    "[Back to the top](#table-of-contents)\n",
    "___\n",
    "\n"
   ]
  },
  {
   "cell_type": "markdown",
   "metadata": {},
   "source": [
    "<a id=\"tsne\"></a>\n",
    "# 🌌 t-SNE (t-Distributed Stochastic Neighbor Embedding)\n",
    "\n"
   ]
  },
  {
   "cell_type": "markdown",
   "metadata": {},
   "source": [
    "<a id=\"tsne-intuition\"></a>\n",
    "#### 🔍 Intuition\n",
    "\n"
   ]
  },
  {
   "cell_type": "markdown",
   "metadata": {},
   "source": [
    "<a id=\"how-tsne-works\"></a>\n",
    "#### ⚙️ How It Works\n",
    "\n"
   ]
  },
  {
   "cell_type": "markdown",
   "metadata": {},
   "source": [
    "<a id=\"tsne-limitations\"></a>\n",
    "#### 🚫 Limitations\n",
    "\n"
   ]
  },
  {
   "cell_type": "markdown",
   "metadata": {},
   "source": [
    "<a id=\"when-to-use-tsne\"></a>\n",
    "#### 🎯 When to Use\n",
    "\n"
   ]
  },
  {
   "cell_type": "markdown",
   "metadata": {},
   "source": [
    "<a id=\"tsne-visuals\"></a>\n",
    "#### 📊 Visualizations\n",
    "\n"
   ]
  },
  {
   "cell_type": "markdown",
   "metadata": {},
   "source": [
    "[Back to the top](#table-of-contents)\n",
    "___\n",
    "\n"
   ]
  },
  {
   "cell_type": "markdown",
   "metadata": {},
   "source": [
    "<a id=\"umap\"></a>\n",
    "# 🌐 UMAP (Uniform Manifold Approximation & Projection)\n",
    "\n"
   ]
  },
  {
   "cell_type": "markdown",
   "metadata": {},
   "source": [
    "<a id=\"umap-intuition\"></a>\n",
    "#### 🔬 Intuition vs t-SNE\n",
    "\n"
   ]
  },
  {
   "cell_type": "markdown",
   "metadata": {},
   "source": [
    "<a id=\"umap-visuals\"></a>\n",
    "#### 📈 Plot Interpretation\n",
    "\n"
   ]
  },
  {
   "cell_type": "markdown",
   "metadata": {},
   "source": [
    "[Back to the top](#table-of-contents)\n",
    "___\n",
    "\n"
   ]
  },
  {
   "cell_type": "markdown",
   "metadata": {},
   "source": [
    "<a id=\"lda\"></a>\n",
    "# 📐 Linear Discriminant Analysis (LDA)\n",
    "\n"
   ]
  },
  {
   "cell_type": "markdown",
   "metadata": {},
   "source": [
    "<a id=\"how-lda-works\"></a>\n",
    "#### 🔢 How LDA Works\n",
    "\n"
   ]
  },
  {
   "cell_type": "markdown",
   "metadata": {},
   "source": [
    "<a id=\"lda-steps\"></a>\n",
    "#### 🧮 Step-by-Step Breakdown\n",
    "\n"
   ]
  },
  {
   "cell_type": "markdown",
   "metadata": {},
   "source": [
    "<a id=\"lda-constraint\"></a>\n",
    "#### 📉 Dimensionality Constraint\n",
    "\n"
   ]
  },
  {
   "cell_type": "markdown",
   "metadata": {},
   "source": [
    "[Back to the top](#table-of-contents)\n",
    "___\n",
    "\n"
   ]
  },
  {
   "cell_type": "markdown",
   "metadata": {},
   "source": [
    "<a id=\"final-summary\"></a>\n",
    "# 📌 Final Summary\n",
    "\n"
   ]
  },
  {
   "cell_type": "markdown",
   "metadata": {},
   "source": [
    "[Back to the top](#table-of-contents)\n",
    "___\n",
    "\n"
   ]
  },
  {
   "cell_type": "markdown",
   "metadata": {},
   "source": [
    "<a id=\"faq\"></a>\n",
    "# ❓ FAQ / Notes\n",
    "\n"
   ]
  },
  {
   "cell_type": "markdown",
   "metadata": {},
   "source": [
    "<a id=\"when-to-use-what\"></a>\n",
    "#### 🧠 When to Use What\n",
    "\n"
   ]
  },
  {
   "cell_type": "markdown",
   "metadata": {},
   "source": [
    "<a id=\"unsup-vs-sup\"></a>\n",
    "#### 📏 Unsupervised vs Supervised Methods\n"
   ]
  },
  {
   "cell_type": "markdown",
   "metadata": {},
   "source": [
    "[Back to the top](#table-of-contents)\n",
    "___\n",
    "\n"
   ]
  }
 ],
 "metadata": {
  "kernelspec": {
   "display_name": "base",
   "language": "python",
   "name": "python3"
  },
  "language_info": {
   "codemirror_mode": {
    "name": "ipython",
    "version": 3
   },
   "file_extension": ".py",
   "mimetype": "text/x-python",
   "name": "python",
   "nbconvert_exporter": "python",
   "pygments_lexer": "ipython3",
   "version": "3.11.3"
  }
 },
 "nbformat": 4,
 "nbformat_minor": 2
}
